{
 "cells": [
  {
   "cell_type": "code",
   "execution_count": 73,
   "metadata": {},
   "outputs": [],
   "source": [
    "import numpy as np\n",
    "import matplotlib.pyplot as plt"
   ]
  },
  {
   "cell_type": "code",
   "execution_count": 48,
   "metadata": {},
   "outputs": [],
   "source": [
    "def is_Prime(n):\n",
    "    if n < 2:\n",
    "        return False\n",
    "    for i in range(2, int(n**0.5) + 1):\n",
    "        if n % i == 0:\n",
    "            return False\n",
    "    return True"
   ]
  },
  {
   "cell_type": "code",
   "execution_count": 49,
   "metadata": {},
   "outputs": [],
   "source": [
    "def generate_primes(n):\n",
    "    factor = 2\n",
    "    while factor < n and is_Prime(factor):\n",
    "        if n % factor == 0:\n",
    "            yield factor\n",
    "            n //= factor\n",
    "        else:\n",
    "            factor +=1"
   ]
  },
  {
   "cell_type": "code",
   "execution_count": 50,
   "metadata": {},
   "outputs": [],
   "source": [
    "\n",
    "k = generate_primes(15)"
   ]
  },
  {
   "cell_type": "code",
   "execution_count": 70,
   "metadata": {},
   "outputs": [
    {
     "data": {
      "text/plain": [
       "array([[0.26579095, 0.65399622],\n",
       "       [0.41469081, 0.66878268]])"
      ]
     },
     "execution_count": 70,
     "metadata": {},
     "output_type": "execute_result"
    }
   ],
   "source": [
    "k = np.random.random((2,2))\n",
    "k"
   ]
  },
  {
   "cell_type": "code",
   "execution_count": 71,
   "metadata": {},
   "outputs": [
    {
     "data": {
      "text/plain": [
       "array([[0.41469081, 0.66878268],\n",
       "       [0.1       , 0.2       ]])"
      ]
     },
     "execution_count": 71,
     "metadata": {},
     "output_type": "execute_result"
    }
   ],
   "source": [
    "k = np.append(k, [0.1,0.2]).reshape(3,2)\n",
    "np.delete(k, 0, axis = 0)"
   ]
  },
  {
   "cell_type": "code",
   "execution_count": 46,
   "metadata": {},
   "outputs": [
    {
     "ename": "StopIteration",
     "evalue": "",
     "output_type": "error",
     "traceback": [
      "\u001b[1;31m---------------------------------------------------------------------------\u001b[0m",
      "\u001b[1;31mStopIteration\u001b[0m                             Traceback (most recent call last)",
      "Cell \u001b[1;32mIn[46], line 1\u001b[0m\n\u001b[1;32m----> 1\u001b[0m \u001b[38;5;28mprint\u001b[39m(\u001b[38;5;28;43mnext\u001b[39;49m\u001b[43m(\u001b[49m\u001b[43mk\u001b[49m\u001b[43m)\u001b[49m)\n",
      "\u001b[1;31mStopIteration\u001b[0m: "
     ]
    }
   ],
   "source": [
    "print(next(k))"
   ]
  },
  {
   "cell_type": "code",
   "execution_count": 72,
   "metadata": {},
   "outputs": [],
   "source": [
    "x = np.linspace(-5,-2,100)\n",
    "y1 = x**3 + x**2 + 10\n",
    "y2 = x**2 + x + 1\n",
    "y3 = x - 10\n",
    "\n"
   ]
  },
  {
   "cell_type": "code",
   "execution_count": 84,
   "metadata": {},
   "outputs": [
    {
     "data": {
      "image/png": "[encoded data removed]",
      "text/plain": [
       "<Figure size 400x500 with 1 Axes>"
      ]
     },
     "metadata": {},
     "output_type": "display_data"
    }
   ],
   "source": [
    "fig, ax = plt.subplots(figsize = (4,5))\n",
    "ax.plot(x,y1, label = \"$y = x^3 + x^2 + 10$\", color = \"r\")\n",
    "ax.plot(x,y2, label = \"$y = x^2 + x + 1$\", color = \"b\")\n",
    "ax.plot(x,y3, label = \"$y = x - 10$\", color = \"g\")\n",
    "ax.legend();\n",
    "# ax.show()\n"
   ]
  },
  {
   "cell_type": "code",
   "execution_count": 85,
   "metadata": {},
   "outputs": [
    {
     "name": "stdout",
     "output_type": "stream",
     "text": [
      "3^2 + 4^2 = 5^2 (25 = 25)\n",
      "6^2 + 8^2 = 10^2 (100 = 100)\n",
      "8^2 + 15^2 = 17^2 (289 = 289)\n",
      "9^2 + 12^2 = 15^2 (225 = 225)\n",
      "12^2 + 16^2 = 20^2 (400 = 400)\n",
      "15^2 + 20^2 = 25^2 (625 = 625)\n",
      "16^2 + 30^2 = 34^2 (1156 = 1156)\n",
      "18^2 + 24^2 = 30^2 (900 = 900)\n",
      "20^2 + 21^2 = 29^2 (841 = 841)\n",
      "21^2 + 28^2 = 35^2 (1225 = 1225)\n"
     ]
    }
   ],
   "source": [
    "def pythagorean_triplets(n):\n",
    "    count = 0\n",
    "    a = 1\n",
    "    while count < n:\n",
    "        for b in range(a, a*2):  # b is always greater than a\n",
    "            c = int((a**2 + b**2)**0.5)  # calculate c\n",
    "            if a**2 + b**2 == c**2:  # verify the Pythagorean theorem\n",
    "                yield (a, b, c)\n",
    "                count += 1\n",
    "                if count == n:\n",
    "                    return\n",
    "        a += 1\n",
    "\n",
    "# Example usage:\n",
    "n = 10  # Generate the first 10 Pythagorean triplets\n",
    "# for triplet in pythagorean_triplets(n):\n",
    "#     print(f\"{triplet[0]}^2 + {triplet[1]}^2 = {triplet[2]}^2 ({triplet[0]**2 + triplet[1]**2} = {triplet[2]**2})\")"
   ]
  },
  {
   "cell_type": "code",
   "execution_count": 87,
   "metadata": {},
   "outputs": [],
   "source": [
    "k = pythagorean_triplets(10)"
   ]
  },
  {
   "cell_type": "code",
   "execution_count": 90,
   "metadata": {},
   "outputs": [
    {
     "data": {
      "text/plain": [
       "(8, 15, 17)"
      ]
     },
     "execution_count": 90,
     "metadata": {},
     "output_type": "execute_result"
    }
   ],
   "source": [
    "next(k)"
   ]
  },
  {
   "cell_type": "code",
   "execution_count": 98,
   "metadata": {},
   "outputs": [
    {
     "data": {
      "text/plain": [
       "8"
      ]
     },
     "execution_count": 98,
     "metadata": {},
     "output_type": "execute_result"
    }
   ],
   "source": [
    "int(np.random.randint(0,10, (4,))[0])"
   ]
  },
  {
   "cell_type": "code",
   "execution_count": null,
   "metadata": {},
   "outputs": [],
   "source": [
    "lisktk = [5,5,52,2,1,1,3,6]\n",
    "\n",
    "#use recursion to remove  duplicates\n",
    "def remove_duplicates(l):"
   ]
  },
  {
   "cell_type": "code",
   "execution_count": 116,
   "metadata": {},
   "outputs": [],
   "source": [
    "f = np.array([[(i * 10 - 5 * j) for j in range(6)] for i in range(5,10)])\n"
   ]
  },
  {
   "cell_type": "code",
   "execution_count": 122,
   "metadata": {},
   "outputs": [
    {
     "data": {
      "text/plain": [
       "array([[45, 35, 25],\n",
       "       [65, 55, 45],\n",
       "       [85, 75, 65]])"
      ]
     },
     "execution_count": 122,
     "metadata": {},
     "output_type": "execute_result"
    }
   ],
   "source": [
    "f[::2,1::2]"
   ]
  },
  {
   "cell_type": "code",
   "execution_count": 128,
   "metadata": {},
   "outputs": [
    {
     "data": {
      "text/plain": [
       "array([[50, 40],\n",
       "       [70, 60],\n",
       "       [90, 80]])"
      ]
     },
     "execution_count": 128,
     "metadata": {},
     "output_type": "execute_result"
    }
   ],
   "source": [
    "f[::2, 0:3:2]"
   ]
  },
  {
   "cell_type": "code",
   "execution_count": 133,
   "metadata": {},
   "outputs": [
    {
     "data": {
      "text/plain": [
       "array([[50, 25],\n",
       "       [90, 65]])"
      ]
     },
     "execution_count": 133,
     "metadata": {},
     "output_type": "execute_result"
    }
   ],
   "source": [
    "f[0::4, 0::5]"
   ]
  },
  {
   "cell_type": "code",
   "execution_count": 136,
   "metadata": {},
   "outputs": [
    {
     "data": {
      "text/plain": [
       "array([[40, 35],\n",
       "       [50, 45],\n",
       "       [60, 55],\n",
       "       [70, 65]])"
      ]
     },
     "execution_count": 136,
     "metadata": {},
     "output_type": "execute_result"
    }
   ],
   "source": [
    "f[0:4, 2:4]"
   ]
  },
  {
   "cell_type": "code",
   "execution_count": null,
   "metadata": {},
   "outputs": [],
   "source": []
  },
  {
   "cell_type": "code",
   "execution_count": 142,
   "metadata": {},
   "outputs": [
    {
     "data": {
      "text/plain": [
       "[[10, 17, 24, 31, 38, 45, 52],\n",
       " [12, 19, 26, 33, 40, 47, 54],\n",
       " [14, 21, 28, 35, 42, 49, 56],\n",
       " [18, 25, 32, 39, 46, 53, 60],\n",
       " [20, 27, 34, 41, 48, 55, 62],\n",
       " [22, 29, 36, 43, 50, 57, 64]]"
      ]
     },
     "execution_count": 142,
     "metadata": {},
     "output_type": "execute_result"
    }
   ],
   "source": [
    "[[(2*i + 7*j)for j in range(7)] for i in range(5,12) if i != 8]"
   ]
  },
  {
   "cell_type": "code",
   "execution_count": 155,
   "metadata": {},
   "outputs": [],
   "source": [
    "F = np.array([[(2*i + 20*j) for j in range(2,8)] for i in range(0,6)])"
   ]
  },
  {
   "cell_type": "code",
   "execution_count": 156,
   "metadata": {},
   "outputs": [
    {
     "data": {
      "text/plain": [
       "array([[ 60, 100, 140],\n",
       "       [ 64, 104, 144],\n",
       "       [ 68, 108, 148]])"
      ]
     },
     "execution_count": 156,
     "metadata": {},
     "output_type": "execute_result"
    }
   ],
   "source": [
    "F[::2, 1::2]"
   ]
  },
  {
   "cell_type": "code",
   "execution_count": 171,
   "metadata": {},
   "outputs": [
    {
     "data": {
      "text/plain": [
       "array([[ 64,  68],\n",
       "       [104, 108],\n",
       "       [144, 148]])"
      ]
     },
     "execution_count": 171,
     "metadata": {},
     "output_type": "execute_result"
    }
   ],
   "source": [
    "F[2:5:2, 1::2].T"
   ]
  },
  {
   "cell_type": "code",
   "execution_count": 178,
   "metadata": {},
   "outputs": [
    {
     "data": {
      "text/plain": [
       "array([ 42, 106,  68])"
      ]
     },
     "execution_count": 178,
     "metadata": {},
     "output_type": "execute_result"
    }
   ],
   "source": [
    "F[(1,3,4),(0,3,1)]"
   ]
  },
  {
   "cell_type": "code",
   "execution_count": 177,
   "metadata": {},
   "outputs": [
    {
     "data": {
      "text/plain": [
       "array([120, 140, 102, 122, 142, 104, 124, 144, 106, 126, 146, 108, 128,\n",
       "       148, 110, 130, 150])"
      ]
     },
     "execution_count": 177,
     "metadata": {},
     "output_type": "execute_result"
    }
   ],
   "source": [
    "F[F>100]"
   ]
  },
  {
   "cell_type": "code",
   "execution_count": 181,
   "metadata": {},
   "outputs": [
    {
     "data": {
      "text/plain": [
       "array([ 60,  82, 104, 126, 148])"
      ]
     },
     "execution_count": 181,
     "metadata": {},
     "output_type": "execute_result"
    }
   ],
   "source": [
    "np.diag(F, k = 1)"
   ]
  },
  {
   "cell_type": "code",
   "execution_count": null,
   "metadata": {},
   "outputs": [],
   "source": []
  }
 ],
 "metadata": {
  "kernelspec": {
   "display_name": "venv",
   "language": "python",
   "name": "python3"
  },
  "language_info": {
   "codemirror_mode": {
    "name": "ipython",
    "version": 3
   },
   "file_extension": ".py",
   "mimetype": "text/x-python",
   "name": "python",
   "nbconvert_exporter": "python",
   "pygments_lexer": "ipython3",
   "version": "3.10.7"
  }
 },
 "nbformat": 4,
 "nbformat_minor": 2
}
