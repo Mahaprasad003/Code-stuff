{
 "cells": [
  {
   "cell_type": "markdown",
   "metadata": {},
   "source": [
    "## Check for happy number"
   ]
  },
  {
   "cell_type": "code",
   "execution_count": 5,
   "metadata": {},
   "outputs": [
    {
     "name": "stdout",
     "output_type": "stream",
     "text": [
      "19 is happy number.\n"
     ]
    }
   ],
   "source": [
    "num = int(input(\"Enter a number\"))\n",
    "num_copy = num\n",
    "\n",
    "while num != 1 and num != 4:\n",
    "    current = num\n",
    "    sum_squares = 0\n",
    "    \n",
    "    while current > 0:\n",
    "        digit = current % 10\n",
    "        sum_squares += digit ** 2\n",
    "        current //= 10\n",
    "    \n",
    "    num = sum_squares\n",
    "\n",
    "if num == 1:\n",
    "    print(f\"{num_copy} is happy number.\")\n",
    "else:\n",
    "    print(f\"{num_copy} is unhappy number.\")"
   ]
  },
  {
   "cell_type": "markdown",
   "metadata": {},
   "source": [
    "## print the pattern"
   ]
  },
  {
   "cell_type": "code",
   "execution_count": 15,
   "metadata": {},
   "outputs": [
    {
     "name": "stdout",
     "output_type": "stream",
     "text": [
      "******\n",
      "*****\n",
      "****\n",
      "***\n",
      "**\n",
      "*\n",
      "**\n",
      "***\n",
      "****\n",
      "*****\n",
      "******\n"
     ]
    }
   ],
   "source": [
    "user_input = int(input(\"Enter a number: \"))\n",
    "\n",
    "for i in range(user_input, 0, -1):\n",
    "    print('*' * i)\n",
    "\n",
    "for i in range(2, user_input+1):\n",
    "    print('*' * i)\n",
    "    "
   ]
  },
  {
   "cell_type": "markdown",
   "metadata": {},
   "source": [
    "## reversing alphanumeric strings"
   ]
  },
  {
   "cell_type": "code",
   "execution_count": 16,
   "metadata": {},
   "outputs": [
    {
     "name": "stdout",
     "output_type": "stream",
     "text": [
      "1\n",
      "2\n",
      "3\n"
     ]
    }
   ],
   "source": [
    "user_input = str(input(\"Enter alphanumeric string: \"))\n",
    "result_string = ''\n",
    "temp_string = ''\n",
    "\n",
    "for i in user_input:\n",
    "    if i.isnumeric() == True:\n",
    "        temp_string += i\n",
    "    else:\n",
    "        if temp_string != '':\n",
    "            result_string += str(int(temp_string) * i)\n",
    "            temp_string = ''\n",
    "        else:\n",
    "            result_string += i\n",
    "            "
   ]
  },
  {
   "cell_type": "code",
   "execution_count": 19,
   "metadata": {},
   "outputs": [
    {
     "data": {
      "text/plain": [
       "<reversed at 0x18de6cfdb40>"
      ]
     },
     "execution_count": 19,
     "metadata": {},
     "output_type": "execute_result"
    }
   ],
   "source": [
    "x = reversed(user_input)\n",
    "x"
   ]
  },
  {
   "cell_type": "code",
   "execution_count": null,
   "metadata": {},
   "outputs": [
    {
     "name": "stdout",
     "output_type": "stream",
     "text": [
      "19 is happy number.\n"
     ]
    }
   ],
   "source": [
    "num = int(input(\"Enter a number\"))\n",
    "num_copy = num\n",
    "\n",
    "while num != 1 and num != 4:\n",
    "    current = num\n",
    "    sum_squares = 0\n",
    "    \n",
    "    while current > 0:\n",
    "        digit = current % 10\n",
    "        sum_squares += digit ** 2\n",
    "        current //= 10\n",
    "    \n",
    "    num = sum_squares\n",
    "\n",
    "if num == 1:\n",
    "    print(f\"{num_copy} is happy number.\")\n",
    "else:\n",
    "    print(f\"{num_copy} is unhappy number.\")"
   ]
  },
  {
   "cell_type": "code",
   "execution_count": null,
   "metadata": {},
   "outputs": [
    {
     "name": "stdout",
     "output_type": "stream",
     "text": [
      "19 is happy number.\n"
     ]
    }
   ],
   "source": []
  },
  {
   "cell_type": "code",
   "execution_count": null,
   "metadata": {},
   "outputs": [],
   "source": []
  }
 ],
 "metadata": {
  "kernelspec": {
   "display_name": "Python 3",
   "language": "python",
   "name": "python3"
  },
  "language_info": {
   "codemirror_mode": {
    "name": "ipython",
    "version": 3
   },
   "file_extension": ".py",
   "mimetype": "text/x-python",
   "name": "python",
   "nbconvert_exporter": "python",
   "pygments_lexer": "ipython3",
   "version": "3.11.0"
  }
 },
 "nbformat": 4,
 "nbformat_minor": 2
}
