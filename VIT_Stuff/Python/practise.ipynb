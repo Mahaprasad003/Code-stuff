{
 "cells": [
  {
   "cell_type": "code",
   "execution_count": 1,
   "metadata": {},
   "outputs": [],
   "source": [
    "import pandas as pd\n",
    "import scipy\n",
    "import numpy as np"
   ]
  },
  {
   "cell_type": "code",
   "execution_count": 5,
   "metadata": {},
   "outputs": [
    {
     "data": {
      "text/plain": [
       "array([11.71111111,  2.75555556, -1.64444444])"
      ]
     },
     "execution_count": 5,
     "metadata": {},
     "output_type": "execute_result"
    }
   ],
   "source": [
    "# solving linear equations with 3 variables\n",
    "\n",
    "# Ax=b\n",
    "from scipy.linalg import solve\n",
    "A = np.array([[1,2,5], [2,-5,1], [2,-3,8]])\n",
    "b = np.array([9,8,2])\n",
    "\n",
    "x = solve(A,b)\n",
    "x"
   ]
  },
  {
   "cell_type": "code",
   "execution_count": 7,
   "metadata": {},
   "outputs": [
    {
     "data": {
      "text/plain": [
       "np.float64(-2.0)"
      ]
     },
     "execution_count": 7,
     "metadata": {},
     "output_type": "execute_result"
    }
   ],
   "source": [
    "from scipy.linalg import det\n",
    "A = np.array([[1,2], [3,4]])\n",
    "d = det(A)\n",
    "d"
   ]
  },
  {
   "cell_type": "code",
   "execution_count": 9,
   "metadata": {},
   "outputs": [
    {
     "name": "stdout",
     "output_type": "stream",
     "text": [
      "[-0.37228132+0.j  5.37228132+0.j] [[-0.82456484 -0.41597356]\n",
      " [ 0.56576746 -0.90937671]]\n"
     ]
    }
   ],
   "source": [
    "A = np.array([[1,2], [3,4]])\n",
    "L,V = scipy.linalg.eig(A)\n",
    "print(L,V)"
   ]
  },
  {
   "cell_type": "code",
   "execution_count": 16,
   "metadata": {},
   "outputs": [
    {
     "name": "stdout",
     "output_type": "stream",
     "text": [
      "U:  [[-0.66321408 -0.69312211 -0.28236293]\n",
      " [-0.16655798 -0.23112594  0.95856102]\n",
      " [-0.72966124  0.68276097  0.03784096]]\n",
      "s:  [1.57765375 0.36132012]\n",
      "Vh:  [[-0.734692   -0.67840082]\n",
      " [-0.67840082  0.734692  ]]\n"
     ]
    }
   ],
   "source": [
    "A = np.random.rand(3,2)\n",
    "U, s, Vh = scipy.linalg.svd(A)\n",
    "\n",
    "print(\"U: \", U)\n",
    "print(\"s: \", s)\n",
    "print(\"Vh: \", Vh)"
   ]
  },
  {
   "cell_type": "code",
   "execution_count": 17,
   "metadata": {},
   "outputs": [
    {
     "name": "stdout",
     "output_type": "stream",
     "text": [
      "  message: Optimization terminated successfully.\n",
      "  success: True\n",
      "   status: 0\n",
      "      fun: -2.9999999999999996\n",
      "        x: [-1.000e+00]\n",
      "      nit: 3\n",
      "      jac: [-2.980e-08]\n",
      " hess_inv: [[ 5.000e-01]]\n",
      "     nfev: 8\n",
      "     njev: 4\n"
     ]
    }
   ],
   "source": [
    "import numpy as np\n",
    "from scipy.optimize import minimize\n",
    "\n",
    "def quadfunc(x):\n",
    "    return x**2 + 2*x - 2\n",
    "\n",
    "x0=5\n",
    "res = minimize(quadfunc, x0)\n",
    "print(res)"
   ]
  },
  {
   "cell_type": "code",
   "execution_count": 22,
   "metadata": {},
   "outputs": [
    {
     "name": "stdout",
     "output_type": "stream",
     "text": [
      " message: The solution converged.\n",
      " success: True\n",
      "  status: 1\n",
      "     fun: [ 0.000e+00]\n",
      "       x: [-7.391e-01]\n",
      "  method: hybr\n",
      "    nfev: 11\n",
      "    fjac: [[-1.000e+00]]\n",
      "       r: [-3.347e+00]\n",
      "     qtf: [-3.450e-10]\n"
     ]
    }
   ],
   "source": [
    "from scipy.optimize import root\n",
    "def func(x):\n",
    "    return 2*x + 2*np.cos(x)\n",
    "\n",
    "sol = root(func,0.2)\n",
    "print(sol)"
   ]
  },
  {
   "cell_type": "code",
   "execution_count": 23,
   "metadata": {},
   "outputs": [
    {
     "name": "stdout",
     "output_type": "stream",
     "text": [
      "\n",
      "Welcome to Python 3.10's help utility!\n",
      "\n",
      "If this is your first time using Python, you should definitely check out\n",
      "the tutorial on the internet at https://docs.python.org/3.10/tutorial/.\n",
      "\n",
      "Enter the name of any module, keyword, or topic to get help on writing\n",
      "Python programs and using Python modules.  To quit this help utility and\n",
      "return to the interpreter, just type \"quit\".\n",
      "\n",
      "To get a list of available modules, keywords, symbols, or topics, type\n",
      "\"modules\", \"keywords\", \"symbols\", or \"topics\".  Each module also comes\n",
      "with a one-line summary of what it does; to list the modules whose name\n",
      "or summary contain a given string such as \"spam\", type \"modules spam\".\n",
      "\n",
      "Help on class map in module builtins:\n",
      "\n",
      "class map(object)\n",
      " |  map(func, *iterables) --> map object\n",
      " |  \n",
      " |  Make an iterator that computes the function using arguments from\n",
      " |  each of the iterables.  Stops when the shortest iterable is exhausted.\n",
      " |  \n",
      " |  Methods defined here:\n",
      " |  \n",
      " |  __getattribute__(self, name, /)\n",
      " |      Return getattr(self, name).\n",
      " |  \n",
      " |  __iter__(self, /)\n",
      " |      Implement iter(self).\n",
      " |  \n",
      " |  __next__(self, /)\n",
      " |      Implement next(self).\n",
      " |  \n",
      " |  __reduce__(...)\n",
      " |      Return state information for pickling.\n",
      " |  \n",
      " |  ----------------------------------------------------------------------\n",
      " |  Static methods defined here:\n",
      " |  \n",
      " |  __new__(*args, **kwargs) from builtins.type\n",
      " |      Create and return a new object.  See help(type) for accurate signature.\n",
      "\n",
      "\n",
      "You are now leaving help and returning to the Python interpreter.\n",
      "If you want to ask for help on a particular object directly from the\n",
      "interpreter, you can type \"help(object)\".  Executing \"help('string')\"\n",
      "has the same effect as typing a particular string at the help> prompt.\n"
     ]
    }
   ],
   "source": [
    "help()"
   ]
  },
  {
   "cell_type": "code",
   "execution_count": 28,
   "metadata": {},
   "outputs": [
    {
     "data": {
      "text/plain": [
       "[1, 4, 9]"
      ]
     },
     "execution_count": 28,
     "metadata": {},
     "output_type": "execute_result"
    }
   ],
   "source": [
    "list1 = [1,2,3]\n",
    "list(map(lambda x: x**2, list1))\n"
   ]
  },
  {
   "cell_type": "code",
   "execution_count": 32,
   "metadata": {},
   "outputs": [],
   "source": [
    "x = np.linspace(0,8, 10)\n",
    "y = np.array([0.48077, 0.86895, 0.97010, 0.70940, 0.27965, -0.0138, 0.07410, 0.45031, 0.84903, 0.9745])"
   ]
  },
  {
   "cell_type": "code",
   "execution_count": 47,
   "metadata": {},
   "outputs": [
    {
     "name": "stdout",
     "output_type": "stream",
     "text": [
      "[0.50280446 1.00056595 0.47877592]\n"
     ]
    }
   ],
   "source": [
    "from scipy.optimize import curve_fit\n",
    "\n",
    "def fit(x, a, b, c):\n",
    "    return a*np.sin(b*x) + c\n",
    "\n",
    "popt, pcov = curve_fit(fit, x, y)\n",
    "print(popt)\n",
    "\n"
   ]
  },
  {
   "cell_type": "code",
   "execution_count": 44,
   "metadata": {},
   "outputs": [
    {
     "data": {
      "text/plain": [
       "<matplotlib.collections.PathCollection at 0x1cb88da29e0>"
      ]
     },
     "execution_count": 44,
     "metadata": {},
     "output_type": "execute_result"
    },
    {
     "data": {
      "image/png": "[encoded data removed]",
      "text/plain": [
       "<Figure size 640x480 with 1 Axes>"
      ]
     },
     "metadata": {},
     "output_type": "display_data"
    }
   ],
   "source": [
    "import matplotlib.pyplot as plt\n",
    "plt.plot(x, func(x, *popt), 'k-', label='fit')\n",
    "plt.scatter(x,y)"
   ]
  },
  {
   "cell_type": "code",
   "execution_count": 3,
   "metadata": {},
   "outputs": [],
   "source": [
    "import matplotlib.pyplot as plt"
   ]
  },
  {
   "cell_type": "code",
   "execution_count": 6,
   "metadata": {},
   "outputs": [],
   "source": [
    "from scipy.interpolate import interp1d\n",
    "\n",
    "x = np.linspace(-3,3,50)\n",
    "y = 2*x**2 + 3*x + 1.5*np.random.randn(50)\n",
    "\n"
   ]
  },
  {
   "cell_type": "code",
   "execution_count": 13,
   "metadata": {},
   "outputs": [
    {
     "data": {
      "text/plain": [
       "<matplotlib.legend.Legend at 0x230fda2aaa0>"
      ]
     },
     "execution_count": 13,
     "metadata": {},
     "output_type": "execute_result"
    },
    {
     "data": {
      "image/png": "[encoded data removed]",
      "text/plain": [
       "<Figure size 800x500 with 3 Axes>"
      ]
     },
     "metadata": {},
     "output_type": "display_data"
    }
   ],
   "source": [
    "fig, ax = plt.subplots(3,1, figsize=(8,5))\n",
    "\n",
    "for i in range(3):\n",
    "    ax[i].plot(x,y, 'bo', ms=5)\n",
    "\n",
    "lp1 = interp1d(x,y, kind = 'linear')\n",
    "xs = np.linspace(-3,3,25)\n",
    "ax[0].plot(xs, lp1(xs), 'y', lw =1.5, label='Linear Interpolation')\n",
    "ax[0].legend()\n",
    "\n",
    "lp2 = interp1d(x,y, kind = 'quadratic')\n",
    "cs = np.linspace(-3,3,25)\n",
    "ax[1].plot(cs, lp2(cs), 'g', lw =1.5, label='Quadratic Interpolation')\n",
    "ax[1].legend()\n",
    "\n",
    "lp3 = interp1d(x,y, kind = 'cubic')\n",
    "cs = np.linspace(-3,3,25)\n",
    "ax[2].plot(cs, lp3(cs), 'r', lw =1.5, label='Cubic Interpolation')\n",
    "ax[2].legend()"
   ]
  },
  {
   "cell_type": "code",
   "execution_count": 15,
   "metadata": {},
   "outputs": [
    {
     "name": "stdout",
     "output_type": "stream",
     "text": [
      "[[ 0  2  4  6  8 10]\n",
      " [10 12 14 16 18 20]\n",
      " [20 22 24 26 28 30]\n",
      " [30 32 34 36 38 40]\n",
      " [40 42 44 46 48 50]]\n"
     ]
    }
   ],
   "source": [
    "import numpy as np\n",
    "\n",
    "# Define the base for the array\n",
    "base = np.arange(6) * 2  # Each column increases by 2\n",
    "\n",
    "# Generate the array by broadcasting the row increments\n",
    "a = base + (np.arange(5).reshape(-1, 1) * 10)  # Each row increases by 10\n",
    "\n",
    "print(a)\n"
   ]
  },
  {
   "cell_type": "code",
   "execution_count": null,
   "metadata": {},
   "outputs": [
    {
     "data": {
      "text/plain": [
       "array([2, 0])"
      ]
     },
     "execution_count": 32,
     "metadata": {},
     "output_type": "execute_result"
    }
   ],
   "source": [
    "a[(0,0), (1,0)]aaa"
   ]
  },
  {
   "cell_type": "code",
   "execution_count": 1,
   "metadata": {},
   "outputs": [],
   "source": [
    "def gen_num(n):\n",
    "    for i in range(n):\n",
    "        yield i"
   ]
  },
  {
   "cell_type": "code",
   "execution_count": 4,
   "metadata": {},
   "outputs": [],
   "source": [
    "k = gen_num(10)"
   ]
  },
  {
   "cell_type": "code",
   "execution_count": 8,
   "metadata": {},
   "outputs": [
    {
     "data": {
      "text/plain": [
       "[0, 1, 2, 3, 4, 5, 6, 7, 8, 9]"
      ]
     },
     "execution_count": 8,
     "metadata": {},
     "output_type": "execute_result"
    }
   ],
   "source": [
    "[i for i in gen_num(10)]"
   ]
  },
  {
   "cell_type": "code",
   "execution_count": null,
   "metadata": {},
   "outputs": [
    {
     "name": "stdout",
     "output_type": "stream",
     "text": [
      "\n",
      "Welcome to Python 3.10's help utility!\n",
      "\n",
      "If this is your first time using Python, you should definitely check out\n",
      "the tutorial on the internet at https://docs.python.org/3.10/tutorial/.\n",
      "\n",
      "Enter the name of any module, keyword, or topic to get help on writing\n",
      "Python programs and using Python modules.  To quit this help utility and\n",
      "return to the interpreter, just type \"quit\".\n",
      "\n",
      "To get a list of available modules, keywords, symbols, or topics, type\n",
      "\"modules\", \"keywords\", \"symbols\", or \"topics\".  Each module also comes\n",
      "with a one-line summary of what it does; to list the modules whose name\n",
      "or summary contain a given string such as \"spam\", type \"modules spam\".\n",
      "\n",
      "Help on property in pandas.DataFrame:\n",
      "\n",
      "pandas.DataFrame.iloc\n",
      "    Purely integer-location based indexing for selection by position.\n",
      "    \n",
      "    .. deprecated:: 2.2.0\n",
      "    \n",
      "       Returning a tuple from a callable is deprecated.\n",
      "    \n",
      "    ``.iloc[]`` is primarily integer position based (from ``0`` to\n",
      "    ``length-1`` of the axis), but may also be used with a boolean\n",
      "    array.\n",
      "    \n",
      "    Allowed inputs are:\n",
      "    \n",
      "    - An integer, e.g. ``5``.\n",
      "    - A list or array of integers, e.g. ``[4, 3, 0]``.\n",
      "    - A slice object with ints, e.g. ``1:7``.\n",
      "    - A boolean array.\n",
      "    - A ``callable`` function with one argument (the calling Series or\n",
      "      DataFrame) and that returns valid output for indexing (one of the above).\n",
      "      This is useful in method chains, when you don't have a reference to the\n",
      "      calling object, but would like to base your selection on\n",
      "      some value.\n",
      "    - A tuple of row and column indexes. The tuple elements consist of one of the\n",
      "      above inputs, e.g. ``(0, 1)``.\n",
      "    \n",
      "    ``.iloc`` will raise ``IndexError`` if a requested indexer is\n",
      "    out-of-bounds, except *slice* indexers which allow out-of-bounds\n",
      "    indexing (this conforms with python/numpy *slice* semantics).\n",
      "    \n",
      "    See more at :ref:`Selection by Position <indexing.integer>`.\n",
      "    \n",
      "    See Also\n",
      "    --------\n",
      "    DataFrame.iat : Fast integer location scalar accessor.\n",
      "    DataFrame.loc : Purely label-location based indexer for selection by label.\n",
      "    Series.iloc : Purely integer-location based indexing for\n",
      "                   selection by position.\n",
      "    \n",
      "    Examples\n",
      "    --------\n",
      "    >>> mydict = [{'a': 1, 'b': 2, 'c': 3, 'd': 4},\n",
      "    ...           {'a': 100, 'b': 200, 'c': 300, 'd': 400},\n",
      "    ...           {'a': 1000, 'b': 2000, 'c': 3000, 'd': 4000}]\n",
      "    >>> df = pd.DataFrame(mydict)\n",
      "    >>> df\n",
      "          a     b     c     d\n",
      "    0     1     2     3     4\n",
      "    1   100   200   300   400\n",
      "    2  1000  2000  3000  4000\n",
      "    \n",
      "    **Indexing just the rows**\n",
      "    \n",
      "    With a scalar integer.\n",
      "    \n",
      "    >>> type(df.iloc[0])\n",
      "    <class 'pandas.core.series.Series'>\n",
      "    >>> df.iloc[0]\n",
      "    a    1\n",
      "    b    2\n",
      "    c    3\n",
      "    d    4\n",
      "    Name: 0, dtype: int64\n",
      "    \n",
      "    With a list of integers.\n",
      "    \n",
      "    >>> df.iloc[[0]]\n",
      "       a  b  c  d\n",
      "    0  1  2  3  4\n",
      "    >>> type(df.iloc[[0]])\n",
      "    <class 'pandas.core.frame.DataFrame'>\n",
      "    \n",
      "    >>> df.iloc[[0, 1]]\n",
      "         a    b    c    d\n",
      "    0    1    2    3    4\n",
      "    1  100  200  300  400\n",
      "    \n",
      "    With a `slice` object.\n",
      "    \n",
      "    >>> df.iloc[:3]\n",
      "          a     b     c     d\n",
      "    0     1     2     3     4\n",
      "    1   100   200   300   400\n",
      "    2  1000  2000  3000  4000\n",
      "    \n",
      "    With a boolean mask the same length as the index.\n",
      "    \n",
      "    >>> df.iloc[[True, False, True]]\n",
      "          a     b     c     d\n",
      "    0     1     2     3     4\n",
      "    2  1000  2000  3000  4000\n",
      "    \n",
      "    With a callable, useful in method chains. The `x` passed\n",
      "    to the ``lambda`` is the DataFrame being sliced. This selects\n",
      "    the rows whose index label even.\n",
      "    \n",
      "    >>> df.iloc[lambda x: x.index % 2 == 0]\n",
      "          a     b     c     d\n",
      "    0     1     2     3     4\n",
      "    2  1000  2000  3000  4000\n",
      "    \n",
      "    **Indexing both axes**\n",
      "    \n",
      "    You can mix the indexer types for the index and columns. Use ``:`` to\n",
      "    select the entire axis.\n",
      "    \n",
      "    With scalar integers.\n",
      "    \n",
      "    >>> df.iloc[0, 1]\n",
      "    2\n",
      "    \n",
      "    With lists of integers.\n",
      "    \n",
      "    >>> df.iloc[[0, 2], [1, 3]]\n",
      "          b     d\n",
      "    0     2     4\n",
      "    2  2000  4000\n",
      "    \n",
      "    With `slice` objects.\n",
      "    \n",
      "    >>> df.iloc[1:3, 0:3]\n",
      "          a     b     c\n",
      "    1   100   200   300\n",
      "    2  1000  2000  3000\n",
      "    \n",
      "    With a boolean array whose length matches the columns.\n",
      "    \n",
      "    >>> df.iloc[:, [True, False, True, False]]\n",
      "          a     c\n",
      "    0     1     3\n",
      "    1   100   300\n",
      "    2  1000  3000\n",
      "    \n",
      "    With a callable function that expects the Series or DataFrame.\n",
      "    \n",
      "    >>> df.iloc[:, lambda df: [0, 2]]\n",
      "          a     c\n",
      "    0     1     3\n",
      "    1   100   300\n",
      "    2  1000  3000\n",
      "\n",
      "Help on property in pandas.DataFrame:\n",
      "\n",
      "pandas.DataFrame.loc\n",
      "    Access a group of rows and columns by label(s) or a boolean array.\n",
      "    \n",
      "    ``.loc[]`` is primarily label based, but may also be used with a\n",
      "    boolean array.\n",
      "    \n",
      "    Allowed inputs are:\n",
      "    \n",
      "    - A single label, e.g. ``5`` or ``'a'``, (note that ``5`` is\n",
      "      interpreted as a *label* of the index, and **never** as an\n",
      "      integer position along the index).\n",
      "    - A list or array of labels, e.g. ``['a', 'b', 'c']``.\n",
      "    - A slice object with labels, e.g. ``'a':'f'``.\n",
      "    \n",
      "      .. warning:: Note that contrary to usual python slices, **both** the\n",
      "          start and the stop are included\n",
      "    \n",
      "    - A boolean array of the same length as the axis being sliced,\n",
      "      e.g. ``[True, False, True]``.\n",
      "    - An alignable boolean Series. The index of the key will be aligned before\n",
      "      masking.\n",
      "    - An alignable Index. The Index of the returned selection will be the input.\n",
      "    - A ``callable`` function with one argument (the calling Series or\n",
      "      DataFrame) and that returns valid output for indexing (one of the above)\n",
      "    \n",
      "    See more at :ref:`Selection by Label <indexing.label>`.\n",
      "    \n",
      "    Raises\n",
      "    ------\n",
      "    KeyError\n",
      "        If any items are not found.\n",
      "    IndexingError\n",
      "        If an indexed key is passed and its index is unalignable to the frame index.\n",
      "    \n",
      "    See Also\n",
      "    --------\n",
      "    DataFrame.at : Access a single value for a row/column label pair.\n",
      "    DataFrame.iloc : Access group of rows and columns by integer position(s).\n",
      "    DataFrame.xs : Returns a cross-section (row(s) or column(s)) from the\n",
      "                   Series/DataFrame.\n",
      "    Series.loc : Access group of values using labels.\n",
      "    \n",
      "    Examples\n",
      "    --------\n",
      "    **Getting values**\n",
      "    \n",
      "    >>> df = pd.DataFrame([[1, 2], [4, 5], [7, 8]],\n",
      "    ...                   index=['cobra', 'viper', 'sidewinder'],\n",
      "    ...                   columns=['max_speed', 'shield'])\n",
      "    >>> df\n",
      "                max_speed  shield\n",
      "    cobra               1       2\n",
      "    viper               4       5\n",
      "    sidewinder          7       8\n",
      "    \n",
      "    Single label. Note this returns the row as a Series.\n",
      "    \n",
      "    >>> df.loc['viper']\n",
      "    max_speed    4\n",
      "    shield       5\n",
      "    Name: viper, dtype: int64\n",
      "    \n",
      "    List of labels. Note using ``[[]]`` returns a DataFrame.\n",
      "    \n",
      "    >>> df.loc[['viper', 'sidewinder']]\n",
      "                max_speed  shield\n",
      "    viper               4       5\n",
      "    sidewinder          7       8\n",
      "    \n",
      "    Single label for row and column\n",
      "    \n",
      "    >>> df.loc['cobra', 'shield']\n",
      "    2\n",
      "    \n",
      "    Slice with labels for row and single label for column. As mentioned\n",
      "    above, note that both the start and stop of the slice are included.\n",
      "    \n",
      "    >>> df.loc['cobra':'viper', 'max_speed']\n",
      "    cobra    1\n",
      "    viper    4\n",
      "    Name: max_speed, dtype: int64\n",
      "    \n",
      "    Boolean list with the same length as the row axis\n",
      "    \n",
      "    >>> df.loc[[False, False, True]]\n",
      "                max_speed  shield\n",
      "    sidewinder          7       8\n",
      "    \n",
      "    Alignable boolean Series:\n",
      "    \n",
      "    >>> df.loc[pd.Series([False, True, False],\n",
      "    ...                  index=['viper', 'sidewinder', 'cobra'])]\n",
      "                         max_speed  shield\n",
      "    sidewinder          7       8\n",
      "    \n",
      "    Index (same behavior as ``df.reindex``)\n",
      "    \n",
      "    >>> df.loc[pd.Index([\"cobra\", \"viper\"], name=\"foo\")]\n",
      "           max_speed  shield\n",
      "    foo\n",
      "    cobra          1       2\n",
      "    viper          4       5\n",
      "    \n",
      "    Conditional that returns a boolean Series\n",
      "    \n",
      "    >>> df.loc[df['shield'] > 6]\n",
      "                max_speed  shield\n",
      "    sidewinder          7       8\n",
      "    \n",
      "    Conditional that returns a boolean Series with column labels specified\n",
      "    \n",
      "    >>> df.loc[df['shield'] > 6, ['max_speed']]\n",
      "                max_speed\n",
      "    sidewinder          7\n",
      "    \n",
      "    Multiple conditional using ``&`` that returns a boolean Series\n",
      "    \n",
      "    >>> df.loc[(df['max_speed'] > 1) & (df['shield'] < 8)]\n",
      "                max_speed  shield\n",
      "    viper          4       5\n",
      "    \n",
      "    Multiple conditional using ``|`` that returns a boolean Series\n",
      "    \n",
      "    >>> df.loc[(df['max_speed'] > 4) | (df['shield'] < 5)]\n",
      "                max_speed  shield\n",
      "    cobra               1       2\n",
      "    sidewinder          7       8\n",
      "    \n",
      "    Please ensure that each condition is wrapped in parentheses ``()``.\n",
      "    See the :ref:`user guide<indexing.boolean>`\n",
      "    for more details and explanations of Boolean indexing.\n",
      "    \n",
      "    .. note::\n",
      "        If you find yourself using 3 or more conditionals in ``.loc[]``,\n",
      "        consider using :ref:`advanced indexing<advanced.advanced_hierarchical>`.\n",
      "    \n",
      "        See below for using ``.loc[]`` on MultiIndex DataFrames.\n",
      "    \n",
      "    Callable that returns a boolean Series\n",
      "    \n",
      "    >>> df.loc[lambda df: df['shield'] == 8]\n",
      "                max_speed  shield\n",
      "    sidewinder          7       8\n",
      "    \n",
      "    **Setting values**\n",
      "    \n",
      "    Set value for all items matching the list of labels\n",
      "    \n",
      "    >>> df.loc[['viper', 'sidewinder'], ['shield']] = 50\n",
      "    >>> df\n",
      "                max_speed  shield\n",
      "    cobra               1       2\n",
      "    viper               4      50\n",
      "    sidewinder          7      50\n",
      "    \n",
      "    Set value for an entire row\n",
      "    \n",
      "    >>> df.loc['cobra'] = 10\n",
      "    >>> df\n",
      "                max_speed  shield\n",
      "    cobra              10      10\n",
      "    viper               4      50\n",
      "    sidewinder          7      50\n",
      "    \n",
      "    Set value for an entire column\n",
      "    \n",
      "    >>> df.loc[:, 'max_speed'] = 30\n",
      "    >>> df\n",
      "                max_speed  shield\n",
      "    cobra              30      10\n",
      "    viper              30      50\n",
      "    sidewinder         30      50\n",
      "    \n",
      "    Set value for rows matching callable condition\n",
      "    \n",
      "    >>> df.loc[df['shield'] > 35] = 0\n",
      "    >>> df\n",
      "                max_speed  shield\n",
      "    cobra              30      10\n",
      "    viper               0       0\n",
      "    sidewinder          0       0\n",
      "    \n",
      "    Add value matching location\n",
      "    \n",
      "    >>> df.loc[\"viper\", \"shield\"] += 5\n",
      "    >>> df\n",
      "                max_speed  shield\n",
      "    cobra              30      10\n",
      "    viper               0       5\n",
      "    sidewinder          0       0\n",
      "    \n",
      "    Setting using a ``Series`` or a ``DataFrame`` sets the values matching the\n",
      "    index labels, not the index positions.\n",
      "    \n",
      "    >>> shuffled_df = df.loc[[\"viper\", \"cobra\", \"sidewinder\"]]\n",
      "    >>> df.loc[:] += shuffled_df\n",
      "    >>> df\n",
      "                max_speed  shield\n",
      "    cobra              60      20\n",
      "    viper               0      10\n",
      "    sidewinder          0       0\n",
      "    \n",
      "    **Getting values on a DataFrame with an index that has integer labels**\n",
      "    \n",
      "    Another example using integers for the index\n",
      "    \n",
      "    >>> df = pd.DataFrame([[1, 2], [4, 5], [7, 8]],\n",
      "    ...                   index=[7, 8, 9], columns=['max_speed', 'shield'])\n",
      "    >>> df\n",
      "       max_speed  shield\n",
      "    7          1       2\n",
      "    8          4       5\n",
      "    9          7       8\n",
      "    \n",
      "    Slice with integer labels for rows. As mentioned above, note that both\n",
      "    the start and stop of the slice are included.\n",
      "    \n",
      "    >>> df.loc[7:9]\n",
      "       max_speed  shield\n",
      "    7          1       2\n",
      "    8          4       5\n",
      "    9          7       8\n",
      "    \n",
      "    **Getting values with a MultiIndex**\n",
      "    \n",
      "    A number of examples using a DataFrame with a MultiIndex\n",
      "    \n",
      "    >>> tuples = [\n",
      "    ...     ('cobra', 'mark i'), ('cobra', 'mark ii'),\n",
      "    ...     ('sidewinder', 'mark i'), ('sidewinder', 'mark ii'),\n",
      "    ...     ('viper', 'mark ii'), ('viper', 'mark iii')\n",
      "    ... ]\n",
      "    >>> index = pd.MultiIndex.from_tuples(tuples)\n",
      "    >>> values = [[12, 2], [0, 4], [10, 20],\n",
      "    ...           [1, 4], [7, 1], [16, 36]]\n",
      "    >>> df = pd.DataFrame(values, columns=['max_speed', 'shield'], index=index)\n",
      "    >>> df\n",
      "                         max_speed  shield\n",
      "    cobra      mark i           12       2\n",
      "               mark ii           0       4\n",
      "    sidewinder mark i           10      20\n",
      "               mark ii           1       4\n",
      "    viper      mark ii           7       1\n",
      "               mark iii         16      36\n",
      "    \n",
      "    Single label. Note this returns a DataFrame with a single index.\n",
      "    \n",
      "    >>> df.loc['cobra']\n",
      "             max_speed  shield\n",
      "    mark i          12       2\n",
      "    mark ii          0       4\n",
      "    \n",
      "    Single index tuple. Note this returns a Series.\n",
      "    \n",
      "    >>> df.loc[('cobra', 'mark ii')]\n",
      "    max_speed    0\n",
      "    shield       4\n",
      "    Name: (cobra, mark ii), dtype: int64\n",
      "    \n",
      "    Single label for row and column. Similar to passing in a tuple, this\n",
      "    returns a Series.\n",
      "    \n",
      "    >>> df.loc['cobra', 'mark i']\n",
      "    max_speed    12\n",
      "    shield        2\n",
      "    Name: (cobra, mark i), dtype: int64\n",
      "    \n",
      "    Single tuple. Note using ``[[]]`` returns a DataFrame.\n",
      "    \n",
      "    >>> df.loc[[('cobra', 'mark ii')]]\n",
      "                   max_speed  shield\n",
      "    cobra mark ii          0       4\n",
      "    \n",
      "    Single tuple for the index with a single label for the column\n",
      "    \n",
      "    >>> df.loc[('cobra', 'mark i'), 'shield']\n",
      "    2\n",
      "    \n",
      "    Slice from index tuple to single label\n",
      "    \n",
      "    >>> df.loc[('cobra', 'mark i'):'viper']\n",
      "                         max_speed  shield\n",
      "    cobra      mark i           12       2\n",
      "               mark ii           0       4\n",
      "    sidewinder mark i           10      20\n",
      "               mark ii           1       4\n",
      "    viper      mark ii           7       1\n",
      "               mark iii         16      36\n",
      "    \n",
      "    Slice from index tuple to index tuple\n",
      "    \n",
      "    >>> df.loc[('cobra', 'mark i'):('viper', 'mark ii')]\n",
      "                        max_speed  shield\n",
      "    cobra      mark i          12       2\n",
      "               mark ii          0       4\n",
      "    sidewinder mark i          10      20\n",
      "               mark ii          1       4\n",
      "    viper      mark ii          7       1\n",
      "    \n",
      "    Please see the :ref:`user guide<advanced.advanced_hierarchical>`\n",
      "    for more details and explanations of advanced indexing.\n",
      "\n"
     ]
    }
   ],
   "source": [
    "help()"
   ]
  },
  {
   "cell_type": "code",
   "execution_count": null,
   "metadata": {},
   "outputs": [],
   "source": []
  }
 ],
 "metadata": {
  "kernelspec": {
   "display_name": "venv",
   "language": "python",
   "name": "python3"
  },
  "language_info": {
   "codemirror_mode": {
    "name": "ipython",
    "version": 3
   },
   "file_extension": ".py",
   "mimetype": "text/x-python",
   "name": "python",
   "nbconvert_exporter": "python",
   "pygments_lexer": "ipython3",
   "version": "3.10.7"
  }
 },
 "nbformat": 4,
 "nbformat_minor": 2
}
