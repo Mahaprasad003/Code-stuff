{
 "cells": [
  {
   "cell_type": "markdown",
   "metadata": {},
   "source": [
    "## Assignment 4"
   ]
  },
  {
   "cell_type": "markdown",
   "metadata": {},
   "source": [
    "### Name: Mahaprasad Mohanty\n",
    "### Roll No: 24MDT0061"
   ]
  },
  {
   "cell_type": "code",
   "execution_count": 1,
   "metadata": {},
   "outputs": [],
   "source": [
    "import numpy as np\n",
    "import matplotlib.pyplot as plt"
   ]
  },
  {
   "cell_type": "markdown",
   "metadata": {},
   "source": [
    "### 1.1 Generate the matrix A"
   ]
  },
  {
   "cell_type": "code",
   "execution_count": 2,
   "metadata": {},
   "outputs": [
    {
     "data": {
      "text/plain": [
       "array([[15, 25, 35, 45, 55, 65],\n",
       "       [16, 26, 36, 46, 56, 66],\n",
       "       [18, 28, 38, 48, 58, 68],\n",
       "       [19, 29, 39, 49, 59, 69],\n",
       "       [20, 30, 40, 50, 60, 70]])"
      ]
     },
     "execution_count": 2,
     "metadata": {},
     "output_type": "execute_result"
    }
   ],
   "source": [
    "A = np.array([[15+j + 10*i for i in range(6)] for j in range(6) if j !=2])\n",
    "A"
   ]
  },
  {
   "cell_type": "markdown",
   "metadata": {},
   "source": [
    "### 1.2 Generate the matrix B and C"
   ]
  },
  {
   "cell_type": "code",
   "execution_count": 3,
   "metadata": {},
   "outputs": [
    {
     "data": {
      "text/plain": [
       "array([[15, 25, 35],\n",
       "       [16, 26, 36],\n",
       "       [18, 28, 38],\n",
       "       [19, 29, 39]])"
      ]
     },
     "execution_count": 3,
     "metadata": {},
     "output_type": "execute_result"
    }
   ],
   "source": [
    "B = A[:4, :3]\n",
    "B"
   ]
  },
  {
   "cell_type": "code",
   "execution_count": 4,
   "metadata": {},
   "outputs": [
    {
     "data": {
      "text/plain": [
       "array([[15, 25, 35, 45, 55],\n",
       "       [16, 26, 36, 46, 56],\n",
       "       [18, 28, 38, 48, 58],\n",
       "       [19, 29, 39, 49, 59]])"
      ]
     },
     "execution_count": 4,
     "metadata": {},
     "output_type": "execute_result"
    }
   ],
   "source": [
    "C = A[:4, :5]\n",
    "C"
   ]
  },
  {
   "cell_type": "markdown",
   "metadata": {},
   "source": [
    "### 1.3 Generate D"
   ]
  },
  {
   "cell_type": "code",
   "execution_count": 5,
   "metadata": {},
   "outputs": [
    {
     "data": {
      "text/plain": [
       "array([[20, 40, 60],\n",
       "       [15, 35, 55]])"
      ]
     },
     "execution_count": 5,
     "metadata": {},
     "output_type": "execute_result"
    }
   ],
   "source": [
    "D = A[[4, 0]][:, [0, 2, 4]]\n",
    "D"
   ]
  },
  {
   "cell_type": "markdown",
   "metadata": {},
   "source": [
    "### 1.4 Generate E, F and G"
   ]
  },
  {
   "cell_type": "code",
   "execution_count": 6,
   "metadata": {},
   "outputs": [
    {
     "data": {
      "text/plain": [
       "array([[10, 16, 22],\n",
       "       [28, 35, 41],\n",
       "       [47, 53, 60]])"
      ]
     },
     "execution_count": 6,
     "metadata": {},
     "output_type": "execute_result"
    }
   ],
   "source": [
    "E = np.linspace(10,60,9).reshape(3,3).astype(int)\n",
    "E"
   ]
  },
  {
   "cell_type": "code",
   "execution_count": 7,
   "metadata": {},
   "outputs": [
    {
     "data": {
      "text/plain": [
       "array([[10, 13, 17],\n",
       "       [20, 24, 27],\n",
       "       [31, 35, 38],\n",
       "       [42, 45, 49],\n",
       "       [52, 56, 60]])"
      ]
     },
     "execution_count": 7,
     "metadata": {},
     "output_type": "execute_result"
    }
   ],
   "source": [
    "F = np.linspace(10,60,15).reshape(5,3).astype(int)\n",
    "F"
   ]
  },
  {
   "cell_type": "code",
   "execution_count": 8,
   "metadata": {},
   "outputs": [
    {
     "data": {
      "text/plain": [
       "array([1, 3, 5, 7, 9])"
      ]
     },
     "execution_count": 8,
     "metadata": {},
     "output_type": "execute_result"
    }
   ],
   "source": [
    "G = np.arange(1,10,2)\n",
    "G"
   ]
  },
  {
   "cell_type": "markdown",
   "metadata": {},
   "source": [
    "### 1.5 Compute $H = BF^TC + G$"
   ]
  },
  {
   "cell_type": "code",
   "execution_count": 9,
   "metadata": {},
   "outputs": [
    {
     "ename": "ValueError",
     "evalue": "matmul: Input operand 1 has a mismatch in its core dimension 0, with gufunc signature (n?,k),(k,m?)->(n?,m?) (size 4 is different from 5)",
     "output_type": "error",
     "traceback": [
      "\u001b[1;31m---------------------------------------------------------------------------\u001b[0m",
      "\u001b[1;31mValueError\u001b[0m                                Traceback (most recent call last)",
      "Cell \u001b[1;32mIn[9], line 1\u001b[0m\n\u001b[1;32m----> 1\u001b[0m H \u001b[38;5;241m=\u001b[39m (\u001b[43mB\u001b[49m\u001b[38;5;129;43m@F\u001b[39;49m\u001b[38;5;241;43m.\u001b[39;49m\u001b[43mT\u001b[49m\u001b[38;5;129;43m@C\u001b[39;49m) \u001b[38;5;241m+\u001b[39m G\n\u001b[0;32m      2\u001b[0m H\n",
      "\u001b[1;31mValueError\u001b[0m: matmul: Input operand 1 has a mismatch in its core dimension 0, with gufunc signature (n?,k),(k,m?)->(n?,m?) (size 4 is different from 5)"
     ]
    }
   ],
   "source": [
    "H = (B@F.T@C) + G\n",
    "H"
   ]
  },
  {
   "cell_type": "markdown",
   "metadata": {},
   "source": [
    "This matrix multiplication is not possible since the dimensions of (B@F.T) and C do not match. Neither is broadcasting possible."
   ]
  },
  {
   "cell_type": "markdown",
   "metadata": {},
   "source": [
    "### 1.6 Rounding the entires of H\n",
    "\n",
    "This is not possible to compute either since it depends on the previous problem."
   ]
  },
  {
   "cell_type": "markdown",
   "metadata": {},
   "source": [
    "### 1.7 Finding inverse, eigenvalues and eigenvectors"
   ]
  },
  {
   "cell_type": "code",
   "execution_count": 10,
   "metadata": {},
   "outputs": [
    {
     "name": "stdout",
     "output_type": "stream",
     "text": [
      "Inverse of E is : \n",
      " [[ 0.228125 -0.64375   0.35625 ]\n",
      " [-0.771875  1.35625  -0.64375 ]\n",
      " [ 0.503125 -0.69375   0.30625 ]]\n"
     ]
    }
   ],
   "source": [
    "E_inv = np.linalg.inv(E)\n",
    "print('Inverse of E is : \\n', E_inv)"
   ]
  },
  {
   "cell_type": "code",
   "execution_count": 11,
   "metadata": {},
   "outputs": [
    {
     "name": "stdout",
     "output_type": "stream",
     "text": [
      "The eigenvalues of E are : [110.45129675  -5.93911436   0.48781761]\n",
      "The eigenvectors of E are \n",
      ": [[-0.26117003 -0.76196737  0.37441534]\n",
      " [-0.53391558 -0.11680098 -0.81940245]\n",
      " [-0.80419175  0.63699549  0.43404237]]\n"
     ]
    }
   ],
   "source": [
    "eig_val_E = np.linalg.eig(E).eigenvalues\n",
    "eig_vec_E = np.linalg.eig(E).eigenvectors\n",
    "\n",
    "print(f'The eigenvalues of E are : {eig_val_E}')\n",
    "print(f'The eigenvectors of E are \\n: {eig_vec_E}')"
   ]
  },
  {
   "cell_type": "markdown",
   "metadata": {},
   "source": [
    "### 1.8 To find out $(ED^T)^T F^T$"
   ]
  },
  {
   "cell_type": "code",
   "execution_count": 15,
   "metadata": {},
   "outputs": [
    {
     "name": "stdout",
     "output_type": "stream",
     "text": [
      "Sum of row 1 is 2371520\n",
      "Sum of row 2 is 2091560\n",
      "Sum of column 1 is 361800\n",
      "Sum of column 2 is 619320\n",
      "Sum of column 3 is 893440\n",
      "Sum of column 4 is 1159240\n",
      "Sum of column 5 is 1429280\n"
     ]
    },
    {
     "name": "stderr",
     "output_type": "stream",
     "text": [
      "C:\\Users\\Mahaprasad\\AppData\\Local\\Temp\\ipykernel_14996\\1123424708.py:19: RuntimeWarning: overflow encountered in scalar multiply\n",
      "  prod *= j\n"
     ]
    }
   ],
   "source": [
    "result = ((E@D.T).T)@F.T\n",
    "\n",
    "#row-wise sum\n",
    "row_wise = np.sum(result, axis = 1)\n",
    "\n",
    "for i,j in enumerate(row_wise,1):\n",
    "    print(f\"Sum of row {i} is {j}\")\n",
    "\n",
    "# #column-wise sum\n",
    "col_wise = np.sum(result, axis = 0)\n",
    "\n",
    "for i,j in enumerate(col_wise,1):\n",
    "    print(f\"Sum of column {i} is {j}\")\n",
    "\n",
    "#product of elements of the matrix\n",
    "prod = 1\n",
    "for i in result:\n",
    "    for j in i:\n",
    "        prod *= j"
   ]
  },
  {
   "cell_type": "markdown",
   "metadata": {},
   "source": [
    "### 1.9 Is E@F possible? by broadcasting?"
   ]
  },
  {
   "cell_type": "code",
   "execution_count": 12,
   "metadata": {},
   "outputs": [
    {
     "name": "stdout",
     "output_type": "stream",
     "text": [
      "Shape of E is: (3, 3)\n",
      "Shape of F is: (5, 3)\n"
     ]
    }
   ],
   "source": [
    "print(f\"Shape of E is: {E.shape}\")\n",
    "print(f\"Shape of F is: {F.shape}\")"
   ]
  },
  {
   "cell_type": "code",
   "execution_count": 50,
   "metadata": {},
   "outputs": [
    {
     "ename": "ValueError",
     "evalue": "matmul: Input operand 1 has a mismatch in its core dimension 0, with gufunc signature (n?,k),(k,m?)->(n?,m?) (size 5 is different from 3)",
     "output_type": "error",
     "traceback": [
      "\u001b[1;31m---------------------------------------------------------------------------\u001b[0m",
      "\u001b[1;31mValueError\u001b[0m                                Traceback (most recent call last)",
      "Cell \u001b[1;32mIn[50], line 1\u001b[0m\n\u001b[1;32m----> 1\u001b[0m \u001b[43mE\u001b[49m\u001b[38;5;129;43m@F\u001b[39;49m\n",
      "\u001b[1;31mValueError\u001b[0m: matmul: Input operand 1 has a mismatch in its core dimension 0, with gufunc signature (n?,k),(k,m?)->(n?,m?) (size 5 is different from 3)"
     ]
    }
   ],
   "source": [
    "E@F"
   ]
  },
  {
   "cell_type": "markdown",
   "metadata": {},
   "source": [
    "No they are not broadcastable because the dimensions don't match and it is not possible to replicate any of the columns/ rows."
   ]
  },
  {
   "cell_type": "markdown",
   "metadata": {},
   "source": [
    "### 1.10 Generate a matrix of 4x3x5x3 by reshaping C,E,F"
   ]
  },
  {
   "cell_type": "code",
   "execution_count": 14,
   "metadata": {},
   "outputs": [
    {
     "name": "stdout",
     "output_type": "stream",
     "text": [
      "Shape of the result:  (4, 3, 5, 3)\n"
     ]
    }
   ],
   "source": [
    "C_reshaped = C.reshape(4,1,5,1)\n",
    "E_reshaped = E.reshape(1,3,1,3)\n",
    "F_reshaped = F.reshape(1,1,5,3)\n",
    "\n",
    "result = C_reshaped + E_reshaped + F_reshaped\n",
    "print(\"Shape of the result: \", result.shape)"
   ]
  },
  {
   "cell_type": "markdown",
   "metadata": {},
   "source": [
    "## Exercise 2"
   ]
  },
  {
   "cell_type": "code",
   "execution_count": 15,
   "metadata": {},
   "outputs": [],
   "source": [
    "x = np.arange(11)\n",
    "f = np.sqrt((np.exp(x) + np.sinh(x))*(x/3))\n",
    "g = (0.5*x)/(2 + np.cosh(x))"
   ]
  },
  {
   "cell_type": "code",
   "execution_count": 22,
   "metadata": {},
   "outputs": [
    {
     "data": {
      "image/png": "[encoded data removed]",
      "text/plain": [
       "<Figure size 1000x600 with 1 Axes>"
      ]
     },
     "metadata": {},
     "output_type": "display_data"
    }
   ],
   "source": [
    "plt.figure(figsize=(10, 6))\n",
    "plt.plot(x, f, color='blue', linestyle='solid', linewidth=2, label='f(x)')\n",
    "plt.plot(x, g, color='red', linestyle='dashed', linewidth=2, label='g(x)')\n",
    "\n",
    "plt.xlabel('x')\n",
    "plt.ylabel('y')\n",
    "plt.title('Curves of f(x) and g(x)')\n",
    "\n",
    "plt.legend()\n",
    "plt.show()"
   ]
  },
  {
   "cell_type": "markdown",
   "metadata": {},
   "source": [
    "## Exercise 3"
   ]
  },
  {
   "cell_type": "code",
   "execution_count": 24,
   "metadata": {},
   "outputs": [],
   "source": [
    "student_ids = ['S1', 'S2', 'S3', 'S4', 'S5', 'S6', 'S7', 'S8', 'S9', 'S10']\n",
    "marks_maths = [88, 92, 80, 89, 100, 80, 60, 100, 80, 34]\n",
    "marks_physics = [35, 79, 79, 48, 100, 88, 32, 45, 20, 30]"
   ]
  },
  {
   "cell_type": "code",
   "execution_count": 26,
   "metadata": {},
   "outputs": [
    {
     "data": {
      "image/png": "[encoded data removed]",
      "text/plain": [
       "<Figure size 1200x500 with 1 Axes>"
      ]
     },
     "metadata": {},
     "output_type": "display_data"
    }
   ],
   "source": [
    "plt.figure(figsize=(12, 5))\n",
    "plt.subplot(1, 2, 1)\n",
    "plt.scatter(student_ids, marks_maths, label='Maths', color='blue')\n",
    "plt.scatter(student_ids, marks_physics, label='Physics', color='red')\n",
    "plt.xlabel('Student ID')\n",
    "plt.ylabel('Marks in Maths & Physics')\n",
    "plt.title('Comparison of Marks in Maths and Physics Subjects (Scatter Plot)')\n",
    "plt.legend()\n",
    "plt.show()"
   ]
  },
  {
   "cell_type": "code",
   "execution_count": 43,
   "metadata": {},
   "outputs": [
    {
     "data": {
      "image/png": "[encoded data removed]",
      "text/plain": [
       "<Figure size 640x480 with 1 Axes>"
      ]
     },
     "metadata": {},
     "output_type": "display_data"
    }
   ],
   "source": [
    "x = np.arange(len(student_ids))\n",
    "plt.bar(x - 0.2, marks_maths,0.4,label='Maths', color='blue')\n",
    "plt.bar(x + 0.2, marks_physics,0.4,label='Physics', color='red')\n",
    "plt.xlabel('Student ID')\n",
    "plt.ylabel('Marks in Maths & Physics')\n",
    "plt.title('Comparison of Marks in Maths and Physics Subjects')\n",
    "plt.xticks(x, student_ids)\n",
    "plt.legend()\n",
    "plt.show()"
   ]
  },
  {
   "cell_type": "code",
   "execution_count": null,
   "metadata": {},
   "outputs": [],
   "source": []
  }
 ],
 "metadata": {
  "kernelspec": {
   "display_name": "venv",
   "language": "python",
   "name": "python3"
  },
  "language_info": {
   "codemirror_mode": {
    "name": "ipython",
    "version": 3
   },
   "file_extension": ".py",
   "mimetype": "text/x-python",
   "name": "python",
   "nbconvert_exporter": "python",
   "pygments_lexer": "ipython3",
   "version": "3.10.7"
  }
 },
 "nbformat": 4,
 "nbformat_minor": 2
}
