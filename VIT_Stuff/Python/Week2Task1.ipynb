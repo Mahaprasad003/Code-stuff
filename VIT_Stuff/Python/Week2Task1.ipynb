{
 "cells": [
  {
   "cell_type": "markdown",
   "metadata": {},
   "source": [
    "# Week 2 - Task 1 | GroundZero AI\n",
    "\n",
    "\n",
    "---\n",
    "\n"
   ]
  },
  {
   "cell_type": "markdown",
   "metadata": {},
   "source": [
    "### Import the necessary libraries\n",
    "Let's first import all the libraries we are going to use in this task."
   ]
  },
  {
   "cell_type": "code",
   "execution_count": 1,
   "metadata": {},
   "outputs": [],
   "source": [
    "import numpy as np\n",
    "import matplotlib.pyplot as plt"
   ]
  },
  {
   "cell_type": "code",
   "execution_count": 2,
   "metadata": {},
   "outputs": [],
   "source": [
    "X = np.array([7, 8, 10, 12, 15, 18, 21, 24, 27])\n",
    "y = np.array([9, 10, 12, 13, 16, 20, 30, 25, 29])"
   ]
  },
  {
   "cell_type": "markdown",
   "metadata": {},
   "source": [
    "## First Method\n",
    "\n",
    "- Directly finding the most optimal values for parameters using the Ordinary least Square method(discuss in video)"
   ]
  },
  {
   "cell_type": "markdown",
   "metadata": {},
   "source": [
    "The parametric equation:\n",
    "\n",
    "\n",
    "$$\\hat{y} = m x + c$$\n",
    "\n"
   ]
  },
  {
   "cell_type": "markdown",
   "metadata": {},
   "source": [
    "m and c will be given by: \n",
    "\n",
    "$$m = \\frac{\\sum (X_i - \\bar{X})(y_i - \\bar{y})}{\\sum (X_i - \\bar{X})^2}$$\n",
    "\n",
    "$$c = \\bar{y} - m \\bar{X}$$\n",
    "\n",
    "\n",
    "***Note:*** These values will be the most optimal values for m and c which will give the best fit line"
   ]
  },
  {
   "cell_type": "code",
   "execution_count": null,
   "metadata": {},
   "outputs": [],
   "source": [
    "x_mean = np.mean(X)\n",
    "y_mean = np.mean(y)\n",
    "\n",
    "m = #INPUT - Write code here\n",
    "c = # INPUT - Write code here"
   ]
  },
  {
   "cell_type": "code",
   "execution_count": 5,
   "metadata": {},
   "outputs": [],
   "source": [
    "# predicting the values\n",
    "y_hat = #INPUT - Write code here"
   ]
  },
  {
   "cell_type": "markdown",
   "metadata": {},
   "source": [
    "#### Mean Square Loss(MSE): \n",
    "\n",
    "$$\\text{MSE} = \\frac{1}{n} \\sum_{i=1}^{n} (y_i - \\hat{y}_i)^2$$\n",
    "\n"
   ]
  },
  {
   "cell_type": "code",
   "execution_count": 6,
   "metadata": {},
   "outputs": [],
   "source": [
    "mse = # INPUT"
   ]
  },
  {
   "cell_type": "code",
   "execution_count": null,
   "metadata": {},
   "outputs": [],
   "source": [
    "print(f'MSE: {mse}')\n",
    "print(f'Slope(m): {m}')\n",
    "print(f'Intercept(c): {c}')"
   ]
  },
  {
   "cell_type": "markdown",
   "metadata": {},
   "source": [
    "## Second Method: Machine learning approach"
   ]
  },
  {
   "cell_type": "markdown",
   "metadata": {},
   "source": [
    "Linear Regression equation is: $\\hat{y} = \\sum_{i=1}^{n} W_i x_i + b$ where W(weights) and b(bias) are parameters of x\n",
    "\n",
    "\n",
    "i.e      $$\\hat{y} = W_1 x_1 + W_2 x_2 + W_3 x_3......+W_n x_n  + b$$\n",
    "\n",
    "\n",
    "Since, we have only one feature X, so we will use only one W. Bias b cannot have multiple values.\n",
    "So, equation will be: y_prediction = $\\hat{y} = W x + b$"
   ]
  },
  {
   "cell_type": "code",
   "execution_count": 8,
   "metadata": {},
   "outputs": [],
   "source": [
    "np.random.seed(42)\n",
    "w = np.random.rand() # initialize the weights w randomly(small values)\n",
    "b = np.random.rand() # initialize the bias b randomly(small values)"
   ]
  },
  {
   "cell_type": "markdown",
   "metadata": {},
   "source": [
    "**Terminologies:**\n",
    "- Learning rate: A hyperparameters(means user decide it) which determines how much the parameters should be updated. Its values should be in decimals\n"
   ]
  },
  {
   "cell_type": "markdown",
   "metadata": {},
   "source": [
    "**Process:**\n",
    "1. Computing the gradients of the loss function (MSE) with respect to w and b.\n",
    "2. Updating w and  b using the gradients.\n",
    "3. Repeating the process for several epochs until the loss is minimize."
   ]
  },
  {
   "cell_type": "markdown",
   "metadata": {},
   "source": [
    "***Step 1:*** Compute the Loss gradient with w and b\n",
    "$$\\frac{\\partial L}{\\partial w} = Calcuate$$\n",
    "$$\\frac{\\partial L}{\\partial c} = - \\frac{1}{n} \\sum (y - \\hat{y} \\cdot 2)$$\n",
    "\n",
    "***Step 2:*** Update the w and b using gradients\n",
    "\n",
    "\n",
    "w = w - learning_rate*$\\frac{\\partial L}{\\partial w}$\n",
    "\n",
    "\n",
    "b = b - learning_rate*$\\frac{\\partial L}{\\partial c}$\n"
   ]
  },
  {
   "cell_type": "markdown",
   "metadata": {},
   "source": [
    "***Step 3:*** Calculate the Loss using update w and b"
   ]
  },
  {
   "cell_type": "code",
   "execution_count": null,
   "metadata": {},
   "outputs": [],
   "source": [
    "loss_history = []\n",
    "loss = 0\n",
    "\n",
    "epochs = 50\n",
    "learning_rate = 0.001   # INPUT - value for learning rate. Try to play with diffenect values and see how it affect the loss\n",
    "\n",
    "for epoch in range(epochs):\n",
    "    # Compute predictions \n",
    "    y_pred = w * X + b\n",
    "\n",
    "    # Compute the gradients\n",
    "    w_grad = # INPUT - calculate it first\n",
    "    b_grad = # INPUT\n",
    "\n",
    "    # Update the parameters\n",
    "    w = w - learning_rate * w_grad\n",
    "    w = w - learning_rate * b_grad\n",
    "\n",
    "    # Compute the Mean Squared Error (MSE)\n",
    "    loss = # INPUT\n",
    "    loss_history.append(loss)\n",
    "    loss = loss\n",
    "\n",
    "    # Print progress every 10 epochs\n",
    "    if epoch % 10 == 0:\n",
    "        print(f'Epoch {epoch} | Loss: {loss:.3f} | m: {w:.3f} | c: {b:.3f}')"
   ]
  },
  {
   "cell_type": "code",
   "execution_count": 10,
   "metadata": {},
   "outputs": [],
   "source": [
    "y_prediction = w*X + b"
   ]
  },
  {
   "cell_type": "code",
   "execution_count": null,
   "metadata": {},
   "outputs": [],
   "source": [
    "y_prediction"
   ]
  },
  {
   "cell_type": "code",
   "execution_count": 12,
   "metadata": {},
   "outputs": [],
   "source": [
    "epo = range(0, epochs)"
   ]
  },
  {
   "cell_type": "code",
   "execution_count": null,
   "metadata": {},
   "outputs": [],
   "source": [
    "plt.plot(epo, loss_history)\n",
    "plt.xlabel('epoch')\n",
    "plt.ylabel('loss')"
   ]
  },
  {
   "cell_type": "code",
   "execution_count": null,
   "metadata": {},
   "outputs": [],
   "source": [
    "plt.scatter(X, y)\n",
    "plt.plot(X, y_hat, color='green')\n",
    "plt.plot(X, y_pred, color='red')"
   ]
  },
  {
   "cell_type": "code",
   "execution_count": null,
   "metadata": {},
   "outputs": [],
   "source": [
    "# Check the values of parameters and loss you get by both methods\n",
    "\n",
    "print(f'First method parameters: ')\n",
    "print(f'Loss: {mse} | Weight: {m} | Bias: {c}')\n",
    "\n",
    "print(f'Second method parameters: ')\n",
    "print(f'Loss: {loss} | Weight: {w} | Bias: {b}')"
   ]
  },
  {
   "cell_type": "markdown",
   "metadata": {},
   "source": [
    "`The results of both the methods should be similar.`"
   ]
  }
 ],
 "metadata": {
  "kernelspec": {
   "display_name": ".mlenv",
   "language": "python",
   "name": "python3"
  },
  "language_info": {
   "codemirror_mode": {
    "name": "ipython",
    "version": 3
   },
   "file_extension": ".py",
   "mimetype": "text/x-python",
   "name": "python",
   "nbconvert_exporter": "python",
   "pygments_lexer": "ipython3",
   "version": "3.10.12"
  }
 },
 "nbformat": 4,
 "nbformat_minor": 2
}
