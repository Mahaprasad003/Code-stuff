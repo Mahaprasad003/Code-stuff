{
 "cells": [
  {
   "cell_type": "markdown",
   "metadata": {},
   "source": [
    "### Name: Mahaprasad Mohanty\n",
    "### Roll num: 24MDT0061"
   ]
  },
  {
   "cell_type": "markdown",
   "metadata": {},
   "source": [
    "### 1. Write a function ConvertToArray(str) where input is string of numbers separated by commas and colons. Returns array of numbers"
   ]
  },
  {
   "cell_type": "code",
   "execution_count": 8,
   "metadata": {},
   "outputs": [
    {
     "data": {
      "text/plain": [
       "[[1.0, 2.0, 3.0], [4.0, 5.0, 6.0], [7.0, 8.0, 9.0]]"
      ]
     },
     "execution_count": 8,
     "metadata": {},
     "output_type": "execute_result"
    }
   ],
   "source": [
    "def ConvertToArray(num_list):\n",
    "    if ';' in num_list:\n",
    "        return [list(map(float, x.split(\",\"))) for x in num_list.split(\";\")]\n",
    "    else:\n",
    "        return list(map(float, num_list.split(\",\")))\n",
    "\n",
    "ConvertToArray(\"1,2,3;4,5,6;7,8,9\")"
   ]
  },
  {
   "cell_type": "code",
   "execution_count": 9,
   "metadata": {},
   "outputs": [
    {
     "data": {
      "text/plain": [
       "[[1.1, 2.0, 3.0], [4.0, 5.55, 6.0], [7.0, 8.0, 9.09]]"
      ]
     },
     "execution_count": 9,
     "metadata": {},
     "output_type": "execute_result"
    }
   ],
   "source": [
    "ConvertToArray('1.1,2,3;4,5.55,6;7,8,9.09')"
   ]
  },
  {
   "cell_type": "markdown",
   "metadata": {},
   "source": [
    "### 2. Function named ArraySize(array) accepts a list of numbers are returns the number of rows and columns."
   ]
  },
  {
   "cell_type": "code",
   "execution_count": 10,
   "metadata": {},
   "outputs": [],
   "source": [
    "def ArraySize(matrix):\n",
    "    if type(matrix[0]) != list:\n",
    "        return (1, len(matrix))\n",
    "    else:\n",
    "        rows = len(matrix)\n",
    "        columns = len(matrix[0])\n",
    "        return (rows, columns)"
   ]
  },
  {
   "cell_type": "markdown",
   "metadata": {},
   "source": [
    "### 3. Function named NonZeroEntries(array) takes input an arary and returns true if all elements are non-zero otherwise False."
   ]
  },
  {
   "cell_type": "markdown",
   "metadata": {},
   "source": [
    "#### using list comprehension, map, any"
   ]
  },
  {
   "cell_type": "code",
   "execution_count": 38,
   "metadata": {},
   "outputs": [],
   "source": [
    "def NonZeroEntries(array):\n",
    "    temp = any(map(lambda sublist: any(map(lambda x: x == 0, sublist)), array))\n",
    "    if temp == True:\n",
    "        return False\n",
    "    else:\n",
    "        return True"
   ]
  },
  {
   "cell_type": "markdown",
   "metadata": {},
   "source": [
    "### 4. Function named ArrayOperations(array1, array2, Operation) where operation is add, subtract, dotproduct and dotdivide."
   ]
  },
  {
   "cell_type": "code",
   "execution_count": 58,
   "metadata": {},
   "outputs": [],
   "source": [
    "def ArrayOperations(array1, array2, operator):\n",
    "    if ArraySize(array1) != ArraySize(array2):\n",
    "        return \"ERROR\"\n",
    "    else:\n",
    "        if operator == \"+\":\n",
    "            return [[array1[i][j] + array2[i][j] for j in range(len(array1[0]))] for i in range(len(array1))]\n",
    "        elif operator == \"-\":\n",
    "            return [[array1[i][j] - array2[i][j] for j in range(len(array1[0]))] for i in range(len(array1))]\n",
    "        elif operator == \"*\":\n",
    "            return [[array1[i][j] * array2[i][j] for j in range(len(array1[0]))] for i in range(len(array1))]\n",
    "        elif operator == \"/\":\n",
    "            if NonZeroEntries(array1) == True and NonZeroEntries(array2) == True:\n",
    "                return [[array1[i][j] / array2[i][j] for j in range(len(array1[0]))] for i in range(len(array1))]\n",
    "            else:\n",
    "                return \"Element-wise Division is not possible as at least one of the entries in the Array-2 is Zero\""
   ]
  },
  {
   "cell_type": "code",
   "execution_count": 59,
   "metadata": {},
   "outputs": [
    {
     "name": "stdout",
     "output_type": "stream",
     "text": [
      "Sum of 2 matrices is:  [[2, 4, 6], [8, 10, 12], [14, 16, 18]]\n",
      "Difference of 2 matrices is:  [[0, 0, 0], [0, 0, 0], [0, 0, 0]]\n",
      "Product of 2 matrices is:  [[1, 4, 9], [16, 25, 36], [49, 64, 81]]\n",
      "Division of 2 matrices is:  [[1.0, 1.0, 1.0], [1.0, 1.0, 1.0], [1.0, 1.0, 1.0]]\n"
     ]
    }
   ],
   "source": [
    "arr1 = [[1,2,3],[4,5,6],[7,8,9]]\n",
    "arr2 = [[1,2,3],[4,5,6],[7,8,9]]\n",
    "\n",
    "print(\"Sum of 2 matrices is: \", ArrayOperations(arr1, arr2, \"+\"))\n",
    "\n",
    "print(\"Difference of 2 matrices is: \", ArrayOperations(arr1, arr2, \"-\"))\n",
    "\n",
    "print(\"Product of 2 matrices is: \", ArrayOperations(arr1, arr2, \"*\"))\n",
    "\n",
    "print(\"Division of 2 matrices is: \", ArrayOperations(arr1, arr2, \"/\"))\n"
   ]
  },
  {
   "cell_type": "markdown",
   "metadata": {},
   "source": [
    "### 5. For variable number of matrices"
   ]
  },
  {
   "cell_type": "code",
   "execution_count": 60,
   "metadata": {},
   "outputs": [],
   "source": [
    "def VarArrayOperations(*args, operator):\n",
    "    if len(args) < 2:\n",
    "        return \"ERROR: At least two arrays are required\"\n",
    "    \n",
    "    if not all(ArraySize(arr) == ArraySize(args[0]) for arr in args):\n",
    "        return \"ERROR: All arrays must have the same size\"\n",
    "    \n",
    "    result = args[0]\n",
    "    for arr in args[1:]:\n",
    "        if operator == \"+\":\n",
    "            result = [[result[i][j] + arr[i][j] for j in range(len(result[0]))] for i in range(len(result))]\n",
    "        elif operator == \"-\":\n",
    "            result = [[result[i][j] - arr[i][j] for j in range(len(result[0]))] for i in range(len(result))]\n",
    "        elif operator == \"*\":\n",
    "            result = [[result[i][j] * arr[i][j] for j in range(len(result[0]))] for i in range(len(result))]\n",
    "        elif operator == \"/\":\n",
    "            if not NonZeroEntries(arr):\n",
    "                return \"Element-wise Division is not possible as at least one of the entries in an array is Zero\"\n",
    "            result = [[result[i][j] / arr[i][j] for j in range(len(result[0]))] for i in range(len(result))]\n",
    "        else:\n",
    "            return \"ERROR: Invalid operator\"\n",
    "    \n",
    "    return result"
   ]
  },
  {
   "cell_type": "code",
   "execution_count": 65,
   "metadata": {},
   "outputs": [
    {
     "name": "stdout",
     "output_type": "stream",
     "text": [
      "Sum of 3 matrices is:  [[3, 6, 9], [12, 15, 18], [21, 24, 27]]\n",
      "Difference of 3 matrices is:  [[-1, -2, -3], [-4, -5, -6], [-7, -8, -9]]\n",
      "Product of 3 matrices is:  [[1, 8, 27], [64, 125, 216], [343, 512, 729]]\n",
      "Division of 3 matrices is:  [[1.0, 0.5, 0.3333333333333333], [0.25, 0.2, 0.16666666666666666], [0.14285714285714285, 0.125, 0.1111111111111111]]\n"
     ]
    }
   ],
   "source": [
    "arr1 = [[1,2,3],[4,5,6],[7,8,9]]\n",
    "arr2 = [[1,2,3],[4,5,6],[7,8,9]]\n",
    "arr3 = [[1,2,3],[4,5,6],[7,8,9]]\n",
    "\n",
    "print(\"Sum of 3 matrices is: \", VarArrayOperations(arr1, arr2, arr3, operator=\"+\"))\n",
    "print(\"Difference of 3 matrices is: \", VarArrayOperations(arr1, arr2, arr3, operator=\"-\"))\n",
    "print(\"Product of 3 matrices is: \", VarArrayOperations(arr1, arr2, arr3, operator=\"*\"))\n",
    "print(\"Division of 3 matrices is: \", VarArrayOperations(arr1, arr2, arr3, operator=\"/\"))\n"
   ]
  },
  {
   "cell_type": "code",
   "execution_count": null,
   "metadata": {},
   "outputs": [],
   "source": []
  }
 ],
 "metadata": {
  "kernelspec": {
   "display_name": "venv",
   "language": "python",
   "name": "python3"
  },
  "language_info": {
   "codemirror_mode": {
    "name": "ipython",
    "version": 3
   },
   "file_extension": ".py",
   "mimetype": "text/x-python",
   "name": "python",
   "nbconvert_exporter": "python",
   "pygments_lexer": "ipython3",
   "version": "3.10.7"
  }
 },
 "nbformat": 4,
 "nbformat_minor": 2
}
