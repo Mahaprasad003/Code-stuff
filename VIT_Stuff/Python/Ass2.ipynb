{
 "cells": [
  {
   "cell_type": "markdown",
   "metadata": {},
   "source": [
    "## 1. Generating prime numbers upto a number"
   ]
  },
  {
   "cell_type": "markdown",
   "metadata": {},
   "source": [
    "## 1.1 Without using list comprehension"
   ]
  },
  {
   "cell_type": "code",
   "execution_count": 1,
   "metadata": {},
   "outputs": [
    {
     "name": "stdout",
     "output_type": "stream",
     "text": [
      "1\n",
      "2\n",
      "3\n",
      "5\n",
      "7\n"
     ]
    }
   ],
   "source": [
    "user_input = int(input(\"Enter a number: \"))\n",
    "\n",
    "for j in range(1, user_input):\n",
    "    count=0\n",
    "    # print(j)\n",
    "    for i in range(1, user_input+1):\n",
    "        if j % i == 0:\n",
    "            count+=1\n",
    "    if count <= 2:\n",
    "        print(j)"
   ]
  },
  {
   "cell_type": "markdown",
   "metadata": {},
   "source": [
    "## 1.2 Using List comprehension"
   ]
  },
  {
   "cell_type": "code",
   "execution_count": 3,
   "metadata": {},
   "outputs": [
    {
     "data": {
      "text/plain": [
       "[2, 3, 5, 7, 11, 13, 17, 19, 23, 29, 31, 37, 41, 43, 47]"
      ]
     },
     "execution_count": 3,
     "metadata": {},
     "output_type": "execute_result"
    }
   ],
   "source": [
    "L = [x for x in range(2,51) if all(x%y != 0 for y in range(2,x//2+1))]\n",
    "L"
   ]
  },
  {
   "cell_type": "markdown",
   "metadata": {},
   "source": [
    "# 2. Transpose of a given matrix"
   ]
  },
  {
   "cell_type": "markdown",
   "metadata": {},
   "source": [
    "## 2.1 without list comprehension"
   ]
  },
  {
   "cell_type": "code",
   "execution_count": 4,
   "metadata": {},
   "outputs": [],
   "source": [
    "A = [[1,2,3],[4,5,6]]\n",
    "A_T = []\n",
    "\n",
    "for i in range(len(A[0])):\n",
    "    new_row=[]\n",
    "    for row in A:\n",
    "        new_row.append(row[i])\n",
    "    A_T.append(new_row)"
   ]
  },
  {
   "cell_type": "code",
   "execution_count": 5,
   "metadata": {},
   "outputs": [
    {
     "data": {
      "text/plain": [
       "[[1, 4], [2, 5], [3, 6]]"
      ]
     },
     "execution_count": 5,
     "metadata": {},
     "output_type": "execute_result"
    }
   ],
   "source": [
    "A_T"
   ]
  },
  {
   "cell_type": "markdown",
   "metadata": {},
   "source": [
    "## 2.2 Using list comprehension"
   ]
  },
  {
   "cell_type": "code",
   "execution_count": 6,
   "metadata": {},
   "outputs": [
    {
     "data": {
      "text/plain": [
       "[[1, 4], [2, 5], [3, 6]]"
      ]
     },
     "execution_count": 6,
     "metadata": {},
     "output_type": "execute_result"
    }
   ],
   "source": [
    "X = [[row[i] for row in A] for i in range(len(A[0]))]\n",
    "X"
   ]
  },
  {
   "cell_type": "markdown",
   "metadata": {},
   "source": [
    "# 3. Dictionary comprehension"
   ]
  },
  {
   "cell_type": "code",
   "execution_count": 7,
   "metadata": {},
   "outputs": [],
   "source": [
    "L = [1, 2, 2, 1, 4, 2, 3, 3]\n",
    "\n",
    "k = {L[i]: L.count(L[i]) for i in  L}"
   ]
  },
  {
   "cell_type": "code",
   "execution_count": 8,
   "metadata": {},
   "outputs": [
    {
     "data": {
      "text/plain": [
       "{2: 3, 4: 1, 1: 2}"
      ]
     },
     "execution_count": 8,
     "metadata": {},
     "output_type": "execute_result"
    }
   ],
   "source": [
    "k"
   ]
  },
  {
   "cell_type": "markdown",
   "metadata": {},
   "source": [
    "# 4. Pythagorean triplet"
   ]
  },
  {
   "cell_type": "markdown",
   "metadata": {},
   "source": [
    "## 4.1 without list comprehension"
   ]
  },
  {
   "cell_type": "code",
   "execution_count": 11,
   "metadata": {},
   "outputs": [],
   "source": [
    "limit = 100\n",
    "triplets = []\n",
    "\n",
    "for c in range(1, limit):\n",
    "    for b in range(1, limit):\n",
    "        for a in range(1, limit):\n",
    "            if a**2 + b**2 == c**2:\n",
    "                triplets.append([a,b,c])"
   ]
  },
  {
   "cell_type": "code",
   "execution_count": 13,
   "metadata": {},
   "outputs": [
    {
     "name": "stdout",
     "output_type": "stream",
     "text": [
      "[[4, 3, 5], [3, 4, 5], [8, 6, 10], [6, 8, 10], [12, 5, 13], [5, 12, 13], [12, 9, 15], [9, 12, 15], [15, 8, 17], [8, 15, 17], [16, 12, 20], [12, 16, 20], [24, 7, 25], [20, 15, 25], [15, 20, 25], [7, 24, 25], [24, 10, 26], [10, 24, 26], [21, 20, 29], [20, 21, 29], [24, 18, 30], [18, 24, 30], [30, 16, 34], [16, 30, 34], [28, 21, 35], [21, 28, 35], [35, 12, 37], [12, 35, 37], [36, 15, 39], [15, 36, 39], [32, 24, 40], [24, 32, 40], [40, 9, 41], [9, 40, 41], [36, 27, 45], [27, 36, 45], [48, 14, 50], [40, 30, 50], [30, 40, 50], [14, 48, 50], [45, 24, 51], [24, 45, 51], [48, 20, 52], [20, 48, 52], [45, 28, 53], [28, 45, 53], [44, 33, 55], [33, 44, 55], [42, 40, 58], [40, 42, 58], [48, 36, 60], [36, 48, 60], [60, 11, 61], [11, 60, 61], [63, 16, 65], [60, 25, 65], [56, 33, 65], [52, 39, 65], [39, 52, 65], [33, 56, 65], [25, 60, 65], [16, 63, 65], [60, 32, 68], [32, 60, 68], [56, 42, 70], [42, 56, 70], [55, 48, 73], [48, 55, 73], [70, 24, 74], [24, 70, 74], [72, 21, 75], [60, 45, 75], [45, 60, 75], [21, 72, 75], [72, 30, 78], [30, 72, 78], [64, 48, 80], [48, 64, 80], [80, 18, 82], [18, 80, 82], [84, 13, 85], [77, 36, 85], [75, 40, 85], [68, 51, 85], [51, 68, 85], [40, 75, 85], [36, 77, 85], [13, 84, 85], [63, 60, 87], [60, 63, 87], [80, 39, 89], [39, 80, 89], [72, 54, 90], [54, 72, 90], [84, 35, 91], [35, 84, 91], [76, 57, 95], [57, 76, 95], [72, 65, 97], [65, 72, 97]]\n"
     ]
    }
   ],
   "source": [
    "print(triplets)"
   ]
  },
  {
   "cell_type": "markdown",
   "metadata": {},
   "source": [
    "## 4.2 with list comprehension"
   ]
  },
  {
   "cell_type": "code",
   "execution_count": 14,
   "metadata": {},
   "outputs": [],
   "source": [
    "limit = 100\n",
    "\n",
    "triplets = [(a,b,c) for c in range(1, limit) for b in range(1,limit) for a in range(1, limit) if a**2 + b**2 == c**2]"
   ]
  },
  {
   "cell_type": "markdown",
   "metadata": {},
   "source": [
    "# 5. Cumulative Sums"
   ]
  },
  {
   "cell_type": "markdown",
   "metadata": {},
   "source": [
    "## 5.1 Without list comprehension"
   ]
  },
  {
   "cell_type": "code",
   "execution_count": 16,
   "metadata": {},
   "outputs": [
    {
     "name": "stdout",
     "output_type": "stream",
     "text": [
      "[1, 3, 6, 10, 15, 21, 28, 36, 45]\n",
      "[1, 2, 6, 24, 120, 720, 5040, 40320, 362880]\n"
     ]
    }
   ],
   "source": [
    "L = [1, 2, 3, 4, 5, 6, 7, 8, 9]\n",
    "cumulative_sum = []\n",
    "cumulative_prod = []\n",
    "\n",
    "cum_sum=0\n",
    "cum_prod=1\n",
    "\n",
    "for num in L:\n",
    "    cum_sum += num\n",
    "    cum_prod *= num\n",
    "    cumulative_sum.append(cum_sum)\n",
    "    cumulative_prod.append(cum_prod)\n",
    "\n",
    "print(cumulative_sum)\n",
    "print(cumulative_prod)"
   ]
  },
  {
   "cell_type": "markdown",
   "metadata": {},
   "source": [
    "## 5.2 Using list comprehension"
   ]
  },
  {
   "cell_type": "code",
   "execution_count": 17,
   "metadata": {},
   "outputs": [],
   "source": [
    "import math"
   ]
  },
  {
   "cell_type": "code",
   "execution_count": 19,
   "metadata": {},
   "outputs": [
    {
     "name": "stdout",
     "output_type": "stream",
     "text": [
      "[1, 3, 6, 10, 15, 21, 28, 36, 45]\n",
      "[1, 2, 6, 24, 120, 720, 5040, 40320, 362880]\n"
     ]
    }
   ],
   "source": [
    "L = L = [1, 2, 3, 4, 5, 6, 7, 8, 9]\n",
    "\n",
    "cum_sum = [sum(L[:i+1]) for i in range(len(L))]\n",
    "cum_prod = [math.prod(L[:i+1]) for i in range(len(L))]\n",
    "\n",
    "print(cum_sum)\n",
    "print(cum_prod)"
   ]
  },
  {
   "cell_type": "markdown",
   "metadata": {},
   "source": [
    "## 6. Armstrong number using list comprehension"
   ]
  },
  {
   "cell_type": "code",
   "execution_count": 5,
   "metadata": {},
   "outputs": [
    {
     "name": "stdout",
     "output_type": "stream",
     "text": [
      "153 is Armstrong number\n"
     ]
    }
   ],
   "source": [
    "num = int(input(\"Enter a number: \"))\n",
    "powered_list = [int(digit) ** len(str(num)) for digit in str(num)]\n",
    "\n",
    "\n",
    "print(f\"{num} is Armstrong number\") if sum(powered_list) == num else print(f\"{num}is not Armstrong number\")"
   ]
  },
  {
   "cell_type": "markdown",
   "metadata": {},
   "source": [
    "## 7. Digital root using list comprehension"
   ]
  },
  {
   "cell_type": "code",
   "execution_count": 10,
   "metadata": {},
   "outputs": [
    {
     "name": "stdout",
     "output_type": "stream",
     "text": [
      "Digital root of 153 is 9\n"
     ]
    }
   ],
   "source": [
    "num = int(input(\"Enter a number: \"))\n",
    "num_copy = num\n",
    "\n",
    "while num>9:\n",
    "    num = sum([int(digit) for digit in str(num)])\n",
    "\n",
    "print(f\"Digital root of {num_copy} is {num}\")"
   ]
  },
  {
   "cell_type": "markdown",
   "metadata": {},
   "source": [
    "## 8. Segregate numbers using list comprehension"
   ]
  },
  {
   "cell_type": "code",
   "execution_count": 11,
   "metadata": {},
   "outputs": [
    {
     "name": "stdout",
     "output_type": "stream",
     "text": [
      "28 is a perfect number\n"
     ]
    }
   ],
   "source": [
    "num = int(input(\"Enter a number: \"))\n",
    "\n",
    "sum_of_divisors = sum([i for i in range(1, num) if num%i == 0])\n",
    "\n",
    "if num == sum_of_divisors:\n",
    "    print(f\"{num} is a perfect number\")\n",
    "elif num > sum_of_divisors:\n",
    "    print(f\"{num} is a deficient number\")\n",
    "elif num < sum_of_divisors:\n",
    "    print(f\"{num} is an abundant number\")"
   ]
  },
  {
   "cell_type": "markdown",
   "metadata": {},
   "source": [
    "## 9. Product of 2 matrices"
   ]
  },
  {
   "cell_type": "markdown",
   "metadata": {},
   "source": [
    "### 9.1 Without list comprehension"
   ]
  },
  {
   "cell_type": "code",
   "execution_count": 15,
   "metadata": {},
   "outputs": [
    {
     "name": "stdout",
     "output_type": "stream",
     "text": [
      "[[22, 28], [49, 64]]\n"
     ]
    }
   ],
   "source": [
    "A = [[1,2,3], [4,5,6]]\n",
    "B = [[1,2], [3,4], [5,6]]\n",
    "\n",
    "# column of A should be equal to rows of B\n",
    "if len(A[0]) == len(B):\n",
    "    C = [[0,0] for i in range(len(A))]\n",
    "    for i in range(len(A)):\n",
    "        for j in range(len(B[0])):\n",
    "            for k in range(len(B)):\n",
    "                C[i][j] += A[i][k] * B[k][j]\n",
    "    print(C)    "
   ]
  },
  {
   "cell_type": "markdown",
   "metadata": {},
   "source": [
    "### 9.2 Using list comprehension"
   ]
  },
  {
   "cell_type": "code",
   "execution_count": 24,
   "metadata": {},
   "outputs": [],
   "source": [
    "A = [[1,2,3], [4,5,6]]\n",
    "B = [[1,2], [3,4], [5,6]]\n",
    "\n",
    "# column of A should be equal to rows of B\n",
    "if len(A[0]) == len(B):\n",
    "    C = [[0,0] for i in range(len(A))]\n",
    "    C = [[sum(A[i][k] * B[k][j] for k in range(len(B))) for j in range(len(B[0]))] for i in range(len(A))]\n",
    "else:\n",
    "    print(\"Matrix multiplication not possible\")"
   ]
  },
  {
   "cell_type": "code",
   "execution_count": 25,
   "metadata": {},
   "outputs": [
    {
     "name": "stdout",
     "output_type": "stream",
     "text": [
      "[[22, 28], [49, 64]]\n"
     ]
    }
   ],
   "source": [
    "print(C)"
   ]
  }
 ],
 "metadata": {
  "kernelspec": {
   "display_name": "Python 3 (ipykernel)",
   "language": "python",
   "name": "python3"
  },
  "language_info": {
   "codemirror_mode": {
    "name": "ipython",
    "version": 3
   },
   "file_extension": ".py",
   "mimetype": "text/x-python",
   "name": "python",
   "nbconvert_exporter": "python",
   "pygments_lexer": "ipython3",
   "version": "3.8.13"
  }
 },
 "nbformat": 4,
 "nbformat_minor": 4
}
