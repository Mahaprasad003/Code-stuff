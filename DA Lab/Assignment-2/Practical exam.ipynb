{
 "cells": [
  {
   "cell_type": "code",
   "execution_count": 1,
   "id": "5a2dbf37",
   "metadata": {},
   "outputs": [],
   "source": [
    "import pandas as pd"
   ]
  },
  {
   "cell_type": "code",
   "execution_count": 2,
   "id": "cc959955-1d85-4e7d-b3a4-96f6935bcc94",
   "metadata": {},
   "outputs": [],
   "source": [
    "df = pd.read_csv(\"water_potability.csv\")"
   ]
  },
  {
   "cell_type": "code",
   "execution_count": 3,
   "id": "1d2f9c3a-1c6b-42d2-bbc3-84301ff501dd",
   "metadata": {},
   "outputs": [
    {
     "data": {
      "text/html": [
       "<div>\n",
       "<style scoped>\n",
       "    .dataframe tbody tr th:only-of-type {\n",
       "        vertical-align: middle;\n",
       "    }\n",
       "\n",
       "    .dataframe tbody tr th {\n",
       "        vertical-align: top;\n",
       "    }\n",
       "\n",
       "    .dataframe thead th {\n",
       "        text-align: right;\n",
       "    }\n",
       "</style>\n",
       "<table border=\"1\" class=\"dataframe\">\n",
       "  <thead>\n",
       "    <tr style=\"text-align: right;\">\n",
       "      <th></th>\n",
       "      <th>ph</th>\n",
       "      <th>Hardness</th>\n",
       "      <th>Solids</th>\n",
       "      <th>Chloramines</th>\n",
       "      <th>Sulfate</th>\n",
       "      <th>Conductivity</th>\n",
       "      <th>Organic_carbon</th>\n",
       "      <th>Trihalomethanes</th>\n",
       "      <th>Turbidity</th>\n",
       "      <th>Potability</th>\n",
       "    </tr>\n",
       "  </thead>\n",
       "  <tbody>\n",
       "    <tr>\n",
       "      <th>0</th>\n",
       "      <td>NaN</td>\n",
       "      <td>204.890455</td>\n",
       "      <td>20791.318981</td>\n",
       "      <td>7.300212</td>\n",
       "      <td>368.516441</td>\n",
       "      <td>564.308654</td>\n",
       "      <td>10.379783</td>\n",
       "      <td>86.990970</td>\n",
       "      <td>2.963135</td>\n",
       "      <td>0</td>\n",
       "    </tr>\n",
       "    <tr>\n",
       "      <th>1</th>\n",
       "      <td>3.716080</td>\n",
       "      <td>129.422921</td>\n",
       "      <td>18630.057858</td>\n",
       "      <td>6.635246</td>\n",
       "      <td>NaN</td>\n",
       "      <td>592.885359</td>\n",
       "      <td>15.180013</td>\n",
       "      <td>56.329076</td>\n",
       "      <td>4.500656</td>\n",
       "      <td>0</td>\n",
       "    </tr>\n",
       "    <tr>\n",
       "      <th>2</th>\n",
       "      <td>8.099124</td>\n",
       "      <td>224.236259</td>\n",
       "      <td>19909.541732</td>\n",
       "      <td>9.275884</td>\n",
       "      <td>NaN</td>\n",
       "      <td>418.606213</td>\n",
       "      <td>16.868637</td>\n",
       "      <td>66.420093</td>\n",
       "      <td>3.055934</td>\n",
       "      <td>0</td>\n",
       "    </tr>\n",
       "    <tr>\n",
       "      <th>3</th>\n",
       "      <td>8.316766</td>\n",
       "      <td>214.373394</td>\n",
       "      <td>22018.417441</td>\n",
       "      <td>8.059332</td>\n",
       "      <td>356.886136</td>\n",
       "      <td>363.266516</td>\n",
       "      <td>18.436524</td>\n",
       "      <td>100.341674</td>\n",
       "      <td>4.628771</td>\n",
       "      <td>0</td>\n",
       "    </tr>\n",
       "    <tr>\n",
       "      <th>4</th>\n",
       "      <td>9.092223</td>\n",
       "      <td>181.101509</td>\n",
       "      <td>17978.986339</td>\n",
       "      <td>6.546600</td>\n",
       "      <td>310.135738</td>\n",
       "      <td>398.410813</td>\n",
       "      <td>11.558279</td>\n",
       "      <td>31.997993</td>\n",
       "      <td>4.075075</td>\n",
       "      <td>0</td>\n",
       "    </tr>\n",
       "  </tbody>\n",
       "</table>\n",
       "</div>"
      ],
      "text/plain": [
       "         ph    Hardness        Solids  Chloramines     Sulfate  Conductivity  \\\n",
       "0       NaN  204.890455  20791.318981     7.300212  368.516441    564.308654   \n",
       "1  3.716080  129.422921  18630.057858     6.635246         NaN    592.885359   \n",
       "2  8.099124  224.236259  19909.541732     9.275884         NaN    418.606213   \n",
       "3  8.316766  214.373394  22018.417441     8.059332  356.886136    363.266516   \n",
       "4  9.092223  181.101509  17978.986339     6.546600  310.135738    398.410813   \n",
       "\n",
       "   Organic_carbon  Trihalomethanes  Turbidity  Potability  \n",
       "0       10.379783        86.990970   2.963135           0  \n",
       "1       15.180013        56.329076   4.500656           0  \n",
       "2       16.868637        66.420093   3.055934           0  \n",
       "3       18.436524       100.341674   4.628771           0  \n",
       "4       11.558279        31.997993   4.075075           0  "
      ]
     },
     "execution_count": 3,
     "metadata": {},
     "output_type": "execute_result"
    }
   ],
   "source": [
    "df.head()"
   ]
  },
  {
   "cell_type": "code",
   "execution_count": 4,
   "id": "abc163c8-b685-49b9-90b7-d00e97c236f2",
   "metadata": {},
   "outputs": [],
   "source": [
    "solidList = df['Solids']"
   ]
  },
  {
   "cell_type": "markdown",
   "id": "9c4bbb90-8c5e-4c69-83da-41aad8c8d4f0",
   "metadata": {},
   "source": [
    "# Mean function"
   ]
  },
  {
   "cell_type": "code",
   "execution_count": 9,
   "id": "fa9f0285-142b-4859-86ac-a050a04fee14",
   "metadata": {},
   "outputs": [],
   "source": [
    "def mean_of_list(valueList):\n",
    "    sum = 0\n",
    "    for i in range(len(valueList)):\n",
    "        sum += valueList[i]\n",
    "\n",
    "    mean = sum / len(valueList)\n",
    "    return mean"
   ]
  },
  {
   "cell_type": "markdown",
   "id": "83481273-25b3-4b7a-b833-f8fd90143619",
   "metadata": {},
   "source": [
    "# Variance function"
   ]
  },
  {
   "cell_type": "code",
   "execution_count": 6,
   "id": "1f0e28c2-d4ab-47a4-a232-2871b55e694b",
   "metadata": {},
   "outputs": [],
   "source": [
    "def variance_of_list(valueList):\n",
    "    mean_valueList = mean_of_list(valueList)\n",
    "    total_obs = len(valueList)\n",
    "    \n",
    "    summ_numerator = 0\n",
    "    \n",
    "    for i in range(total_obs):\n",
    "        temp = (valueList[i] - mean_valueList)**2\n",
    "        \n",
    "        summ_numerator += temp\n",
    "    \n",
    "    var_valueList = summ_numerator / total_obs\n",
    "    return var_valueList"
   ]
  },
  {
   "cell_type": "markdown",
   "id": "0776387d-3818-436f-ad49-1df7c9ca8527",
   "metadata": {},
   "source": [
    "# Standard Deviation function"
   ]
  },
  {
   "cell_type": "code",
   "execution_count": 17,
   "id": "007f8ec3-913c-434f-9102-626829221dff",
   "metadata": {},
   "outputs": [],
   "source": [
    "def std_of_list(valueList):\n",
    "    var = variance_of_list(valueList)\n",
    "    \n",
    "    return (var ** (1/2))"
   ]
  },
  {
   "cell_type": "markdown",
   "id": "a977a779-c0f5-494c-87d3-a747f32baf3c",
   "metadata": {},
   "source": [
    "# Calculating variability"
   ]
  },
  {
   "cell_type": "code",
   "execution_count": 25,
   "id": "546848ac-a129-4099-9a53-4e535e00611f",
   "metadata": {},
   "outputs": [
    {
     "name": "stdout",
     "output_type": "stream",
     "text": [
      "The variance of 'Solids' attribute is: 76864364.32698946\n",
      "The standard deviation of 'Solids' attribute is: 8767.232421179984\n"
     ]
    }
   ],
   "source": [
    "print(\"The variance of 'Solids' attribute is:\", variance_of_list(solidList))\n",
    "print(\"The standard deviation of 'Solids' attribute is:\", std_of_list(solidList))"
   ]
  },
  {
   "cell_type": "markdown",
   "id": "07a3e42c-9503-483b-bc98-8c7e12f8e59e",
   "metadata": {},
   "source": [
    "# Checking with in-built functions"
   ]
  },
  {
   "cell_type": "code",
   "execution_count": 26,
   "id": "2d768fef-8021-4420-8d2f-aff2207513c3",
   "metadata": {},
   "outputs": [
    {
     "data": {
      "text/plain": [
       "8768.570827785927"
      ]
     },
     "execution_count": 26,
     "metadata": {},
     "output_type": "execute_result"
    }
   ],
   "source": [
    "solidList.std()"
   ]
  },
  {
   "cell_type": "code",
   "execution_count": 27,
   "id": "d2abe3f8-03ad-418a-9bff-70d9dba4d022",
   "metadata": {},
   "outputs": [
    {
     "data": {
      "text/plain": [
       "76887834.36189838"
      ]
     },
     "execution_count": 27,
     "metadata": {},
     "output_type": "execute_result"
    }
   ],
   "source": [
    "solidList.var()"
   ]
  },
  {
   "cell_type": "code",
   "execution_count": null,
   "id": "8648a28f-9275-4cfd-b1be-ad128ae0e83b",
   "metadata": {},
   "outputs": [],
   "source": []
  },
  {
   "cell_type": "code",
   "execution_count": null,
   "id": "7595abdf-3555-4b35-8ce6-858fe726df44",
   "metadata": {},
   "outputs": [],
   "source": []
  }
 ],
 "metadata": {
  "kernelspec": {
   "display_name": "Python 3 (ipykernel)",
   "language": "python",
   "name": "python3"
  },
  "language_info": {
   "codemirror_mode": {
    "name": "ipython",
    "version": 3
   },
   "file_extension": ".py",
   "mimetype": "text/x-python",
   "name": "python",
   "nbconvert_exporter": "python",
   "pygments_lexer": "ipython3",
   "version": "3.8.13"
  }
 },
 "nbformat": 4,
 "nbformat_minor": 5
}
