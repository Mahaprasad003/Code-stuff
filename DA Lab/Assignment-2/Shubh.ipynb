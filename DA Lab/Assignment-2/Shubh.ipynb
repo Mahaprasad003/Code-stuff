{
 "cells": [
  {
   "cell_type": "code",
   "execution_count": 1,
   "id": "fd8f6897-1f70-48ab-9df7-86722f015c86",
   "metadata": {},
   "outputs": [],
   "source": [
    "import pandas as pd"
   ]
  },
  {
   "cell_type": "code",
   "execution_count": 2,
   "id": "30105a8d-10bc-4e9f-8411-29f6de12edcf",
   "metadata": {},
   "outputs": [],
   "source": [
    "df = pd.read_csv(\"water_potability.csv\")"
   ]
  },
  {
   "cell_type": "code",
   "execution_count": 4,
   "id": "734de1e6-d3b8-4e63-bed7-2fc4298509ce",
   "metadata": {},
   "outputs": [],
   "source": [
    "ocList = df['Organic_carbon']"
   ]
  },
  {
   "cell_type": "code",
   "execution_count": 5,
   "id": "eee4e083-fc5c-415c-b81d-23505f10ee23",
   "metadata": {},
   "outputs": [],
   "source": [
    "def median_of_list(listValues):\n",
    "    total_values = len(listValues)\n",
    "    sorted_list = sorted(listValues)\n",
    "    mid = total_values // 2\n",
    "    \n",
    "    if(total_values % 2 == 0):\n",
    "        median = (sorted_list[mid - 1] + sorted_list[mid]) / 2\n",
    "        return median\n",
    "    else:\n",
    "        median = sorted_list[mid]\n",
    "        return median"
   ]
  },
  {
   "cell_type": "code",
   "execution_count": 6,
   "id": "da98139a-e7cf-46f1-a6d4-d1dfe0502f41",
   "metadata": {},
   "outputs": [
    {
     "name": "stdout",
     "output_type": "stream",
     "text": [
      "Median of the list is: 14.218337937208588\n"
     ]
    }
   ],
   "source": [
    "print(\"Median of the list is:\", median_of_list(ocList))"
   ]
  },
  {
   "cell_type": "code",
   "execution_count": null,
   "id": "79c953bd-09ff-4262-bb0a-ef0c6d37affc",
   "metadata": {},
   "outputs": [],
   "source": []
  }
 ],
 "metadata": {
  "kernelspec": {
   "display_name": "Python 3 (ipykernel)",
   "language": "python",
   "name": "python3"
  },
  "language_info": {
   "codemirror_mode": {
    "name": "ipython",
    "version": 3
   },
   "file_extension": ".py",
   "mimetype": "text/x-python",
   "name": "python",
   "nbconvert_exporter": "python",
   "pygments_lexer": "ipython3",
   "version": "3.8.13"
  }
 },
 "nbformat": 4,
 "nbformat_minor": 5
}
