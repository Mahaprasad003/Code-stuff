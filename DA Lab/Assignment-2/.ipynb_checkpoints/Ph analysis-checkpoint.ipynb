{
 "cells": [
  {
   "cell_type": "code",
   "execution_count": 2,
   "id": "0a6e0d23",
   "metadata": {},
   "outputs": [],
   "source": [
    "import pandas as pd"
   ]
  },
  {
   "cell_type": "code",
   "execution_count": 3,
   "id": "ffc61327",
   "metadata": {},
   "outputs": [],
   "source": [
    "df = pd.read_csv(\"water_potability.csv\")"
   ]
  },
  {
   "cell_type": "code",
   "execution_count": 4,
   "id": "4b6bb2dc",
   "metadata": {},
   "outputs": [
    {
     "data": {
      "text/html": [
       "<div>\n",
       "<style scoped>\n",
       "    .dataframe tbody tr th:only-of-type {\n",
       "        vertical-align: middle;\n",
       "    }\n",
       "\n",
       "    .dataframe tbody tr th {\n",
       "        vertical-align: top;\n",
       "    }\n",
       "\n",
       "    .dataframe thead th {\n",
       "        text-align: right;\n",
       "    }\n",
       "</style>\n",
       "<table border=\"1\" class=\"dataframe\">\n",
       "  <thead>\n",
       "    <tr style=\"text-align: right;\">\n",
       "      <th></th>\n",
       "      <th>ph</th>\n",
       "      <th>Hardness</th>\n",
       "      <th>Solids</th>\n",
       "      <th>Chloramines</th>\n",
       "      <th>Sulfate</th>\n",
       "      <th>Conductivity</th>\n",
       "      <th>Organic_carbon</th>\n",
       "      <th>Trihalomethanes</th>\n",
       "      <th>Turbidity</th>\n",
       "      <th>Potability</th>\n",
       "    </tr>\n",
       "  </thead>\n",
       "  <tbody>\n",
       "    <tr>\n",
       "      <th>0</th>\n",
       "      <td>NaN</td>\n",
       "      <td>204.890455</td>\n",
       "      <td>20791.318981</td>\n",
       "      <td>7.300212</td>\n",
       "      <td>368.516441</td>\n",
       "      <td>564.308654</td>\n",
       "      <td>10.379783</td>\n",
       "      <td>86.990970</td>\n",
       "      <td>2.963135</td>\n",
       "      <td>0</td>\n",
       "    </tr>\n",
       "    <tr>\n",
       "      <th>1</th>\n",
       "      <td>3.716080</td>\n",
       "      <td>129.422921</td>\n",
       "      <td>18630.057858</td>\n",
       "      <td>6.635246</td>\n",
       "      <td>NaN</td>\n",
       "      <td>592.885359</td>\n",
       "      <td>15.180013</td>\n",
       "      <td>56.329076</td>\n",
       "      <td>4.500656</td>\n",
       "      <td>0</td>\n",
       "    </tr>\n",
       "    <tr>\n",
       "      <th>2</th>\n",
       "      <td>8.099124</td>\n",
       "      <td>224.236259</td>\n",
       "      <td>19909.541732</td>\n",
       "      <td>9.275884</td>\n",
       "      <td>NaN</td>\n",
       "      <td>418.606213</td>\n",
       "      <td>16.868637</td>\n",
       "      <td>66.420093</td>\n",
       "      <td>3.055934</td>\n",
       "      <td>0</td>\n",
       "    </tr>\n",
       "    <tr>\n",
       "      <th>3</th>\n",
       "      <td>8.316766</td>\n",
       "      <td>214.373394</td>\n",
       "      <td>22018.417441</td>\n",
       "      <td>8.059332</td>\n",
       "      <td>356.886136</td>\n",
       "      <td>363.266516</td>\n",
       "      <td>18.436524</td>\n",
       "      <td>100.341674</td>\n",
       "      <td>4.628771</td>\n",
       "      <td>0</td>\n",
       "    </tr>\n",
       "    <tr>\n",
       "      <th>4</th>\n",
       "      <td>9.092223</td>\n",
       "      <td>181.101509</td>\n",
       "      <td>17978.986339</td>\n",
       "      <td>6.546600</td>\n",
       "      <td>310.135738</td>\n",
       "      <td>398.410813</td>\n",
       "      <td>11.558279</td>\n",
       "      <td>31.997993</td>\n",
       "      <td>4.075075</td>\n",
       "      <td>0</td>\n",
       "    </tr>\n",
       "  </tbody>\n",
       "</table>\n",
       "</div>"
      ],
      "text/plain": [
       "         ph    Hardness        Solids  Chloramines     Sulfate  Conductivity  \\\n",
       "0       NaN  204.890455  20791.318981     7.300212  368.516441    564.308654   \n",
       "1  3.716080  129.422921  18630.057858     6.635246         NaN    592.885359   \n",
       "2  8.099124  224.236259  19909.541732     9.275884         NaN    418.606213   \n",
       "3  8.316766  214.373394  22018.417441     8.059332  356.886136    363.266516   \n",
       "4  9.092223  181.101509  17978.986339     6.546600  310.135738    398.410813   \n",
       "\n",
       "   Organic_carbon  Trihalomethanes  Turbidity  Potability  \n",
       "0       10.379783        86.990970   2.963135           0  \n",
       "1       15.180013        56.329076   4.500656           0  \n",
       "2       16.868637        66.420093   3.055934           0  \n",
       "3       18.436524       100.341674   4.628771           0  \n",
       "4       11.558279        31.997993   4.075075           0  "
      ]
     },
     "execution_count": 4,
     "metadata": {},
     "output_type": "execute_result"
    }
   ],
   "source": [
    "df.head()"
   ]
  },
  {
   "cell_type": "code",
   "execution_count": 5,
   "id": "b62e5a1c",
   "metadata": {},
   "outputs": [],
   "source": [
    "df['ph'] = df['ph'].fillna(df['ph'].mean())"
   ]
  },
  {
   "cell_type": "code",
   "execution_count": 6,
   "id": "296006f8",
   "metadata": {},
   "outputs": [
    {
     "data": {
      "text/html": [
       "<div>\n",
       "<style scoped>\n",
       "    .dataframe tbody tr th:only-of-type {\n",
       "        vertical-align: middle;\n",
       "    }\n",
       "\n",
       "    .dataframe tbody tr th {\n",
       "        vertical-align: top;\n",
       "    }\n",
       "\n",
       "    .dataframe thead th {\n",
       "        text-align: right;\n",
       "    }\n",
       "</style>\n",
       "<table border=\"1\" class=\"dataframe\">\n",
       "  <thead>\n",
       "    <tr style=\"text-align: right;\">\n",
       "      <th></th>\n",
       "      <th>ph</th>\n",
       "      <th>Hardness</th>\n",
       "      <th>Solids</th>\n",
       "      <th>Chloramines</th>\n",
       "      <th>Sulfate</th>\n",
       "      <th>Conductivity</th>\n",
       "      <th>Organic_carbon</th>\n",
       "      <th>Trihalomethanes</th>\n",
       "      <th>Turbidity</th>\n",
       "      <th>Potability</th>\n",
       "    </tr>\n",
       "  </thead>\n",
       "  <tbody>\n",
       "    <tr>\n",
       "      <th>3271</th>\n",
       "      <td>4.668102</td>\n",
       "      <td>193.681735</td>\n",
       "      <td>47580.991603</td>\n",
       "      <td>7.166639</td>\n",
       "      <td>359.948574</td>\n",
       "      <td>526.424171</td>\n",
       "      <td>13.894419</td>\n",
       "      <td>66.687695</td>\n",
       "      <td>4.435821</td>\n",
       "      <td>1</td>\n",
       "    </tr>\n",
       "    <tr>\n",
       "      <th>3272</th>\n",
       "      <td>7.808856</td>\n",
       "      <td>193.553212</td>\n",
       "      <td>17329.802160</td>\n",
       "      <td>8.061362</td>\n",
       "      <td>NaN</td>\n",
       "      <td>392.449580</td>\n",
       "      <td>19.903225</td>\n",
       "      <td>NaN</td>\n",
       "      <td>2.798243</td>\n",
       "      <td>1</td>\n",
       "    </tr>\n",
       "    <tr>\n",
       "      <th>3273</th>\n",
       "      <td>9.419510</td>\n",
       "      <td>175.762646</td>\n",
       "      <td>33155.578218</td>\n",
       "      <td>7.350233</td>\n",
       "      <td>NaN</td>\n",
       "      <td>432.044783</td>\n",
       "      <td>11.039070</td>\n",
       "      <td>69.845400</td>\n",
       "      <td>3.298875</td>\n",
       "      <td>1</td>\n",
       "    </tr>\n",
       "    <tr>\n",
       "      <th>3274</th>\n",
       "      <td>5.126763</td>\n",
       "      <td>230.603758</td>\n",
       "      <td>11983.869376</td>\n",
       "      <td>6.303357</td>\n",
       "      <td>NaN</td>\n",
       "      <td>402.883113</td>\n",
       "      <td>11.168946</td>\n",
       "      <td>77.488213</td>\n",
       "      <td>4.708658</td>\n",
       "      <td>1</td>\n",
       "    </tr>\n",
       "    <tr>\n",
       "      <th>3275</th>\n",
       "      <td>7.874671</td>\n",
       "      <td>195.102299</td>\n",
       "      <td>17404.177061</td>\n",
       "      <td>7.509306</td>\n",
       "      <td>NaN</td>\n",
       "      <td>327.459760</td>\n",
       "      <td>16.140368</td>\n",
       "      <td>78.698446</td>\n",
       "      <td>2.309149</td>\n",
       "      <td>1</td>\n",
       "    </tr>\n",
       "  </tbody>\n",
       "</table>\n",
       "</div>"
      ],
      "text/plain": [
       "            ph    Hardness        Solids  Chloramines     Sulfate  \\\n",
       "3271  4.668102  193.681735  47580.991603     7.166639  359.948574   \n",
       "3272  7.808856  193.553212  17329.802160     8.061362         NaN   \n",
       "3273  9.419510  175.762646  33155.578218     7.350233         NaN   \n",
       "3274  5.126763  230.603758  11983.869376     6.303357         NaN   \n",
       "3275  7.874671  195.102299  17404.177061     7.509306         NaN   \n",
       "\n",
       "      Conductivity  Organic_carbon  Trihalomethanes  Turbidity  Potability  \n",
       "3271    526.424171       13.894419        66.687695   4.435821           1  \n",
       "3272    392.449580       19.903225              NaN   2.798243           1  \n",
       "3273    432.044783       11.039070        69.845400   3.298875           1  \n",
       "3274    402.883113       11.168946        77.488213   4.708658           1  \n",
       "3275    327.459760       16.140368        78.698446   2.309149           1  "
      ]
     },
     "execution_count": 6,
     "metadata": {},
     "output_type": "execute_result"
    }
   ],
   "source": [
    "df.tail()"
   ]
  },
  {
   "cell_type": "code",
   "execution_count": 7,
   "id": "de093faf",
   "metadata": {},
   "outputs": [
    {
     "name": "stdout",
     "output_type": "stream",
     "text": [
      "0       7.080795\n",
      "1       3.716080\n",
      "2       8.099124\n",
      "3       8.316766\n",
      "4       9.092223\n",
      "          ...   \n",
      "3271    4.668102\n",
      "3272    7.808856\n",
      "3273    9.419510\n",
      "3274    5.126763\n",
      "3275    7.874671\n",
      "Name: ph, Length: 3276, dtype: float64\n",
      "3276\n"
     ]
    }
   ],
   "source": [
    "list_of_ph_values = []\n",
    "\n",
    "list_of_ph_values = df['ph']\n",
    "print(list_of_ph_values)\n",
    "print(len(list_of_ph_values))"
   ]
  },
  {
   "cell_type": "markdown",
   "id": "851b6616-f212-4ea2-8006-58af6bd8a608",
   "metadata": {},
   "source": [
    "# Calculating Mean ph"
   ]
  },
  {
   "cell_type": "code",
   "execution_count": 8,
   "id": "98de06ab",
   "metadata": {},
   "outputs": [],
   "source": [
    "def mean_of_list(listofValues):\n",
    "    sum = 0\n",
    "    for i in range(len(listofValues)):\n",
    "        sum += listofValues[i]\n",
    "    mean = sum / len(listofValues)\n",
    "    return mean"
   ]
  },
  {
   "cell_type": "code",
   "execution_count": 9,
   "id": "b520c75a",
   "metadata": {},
   "outputs": [
    {
     "name": "stdout",
     "output_type": "stream",
     "text": [
      "7.080794504276761\n"
     ]
    }
   ],
   "source": [
    "mean_ph = mean_of_list(list_of_ph_values)\n",
    "print(mean_ph)"
   ]
  },
  {
   "cell_type": "markdown",
   "id": "23902989-3704-48a5-9fe5-43423a30eb72",
   "metadata": {},
   "source": [
    "# Calculating Median ph"
   ]
  },
  {
   "cell_type": "code",
   "execution_count": 10,
   "id": "394359d5",
   "metadata": {},
   "outputs": [],
   "source": [
    "def median_of_list(listofValues):\n",
    "    total_values = len(listofValues)\n",
    "    sorted_list = sorted(listofValues)\n",
    "    mid = total_values // 2\n",
    "    \n",
    "    if(total_values % 2 == 0):\n",
    "        median = (sorted_list[mid - 1] + sorted_list[mid]) / 2\n",
    "        return median\n",
    "    else:\n",
    "        median = sorted_list[mid]\n",
    "        return median"
   ]
  },
  {
   "cell_type": "code",
   "execution_count": 11,
   "id": "6ea567e3",
   "metadata": {},
   "outputs": [
    {
     "name": "stdout",
     "output_type": "stream",
     "text": [
      "7.080794504276835\n"
     ]
    }
   ],
   "source": [
    "median_ph = median_of_list(list_of_ph_values)\n",
    "print(median_ph)"
   ]
  },
  {
   "cell_type": "markdown",
   "id": "269ff200-15fb-40b1-bcf8-4a052d9d6a39",
   "metadata": {},
   "source": [
    "# Calculating Mode ph"
   ]
  },
  {
   "cell_type": "code",
   "execution_count": 13,
   "id": "21a49bc9",
   "metadata": {},
   "outputs": [],
   "source": [
    "def mode_of_list(listofValues):\n",
    "    new_dict = {}\n",
    "    \n",
    "    for i in listofValues:\n",
    "        if not i in new_dict:\n",
    "            new_dict[i] = 1\n",
    "        else:\n",
    "            new_dict[i] += 1\n",
    "    \n",
    "    \n",
    "    return [k for k,l in new_dict.items() if l == max(new_dict.values())]"
   ]
  },
  {
   "cell_type": "code",
   "execution_count": 14,
   "id": "7a889ca6-45fa-42ed-9f93-9a9e6560f441",
   "metadata": {},
   "outputs": [
    {
     "data": {
      "text/plain": [
       "[7.080794504276835]"
      ]
     },
     "execution_count": 14,
     "metadata": {},
     "output_type": "execute_result"
    }
   ],
   "source": [
    "mode_of_list(list_of_ph_values)"
   ]
  },
  {
   "cell_type": "code",
   "execution_count": 19,
   "id": "07f8d467-1a0b-4590-baf3-c0863e54f51f",
   "metadata": {},
   "outputs": [
    {
     "data": {
      "text/plain": [
       "0    7.080795\n",
       "Name: ph, dtype: float64"
      ]
     },
     "execution_count": 19,
     "metadata": {},
     "output_type": "execute_result"
    }
   ],
   "source": [
    "df['ph'].mode()"
   ]
  },
  {
   "cell_type": "markdown",
   "id": "1231a343-ca64-44e4-b35b-0b712ef49848",
   "metadata": {},
   "source": [
    "## Measures of Dispersion\n",
    "\n",
    "- Range\n",
    "- Variance\n",
    "- Standard Deviation\n",
    "- IQR"
   ]
  },
  {
   "cell_type": "markdown",
   "id": "36f76a9e-6467-40c4-9984-cbbaa678d5cc",
   "metadata": {},
   "source": [
    "# Calculating Range ph"
   ]
  },
  {
   "cell_type": "code",
   "execution_count": 24,
   "id": "b1820a5c-9a92-4cd5-881b-0a45d5dba409",
   "metadata": {},
   "outputs": [],
   "source": [
    "def range_of_list(listOfValues):\n",
    "    max_value = max(listOfValues)\n",
    "    min_value = min(listOfValues)\n",
    "    \n",
    "    return max_value - min_value"
   ]
  },
  {
   "cell_type": "code",
   "execution_count": 25,
   "id": "ac6bc69f-d49d-434b-9673-ef512daf8ace",
   "metadata": {},
   "outputs": [
    {
     "data": {
      "text/plain": [
       "13.999999999999998"
      ]
     },
     "execution_count": 25,
     "metadata": {},
     "output_type": "execute_result"
    }
   ],
   "source": [
    "range_of_list(list_of_ph_values)"
   ]
  },
  {
   "cell_type": "markdown",
   "id": "4b98d81a-a918-4d03-8c3b-51f344e02110",
   "metadata": {},
   "source": [
    "# Calculating Variance ph"
   ]
  },
  {
   "cell_type": "code",
   "execution_count": 26,
   "id": "56fe5341-f08e-4bc1-a276-d9640f2a1a33",
   "metadata": {},
   "outputs": [],
   "source": [
    "def variance_of_list(listOfValues):\n",
    "    mean_listOfValues = mean_of_list(listOfValues)\n",
    "    total_obs = len(listOfValues)\n",
    "    \n",
    "    summ_numerator = 0\n",
    "    \n",
    "    for i in range(total_obs):\n",
    "        temp = (listOfValues[i] - mean_listOfValues)**2\n",
    "        \n",
    "        summ_numerator += temp\n",
    "    \n",
    "    var_listOfValues = summ_numerator / total_obs\n",
    "    return var_listOfValues"
   ]
  },
  {
   "cell_type": "code",
   "execution_count": 28,
   "id": "38889eff-17ec-4d13-9beb-85159a0dda28",
   "metadata": {},
   "outputs": [
    {
     "data": {
      "text/plain": [
       "2.1601109774165805"
      ]
     },
     "execution_count": 28,
     "metadata": {},
     "output_type": "execute_result"
    }
   ],
   "source": [
    "variance_ph = variance_of_list(list_of_ph_values)\n",
    "variance_ph"
   ]
  },
  {
   "cell_type": "markdown",
   "id": "77b5f9c2-abcd-4dd9-b8f1-992ac7de150f",
   "metadata": {},
   "source": [
    "# Calculating Std dev ph"
   ]
  },
  {
   "cell_type": "code",
   "execution_count": 50,
   "id": "38af4947-ddd4-4941-92f7-a2a94e7c31f9",
   "metadata": {},
   "outputs": [],
   "source": [
    "def std_of_list(listOfValues):\n",
    "    variance = variance_of_list(listOfValues)\n",
    "    \n",
    "    return variance ** (1/2)"
   ]
  },
  {
   "cell_type": "code",
   "execution_count": 160,
   "id": "a6d81934-bfa7-4c7f-9e19-ce9c78b7e60c",
   "metadata": {},
   "outputs": [
    {
     "name": "stdout",
     "output_type": "stream",
     "text": [
      "1.469955969846563\n"
     ]
    }
   ],
   "source": [
    "std_ph = std_of_list(list_of_ph_values)\n",
    "std_ph"
   ]
  },
  {
   "cell_type": "markdown",
   "id": "6c7887e2-fb0d-4329-8df5-bcbeabe65e4c",
   "metadata": {},
   "source": [
    "# Finding Quartiles"
   ]
  },
  {
   "cell_type": "markdown",
   "id": "c38689f1-037b-411d-8d2e-7188d6055062",
   "metadata": {
    "tags": []
   },
   "source": [
    "## Finding quartiles"
   ]
  },
  {
   "cell_type": "code",
   "execution_count": 152,
   "id": "421bacf2-39d5-4349-a309-39871b2114fa",
   "metadata": {},
   "outputs": [],
   "source": [
    "def find_quartile(x,listOfValues):\n",
    "    sorted_list = sorted(listOfValues)\n",
    "    total_values = len(sorted_list)\n",
    "    \n",
    "    if total_values % 2 == 0:\n",
    "        mid = total_values // 2\n",
    "        lower_half = sorted_list[:mid]\n",
    "        upper_half = sorted_list[mid:]\n",
    "    else:\n",
    "        mid = total_values // 2\n",
    "        lower_half = sorted_list[:mid]\n",
    "        upper_half = sorted_list[mid+1:]\n",
    "    \n",
    "    if x == 1:\n",
    "        return median_of_list(lower_half)\n",
    "    else:\n",
    "        return median_of_list(upper_half)"
   ]
  },
  {
   "cell_type": "code",
   "execution_count": 154,
   "id": "a8a94e50-623b-4279-bae2-0dd12463d7c4",
   "metadata": {},
   "outputs": [
    {
     "data": {
      "text/plain": [
       "6.277602788378159"
      ]
     },
     "execution_count": 154,
     "metadata": {},
     "output_type": "execute_result"
    }
   ],
   "source": [
    "firstQuartile_ph = find_quartile(1, list_of_ph_values)\n",
    "firstQuartile_ph"
   ]
  },
  {
   "cell_type": "code",
   "execution_count": 155,
   "id": "b62289ec-78bf-408d-9b7c-603580a2ad40",
   "metadata": {},
   "outputs": [
    {
     "data": {
      "text/plain": [
       "7.8703176409554345"
      ]
     },
     "execution_count": 155,
     "metadata": {},
     "output_type": "execute_result"
    }
   ],
   "source": [
    "thirdQuartile_ph = find_quartile(3, list_of_ph_values)\n",
    "thirdQuartile_ph"
   ]
  },
  {
   "cell_type": "markdown",
   "id": "404e6165-8265-46b8-8fb0-81ed20d577f8",
   "metadata": {},
   "source": [
    "# Finding Inter-Quartile Range"
   ]
  },
  {
   "cell_type": "code",
   "execution_count": 156,
   "id": "71d41900-e9ec-4e70-8713-288a324a5238",
   "metadata": {},
   "outputs": [
    {
     "data": {
      "text/plain": [
       "1.5927148525772754"
      ]
     },
     "execution_count": 156,
     "metadata": {},
     "output_type": "execute_result"
    }
   ],
   "source": [
    "IQR_ph = thirdQuartile_ph - firstQuartile_ph\n",
    "IQR_ph"
   ]
  }
 ],
 "metadata": {
  "kernelspec": {
   "display_name": "Python 3 (ipykernel)",
   "language": "python",
   "name": "python3"
  },
  "language_info": {
   "codemirror_mode": {
    "name": "ipython",
    "version": 3
   },
   "file_extension": ".py",
   "mimetype": "text/x-python",
   "name": "python",
   "nbconvert_exporter": "python",
   "pygments_lexer": "ipython3",
   "version": "3.8.13"
  }
 },
 "nbformat": 4,
 "nbformat_minor": 5
}
