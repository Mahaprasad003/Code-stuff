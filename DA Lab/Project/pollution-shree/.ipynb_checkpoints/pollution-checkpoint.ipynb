{
 "cells": [
  {
   "cell_type": "code",
   "execution_count": 1,
   "id": "334381cb",
   "metadata": {},
   "outputs": [],
   "source": [
    "import pandas as pd"
   ]
  },
  {
   "cell_type": "code",
   "execution_count": 2,
   "id": "eaddc5fc",
   "metadata": {},
   "outputs": [],
   "source": [
    "import numpy as np"
   ]
  },
  {
   "cell_type": "code",
   "execution_count": 34,
   "id": "dc85aec3-bb16-498d-a86a-8906341e57ce",
   "metadata": {},
   "outputs": [],
   "source": [
    "import seaborn as sns"
   ]
  },
  {
   "cell_type": "code",
   "execution_count": 83,
   "id": "d4360173-5657-4ca9-b7c4-edf2fdb00841",
   "metadata": {},
   "outputs": [],
   "source": [
    "def plotSize():\n",
    "    fig_dims = (10, 40)\n",
    "    fig, ax = plt.subplots(figsize=fig_dims, dpi = 300)\n",
    "    return ax\n",
    "sns.set_theme()"
   ]
  },
  {
   "cell_type": "code",
   "execution_count": 37,
   "id": "e828aa48-a91a-42cc-8de8-2116ee4cfab7",
   "metadata": {},
   "outputs": [],
   "source": [
    "import matplotlib.pyplot as plt"
   ]
  },
  {
   "cell_type": "code",
   "execution_count": 3,
   "id": "fcf7fe37",
   "metadata": {},
   "outputs": [
    {
     "data": {
      "text/html": [
       "<div>\n",
       "<style scoped>\n",
       "    .dataframe tbody tr th:only-of-type {\n",
       "        vertical-align: middle;\n",
       "    }\n",
       "\n",
       "    .dataframe tbody tr th {\n",
       "        vertical-align: top;\n",
       "    }\n",
       "\n",
       "    .dataframe thead th {\n",
       "        text-align: right;\n",
       "    }\n",
       "</style>\n",
       "<table border=\"1\" class=\"dataframe\">\n",
       "  <thead>\n",
       "    <tr style=\"text-align: right;\">\n",
       "      <th></th>\n",
       "      <th>Country Name</th>\n",
       "      <th>country_code</th>\n",
       "      <th>Region</th>\n",
       "      <th>Indicator Name</th>\n",
       "      <th>1990</th>\n",
       "      <th>1991</th>\n",
       "      <th>1992</th>\n",
       "      <th>1993</th>\n",
       "      <th>1994</th>\n",
       "      <th>1995</th>\n",
       "      <th>...</th>\n",
       "      <th>2011</th>\n",
       "      <th>2012</th>\n",
       "      <th>2013</th>\n",
       "      <th>2014</th>\n",
       "      <th>2015</th>\n",
       "      <th>2016</th>\n",
       "      <th>2017</th>\n",
       "      <th>2018</th>\n",
       "      <th>2019</th>\n",
       "      <th>2019.1</th>\n",
       "    </tr>\n",
       "  </thead>\n",
       "  <tbody>\n",
       "    <tr>\n",
       "      <th>0</th>\n",
       "      <td>Aruba</td>\n",
       "      <td>ABW</td>\n",
       "      <td>Latin America &amp; Caribbean</td>\n",
       "      <td>CO2 emissions (metric tons per capita)</td>\n",
       "      <td>NaN</td>\n",
       "      <td>NaN</td>\n",
       "      <td>NaN</td>\n",
       "      <td>NaN</td>\n",
       "      <td>NaN</td>\n",
       "      <td>NaN</td>\n",
       "      <td>...</td>\n",
       "      <td>NaN</td>\n",
       "      <td>NaN</td>\n",
       "      <td>NaN</td>\n",
       "      <td>NaN</td>\n",
       "      <td>NaN</td>\n",
       "      <td>NaN</td>\n",
       "      <td>NaN</td>\n",
       "      <td>NaN</td>\n",
       "      <td>NaN</td>\n",
       "      <td>NaN</td>\n",
       "    </tr>\n",
       "    <tr>\n",
       "      <th>1</th>\n",
       "      <td>Afghanistan</td>\n",
       "      <td>AFG</td>\n",
       "      <td>South Asia</td>\n",
       "      <td>CO2 emissions (metric tons per capita)</td>\n",
       "      <td>0.191745</td>\n",
       "      <td>0.167682</td>\n",
       "      <td>0.095958</td>\n",
       "      <td>0.084721</td>\n",
       "      <td>0.075546</td>\n",
       "      <td>0.068468</td>\n",
       "      <td>...</td>\n",
       "      <td>0.296506</td>\n",
       "      <td>0.259295</td>\n",
       "      <td>0.185624</td>\n",
       "      <td>0.146236</td>\n",
       "      <td>0.172897</td>\n",
       "      <td>0.149789</td>\n",
       "      <td>0.131695</td>\n",
       "      <td>0.163295</td>\n",
       "      <td>0.159824</td>\n",
       "      <td>0.159824</td>\n",
       "    </tr>\n",
       "    <tr>\n",
       "      <th>2</th>\n",
       "      <td>Angola</td>\n",
       "      <td>AGO</td>\n",
       "      <td>Sub-Saharan Africa</td>\n",
       "      <td>CO2 emissions (metric tons per capita)</td>\n",
       "      <td>0.553662</td>\n",
       "      <td>0.544539</td>\n",
       "      <td>0.543557</td>\n",
       "      <td>0.708984</td>\n",
       "      <td>0.836804</td>\n",
       "      <td>0.912141</td>\n",
       "      <td>...</td>\n",
       "      <td>0.985522</td>\n",
       "      <td>0.950696</td>\n",
       "      <td>1.036294</td>\n",
       "      <td>1.099779</td>\n",
       "      <td>1.135044</td>\n",
       "      <td>1.031811</td>\n",
       "      <td>0.813301</td>\n",
       "      <td>0.777675</td>\n",
       "      <td>0.792137</td>\n",
       "      <td>0.792137</td>\n",
       "    </tr>\n",
       "    <tr>\n",
       "      <th>3</th>\n",
       "      <td>Albania</td>\n",
       "      <td>ALB</td>\n",
       "      <td>Europe &amp; Central Asia</td>\n",
       "      <td>CO2 emissions (metric tons per capita)</td>\n",
       "      <td>1.819542</td>\n",
       "      <td>1.242810</td>\n",
       "      <td>0.683700</td>\n",
       "      <td>0.638307</td>\n",
       "      <td>0.645355</td>\n",
       "      <td>0.605436</td>\n",
       "      <td>...</td>\n",
       "      <td>1.669423</td>\n",
       "      <td>1.503240</td>\n",
       "      <td>1.533630</td>\n",
       "      <td>1.668337</td>\n",
       "      <td>1.603775</td>\n",
       "      <td>1.557664</td>\n",
       "      <td>1.788786</td>\n",
       "      <td>1.782739</td>\n",
       "      <td>1.692248</td>\n",
       "      <td>1.692248</td>\n",
       "    </tr>\n",
       "    <tr>\n",
       "      <th>4</th>\n",
       "      <td>Andorra</td>\n",
       "      <td>AND</td>\n",
       "      <td>Europe &amp; Central Asia</td>\n",
       "      <td>CO2 emissions (metric tons per capita)</td>\n",
       "      <td>7.521832</td>\n",
       "      <td>7.235379</td>\n",
       "      <td>6.963079</td>\n",
       "      <td>6.724178</td>\n",
       "      <td>6.541579</td>\n",
       "      <td>6.733479</td>\n",
       "      <td>...</td>\n",
       "      <td>5.850886</td>\n",
       "      <td>5.944654</td>\n",
       "      <td>5.942800</td>\n",
       "      <td>5.807128</td>\n",
       "      <td>6.026182</td>\n",
       "      <td>6.080600</td>\n",
       "      <td>6.104134</td>\n",
       "      <td>6.362975</td>\n",
       "      <td>6.481217</td>\n",
       "      <td>6.481217</td>\n",
       "    </tr>\n",
       "  </tbody>\n",
       "</table>\n",
       "<p>5 rows × 35 columns</p>\n",
       "</div>"
      ],
      "text/plain": [
       "  Country Name country_code                     Region  \\\n",
       "0        Aruba          ABW  Latin America & Caribbean   \n",
       "1  Afghanistan          AFG                 South Asia   \n",
       "2       Angola          AGO         Sub-Saharan Africa   \n",
       "3      Albania          ALB      Europe & Central Asia   \n",
       "4      Andorra          AND      Europe & Central Asia   \n",
       "\n",
       "                           Indicator Name      1990      1991      1992  \\\n",
       "0  CO2 emissions (metric tons per capita)       NaN       NaN       NaN   \n",
       "1  CO2 emissions (metric tons per capita)  0.191745  0.167682  0.095958   \n",
       "2  CO2 emissions (metric tons per capita)  0.553662  0.544539  0.543557   \n",
       "3  CO2 emissions (metric tons per capita)  1.819542  1.242810  0.683700   \n",
       "4  CO2 emissions (metric tons per capita)  7.521832  7.235379  6.963079   \n",
       "\n",
       "       1993      1994      1995  ...      2011      2012      2013      2014  \\\n",
       "0       NaN       NaN       NaN  ...       NaN       NaN       NaN       NaN   \n",
       "1  0.084721  0.075546  0.068468  ...  0.296506  0.259295  0.185624  0.146236   \n",
       "2  0.708984  0.836804  0.912141  ...  0.985522  0.950696  1.036294  1.099779   \n",
       "3  0.638307  0.645355  0.605436  ...  1.669423  1.503240  1.533630  1.668337   \n",
       "4  6.724178  6.541579  6.733479  ...  5.850886  5.944654  5.942800  5.807128   \n",
       "\n",
       "       2015      2016      2017      2018      2019    2019.1  \n",
       "0       NaN       NaN       NaN       NaN       NaN       NaN  \n",
       "1  0.172897  0.149789  0.131695  0.163295  0.159824  0.159824  \n",
       "2  1.135044  1.031811  0.813301  0.777675  0.792137  0.792137  \n",
       "3  1.603775  1.557664  1.788786  1.782739  1.692248  1.692248  \n",
       "4  6.026182  6.080600  6.104134  6.362975  6.481217  6.481217  \n",
       "\n",
       "[5 rows x 35 columns]"
      ]
     },
     "execution_count": 3,
     "metadata": {},
     "output_type": "execute_result"
    }
   ],
   "source": [
    "df = pd.read_csv(\"CO2_emission.csv\")\n",
    "df.head()"
   ]
  },
  {
   "cell_type": "code",
   "execution_count": 4,
   "id": "e6224a2d",
   "metadata": {},
   "outputs": [
    {
     "data": {
      "text/plain": [
       "(215, 35)"
      ]
     },
     "execution_count": 4,
     "metadata": {},
     "output_type": "execute_result"
    }
   ],
   "source": [
    "df.shape"
   ]
  },
  {
   "cell_type": "code",
   "execution_count": 5,
   "id": "840a1e5a",
   "metadata": {},
   "outputs": [],
   "source": [
    "# df.describe ()"
   ]
  },
  {
   "cell_type": "code",
   "execution_count": 6,
   "id": "6beac59a",
   "metadata": {},
   "outputs": [],
   "source": [
    "df.loc[1,'1990':'2019'] = df.loc[1,'1990':'2019'].fillna(df.loc[1,'1990':'2019'].mean())"
   ]
  },
  {
   "cell_type": "code",
   "execution_count": 7,
   "id": "af2d5091",
   "metadata": {},
   "outputs": [
    {
     "name": "stdout",
     "output_type": "stream",
     "text": [
      "1990    0.191745\n",
      "1991    0.167682\n",
      "1992    0.095958\n",
      "1993    0.084721\n",
      "1994    0.075546\n",
      "1995    0.068468\n",
      "1996    0.062588\n",
      "1997    0.056827\n",
      "1998    0.052691\n",
      "1999    0.040157\n",
      "2000    0.036574\n",
      "2001    0.033785\n",
      "2002    0.045574\n",
      "2003    0.051518\n",
      "2004    0.041655\n",
      "2005    0.060419\n",
      "2006    0.066583\n",
      "2007    0.065312\n",
      "2008    0.128417\n",
      "2009    0.171862\n",
      "2010    0.243614\n",
      "2011    0.296506\n",
      "2012    0.259295\n",
      "2013    0.185624\n",
      "2014    0.146236\n",
      "2015    0.172897\n",
      "2016    0.149789\n",
      "2017    0.131695\n",
      "2018    0.163295\n",
      "2019    0.159824\n",
      "Name: 1, dtype: object\n",
      "30\n"
     ]
    }
   ],
   "source": [
    "list_of_Afghanistan = []\n",
    "list_of_Afghanistan = df.loc[1,'1990':'2019']\n",
    "print(list_of_Afghanistan)\n",
    "print(len(list_of_Afghanistan)) "
   ]
  },
  {
   "cell_type": "markdown",
   "id": "56b26265",
   "metadata": {},
   "source": [
    "# Calculating Mean of Afghanistan"
   ]
  },
  {
   "cell_type": "code",
   "execution_count": 8,
   "id": "769fe7d3",
   "metadata": {},
   "outputs": [],
   "source": [
    "def mean_of_list(listofvalues):\n",
    "    sum = 0\n",
    "    for i in range(len(listofvalues)):\n",
    "        sum += listofvalues[i]\n",
    "    mean = sum / len(listofvalues)\n",
    "    return mean\n",
    "    "
   ]
  },
  {
   "cell_type": "code",
   "execution_count": 9,
   "id": "b9644ca4",
   "metadata": {},
   "outputs": [
    {
     "name": "stdout",
     "output_type": "stream",
     "text": [
      "0.11689522946666667\n"
     ]
    }
   ],
   "source": [
    "mean_Afghanistan = mean_of_list(list_of_Afghanistan)\n",
    "print(mean_Afghanistan)"
   ]
  },
  {
   "cell_type": "code",
   "execution_count": 10,
   "id": "fd808560",
   "metadata": {},
   "outputs": [],
   "source": [
    "# country_mean = df.loc[1,'1990':'2019'].mean()\n",
    "# print(country_mean)\n"
   ]
  },
  {
   "cell_type": "code",
   "execution_count": 11,
   "id": "9a77ae87",
   "metadata": {},
   "outputs": [
    {
     "data": {
      "text/plain": [
       "0.11689522946666667"
      ]
     },
     "execution_count": 11,
     "metadata": {},
     "output_type": "execute_result"
    }
   ],
   "source": [
    "df.loc[1,'1990':'2019'].mean()"
   ]
  },
  {
   "cell_type": "markdown",
   "id": "05ddf3d1",
   "metadata": {},
   "source": [
    "# Calculating median of Afghanistan"
   ]
  },
  {
   "cell_type": "code",
   "execution_count": 12,
   "id": "99547d32",
   "metadata": {},
   "outputs": [],
   "source": [
    "def median_of_list(listofvalues):\n",
    "    total_values = len(listofvalues)\n",
    "    sorted_list  = sorted(listofvalues)\n",
    "    mid = total_values // 2\n",
    "    \n",
    "    if(total_values % 2 == 0):\n",
    "        median = (sorted_list[mid-1]+sorted_list[mid]) / 2\n",
    "        return median\n",
    "    else:\n",
    "        median = sorted_list[mid]\n",
    "        return median"
   ]
  },
  {
   "cell_type": "code",
   "execution_count": 13,
   "id": "93cbda31",
   "metadata": {},
   "outputs": [
    {
     "name": "stdout",
     "output_type": "stream",
     "text": [
      "0.090339426\n"
     ]
    }
   ],
   "source": [
    "median_Afghanistan = median_of_list(list_of_Afghanistan)\n",
    "print(median_Afghanistan)"
   ]
  },
  {
   "cell_type": "code",
   "execution_count": 14,
   "id": "ad91d359",
   "metadata": {},
   "outputs": [
    {
     "data": {
      "text/plain": [
       "0.090339426"
      ]
     },
     "execution_count": 14,
     "metadata": {},
     "output_type": "execute_result"
    }
   ],
   "source": [
    "df.loc[1,'1990':'2019'].median()"
   ]
  },
  {
   "cell_type": "markdown",
   "id": "1df79949",
   "metadata": {},
   "source": [
    "# Calculating Mode of Afghanistan"
   ]
  },
  {
   "cell_type": "code",
   "execution_count": 15,
   "id": "16d264b8",
   "metadata": {},
   "outputs": [],
   "source": [
    "def mode_of_list(listofvalues):\n",
    "    new_dict = {}\n",
    "    \n",
    "    for i in listofvalues:\n",
    "        if not i in new_dict:\n",
    "            new_dict[i] = 1\n",
    "        else:\n",
    "            new_dict[i] += 1\n",
    "            \n",
    "    return [k for k,l in new_dict.items() if l == max(new_dict.values())]        "
   ]
  },
  {
   "cell_type": "code",
   "execution_count": 16,
   "id": "7e085cd4",
   "metadata": {},
   "outputs": [
    {
     "name": "stdout",
     "output_type": "stream",
     "text": [
      "[0.191745115, 0.167681579, 0.095957742, 0.08472111, 0.075545827, 0.068467956, 0.062588034, 0.056826618, 0.052690856, 0.040156965, 0.036573704, 0.03378536, 0.045573659, 0.051518377, 0.041655394, 0.060418781, 0.066583291, 0.065312346, 0.128416559, 0.171862421, 0.243614036, 0.29650624, 0.259295334, 0.18562366, 0.146235617, 0.172896741, 0.149789334, 0.131694556, 0.1632953, 0.159824372]\n"
     ]
    }
   ],
   "source": [
    "x = mode_of_list(list_of_Afghanistan)\n",
    "print(x)\n",
    "\n"
   ]
  },
  {
   "cell_type": "code",
   "execution_count": 17,
   "id": "975aaa14",
   "metadata": {},
   "outputs": [
    {
     "data": {
      "text/plain": [
       "0     0.033785\n",
       "1     0.036574\n",
       "2     0.040157\n",
       "3     0.041655\n",
       "4     0.045574\n",
       "5     0.051518\n",
       "6     0.052691\n",
       "7     0.056827\n",
       "8     0.060419\n",
       "9     0.062588\n",
       "10    0.065312\n",
       "11    0.066583\n",
       "12    0.068468\n",
       "13    0.075546\n",
       "14    0.084721\n",
       "15    0.095958\n",
       "16    0.128417\n",
       "17    0.131695\n",
       "18    0.146236\n",
       "19    0.149789\n",
       "20    0.159824\n",
       "21    0.163295\n",
       "22    0.167682\n",
       "23    0.171862\n",
       "24    0.172897\n",
       "25    0.185624\n",
       "26    0.191745\n",
       "27    0.243614\n",
       "28    0.259295\n",
       "29    0.296506\n",
       "Name: 1, dtype: object"
      ]
     },
     "execution_count": 17,
     "metadata": {},
     "output_type": "execute_result"
    }
   ],
   "source": [
    "df.loc[1,'1990':'2019'].mode()"
   ]
  },
  {
   "cell_type": "markdown",
   "id": "aca16d38",
   "metadata": {},
   "source": [
    "# Measures of Dispersion\n",
    "Range,\n",
    "Variance,\n",
    "Standard Deviation,\n",
    "IQR"
   ]
  },
  {
   "cell_type": "markdown",
   "id": "8d4530dd",
   "metadata": {},
   "source": [
    " # Calculating Range Afghanistan"
   ]
  },
  {
   "cell_type": "code",
   "execution_count": 18,
   "id": "b7e7d4d7",
   "metadata": {},
   "outputs": [],
   "source": [
    "def range_of_list(listofvalues):\n",
    "    max_value = max(listofvalues)\n",
    "    min_value = min(listofvalues)\n",
    "    \n",
    "    return max_value - min_value"
   ]
  },
  {
   "cell_type": "code",
   "execution_count": 19,
   "id": "589d58f5",
   "metadata": {},
   "outputs": [
    {
     "data": {
      "text/plain": [
       "0.26272088"
      ]
     },
     "execution_count": 19,
     "metadata": {},
     "output_type": "execute_result"
    }
   ],
   "source": [
    "range_of_list(list_of_Afghanistan)"
   ]
  },
  {
   "cell_type": "markdown",
   "id": "06c3e831",
   "metadata": {},
   "source": [
    "# Calculating Variance  Afghanistan"
   ]
  },
  {
   "cell_type": "code",
   "execution_count": 20,
   "id": "476fce67",
   "metadata": {},
   "outputs": [],
   "source": [
    "def variance_of_list(listofvalues):\n",
    "    mean_listofvalues = mean_of_list(listofvalues)\n",
    "    total_obs = len(listofvalues)\n",
    "    \n",
    "    sum_numerator = 0\n",
    "    \n",
    "    for i in range (total_obs):\n",
    "        temp = (listofvalues[i] - mean_listofvalues)**2\n",
    "        \n",
    "        sum_numerator +=temp\n",
    "    var_listofvalues = sum_numerator / total_obs\n",
    "    return var_listofvalues"
   ]
  },
  {
   "cell_type": "code",
   "execution_count": 21,
   "id": "4b4df9ab",
   "metadata": {},
   "outputs": [
    {
     "data": {
      "text/plain": [
       "0.005269255181447111"
      ]
     },
     "execution_count": 21,
     "metadata": {},
     "output_type": "execute_result"
    }
   ],
   "source": [
    "df.loc[1,'1990':'2019'].var()"
   ]
  },
  {
   "cell_type": "code",
   "execution_count": 22,
   "id": "f47171d7",
   "metadata": {},
   "outputs": [
    {
     "data": {
      "text/plain": [
       "0.005093613342065541"
      ]
     },
     "execution_count": 22,
     "metadata": {},
     "output_type": "execute_result"
    }
   ],
   "source": [
    "variance_Afghanistan = variance_of_list(list_of_Afghanistan)\n",
    "variance_Afghanistan"
   ]
  },
  {
   "cell_type": "markdown",
   "id": "9d9ce1d8",
   "metadata": {},
   "source": [
    "# Calculating Std dev Afghanistan"
   ]
  },
  {
   "cell_type": "code",
   "execution_count": 23,
   "id": "f9cba535",
   "metadata": {},
   "outputs": [],
   "source": [
    "def std_of_list(listofvalues):\n",
    "    variance = variance_of_list(listofvalues)\n",
    "    \n",
    "    return variance**(1/2)"
   ]
  },
  {
   "cell_type": "code",
   "execution_count": 24,
   "id": "1c942d07",
   "metadata": {},
   "outputs": [
    {
     "data": {
      "text/plain": [
       "0.07258963549603423"
      ]
     },
     "execution_count": 24,
     "metadata": {},
     "output_type": "execute_result"
    }
   ],
   "source": [
    "df.loc[1,'1990':'2019'].std()"
   ]
  },
  {
   "cell_type": "code",
   "execution_count": 25,
   "id": "df0063b0",
   "metadata": {},
   "outputs": [
    {
     "data": {
      "text/plain": [
       "0.07136955472794783"
      ]
     },
     "execution_count": 25,
     "metadata": {},
     "output_type": "execute_result"
    }
   ],
   "source": [
    "std_Afghanistan = std_of_list(list_of_Afghanistan)\n",
    "std_Afghanistan"
   ]
  },
  {
   "cell_type": "markdown",
   "id": "e891b528",
   "metadata": {},
   "source": [
    "# Finding Quartiles"
   ]
  },
  {
   "cell_type": "code",
   "execution_count": 26,
   "id": "db8c29ac",
   "metadata": {},
   "outputs": [],
   "source": [
    "def find_quartile(x,listofvalues):\n",
    "    sorted_list = sorted(listofvalues)\n",
    "    total_values = len(sorted_list)\n",
    "    \n",
    "    if total_values % 2 == 0:\n",
    "        mid = total_values // 2\n",
    "        lower_half  = sorted_list[:mid]\n",
    "        upper_half = sorted_list[mid:]\n",
    "    else:\n",
    "        mid = total_values // 2\n",
    "        lower_half = sorted_list[:mid]\n",
    "        upper_half = sorted_list[mid+1:]\n",
    "        \n",
    "    if x == 1:\n",
    "        return median_of_list(lower_half)\n",
    "    else:\n",
    "        return median_of_list(upper_half)"
   ]
  },
  {
   "cell_type": "code",
   "execution_count": 27,
   "id": "15e59e6e",
   "metadata": {},
   "outputs": [
    {
     "data": {
      "text/plain": [
       "0.056826618"
      ]
     },
     "execution_count": 27,
     "metadata": {},
     "output_type": "execute_result"
    }
   ],
   "source": [
    "firstquartile_Afghanistan = find_quartile(1,list_of_Afghanistan)\n",
    "firstquartile_Afghanistan"
   ]
  },
  {
   "cell_type": "code",
   "execution_count": 28,
   "id": "4ab804e7",
   "metadata": {},
   "outputs": [
    {
     "data": {
      "text/plain": [
       "0.167681579"
      ]
     },
     "execution_count": 28,
     "metadata": {},
     "output_type": "execute_result"
    }
   ],
   "source": [
    "thirdquartile_Afghanistan = find_quartile(3,list_of_Afghanistan)\n",
    "thirdquartile_Afghanistan"
   ]
  },
  {
   "cell_type": "markdown",
   "id": "b2b47443",
   "metadata": {},
   "source": [
    "# Finding Inter-Quartile Range"
   ]
  },
  {
   "cell_type": "code",
   "execution_count": 29,
   "id": "56d4d80d",
   "metadata": {},
   "outputs": [
    {
     "data": {
      "text/plain": [
       "0.110854961"
      ]
     },
     "execution_count": 29,
     "metadata": {},
     "output_type": "execute_result"
    }
   ],
   "source": [
    "IQR_Afghanistan = thirdquartile_Afghanistan - firstquartile_Afghanistan\n",
    "IQR_Afghanistan"
   ]
  },
  {
   "cell_type": "code",
   "execution_count": 30,
   "id": "b3a9297c",
   "metadata": {},
   "outputs": [
    {
     "data": {
      "text/plain": [
       "0.9004811015333334"
      ]
     },
     "execution_count": 30,
     "metadata": {},
     "output_type": "execute_result"
    }
   ],
   "source": [
    "df.loc[2,'1990':'2019'].mean()"
   ]
  },
  {
   "cell_type": "markdown",
   "id": "3cdd7476",
   "metadata": {},
   "source": [
    "# World pollution stats"
   ]
  },
  {
   "cell_type": "code",
   "execution_count": 31,
   "id": "0e9a9dd8",
   "metadata": {
    "scrolled": true
   },
   "outputs": [
    {
     "data": {
      "text/html": [
       "<div>\n",
       "<style scoped>\n",
       "    .dataframe tbody tr th:only-of-type {\n",
       "        vertical-align: middle;\n",
       "    }\n",
       "\n",
       "    .dataframe tbody tr th {\n",
       "        vertical-align: top;\n",
       "    }\n",
       "\n",
       "    .dataframe thead th {\n",
       "        text-align: right;\n",
       "    }\n",
       "</style>\n",
       "<table border=\"1\" class=\"dataframe\">\n",
       "  <thead>\n",
       "    <tr style=\"text-align: right;\">\n",
       "      <th></th>\n",
       "      <th>1990</th>\n",
       "      <th>1991</th>\n",
       "      <th>1992</th>\n",
       "      <th>1993</th>\n",
       "      <th>1994</th>\n",
       "      <th>1995</th>\n",
       "      <th>1996</th>\n",
       "      <th>1997</th>\n",
       "      <th>1998</th>\n",
       "      <th>1999</th>\n",
       "      <th>...</th>\n",
       "      <th>2011</th>\n",
       "      <th>2012</th>\n",
       "      <th>2013</th>\n",
       "      <th>2014</th>\n",
       "      <th>2015</th>\n",
       "      <th>2016</th>\n",
       "      <th>2017</th>\n",
       "      <th>2018</th>\n",
       "      <th>2019</th>\n",
       "      <th>2019.1</th>\n",
       "    </tr>\n",
       "  </thead>\n",
       "  <tbody>\n",
       "    <tr>\n",
       "      <th>count</th>\n",
       "      <td>185.000000</td>\n",
       "      <td>186.000000</td>\n",
       "      <td>189.000000</td>\n",
       "      <td>189.000000</td>\n",
       "      <td>189.000000</td>\n",
       "      <td>190.000000</td>\n",
       "      <td>190.000000</td>\n",
       "      <td>190.000000</td>\n",
       "      <td>189.000000</td>\n",
       "      <td>189.000000</td>\n",
       "      <td>...</td>\n",
       "      <td>191.000000</td>\n",
       "      <td>191.000000</td>\n",
       "      <td>191.000000</td>\n",
       "      <td>191.000000</td>\n",
       "      <td>191.000000</td>\n",
       "      <td>191.000000</td>\n",
       "      <td>191.000000</td>\n",
       "      <td>191.000000</td>\n",
       "      <td>191.000000</td>\n",
       "      <td>191.000000</td>\n",
       "    </tr>\n",
       "    <tr>\n",
       "      <th>mean</th>\n",
       "      <td>4.404504</td>\n",
       "      <td>4.290648</td>\n",
       "      <td>4.174834</td>\n",
       "      <td>4.085472</td>\n",
       "      <td>4.045067</td>\n",
       "      <td>4.136628</td>\n",
       "      <td>4.211147</td>\n",
       "      <td>4.250716</td>\n",
       "      <td>4.282809</td>\n",
       "      <td>4.265652</td>\n",
       "      <td>...</td>\n",
       "      <td>4.392175</td>\n",
       "      <td>4.440399</td>\n",
       "      <td>4.326678</td>\n",
       "      <td>4.226973</td>\n",
       "      <td>4.184129</td>\n",
       "      <td>4.195432</td>\n",
       "      <td>4.199802</td>\n",
       "      <td>4.164970</td>\n",
       "      <td>4.115138</td>\n",
       "      <td>4.115138</td>\n",
       "    </tr>\n",
       "    <tr>\n",
       "      <th>std</th>\n",
       "      <td>5.577460</td>\n",
       "      <td>5.577411</td>\n",
       "      <td>5.362451</td>\n",
       "      <td>5.385712</td>\n",
       "      <td>5.464233</td>\n",
       "      <td>5.510400</td>\n",
       "      <td>5.656146</td>\n",
       "      <td>5.857395</td>\n",
       "      <td>5.846361</td>\n",
       "      <td>5.917358</td>\n",
       "      <td>...</td>\n",
       "      <td>5.284152</td>\n",
       "      <td>5.277192</td>\n",
       "      <td>5.203024</td>\n",
       "      <td>5.079421</td>\n",
       "      <td>4.985068</td>\n",
       "      <td>4.938351</td>\n",
       "      <td>4.869959</td>\n",
       "      <td>4.748086</td>\n",
       "      <td>4.714595</td>\n",
       "      <td>4.714595</td>\n",
       "    </tr>\n",
       "    <tr>\n",
       "      <th>min</th>\n",
       "      <td>0.001183</td>\n",
       "      <td>0.001158</td>\n",
       "      <td>0.001130</td>\n",
       "      <td>0.001100</td>\n",
       "      <td>0.001071</td>\n",
       "      <td>0.001043</td>\n",
       "      <td>0.000000</td>\n",
       "      <td>0.000991</td>\n",
       "      <td>0.035567</td>\n",
       "      <td>0.036699</td>\n",
       "      <td>...</td>\n",
       "      <td>0.040186</td>\n",
       "      <td>0.040017</td>\n",
       "      <td>0.026979</td>\n",
       "      <td>0.029121</td>\n",
       "      <td>0.039370</td>\n",
       "      <td>0.030715</td>\n",
       "      <td>0.035013</td>\n",
       "      <td>0.037113</td>\n",
       "      <td>0.036986</td>\n",
       "      <td>0.036986</td>\n",
       "    </tr>\n",
       "    <tr>\n",
       "      <th>25%</th>\n",
       "      <td>0.434249</td>\n",
       "      <td>0.452759</td>\n",
       "      <td>0.471380</td>\n",
       "      <td>0.448535</td>\n",
       "      <td>0.406659</td>\n",
       "      <td>0.423225</td>\n",
       "      <td>0.461902</td>\n",
       "      <td>0.475029</td>\n",
       "      <td>0.496752</td>\n",
       "      <td>0.509021</td>\n",
       "      <td>...</td>\n",
       "      <td>0.630991</td>\n",
       "      <td>0.633505</td>\n",
       "      <td>0.675626</td>\n",
       "      <td>0.669278</td>\n",
       "      <td>0.667341</td>\n",
       "      <td>0.728493</td>\n",
       "      <td>0.791952</td>\n",
       "      <td>0.795606</td>\n",
       "      <td>0.801764</td>\n",
       "      <td>0.801764</td>\n",
       "    </tr>\n",
       "    <tr>\n",
       "      <th>50%</th>\n",
       "      <td>1.914543</td>\n",
       "      <td>1.941825</td>\n",
       "      <td>2.012212</td>\n",
       "      <td>1.867589</td>\n",
       "      <td>1.830972</td>\n",
       "      <td>1.832534</td>\n",
       "      <td>1.875031</td>\n",
       "      <td>2.034502</td>\n",
       "      <td>2.156377</td>\n",
       "      <td>2.132253</td>\n",
       "      <td>...</td>\n",
       "      <td>2.492730</td>\n",
       "      <td>2.562000</td>\n",
       "      <td>2.542694</td>\n",
       "      <td>2.620389</td>\n",
       "      <td>2.579300</td>\n",
       "      <td>2.597787</td>\n",
       "      <td>2.609976</td>\n",
       "      <td>2.584477</td>\n",
       "      <td>2.717624</td>\n",
       "      <td>2.717624</td>\n",
       "    </tr>\n",
       "    <tr>\n",
       "      <th>75%</th>\n",
       "      <td>6.910335</td>\n",
       "      <td>6.497471</td>\n",
       "      <td>6.482311</td>\n",
       "      <td>6.430944</td>\n",
       "      <td>6.337175</td>\n",
       "      <td>6.360589</td>\n",
       "      <td>6.581746</td>\n",
       "      <td>6.478028</td>\n",
       "      <td>6.369907</td>\n",
       "      <td>6.233211</td>\n",
       "      <td>...</td>\n",
       "      <td>6.269888</td>\n",
       "      <td>6.336345</td>\n",
       "      <td>6.069882</td>\n",
       "      <td>5.814026</td>\n",
       "      <td>5.776685</td>\n",
       "      <td>5.802129</td>\n",
       "      <td>5.834060</td>\n",
       "      <td>5.770189</td>\n",
       "      <td>5.585162</td>\n",
       "      <td>5.585162</td>\n",
       "    </tr>\n",
       "    <tr>\n",
       "      <th>max</th>\n",
       "      <td>30.195189</td>\n",
       "      <td>31.778496</td>\n",
       "      <td>29.632441</td>\n",
       "      <td>33.122025</td>\n",
       "      <td>36.466263</td>\n",
       "      <td>37.102174</td>\n",
       "      <td>40.074177</td>\n",
       "      <td>47.429575</td>\n",
       "      <td>48.045021</td>\n",
       "      <td>50.833850</td>\n",
       "      <td>...</td>\n",
       "      <td>33.494413</td>\n",
       "      <td>34.188222</td>\n",
       "      <td>32.598940</td>\n",
       "      <td>33.205895</td>\n",
       "      <td>33.043510</td>\n",
       "      <td>32.745888</td>\n",
       "      <td>32.127990</td>\n",
       "      <td>31.067533</td>\n",
       "      <td>32.474469</td>\n",
       "      <td>32.474469</td>\n",
       "    </tr>\n",
       "  </tbody>\n",
       "</table>\n",
       "<p>8 rows × 31 columns</p>\n",
       "</div>"
      ],
      "text/plain": [
       "             1990        1991        1992        1993        1994        1995  \\\n",
       "count  185.000000  186.000000  189.000000  189.000000  189.000000  190.000000   \n",
       "mean     4.404504    4.290648    4.174834    4.085472    4.045067    4.136628   \n",
       "std      5.577460    5.577411    5.362451    5.385712    5.464233    5.510400   \n",
       "min      0.001183    0.001158    0.001130    0.001100    0.001071    0.001043   \n",
       "25%      0.434249    0.452759    0.471380    0.448535    0.406659    0.423225   \n",
       "50%      1.914543    1.941825    2.012212    1.867589    1.830972    1.832534   \n",
       "75%      6.910335    6.497471    6.482311    6.430944    6.337175    6.360589   \n",
       "max     30.195189   31.778496   29.632441   33.122025   36.466263   37.102174   \n",
       "\n",
       "             1996        1997        1998        1999  ...        2011  \\\n",
       "count  190.000000  190.000000  189.000000  189.000000  ...  191.000000   \n",
       "mean     4.211147    4.250716    4.282809    4.265652  ...    4.392175   \n",
       "std      5.656146    5.857395    5.846361    5.917358  ...    5.284152   \n",
       "min      0.000000    0.000991    0.035567    0.036699  ...    0.040186   \n",
       "25%      0.461902    0.475029    0.496752    0.509021  ...    0.630991   \n",
       "50%      1.875031    2.034502    2.156377    2.132253  ...    2.492730   \n",
       "75%      6.581746    6.478028    6.369907    6.233211  ...    6.269888   \n",
       "max     40.074177   47.429575   48.045021   50.833850  ...   33.494413   \n",
       "\n",
       "             2012        2013        2014        2015        2016        2017  \\\n",
       "count  191.000000  191.000000  191.000000  191.000000  191.000000  191.000000   \n",
       "mean     4.440399    4.326678    4.226973    4.184129    4.195432    4.199802   \n",
       "std      5.277192    5.203024    5.079421    4.985068    4.938351    4.869959   \n",
       "min      0.040017    0.026979    0.029121    0.039370    0.030715    0.035013   \n",
       "25%      0.633505    0.675626    0.669278    0.667341    0.728493    0.791952   \n",
       "50%      2.562000    2.542694    2.620389    2.579300    2.597787    2.609976   \n",
       "75%      6.336345    6.069882    5.814026    5.776685    5.802129    5.834060   \n",
       "max     34.188222   32.598940   33.205895   33.043510   32.745888   32.127990   \n",
       "\n",
       "             2018        2019      2019.1  \n",
       "count  191.000000  191.000000  191.000000  \n",
       "mean     4.164970    4.115138    4.115138  \n",
       "std      4.748086    4.714595    4.714595  \n",
       "min      0.037113    0.036986    0.036986  \n",
       "25%      0.795606    0.801764    0.801764  \n",
       "50%      2.584477    2.717624    2.717624  \n",
       "75%      5.770189    5.585162    5.585162  \n",
       "max     31.067533   32.474469   32.474469  \n",
       "\n",
       "[8 rows x 31 columns]"
      ]
     },
     "execution_count": 31,
     "metadata": {},
     "output_type": "execute_result"
    }
   ],
   "source": [
    "df.describe()"
   ]
  },
  {
   "cell_type": "code",
   "execution_count": 32,
   "id": "8f868694",
   "metadata": {},
   "outputs": [],
   "source": [
    "df.rename(columns = {'Country Name' : 'country_name'}, inplace = True)"
   ]
  },
  {
   "cell_type": "code",
   "execution_count": 51,
   "id": "d9e19477-30ac-4142-b727-accef80bf460",
   "metadata": {},
   "outputs": [
    {
     "data": {
      "text/plain": [
       "(215, 35)"
      ]
     },
     "execution_count": 51,
     "metadata": {},
     "output_type": "execute_result"
    }
   ],
   "source": [
    "df.shape"
   ]
  },
  {
   "cell_type": "code",
   "execution_count": 66,
   "id": "cdfdfc08-f4b4-4b63-916c-0c7d0c8e3787",
   "metadata": {},
   "outputs": [],
   "source": [
    "data_2019 = df.drop(df.iloc[:, 1:33], axis = 1)"
   ]
  },
  {
   "cell_type": "code",
   "execution_count": 69,
   "id": "e55814dd-c423-40fd-9a13-cc3b563dd8f4",
   "metadata": {},
   "outputs": [],
   "source": [
    "data_2019 = data_2019.drop(\"2019.1\", axis = 1)"
   ]
  },
  {
   "cell_type": "code",
   "execution_count": 71,
   "id": "c92dc811-d087-4b4c-a3dd-6419bd191166",
   "metadata": {},
   "outputs": [
    {
     "data": {
      "text/html": [
       "<div>\n",
       "<style scoped>\n",
       "    .dataframe tbody tr th:only-of-type {\n",
       "        vertical-align: middle;\n",
       "    }\n",
       "\n",
       "    .dataframe tbody tr th {\n",
       "        vertical-align: top;\n",
       "    }\n",
       "\n",
       "    .dataframe thead th {\n",
       "        text-align: right;\n",
       "    }\n",
       "</style>\n",
       "<table border=\"1\" class=\"dataframe\">\n",
       "  <thead>\n",
       "    <tr style=\"text-align: right;\">\n",
       "      <th></th>\n",
       "      <th>country_name</th>\n",
       "      <th>2019</th>\n",
       "    </tr>\n",
       "  </thead>\n",
       "  <tbody>\n",
       "    <tr>\n",
       "      <th>0</th>\n",
       "      <td>Aruba</td>\n",
       "      <td>4.115138</td>\n",
       "    </tr>\n",
       "    <tr>\n",
       "      <th>1</th>\n",
       "      <td>Afghanistan</td>\n",
       "      <td>0.159824</td>\n",
       "    </tr>\n",
       "    <tr>\n",
       "      <th>2</th>\n",
       "      <td>Angola</td>\n",
       "      <td>0.792137</td>\n",
       "    </tr>\n",
       "    <tr>\n",
       "      <th>3</th>\n",
       "      <td>Albania</td>\n",
       "      <td>1.692248</td>\n",
       "    </tr>\n",
       "    <tr>\n",
       "      <th>4</th>\n",
       "      <td>Andorra</td>\n",
       "      <td>6.481217</td>\n",
       "    </tr>\n",
       "    <tr>\n",
       "      <th>...</th>\n",
       "      <td>...</td>\n",
       "      <td>...</td>\n",
       "    </tr>\n",
       "    <tr>\n",
       "      <th>210</th>\n",
       "      <td>Samoa</td>\n",
       "      <td>1.522124</td>\n",
       "    </tr>\n",
       "    <tr>\n",
       "      <th>211</th>\n",
       "      <td>Yemen, Rep.</td>\n",
       "      <td>0.380633</td>\n",
       "    </tr>\n",
       "    <tr>\n",
       "      <th>212</th>\n",
       "      <td>South Africa</td>\n",
       "      <td>7.507736</td>\n",
       "    </tr>\n",
       "    <tr>\n",
       "      <th>213</th>\n",
       "      <td>Zambia</td>\n",
       "      <td>0.380717</td>\n",
       "    </tr>\n",
       "    <tr>\n",
       "      <th>214</th>\n",
       "      <td>Zimbabwe</td>\n",
       "      <td>0.802979</td>\n",
       "    </tr>\n",
       "  </tbody>\n",
       "</table>\n",
       "<p>215 rows × 2 columns</p>\n",
       "</div>"
      ],
      "text/plain": [
       "     country_name      2019\n",
       "0           Aruba  4.115138\n",
       "1     Afghanistan  0.159824\n",
       "2          Angola  0.792137\n",
       "3         Albania  1.692248\n",
       "4         Andorra  6.481217\n",
       "..            ...       ...\n",
       "210         Samoa  1.522124\n",
       "211   Yemen, Rep.  0.380633\n",
       "212  South Africa  7.507736\n",
       "213        Zambia  0.380717\n",
       "214      Zimbabwe  0.802979\n",
       "\n",
       "[215 rows x 2 columns]"
      ]
     },
     "execution_count": 71,
     "metadata": {},
     "output_type": "execute_result"
    }
   ],
   "source": [
    "data_2019.fillna(df['2019'].mean())"
   ]
  },
  {
   "cell_type": "code",
   "execution_count": 78,
   "id": "e11097ba-3c73-43a0-bbd1-0ea8cfa11c8d",
   "metadata": {},
   "outputs": [],
   "source": [
    "plot_data = data_2019.head(5)"
   ]
  },
  {
   "cell_type": "code",
   "execution_count": 79,
   "id": "93c9e2ee-1c5f-49d7-8cc5-003e2dae900a",
   "metadata": {},
   "outputs": [
    {
     "data": {
      "text/html": [
       "<div>\n",
       "<style scoped>\n",
       "    .dataframe tbody tr th:only-of-type {\n",
       "        vertical-align: middle;\n",
       "    }\n",
       "\n",
       "    .dataframe tbody tr th {\n",
       "        vertical-align: top;\n",
       "    }\n",
       "\n",
       "    .dataframe thead th {\n",
       "        text-align: right;\n",
       "    }\n",
       "</style>\n",
       "<table border=\"1\" class=\"dataframe\">\n",
       "  <thead>\n",
       "    <tr style=\"text-align: right;\">\n",
       "      <th></th>\n",
       "      <th>country_name</th>\n",
       "      <th>2019</th>\n",
       "    </tr>\n",
       "  </thead>\n",
       "  <tbody>\n",
       "    <tr>\n",
       "      <th>0</th>\n",
       "      <td>Aruba</td>\n",
       "      <td>NaN</td>\n",
       "    </tr>\n",
       "    <tr>\n",
       "      <th>1</th>\n",
       "      <td>Afghanistan</td>\n",
       "      <td>0.159824</td>\n",
       "    </tr>\n",
       "    <tr>\n",
       "      <th>2</th>\n",
       "      <td>Angola</td>\n",
       "      <td>0.792137</td>\n",
       "    </tr>\n",
       "    <tr>\n",
       "      <th>3</th>\n",
       "      <td>Albania</td>\n",
       "      <td>1.692248</td>\n",
       "    </tr>\n",
       "    <tr>\n",
       "      <th>4</th>\n",
       "      <td>Andorra</td>\n",
       "      <td>6.481217</td>\n",
       "    </tr>\n",
       "  </tbody>\n",
       "</table>\n",
       "</div>"
      ],
      "text/plain": [
       "  country_name      2019\n",
       "0        Aruba       NaN\n",
       "1  Afghanistan  0.159824\n",
       "2       Angola  0.792137\n",
       "3      Albania  1.692248\n",
       "4      Andorra  6.481217"
      ]
     },
     "execution_count": 79,
     "metadata": {},
     "output_type": "execute_result"
    }
   ],
   "source": [
    "plot_data"
   ]
  },
  {
   "cell_type": "code",
   "execution_count": 86,
   "id": "ce67553a",
   "metadata": {},
   "outputs": [
    {
     "data": {
      "text/plain": [
       "Text(0.5, 1.0, 'Top 5 Co2 emmission country')"
      ]
     },
     "execution_count": 86,
     "metadata": {},
     "output_type": "execute_result"
    },
    {
     "data": {
      "image/png": "[encoded data removed]",
      "text/plain": [
       "<Figure size 640x480 with 1 Axes>"
      ]
     },
     "metadata": {},
     "output_type": "display_data"
    }
   ],
   "source": [
    "\n",
    "sns.barplot(x = \"2019\", y = \"country_name\", data = plot_data, order = plot_data.sort_values(\"2019\", ascending = False).country_name)\n",
    "plt.title(\"Top 5 Co2 emmission country\")"
   ]
  },
  {
   "cell_type": "code",
   "execution_count": 87,
   "id": "fb956283",
   "metadata": {},
   "outputs": [
    {
     "ename": "ModuleNotFoundError",
     "evalue": "No module named 'plotly'",
     "output_type": "error",
     "traceback": [
      "\u001b[1;31m---------------------------------------------------------------------------\u001b[0m",
      "\u001b[1;31mModuleNotFoundError\u001b[0m                       Traceback (most recent call last)",
      "Input \u001b[1;32mIn [87]\u001b[0m, in \u001b[0;36m<cell line: 1>\u001b[1;34m()\u001b[0m\n\u001b[1;32m----> 1\u001b[0m \u001b[38;5;28;01mimport\u001b[39;00m \u001b[38;5;21;01mplotly\u001b[39;00m\u001b[38;5;21;01m.\u001b[39;00m\u001b[38;5;21;01mexpress\u001b[39;00m \u001b[38;5;28;01mas\u001b[39;00m \u001b[38;5;21;01mpx\u001b[39;00m\n",
      "\u001b[1;31mModuleNotFoundError\u001b[0m: No module named 'plotly'"
     ]
    }
   ],
   "source": [
    "import plotly.express as px"
   ]
  },
  {
   "cell_type": "code",
   "execution_count": null,
   "id": "046acf9a-2cf5-485e-816b-94c1a29c2ae9",
   "metadata": {},
   "outputs": [],
   "source": []
  }
 ],
 "metadata": {
  "kernelspec": {
   "display_name": "Python 3 (ipykernel)",
   "language": "python",
   "name": "python3"
  },
  "language_info": {
   "codemirror_mode": {
    "name": "ipython",
    "version": 3
   },
   "file_extension": ".py",
   "mimetype": "text/x-python",
   "name": "python",
   "nbconvert_exporter": "python",
   "pygments_lexer": "ipython3",
   "version": "3.8.13"
  }
 },
 "nbformat": 4,
 "nbformat_minor": 5
}
