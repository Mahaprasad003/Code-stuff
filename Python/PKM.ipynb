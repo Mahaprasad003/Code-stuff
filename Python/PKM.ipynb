{
 "cells": [
  {
   "cell_type": "code",
   "execution_count": 2,
   "id": "7e8e1472-123c-479a-b219-84c6b0c615e3",
   "metadata": {},
   "outputs": [
    {
     "name": "stdout",
     "output_type": "stream",
     "text": [
      "0 0 2\n"
     ]
    }
   ],
   "source": [
    "print(0,0,2)"
   ]
  },
  {
   "cell_type": "code",
   "execution_count": 14,
   "id": "f960a24d-a09e-4cb5-9a86-ff8f72d8d06c",
   "metadata": {},
   "outputs": [
    {
     "name": "stdout",
     "output_type": "stream",
     "text": [
      "Mahaprasad's NB\n"
     ]
    }
   ],
   "source": [
    "print('Mahaprasad\\'s NB')"
   ]
  },
  {
   "cell_type": "code",
   "execution_count": 17,
   "id": "7af3d6e4-798e-4214-b9e1-8f1d070bd2a2",
   "metadata": {},
   "outputs": [
    {
     "name": "stdout",
     "output_type": "stream",
     "text": [
      "2+3\n"
     ]
    }
   ],
   "source": [
    "print('2+3')"
   ]
  },
  {
   "cell_type": "code",
   "execution_count": 25,
   "id": "9d20aefc-e9e6-4edd-a6c1-05dfe438a917",
   "metadata": {},
   "outputs": [
    {
     "name": "stdout",
     "output_type": "stream",
     "text": [
      "(5+5j)\n",
      "<class 'complex'>\n"
     ]
    }
   ],
   "source": [
    "x = 2+0j\n",
    "y = 3+5j\n",
    "print(x+y)\n",
    "print(type(x+y))"
   ]
  },
  {
   "cell_type": "code",
   "execution_count": 27,
   "id": "17243f73-d097-468a-ad4d-2c4c8dc9245a",
   "metadata": {},
   "outputs": [
    {
     "name": "stdout",
     "output_type": "stream",
     "text": [
      "2.0\n"
     ]
    }
   ],
   "source": [
    "print(x.real)"
   ]
  },
  {
   "cell_type": "code",
   "execution_count": 30,
   "id": "a182fcde-20a9-4002-b4d8-c2cdd50c59de",
   "metadata": {},
   "outputs": [
    {
     "name": "stdout",
     "output_type": "stream",
     "text": [
      "-468.5\n"
     ]
    }
   ],
   "source": [
    "num1 = -423.50\n",
    "num2 = -45\n",
    "print(num1 + num2)"
   ]
  },
  {
   "cell_type": "code",
   "execution_count": 33,
   "id": "9cd4eb4f-1bf2-4fd0-924c-343c1b7787c5",
   "metadata": {},
   "outputs": [
    {
     "name": "stdout",
     "output_type": "stream",
     "text": [
      "3\n"
     ]
    }
   ],
   "source": [
    "print(10//3)"
   ]
  },
  {
   "cell_type": "code",
   "execution_count": 35,
   "id": "ab52241f-070f-47e6-86f5-6e689d6963b7",
   "metadata": {},
   "outputs": [
    {
     "name": "stdout",
     "output_type": "stream",
     "text": [
      "<class 'int'>\n"
     ]
    }
   ],
   "source": [
    "x = '192'\n",
    "y = int(x)\n",
    "print(type(y))"
   ]
  },
  {
   "cell_type": "markdown",
   "id": "a4d8d3ef-760c-4050-ad2c-c8501d1fee5c",
   "metadata": {},
   "source": [
    "# Python Casting"
   ]
  },
  {
   "cell_type": "code",
   "execution_count": 1,
   "id": "d7998075-fa77-4a81-a78a-9c6b27edf08d",
   "metadata": {},
   "outputs": [
    {
     "name": "stdout",
     "output_type": "stream",
     "text": [
      "1 2 3\n"
     ]
    }
   ],
   "source": [
    "x = int(1)\n",
    "y = int(2.8)\n",
    "z = int(\"3\")\n",
    "\n",
    "print(x,y,z)"
   ]
  },
  {
   "cell_type": "code",
   "execution_count": 2,
   "id": "01000b27-18ff-460b-88c5-917027f79330",
   "metadata": {},
   "outputs": [
    {
     "name": "stdout",
     "output_type": "stream",
     "text": [
      "1.0 2.8 3.0 4.2\n"
     ]
    }
   ],
   "source": [
    "x = float(1)\n",
    "y = float(2.8)\n",
    "z = float(\"3\")\n",
    "w = float(\"4.2\")\n",
    "\n",
    "print(x,y,z,w)"
   ]
  },
  {
   "cell_type": "code",
   "execution_count": 3,
   "id": "04860a2f-6bee-4db9-a3d7-00f7ae5de059",
   "metadata": {},
   "outputs": [
    {
     "name": "stdout",
     "output_type": "stream",
     "text": [
      "S1 2 3.0\n"
     ]
    }
   ],
   "source": [
    "x = str(\"S1\")\n",
    "y = str(2)\n",
    "z = str(3.0)\n",
    "\n",
    "print(x, y, z)"
   ]
  },
  {
   "cell_type": "code",
   "execution_count": 4,
   "id": "e28af011-a377-4d82-81a7-a2d36382998f",
   "metadata": {},
   "outputs": [
    {
     "name": "stdout",
     "output_type": "stream",
     "text": [
      "Hello\n",
      "Hello\n"
     ]
    }
   ],
   "source": [
    "print(\"Hello\")\n",
    "print('Hello')"
   ]
  },
  {
   "cell_type": "code",
   "execution_count": 5,
   "id": "24653621-2e25-4de6-b594-a771247aaabc",
   "metadata": {},
   "outputs": [
    {
     "name": "stdout",
     "output_type": "stream",
     "text": [
      "Hello\n"
     ]
    }
   ],
   "source": [
    "a = \"Hello\"\n",
    "print(a)"
   ]
  },
  {
   "cell_type": "code",
   "execution_count": 7,
   "id": "e8e837d7-31c0-46ff-ae20-b8c11721204c",
   "metadata": {},
   "outputs": [
    {
     "name": "stdout",
     "output_type": "stream",
     "text": [
      "This is a multi-line comment\n",
      "and this is the second line.\n",
      "This is the third line.\n"
     ]
    }
   ],
   "source": [
    "a = \"\"\"This is a multi-line comment\n",
    "and this is the second line.\n",
    "This is the third line.\"\"\"\n",
    "print(a)"
   ]
  },
  {
   "cell_type": "code",
   "execution_count": 8,
   "id": "0939628f-c741-4d2d-8897-f02470e60774",
   "metadata": {},
   "outputs": [
    {
     "name": "stdout",
     "output_type": "stream",
     "text": [
      "llo\n"
     ]
    }
   ],
   "source": [
    "b = \"Hello World\"\n",
    "print(b[2:5])"
   ]
  },
  {
   "cell_type": "code",
   "execution_count": 9,
   "id": "cb5dff17-b759-42d6-a544-69077ebdd198",
   "metadata": {},
   "outputs": [
    {
     "name": "stdout",
     "output_type": "stream",
     "text": [
      "Hello\n"
     ]
    }
   ],
   "source": [
    "print(b[:5])"
   ]
  },
  {
   "cell_type": "code",
   "execution_count": 10,
   "id": "dff26a9f-f9f2-42a7-a853-c17173a39bce",
   "metadata": {},
   "outputs": [
    {
     "name": "stdout",
     "output_type": "stream",
     "text": [
      "dlroW olleH\n"
     ]
    }
   ],
   "source": [
    "print(b[::-1])"
   ]
  },
  {
   "cell_type": "code",
   "execution_count": 11,
   "id": "45584c88-5fd5-400f-8daf-acf5264c5c12",
   "metadata": {},
   "outputs": [
    {
     "name": "stdout",
     "output_type": "stream",
     "text": [
      "HelloWorld\n"
     ]
    }
   ],
   "source": [
    "a = \"Hello\"\n",
    "b = \"World\"\n",
    "print(a+b)"
   ]
  },
  {
   "cell_type": "code",
   "execution_count": 12,
   "id": "90a6f7ff-5974-4134-8bbb-5481a85bf8dd",
   "metadata": {},
   "outputs": [
    {
     "name": "stdout",
     "output_type": "stream",
     "text": [
      "HELLO\n"
     ]
    }
   ],
   "source": [
    "print(a.upper())"
   ]
  },
  {
   "cell_type": "code",
   "execution_count": 13,
   "id": "b8caac24-8a0a-407e-80f4-8f977e803d96",
   "metadata": {},
   "outputs": [
    {
     "name": "stdout",
     "output_type": "stream",
     "text": [
      "hello\n"
     ]
    }
   ],
   "source": [
    "print(a.lower())"
   ]
  },
  {
   "cell_type": "code",
   "execution_count": 6,
   "id": "325b337a-18e2-4468-a8cf-c51acaf5055b",
   "metadata": {},
   "outputs": [
    {
     "name": "stdout",
     "output_type": "stream",
     "text": [
      "Cutta\n",
      "Cuttack\n",
      "7\n"
     ]
    }
   ],
   "source": [
    "string = \"Cuttack\"\n",
    "\n",
    "print(string[0:5:1])\n",
    "\n",
    "print(string[::1])\n",
    "\n",
    "print(len(string))"
   ]
  },
  {
   "cell_type": "code",
   "execution_count": 10,
   "id": "ebe7cf25-ee00-4b8f-8ca8-023a8d75adfd",
   "metadata": {},
   "outputs": [
    {
     "name": "stdout",
     "output_type": "stream",
     "text": [
      "tta\n"
     ]
    }
   ],
   "source": [
    "print(string[-5:-2:1])"
   ]
  },
  {
   "cell_type": "code",
   "execution_count": 12,
   "id": "658b9b92-9cf9-46ff-a6b5-3deb007bb5f9",
   "metadata": {},
   "outputs": [
    {
     "name": "stdout",
     "output_type": "stream",
     "text": [
      "True\n",
      "False\n"
     ]
    }
   ],
   "source": [
    "print(10 > 8)\n",
    "\n",
    "print(9 == 8)"
   ]
  },
  {
   "cell_type": "markdown",
   "id": "35427e62-5be3-4233-90bd-2842bb265191",
   "metadata": {},
   "source": [
    "## Write a program to implement addition, multiplication, subtraction, modulo div, exponentiation, floor division"
   ]
  },
  {
   "cell_type": "code",
   "execution_count": 15,
   "id": "1b01608b-265d-401d-a12c-6511ecfa8b7b",
   "metadata": {},
   "outputs": [
    {
     "name": "stdout",
     "output_type": "stream",
     "text": [
      "15\n",
      "-5\n",
      "50\n",
      "5\n",
      "9765625\n",
      "0\n"
     ]
    }
   ],
   "source": [
    "var1 = 5\n",
    "var2 = 10\n",
    "\n",
    "print(var1 + var2)\n",
    "print(var1 - var2)\n",
    "print(var1 * var2)\n",
    "print(var1 % var2)\n",
    "print(var1 ** var2)\n",
    "print(var1 // var2)"
   ]
  },
  {
   "cell_type": "code",
   "execution_count": 20,
   "id": "dd810410-3eaa-4c77-a073-7dc43f5bc820",
   "metadata": {},
   "outputs": [
    {
     "name": "stdout",
     "output_type": "stream",
     "text": [
      "apple\n",
      "['apple', 'banana', 'jackfruit']\n"
     ]
    }
   ],
   "source": [
    "mylist = [\"apple\", \"banana\", \"cherry\"]\n",
    "print(mylist[0])\n",
    "\n",
    "mylist[2] = \"jackfruit\"\n",
    "print(mylist)"
   ]
  },
  {
   "cell_type": "code",
   "execution_count": 22,
   "id": "e94871dc-ce01-40ee-8622-49dbb52af1fe",
   "metadata": {},
   "outputs": [
    {
     "name": "stdout",
     "output_type": "stream",
     "text": [
      "ragini\n"
     ]
    }
   ],
   "source": [
    "thistuple = (\"ragini\", \"sakshi\", \"pallav\")\n",
    "\n",
    "print(thistuple[0])"
   ]
  },
  {
   "cell_type": "code",
   "execution_count": null,
   "id": "1c72e9ae-d012-495e-a307-de094922bbf2",
   "metadata": {},
   "outputs": [],
   "source": [
    "carDict = {\n",
    "    \"rab\"\n",
    "}"
   ]
  }
 ],
 "metadata": {
  "kernelspec": {
   "display_name": "Python 3 (ipykernel)",
   "language": "python",
   "name": "python3"
  },
  "language_info": {
   "codemirror_mode": {
    "name": "ipython",
    "version": 3
   },
   "file_extension": ".py",
   "mimetype": "text/x-python",
   "name": "python",
   "nbconvert_exporter": "python",
   "pygments_lexer": "ipython3",
   "version": "3.8.13"
  }
 },
 "nbformat": 4,
 "nbformat_minor": 5
}
