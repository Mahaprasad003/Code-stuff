{
 "cells": [
  {
   "cell_type": "code",
   "execution_count": 2,
   "id": "7e8e1472-123c-479a-b219-84c6b0c615e3",
   "metadata": {},
   "outputs": [
    {
     "name": "stdout",
     "output_type": "stream",
     "text": [
      "0 0 2\n"
     ]
    }
   ],
   "source": [
    "print(0,0,2)"
   ]
  },
  {
   "cell_type": "code",
   "execution_count": 14,
   "id": "f960a24d-a09e-4cb5-9a86-ff8f72d8d06c",
   "metadata": {},
   "outputs": [
    {
     "name": "stdout",
     "output_type": "stream",
     "text": [
      "Mahaprasad's NB\n"
     ]
    }
   ],
   "source": [
    "print('Mahaprasad\\'s NB')"
   ]
  },
  {
   "cell_type": "code",
   "execution_count": 17,
   "id": "7af3d6e4-798e-4214-b9e1-8f1d070bd2a2",
   "metadata": {},
   "outputs": [
    {
     "name": "stdout",
     "output_type": "stream",
     "text": [
      "2+3\n"
     ]
    }
   ],
   "source": [
    "print('2+3')"
   ]
  },
  {
   "cell_type": "code",
   "execution_count": 25,
   "id": "9d20aefc-e9e6-4edd-a6c1-05dfe438a917",
   "metadata": {},
   "outputs": [
    {
     "name": "stdout",
     "output_type": "stream",
     "text": [
      "(5+5j)\n",
      "<class 'complex'>\n"
     ]
    }
   ],
   "source": [
    "x = 2+0j\n",
    "y = 3+5j\n",
    "print(x+y)\n",
    "print(type(x+y))"
   ]
  },
  {
   "cell_type": "code",
   "execution_count": 27,
   "id": "17243f73-d097-468a-ad4d-2c4c8dc9245a",
   "metadata": {},
   "outputs": [
    {
     "name": "stdout",
     "output_type": "stream",
     "text": [
      "2.0\n"
     ]
    }
   ],
   "source": [
    "print(x.real)"
   ]
  },
  {
   "cell_type": "code",
   "execution_count": 30,
   "id": "a182fcde-20a9-4002-b4d8-c2cdd50c59de",
   "metadata": {},
   "outputs": [
    {
     "name": "stdout",
     "output_type": "stream",
     "text": [
      "-468.5\n"
     ]
    }
   ],
   "source": [
    "num1 = -423.50\n",
    "num2 = -45\n",
    "print(num1 + num2)"
   ]
  },
  {
   "cell_type": "code",
   "execution_count": 33,
   "id": "9cd4eb4f-1bf2-4fd0-924c-343c1b7787c5",
   "metadata": {},
   "outputs": [
    {
     "name": "stdout",
     "output_type": "stream",
     "text": [
      "3\n"
     ]
    }
   ],
   "source": [
    "print(10//3)"
   ]
  },
  {
   "cell_type": "code",
   "execution_count": 35,
   "id": "ab52241f-070f-47e6-86f5-6e689d6963b7",
   "metadata": {},
   "outputs": [
    {
     "name": "stdout",
     "output_type": "stream",
     "text": [
      "<class 'int'>\n"
     ]
    }
   ],
   "source": [
    "x = '192'\n",
    "y = int(x)\n",
    "print(type(y))"
   ]
  },
  {
   "cell_type": "markdown",
   "id": "a4d8d3ef-760c-4050-ad2c-c8501d1fee5c",
   "metadata": {},
   "source": [
    "# Python Casting"
   ]
  },
  {
   "cell_type": "code",
   "execution_count": 1,
   "id": "d7998075-fa77-4a81-a78a-9c6b27edf08d",
   "metadata": {},
   "outputs": [
    {
     "name": "stdout",
     "output_type": "stream",
     "text": [
      "1 2 3\n"
     ]
    }
   ],
   "source": [
    "x = int(1)\n",
    "y = int(2.8)\n",
    "z = int(\"3\")\n",
    "\n",
    "print(x,y,z)"
   ]
  },
  {
   "cell_type": "code",
   "execution_count": 2,
   "id": "01000b27-18ff-460b-88c5-917027f79330",
   "metadata": {},
   "outputs": [
    {
     "name": "stdout",
     "output_type": "stream",
     "text": [
      "1.0 2.8 3.0 4.2\n"
     ]
    }
   ],
   "source": [
    "x = float(1)\n",
    "y = float(2.8)\n",
    "z = float(\"3\")\n",
    "w = float(\"4.2\")\n",
    "\n",
    "print(x,y,z,w)"
   ]
  },
  {
   "cell_type": "code",
   "execution_count": 3,
   "id": "04860a2f-6bee-4db9-a3d7-00f7ae5de059",
   "metadata": {},
   "outputs": [
    {
     "name": "stdout",
     "output_type": "stream",
     "text": [
      "S1 2 3.0\n"
     ]
    }
   ],
   "source": [
    "x = str(\"S1\")\n",
    "y = str(2)\n",
    "z = str(3.0)\n",
    "\n",
    "print(x, y, z)"
   ]
  },
  {
   "cell_type": "code",
   "execution_count": 4,
   "id": "e28af011-a377-4d82-81a7-a2d36382998f",
   "metadata": {},
   "outputs": [
    {
     "name": "stdout",
     "output_type": "stream",
     "text": [
      "Hello\n",
      "Hello\n"
     ]
    }
   ],
   "source": [
    "print(\"Hello\")\n",
    "print('Hello')"
   ]
  },
  {
   "cell_type": "code",
   "execution_count": 5,
   "id": "24653621-2e25-4de6-b594-a771247aaabc",
   "metadata": {},
   "outputs": [
    {
     "name": "stdout",
     "output_type": "stream",
     "text": [
      "Hello\n"
     ]
    }
   ],
   "source": [
    "a = \"Hello\"\n",
    "print(a)"
   ]
  },
  {
   "cell_type": "code",
   "execution_count": 7,
   "id": "e8e837d7-31c0-46ff-ae20-b8c11721204c",
   "metadata": {},
   "outputs": [
    {
     "name": "stdout",
     "output_type": "stream",
     "text": [
      "This is a multi-line comment\n",
      "and this is the second line.\n",
      "This is the third line.\n"
     ]
    }
   ],
   "source": [
    "a = \"\"\"This is a multi-line comment\n",
    "and this is the second line.\n",
    "This is the third line.\"\"\"\n",
    "print(a)"
   ]
  },
  {
   "cell_type": "code",
   "execution_count": 8,
   "id": "0939628f-c741-4d2d-8897-f02470e60774",
   "metadata": {},
   "outputs": [
    {
     "name": "stdout",
     "output_type": "stream",
     "text": [
      "llo\n"
     ]
    }
   ],
   "source": [
    "b = \"Hello World\"\n",
    "print(b[2:5])"
   ]
  },
  {
   "cell_type": "code",
   "execution_count": 9,
   "id": "cb5dff17-b759-42d6-a544-69077ebdd198",
   "metadata": {},
   "outputs": [
    {
     "name": "stdout",
     "output_type": "stream",
     "text": [
      "Hello\n"
     ]
    }
   ],
   "source": [
    "print(b[:5])"
   ]
  },
  {
   "cell_type": "code",
   "execution_count": 10,
   "id": "dff26a9f-f9f2-42a7-a853-c17173a39bce",
   "metadata": {},
   "outputs": [
    {
     "name": "stdout",
     "output_type": "stream",
     "text": [
      "dlroW olleH\n"
     ]
    }
   ],
   "source": [
    "print(b[::-1])"
   ]
  },
  {
   "cell_type": "code",
   "execution_count": 11,
   "id": "45584c88-5fd5-400f-8daf-acf5264c5c12",
   "metadata": {},
   "outputs": [
    {
     "name": "stdout",
     "output_type": "stream",
     "text": [
      "HelloWorld\n"
     ]
    }
   ],
   "source": [
    "a = \"Hello\"\n",
    "b = \"World\"\n",
    "print(a+b)"
   ]
  },
  {
   "cell_type": "code",
   "execution_count": 12,
   "id": "90a6f7ff-5974-4134-8bbb-5481a85bf8dd",
   "metadata": {},
   "outputs": [
    {
     "name": "stdout",
     "output_type": "stream",
     "text": [
      "HELLO\n"
     ]
    }
   ],
   "source": [
    "print(a.upper())"
   ]
  },
  {
   "cell_type": "code",
   "execution_count": 13,
   "id": "b8caac24-8a0a-407e-80f4-8f977e803d96",
   "metadata": {},
   "outputs": [
    {
     "name": "stdout",
     "output_type": "stream",
     "text": [
      "hello\n"
     ]
    }
   ],
   "source": [
    "print(a.lower())"
   ]
  },
  {
   "cell_type": "code",
   "execution_count": 6,
   "id": "325b337a-18e2-4468-a8cf-c51acaf5055b",
   "metadata": {},
   "outputs": [
    {
     "name": "stdout",
     "output_type": "stream",
     "text": [
      "Cutta\n",
      "Cuttack\n",
      "7\n"
     ]
    }
   ],
   "source": [
    "string = \"Cuttack\"\n",
    "\n",
    "print(string[0:5:1])\n",
    "\n",
    "print(string[::1])\n",
    "\n",
    "print(len(string))"
   ]
  },
  {
   "cell_type": "code",
   "execution_count": 10,
   "id": "ebe7cf25-ee00-4b8f-8ca8-023a8d75adfd",
   "metadata": {},
   "outputs": [
    {
     "name": "stdout",
     "output_type": "stream",
     "text": [
      "tta\n"
     ]
    }
   ],
   "source": [
    "print(string[-5:-2:1])"
   ]
  },
  {
   "cell_type": "code",
   "execution_count": 12,
   "id": "658b9b92-9cf9-46ff-a6b5-3deb007bb5f9",
   "metadata": {},
   "outputs": [
    {
     "name": "stdout",
     "output_type": "stream",
     "text": [
      "True\n",
      "False\n"
     ]
    }
   ],
   "source": [
    "print(10 > 8)\n",
    "\n",
    "print(9 == 8)"
   ]
  },
  {
   "cell_type": "markdown",
   "id": "35427e62-5be3-4233-90bd-2842bb265191",
   "metadata": {},
   "source": [
    "## Write a program to implement addition, multiplication, subtraction, modulo div, exponentiation, floor division"
   ]
  },
  {
   "cell_type": "code",
   "execution_count": 15,
   "id": "1b01608b-265d-401d-a12c-6511ecfa8b7b",
   "metadata": {},
   "outputs": [
    {
     "name": "stdout",
     "output_type": "stream",
     "text": [
      "15\n",
      "-5\n",
      "50\n",
      "5\n",
      "9765625\n",
      "0\n"
     ]
    }
   ],
   "source": [
    "var1 = 5\n",
    "var2 = 10\n",
    "\n",
    "print(var1 + var2)\n",
    "print(var1 - var2)\n",
    "print(var1 * var2)\n",
    "print(var1 % var2)\n",
    "print(var1 ** var2)\n",
    "print(var1 // var2)"
   ]
  },
  {
   "cell_type": "code",
   "execution_count": 20,
   "id": "dd810410-3eaa-4c77-a073-7dc43f5bc820",
   "metadata": {},
   "outputs": [
    {
     "name": "stdout",
     "output_type": "stream",
     "text": [
      "apple\n",
      "['apple', 'banana', 'jackfruit']\n"
     ]
    }
   ],
   "source": [
    "mylist = [\"apple\", \"banana\", \"cherry\"]\n",
    "print(mylist[0])\n",
    "\n",
    "mylist[2] = \"jackfruit\"\n",
    "print(mylist)"
   ]
  },
  {
   "cell_type": "code",
   "execution_count": 22,
   "id": "e94871dc-ce01-40ee-8622-49dbb52af1fe",
   "metadata": {},
   "outputs": [
    {
     "name": "stdout",
     "output_type": "stream",
     "text": [
      "ragini\n"
     ]
    }
   ],
   "source": [
    "thistuple = (\"ragini\", \"sakshi\", \"pallav\")\n",
    "\n",
    "print(thistuple[0])"
   ]
  },
  {
   "cell_type": "code",
   "execution_count": null,
   "id": "1c72e9ae-d012-495e-a307-de094922bbf2",
   "metadata": {},
   "outputs": [],
   "source": [
    "carDict = {\n",
    "    \"rab\"\n",
    "}"
   ]
  },
  {
   "cell_type": "code",
   "execution_count": 2,
   "id": "f1870168-e12c-4d54-8f85-484e0dadfeb9",
   "metadata": {},
   "outputs": [
    {
     "data": {
      "text/plain": [
       "True"
      ]
     },
     "execution_count": 2,
     "metadata": {},
     "output_type": "execute_result"
    }
   ],
   "source": [
    "'12345'.isalnum()"
   ]
  },
  {
   "cell_type": "code",
   "execution_count": 4,
   "id": "78eb2406-b588-4fa5-9aaa-6e2253e91cac",
   "metadata": {},
   "outputs": [
    {
     "data": {
      "text/plain": [
       "False"
      ]
     },
     "execution_count": 4,
     "metadata": {},
     "output_type": "execute_result"
    }
   ],
   "source": [
    "'abcd1'.isalpha()"
   ]
  },
  {
   "cell_type": "code",
   "execution_count": 6,
   "id": "8150d0f5-83fb-4be1-a30f-e6fdc2537f08",
   "metadata": {},
   "outputs": [
    {
     "data": {
      "text/plain": [
       "True"
      ]
     },
     "execution_count": 6,
     "metadata": {},
     "output_type": "execute_result"
    }
   ],
   "source": [
    "\"Mahaprasad\".startswith('M')"
   ]
  },
  {
   "cell_type": "code",
   "execution_count": 1,
   "id": "303e0124-2d3c-4873-bb64-e00131457014",
   "metadata": {},
   "outputs": [
    {
     "name": "stdout",
     "output_type": "stream",
     "text": [
      "Hello Anna\n"
     ]
    }
   ],
   "source": [
    "def hello(name):\n",
    "    print (\"Hello\", name)\n",
    "hello(\"Anna\")\n"
   ]
  },
  {
   "cell_type": "code",
   "execution_count": 2,
   "id": "f7ed7e8e-543d-46e1-b424-535a87f6b8f5",
   "metadata": {},
   "outputs": [
    {
     "name": "stdout",
     "output_type": "stream",
     "text": [
      "Hello Sailee \n",
      "Hi Kanchan \n",
      "Hola Madhuri\n"
     ]
    }
   ],
   "source": [
    "def hello(name1, name2, name3):\n",
    "    print(\"Hello\", name1, \"\\nHi\", name2, \"\\nHola\", name3)\n",
    "hello(\"Sailee\", \"Kanchan\", \"Madhuri\")\n"
   ]
  },
  {
   "cell_type": "code",
   "execution_count": 3,
   "id": "521f1b8e-bf90-46e3-9774-2de0c97562bd",
   "metadata": {},
   "outputs": [
    {
     "name": "stdout",
     "output_type": "stream",
     "text": [
      "Hello Prasant  Sahoo\n"
     ]
    }
   ],
   "source": [
    "def hello(fname, lname):\n",
    "    print('Hello', fname, lname)\n",
    "hello('Prasant ','Sahoo')\n"
   ]
  },
  {
   "cell_type": "code",
   "execution_count": 4,
   "id": "e19d219e-72f9-4ea4-bda2-23e78f5b7ba4",
   "metadata": {},
   "outputs": [
    {
     "name": "stdout",
     "output_type": "stream",
     "text": [
      "Hello World!\n"
     ]
    }
   ],
   "source": [
    "def hello():\n",
    "    print(\"Hello World!\")\n",
    "hello()\n"
   ]
  },
  {
   "cell_type": "code",
   "execution_count": 5,
   "id": "23b93272-9e94-4958-bdf5-b8161aae5eba",
   "metadata": {},
   "outputs": [
    {
     "name": "stdout",
     "output_type": "stream",
     "text": [
      "Hello SSU\n"
     ]
    }
   ],
   "source": [
    "def hello(fname):\n",
    "    print(\"Hello \" + fname)\n",
    "hello(\"SSU\")\n"
   ]
  },
  {
   "cell_type": "code",
   "execution_count": 6,
   "id": "352bae21-a02f-4286-9eee-a8b85d80345e",
   "metadata": {},
   "outputs": [
    {
     "data": {
      "text/plain": [
       "11"
      ]
     },
     "execution_count": 6,
     "metadata": {},
     "output_type": "execute_result"
    }
   ],
   "source": [
    "def add():\n",
    "    x = 6 + 5\n",
    "    return x\n",
    "add()"
   ]
  },
  {
   "cell_type": "code",
   "execution_count": 7,
   "id": "005cdae6-164a-4521-9090-12bea5d06353",
   "metadata": {},
   "outputs": [
    {
     "name": "stdout",
     "output_type": "stream",
     "text": [
      "30\n"
     ]
    }
   ],
   "source": [
    "def sum(a, b):\n",
    "   return a + b\n",
    "total=sum(10,20)\n",
    "print(total)\n"
   ]
  },
  {
   "cell_type": "code",
   "execution_count": 8,
   "id": "512b3cdb-8132-44bb-aa81-9f7e935660d3",
   "metadata": {},
   "outputs": [
    {
     "name": "stdout",
     "output_type": "stream",
     "text": [
      "15\n"
     ]
    }
   ],
   "source": [
    "def rec_sum(n):\n",
    "    if n<=1:\n",
    "        return n\n",
    "    else:\n",
    "        return n + rec_sum(n-1)\n",
    "\n",
    "y = rec_sum(5)\n",
    "print(y)\n"
   ]
  },
  {
   "cell_type": "code",
   "execution_count": 9,
   "id": "2293cbc5-a7e3-409c-a693-e8f2586cb138",
   "metadata": {},
   "outputs": [
    {
     "name": "stdout",
     "output_type": "stream",
     "text": [
      "4\n"
     ]
    }
   ],
   "source": [
    "def square(x):\n",
    "  return x * 2\n",
    "print(square(2))\n"
   ]
  },
  {
   "cell_type": "markdown",
   "id": "650845bf-c9cc-491a-a53f-04c3f8a03312",
   "metadata": {},
   "source": [
    "# Functions"
   ]
  },
  {
   "cell_type": "markdown",
   "id": "4831600c-6b13-438c-8600-e1c593a9bf37",
   "metadata": {},
   "source": [
    "## Create a function with multiple list of variables"
   ]
  },
  {
   "cell_type": "code",
   "execution_count": 1,
   "id": "e11a2b3b-8955-46aa-a112-091549ec869f",
   "metadata": {},
   "outputs": [
    {
     "data": {
      "text/plain": [
       "30"
      ]
     },
     "execution_count": 1,
     "metadata": {},
     "output_type": "execute_result"
    }
   ],
   "source": [
    "def multi_argument(a, b, c):\n",
    "    return (a * b * c)\n",
    "multi_argument(2, 3, 5)"
   ]
  },
  {
   "cell_type": "markdown",
   "id": "a40cf6a3-e5a8-4f89-9823-3f603abc0e1d",
   "metadata": {},
   "source": [
    "## Return multiple values from a function"
   ]
  },
  {
   "cell_type": "code",
   "execution_count": 2,
   "id": "cb6446dd-0649-4cbd-afcb-7845d8497695",
   "metadata": {},
   "outputs": [
    {
     "data": {
      "text/plain": [
       "[5, 6, 7]"
      ]
     },
     "execution_count": 2,
     "metadata": {},
     "output_type": "execute_result"
    }
   ],
   "source": [
    "def multi_return(a):\n",
    "    return [a, a+1, a+2]\n",
    "\n",
    "multi_return(5)"
   ]
  },
  {
   "cell_type": "markdown",
   "id": "2aed257d-176a-4f2c-8ad9-c1df2434cb2a",
   "metadata": {},
   "source": [
    "## Create function with default argument"
   ]
  },
  {
   "cell_type": "code",
   "execution_count": 4,
   "id": "3939074a-fc98-4314-99ee-a5e265f715a3",
   "metadata": {},
   "outputs": [
    {
     "name": "stdout",
     "output_type": "stream",
     "text": [
      "10\n"
     ]
    }
   ],
   "source": [
    "def add(a = 10, b = 20):\n",
    "    return (a+b)\n",
    "\n",
    "print(add(5,5))"
   ]
  },
  {
   "cell_type": "markdown",
   "id": "edc8b88d-65b6-4c5b-86f5-81c63d23fd5b",
   "metadata": {},
   "source": [
    "## Create a recursive function"
   ]
  },
  {
   "cell_type": "code",
   "execution_count": 7,
   "id": "dee0de18-cb0e-4070-a88e-6cbc10eca53d",
   "metadata": {},
   "outputs": [
    {
     "data": {
      "text/plain": [
       "40320"
      ]
     },
     "execution_count": 7,
     "metadata": {},
     "output_type": "execute_result"
    }
   ],
   "source": [
    "def factorial(n):\n",
    "    if(n == 1):\n",
    "        return 1\n",
    "    else:\n",
    "        return(n*factorial(n-1))\n",
    "factorial(8)"
   ]
  },
  {
   "cell_type": "code",
   "execution_count": 8,
   "id": "66c9c335-9376-4400-be76-16930a93b5f7",
   "metadata": {},
   "outputs": [
    {
     "name": "stdout",
     "output_type": "stream",
     "text": [
      "mahaprasad\n"
     ]
    }
   ],
   "source": [
    "def name(n = 'mahaprasad'):\n",
    "    print(n)\n",
    "\n",
    "don = name\n",
    "don()"
   ]
  },
  {
   "cell_type": "markdown",
   "id": "377e7c45-185e-4ed1-a14b-0555daa59ff2",
   "metadata": {},
   "source": [
    "# Operators in Python\n"
   ]
  },
  {
   "cell_type": "code",
   "execution_count": 9,
   "id": "73af29ef-1b59-4884-95b0-fac57a30071f",
   "metadata": {},
   "outputs": [
    {
     "name": "stdout",
     "output_type": "stream",
     "text": [
      "15\n",
      "-5\n",
      "50\n",
      "5\n",
      "9765625\n",
      "0\n"
     ]
    }
   ],
   "source": [
    "var1 = 5\n",
    "var2 = 10\n",
    "\n",
    "print(var1 + var2)\n",
    "print(var1 - var2)\n",
    "print(var1 * var2)\n",
    "print(var1 % var2)\n",
    "print(var1 ** var2)\n",
    "print(var1 // var2)"
   ]
  },
  {
   "cell_type": "markdown",
   "id": "6456181d-3214-4f29-8d56-933a770d6582",
   "metadata": {},
   "source": [
    "## Logical operators\n"
   ]
  },
  {
   "cell_type": "code",
   "execution_count": 10,
   "id": "01b06f58-ebfb-40ff-af72-5733af84e6f1",
   "metadata": {},
   "outputs": [
    {
     "name": "stdout",
     "output_type": "stream",
     "text": [
      "True\n",
      "False\n",
      "True\n",
      "True\n"
     ]
    }
   ],
   "source": [
    "print(True and True)\n",
    "print(True and False)\n",
    "\n",
    "print(True or True)\n",
    "print(True or False)"
   ]
  },
  {
   "cell_type": "code",
   "execution_count": 11,
   "id": "f3caf017-1b0a-4ce7-a337-83771a1d07b1",
   "metadata": {},
   "outputs": [
    {
     "name": "stdout",
     "output_type": "stream",
     "text": [
      "False\n"
     ]
    }
   ],
   "source": [
    "print(5>10)"
   ]
  },
  {
   "cell_type": "code",
   "execution_count": 13,
   "id": "3f1f5d0f-1feb-445d-b9b0-14cbf55f71e9",
   "metadata": {},
   "outputs": [
    {
     "name": "stdout",
     "output_type": "stream",
     "text": [
      "10\n"
     ]
    }
   ],
   "source": [
    "print(20 and 10)"
   ]
  },
  {
   "cell_type": "markdown",
   "id": "87bbc973-68a7-4074-b9ab-eea204a63d96",
   "metadata": {},
   "source": [
    "# Lists\n"
   ]
  },
  {
   "cell_type": "code",
   "execution_count": 1,
   "id": "4dc290eb-6293-42c6-9fdf-116b4079e2ff",
   "metadata": {},
   "outputs": [
    {
     "name": "stdout",
     "output_type": "stream",
     "text": [
      "['apple', 'banana', 'cherry']\n"
     ]
    }
   ],
   "source": [
    "# Creating a list\n",
    "list1 = [\"apple\", \"banana\", \"cherry\"]\n",
    "print(list1)"
   ]
  },
  {
   "cell_type": "code",
   "execution_count": 2,
   "id": "01d2fc1f-0c06-4ccf-aa9b-603eeb336701",
   "metadata": {},
   "outputs": [
    {
     "name": "stdout",
     "output_type": "stream",
     "text": [
      "['apple', 'banana', 'cherry', 'apple']\n"
     ]
    }
   ],
   "source": [
    "list1 = [\"apple\", \"banana\", \"cherry\", \"apple\"]\n",
    "print(list1)"
   ]
  },
  {
   "cell_type": "code",
   "execution_count": 3,
   "id": "5ce5869c-9cc3-44d3-ba8d-758f909f63a8",
   "metadata": {},
   "outputs": [],
   "source": [
    "# List items can be of any data type:\n",
    "list1 = [\"apple\", \"banana\", \"cherry\"]\n",
    "list2 = [1, 5, 7, 9, 3]\n",
    "list3 = [True, False, False]"
   ]
  },
  {
   "cell_type": "code",
   "execution_count": 4,
   "id": "f66eb6bf-022a-4c01-b57b-bf9d5ea31297",
   "metadata": {},
   "outputs": [
    {
     "name": "stdout",
     "output_type": "stream",
     "text": [
      "<class 'list'>\n"
     ]
    }
   ],
   "source": [
    "mylist = [\"apple\", \"banana\", \"cherry\"]\n",
    "print(type(mylist))"
   ]
  },
  {
   "cell_type": "code",
   "execution_count": 5,
   "id": "c0da546c-59a1-45a8-b840-1b8bdea2f68b",
   "metadata": {},
   "outputs": [
    {
     "name": "stdout",
     "output_type": "stream",
     "text": [
      "['apple', 'banana', 'cherry']\n"
     ]
    }
   ],
   "source": [
    "list1 = list((\"apple\", \"banana\", \"cherry\")) # note the double round-bracketsprint(list1)\n",
    "\n",
    "print(list1)"
   ]
  },
  {
   "cell_type": "code",
   "execution_count": 6,
   "id": "fa9095d4-3719-4a93-af4c-61443aa5cd4d",
   "metadata": {},
   "outputs": [
    {
     "name": "stdout",
     "output_type": "stream",
     "text": [
      "banana\n"
     ]
    }
   ],
   "source": [
    "list1 = [\"apple\", \"banana\", \"cherry\"]\n",
    "print(list1[1])"
   ]
  },
  {
   "cell_type": "code",
   "execution_count": 7,
   "id": "1d5c5378-ca60-447c-8400-7796bdb524f8",
   "metadata": {},
   "outputs": [
    {
     "name": "stdout",
     "output_type": "stream",
     "text": [
      "cherry\n"
     ]
    }
   ],
   "source": [
    "list1 = [\"apple\", \"banana\", \"cherry\"]\n",
    "print(list1[-1])"
   ]
  },
  {
   "cell_type": "code",
   "execution_count": 9,
   "id": "32c319a6-6518-49d0-ac52-4cd784d14372",
   "metadata": {},
   "outputs": [
    {
     "name": "stdout",
     "output_type": "stream",
     "text": [
      "['cherry', 'orange', 'kiwi']\n"
     ]
    }
   ],
   "source": [
    "list1 = [\"apple\", \"banana\", \"cherry\", \"orange\", \"kiwi\", \"melon\", \"mango\"]\n",
    "print(list1[2:5])"
   ]
  },
  {
   "cell_type": "markdown",
   "id": "ff7149d2-4e4e-4045-a780-f3da807c99f7",
   "metadata": {},
   "source": [
    "## Define a function that accepts roll number and returns whether the student is present or absent\n"
   ]
  },
  {
   "cell_type": "code",
   "execution_count": 1,
   "id": "175d8502-17b7-49dd-b2fc-4b14a3be0866",
   "metadata": {},
   "outputs": [],
   "source": [
    "presentList = [15, 16, 18, 19, 20]\n",
    "\n",
    "def is_present(rollNumber, presentList):\n",
    "    if rollNumber in presentList:\n",
    "        return \"Student is present\"\n",
    "    else:\n",
    "        return \"Student is absent\"\n",
    "    "
   ]
  },
  {
   "cell_type": "code",
   "execution_count": 2,
   "id": "8aaeaa05-cec9-4a9c-be67-9ba0e011f327",
   "metadata": {},
   "outputs": [
    {
     "data": {
      "text/plain": [
       "'Student is present'"
      ]
     },
     "execution_count": 2,
     "metadata": {},
     "output_type": "execute_result"
    }
   ],
   "source": [
    "is_present(15, presentList)"
   ]
  },
  {
   "cell_type": "markdown",
   "id": "00720ad0-0375-4437-9e02-88284269ae54",
   "metadata": {},
   "source": [
    "## define a function that returns factorial"
   ]
  },
  {
   "cell_type": "code",
   "execution_count": 7,
   "id": "eb8dcfed-8357-4573-9a71-66a44469ebdc",
   "metadata": {},
   "outputs": [],
   "source": [
    "def factorial_num(num):\n",
    "    prod = 1\n",
    "    for i in range(num):\n",
    "        prod *= num\n",
    "        num -= 1\n",
    "    return prod"
   ]
  },
  {
   "cell_type": "code",
   "execution_count": 10,
   "id": "437a8e71-87a9-489a-981e-b8234c288a31",
   "metadata": {},
   "outputs": [
    {
     "data": {
      "text/plain": [
       "24"
      ]
     },
     "execution_count": 10,
     "metadata": {},
     "output_type": "execute_result"
    }
   ],
   "source": [
    "factorial_num(4)"
   ]
  },
  {
   "cell_type": "markdown",
   "id": "fe23dd15-d4d1-418f-9f4e-58c2f1a0369d",
   "metadata": {},
   "source": [
    "# Sets"
   ]
  },
  {
   "cell_type": "code",
   "execution_count": 2,
   "id": "b7e2884a-2e02-4621-8c4d-d30ad702c697",
   "metadata": {},
   "outputs": [
    {
     "name": "stdout",
     "output_type": "stream",
     "text": [
      "{False, 2, 'mango', 'banana', 'apple'}\n"
     ]
    }
   ],
   "source": [
    "set1 = {\"apple\", \"banana\", \"mango\", False, 0, 2}\n",
    "\n",
    "print(set1)"
   ]
  },
  {
   "cell_type": "code",
   "execution_count": 3,
   "id": "a40dae6e-0938-442b-8f6d-6f4b0bbbaff8",
   "metadata": {},
   "outputs": [],
   "source": [
    "set1.add(45)"
   ]
  },
  {
   "cell_type": "code",
   "execution_count": 4,
   "id": "e0071677-5abc-432c-8405-2b1787597455",
   "metadata": {},
   "outputs": [
    {
     "data": {
      "text/plain": [
       "{2, 45, False, 'apple', 'banana', 'mango'}"
      ]
     },
     "execution_count": 4,
     "metadata": {},
     "output_type": "execute_result"
    }
   ],
   "source": [
    "set1"
   ]
  },
  {
   "cell_type": "code",
   "execution_count": 5,
   "id": "aeb301ec-42f7-4085-b7ea-8953222d5168",
   "metadata": {},
   "outputs": [],
   "source": [
    "set2 = [\"a\", \"b\", \"c\"]\n",
    "\n",
    "set1.update(set2)"
   ]
  },
  {
   "cell_type": "code",
   "execution_count": 6,
   "id": "e0b006cc-4b05-494b-beba-61449306415a",
   "metadata": {},
   "outputs": [
    {
     "data": {
      "text/plain": [
       "{2, 45, False, 'a', 'apple', 'b', 'banana', 'c', 'mango'}"
      ]
     },
     "execution_count": 6,
     "metadata": {},
     "output_type": "execute_result"
    }
   ],
   "source": [
    "set1"
   ]
  },
  {
   "cell_type": "code",
   "execution_count": 9,
   "id": "5d207020-d494-4590-97a9-868b3f246069",
   "metadata": {},
   "outputs": [
    {
     "data": {
      "text/plain": [
       "{2, 45, 'a', 'apple', 'b', 'banana', 'c', 'mango'}"
      ]
     },
     "execution_count": 9,
     "metadata": {},
     "output_type": "execute_result"
    }
   ],
   "source": [
    "set1.discard(False)\n",
    "set1"
   ]
  },
  {
   "cell_type": "code",
   "execution_count": 11,
   "id": "e7e3a530-d358-4ad1-96fc-3ccac8999c4d",
   "metadata": {},
   "outputs": [
    {
     "data": {
      "text/plain": [
       "True"
      ]
     },
     "execution_count": 11,
     "metadata": {},
     "output_type": "execute_result"
    }
   ],
   "source": [
    "any(set1)"
   ]
  },
  {
   "cell_type": "code",
   "execution_count": 18,
   "id": "5d55d524-0aa0-412d-964e-5f46834e2552",
   "metadata": {},
   "outputs": [
    {
     "name": "stdout",
     "output_type": "stream",
     "text": [
      "{1, 2, 3, 4, 5}\n"
     ]
    }
   ],
   "source": [
    "A = {1, 2, 3}\n",
    "B = {4, 5, 3}\n",
    "\n",
    "print(A|B)"
   ]
  },
  {
   "cell_type": "code",
   "execution_count": 19,
   "id": "80f1476e-743d-4021-8e97-a5aec3006250",
   "metadata": {},
   "outputs": [
    {
     "data": {
      "text/plain": [
       "{1, 2, 3, 4, 5}"
      ]
     },
     "execution_count": 19,
     "metadata": {},
     "output_type": "execute_result"
    }
   ],
   "source": [
    "A.union(B)"
   ]
  },
  {
   "cell_type": "code",
   "execution_count": 20,
   "id": "faf95a47-5aca-429e-8715-4eee0870a426",
   "metadata": {},
   "outputs": [
    {
     "data": {
      "text/plain": [
       "{1, 2, 3}"
      ]
     },
     "execution_count": 20,
     "metadata": {},
     "output_type": "execute_result"
    }
   ],
   "source": [
    "A"
   ]
  },
  {
   "cell_type": "code",
   "execution_count": 21,
   "id": "918e6787-dbd9-422f-9202-1abb26cef208",
   "metadata": {},
   "outputs": [
    {
     "data": {
      "text/plain": [
       "{3, 4, 5}"
      ]
     },
     "execution_count": 21,
     "metadata": {},
     "output_type": "execute_result"
    }
   ],
   "source": [
    "B"
   ]
  },
  {
   "cell_type": "code",
   "execution_count": 22,
   "id": "b91b9804-0aef-44dc-ba3b-9cda1e0f1d48",
   "metadata": {},
   "outputs": [
    {
     "name": "stdout",
     "output_type": "stream",
     "text": [
      "{3}\n"
     ]
    }
   ],
   "source": [
    "print(A & B)"
   ]
  },
  {
   "cell_type": "code",
   "execution_count": 23,
   "id": "2f52eedd-f55c-4735-86ef-cc4ed17f7a58",
   "metadata": {},
   "outputs": [
    {
     "data": {
      "text/plain": [
       "{3}"
      ]
     },
     "execution_count": 23,
     "metadata": {},
     "output_type": "execute_result"
    }
   ],
   "source": [
    "A.intersection(B)"
   ]
  },
  {
   "cell_type": "code",
   "execution_count": 24,
   "id": "6aef9979-c4e4-4df6-94c2-f7d6e20fda9d",
   "metadata": {},
   "outputs": [
    {
     "data": {
      "text/plain": [
       "{1, 2}"
      ]
     },
     "execution_count": 24,
     "metadata": {},
     "output_type": "execute_result"
    }
   ],
   "source": [
    "A - B"
   ]
  },
  {
   "cell_type": "code",
   "execution_count": 25,
   "id": "762dbbc8-b583-4418-9451-5f1feb274d1a",
   "metadata": {},
   "outputs": [
    {
     "data": {
      "text/plain": [
       "{4, 5}"
      ]
     },
     "execution_count": 25,
     "metadata": {},
     "output_type": "execute_result"
    }
   ],
   "source": [
    "B - A"
   ]
  },
  {
   "cell_type": "code",
   "execution_count": 26,
   "id": "5b58d520-5d7c-44fc-b6d7-f1bb944a76be",
   "metadata": {},
   "outputs": [
    {
     "data": {
      "text/plain": [
       "{1, 2, 4, 5}"
      ]
     },
     "execution_count": 26,
     "metadata": {},
     "output_type": "execute_result"
    }
   ],
   "source": [
    "A ^ B"
   ]
  },
  {
   "cell_type": "code",
   "execution_count": 27,
   "id": "7be90be4-ac40-4372-8aad-4f5f8f4cf37c",
   "metadata": {},
   "outputs": [
    {
     "data": {
      "text/plain": [
       "{1, 2, 4, 5}"
      ]
     },
     "execution_count": 27,
     "metadata": {},
     "output_type": "execute_result"
    }
   ],
   "source": [
    "A.symmetric_difference(B)"
   ]
  },
  {
   "cell_type": "code",
   "execution_count": 28,
   "id": "8f7002d6-43a3-4300-9251-07cd44f10e9f",
   "metadata": {},
   "outputs": [
    {
     "data": {
      "text/plain": [
       "{1, 2}"
      ]
     },
     "execution_count": 28,
     "metadata": {},
     "output_type": "execute_result"
    }
   ],
   "source": [
    "A.difference(B)"
   ]
  },
  {
   "cell_type": "code",
   "execution_count": 29,
   "id": "00be6074-7637-4667-b770-51fcf661249c",
   "metadata": {},
   "outputs": [
    {
     "data": {
      "text/plain": [
       "3"
      ]
     },
     "execution_count": 29,
     "metadata": {},
     "output_type": "execute_result"
    }
   ],
   "source": [
    "max(A)"
   ]
  },
  {
   "cell_type": "code",
   "execution_count": 30,
   "id": "4e422e38-b649-4b56-9e74-75a0cf7f314b",
   "metadata": {},
   "outputs": [
    {
     "data": {
      "text/plain": [
       "1"
      ]
     },
     "execution_count": 30,
     "metadata": {},
     "output_type": "execute_result"
    }
   ],
   "source": [
    "min(A)"
   ]
  },
  {
   "cell_type": "code",
   "execution_count": 36,
   "id": "c777c5ad-1b7e-4c91-9e69-fdeba21eb319",
   "metadata": {},
   "outputs": [
    {
     "data": {
      "text/plain": [
       "[(0, 1), (1, 2), (2, 3)]"
      ]
     },
     "execution_count": 36,
     "metadata": {},
     "output_type": "execute_result"
    }
   ],
   "source": [
    "test = enumerate(A)\n",
    "list(test)"
   ]
  },
  {
   "cell_type": "code",
   "execution_count": 37,
   "id": "b5d30d1b-95f3-4cc6-abbf-249528c5be05",
   "metadata": {},
   "outputs": [
    {
     "name": "stdout",
     "output_type": "stream",
     "text": [
      "(0, 1)\n",
      "(1, 2)\n",
      "(2, 3)\n"
     ]
    }
   ],
   "source": [
    "for i in enumerate(A):\n",
    "    print(i)\n",
    "    "
   ]
  },
  {
   "cell_type": "code",
   "execution_count": 13,
   "id": "1e44af04-6f93-4cb2-ac92-b64c4ad8ec90",
   "metadata": {},
   "outputs": [
    {
     "name": "stdout",
     "output_type": "stream",
     "text": [
      "True\n"
     ]
    }
   ],
   "source": [
    "print(True or False and True)"
   ]
  },
  {
   "cell_type": "code",
   "execution_count": 18,
   "id": "13783789-0a91-44da-b164-8c7b4aeab171",
   "metadata": {},
   "outputs": [
    {
     "name": "stdout",
     "output_type": "stream",
     "text": [
      "28\n",
      "3125\n"
     ]
    }
   ],
   "source": [
    "a = 5\n",
    "b = 2\n",
    "c = 3\n",
    "\n",
    "result1 = a ** b + c\n",
    "result2 = a ** (b + c)\n",
    "\n",
    "print(result1)\n",
    "print(result2)"
   ]
  },
  {
   "cell_type": "code",
   "execution_count": 19,
   "id": "fa9c0c8a-6a5f-4ccc-954f-b8c97b1e9a87",
   "metadata": {},
   "outputs": [
    {
     "data": {
      "text/plain": [
       "3"
      ]
     },
     "execution_count": 19,
     "metadata": {},
     "output_type": "execute_result"
    }
   ],
   "source": [
    "2 + 3 - 2"
   ]
  },
  {
   "cell_type": "code",
   "execution_count": 20,
   "id": "38abd8ba-e7e2-40b8-b1dd-c4a3e17bd2f4",
   "metadata": {},
   "outputs": [
    {
     "data": {
      "text/plain": [
       "1"
      ]
     },
     "execution_count": 20,
     "metadata": {},
     "output_type": "execute_result"
    }
   ],
   "source": [
    "2 - 3 + 2"
   ]
  },
  {
   "cell_type": "code",
   "execution_count": 4,
   "id": "0cd6b75e-6855-4709-8964-8a4e085ffc00",
   "metadata": {},
   "outputs": [
    {
     "data": {
      "text/plain": [
       "10"
      ]
     },
     "execution_count": 4,
     "metadata": {},
     "output_type": "execute_result"
    }
   ],
   "source": [
    "# Using lambda functions\n",
    "\n",
    "# Double a number using lambda\n",
    "\n",
    "double_num = lambda a : 2 * a\n",
    "double_num(5)\n",
    "\n"
   ]
  },
  {
   "cell_type": "code",
   "execution_count": 6,
   "id": "f51d4b00-4734-45d9-b786-f4f1e6743c67",
   "metadata": {},
   "outputs": [
    {
     "name": "stdin",
     "output_type": "stream",
     "text": [
      "Enter first number:  54\n",
      "Enter second number:  6\n"
     ]
    },
    {
     "data": {
      "text/plain": [
       "60"
      ]
     },
     "execution_count": 6,
     "metadata": {},
     "output_type": "execute_result"
    }
   ],
   "source": [
    "# Add 2 numbers\n",
    "\n",
    "num1 = int(input(\"Enter first number: \"))\n",
    "num2 = int(input(\"Enter second number: \"))\n",
    "\n",
    "sum_num = lambda x,y : x + y\n",
    "\n",
    "sum_num(num1, num2)"
   ]
  },
  {
   "cell_type": "code",
   "execution_count": 7,
   "id": "34753848-1b1d-469b-96dc-81f0d69b0f08",
   "metadata": {},
   "outputs": [
    {
     "data": {
      "image/png": "[encoded data removed]",
      "text/plain": [
       "<Figure size 800x600 with 2 Axes>"
      ]
     },
     "metadata": {},
     "output_type": "display_data"
    }
   ],
   "source": [
    "import matplotlib.pyplot as plt\n",
    "\n",
    "# Define platform names and their respective scores\n",
    "platforms = [\"TikTok\", \"Instagram\", \"LinkedIn\", \"YouTube\"]\n",
    "scores = [1, 5, 10, 40]\n",
    "\n",
    "# Normalize scores between 0 and 1\n",
    "normalized_scores = [score / max(scores) for score in scores]\n",
    "\n",
    "# Reshape the scores to a 2D array\n",
    "scores_2d = [normalized_scores]\n",
    "\n",
    "# Create the heatmap\n",
    "plt.figure(figsize=(8, 6))\n",
    "plt.imshow(scores_2d, cmap=\"Reds\", interpolation=\"nearest\")\n",
    "plt.colorbar(label=\"Emotional Resonance\")\n",
    "\n",
    "# Add platform labels and scores\n",
    "plt.xticks(range(len(platforms)), platforms, rotation=45)\n",
    "plt.yticks([0, 0.25, 0.5, 0.75, 1], [\"1\", \"10\", \"20\", \"30\", \"40\"])\n",
    "\n",
    "# Add title and statement\n",
    "plt.title(\"Feeling the Connection: How Platforms Compare\")\n",
    "plt.subplots_adjust(bottom=0.2)\n",
    "plt.text(0.5, -0.2, \"\", ha=\"center\", va=\"center\")\n",
    "\n",
    "# Show the heatmap\n",
    "plt.show()\n"
   ]
  },
  {
   "cell_type": "code",
   "execution_count": 9,
   "id": "a13b2a4e-45d3-4fd5-bc49-804d8790dd79",
   "metadata": {},
   "outputs": [
    {
     "data": {
      "image/png": "[encoded data removed]",
      "text/plain": [
       "<Figure size 800x600 with 2 Axes>"
      ]
     },
     "metadata": {},
     "output_type": "display_data"
    }
   ],
   "source": [
    "import matplotlib.pyplot as plt\n",
    "\n",
    "# Define platforms and their relatability scores\n",
    "platforms = [\"TikTok\", \"Instagram\", \"LinkedIn\", \"YouTube\"]\n",
    "relatability_scores = [1, 5, 10, 30]\n",
    "\n",
    "# Normalize relatability scores for the heatmap (0 to 1)\n",
    "normalized_scores = [score / max(relatability_scores) for score in relatability_scores]\n",
    "\n",
    "# Create the heatmap using a red colormap\n",
    "plt.figure(figsize=(8, 6))\n",
    "heatmap = plt.imshow(\n",
    "    [normalized_scores], cmap=\"Reds\", vmin=0, vmax=1, aspect=\"auto\"\n",
    ")\n",
    "\n",
    "# Add labels and title\n",
    "plt.xticks(range(len(platforms)), platforms, rotation=45, ha=\"right\")\n",
    "plt.yticks([0], [\"Relatability Score\"])\n",
    "plt.title(\"Social Media Relatability Heatmap\")\n",
    "\n",
    "# Add colorbar\n",
    "plt.colorbar(heatmap, label=\"Normalized Score (0-1)\")\n",
    "\n",
    "# Display the heatmap\n",
    "plt.tight_layout()\n",
    "plt.show()\n"
   ]
  },
  {
   "cell_type": "code",
   "execution_count": 10,
   "id": "abec0093-6aba-4177-92d6-f0643aaf14d1",
   "metadata": {},
   "outputs": [
    {
     "data": {
      "image/png": "[encoded data removed]",
      "text/plain": [
       "<Figure size 800x600 with 1 Axes>"
      ]
     },
     "metadata": {},
     "output_type": "display_data"
    }
   ],
   "source": [
    "# Import libraries\n",
    "import matplotlib.pyplot as plt\n",
    "\n",
    "# Define platforms and their scores\n",
    "platforms = [\"TikTok\", \"Instagram\", \"LinkedIn\", \"YouTube\"]\n",
    "scores = [1, 5, 10, 40]\n",
    "\n",
    "# Calculate total score (100)\n",
    "total_score = 100\n",
    "\n",
    "# Create figure and axes\n",
    "fig, ax = plt.subplots(figsize=(8, 6))\n",
    "\n",
    "# Stack the bars\n",
    "ax.bar(platforms, scores, color=['red', 'orange', 'gold', 'green'], ec='black')\n",
    "\n",
    "# Add remaining space to make total height 100\n",
    "ax.bar(platforms, [total_score - score for score in scores], color='white', ec='black')\n",
    "\n",
    "# Set labels and title\n",
    "ax.set_xlabel(\"Platform\")\n",
    "ax.set_ylabel(\"Familiarity Score (0-100)\")\n",
    "ax.set_title(\"Comparing Platform Familiarity (100 = In-Person Meeting)\")\n",
    "\n",
    "# Customize x-axis ticks\n",
    "plt.xticks(rotation=45)\n",
    "\n",
    "# Show the chart\n",
    "plt.tight_layout()\n",
    "plt.show()\n"
   ]
  },
  {
   "cell_type": "code",
   "execution_count": 12,
   "id": "47b3da1e-8ddf-4b23-aee1-837b92594557",
   "metadata": {},
   "outputs": [
    {
     "data": {
      "image/png": "[encoded data removed]",
      "text/plain": [
       "<Figure size 800x600 with 1 Axes>"
      ]
     },
     "metadata": {},
     "output_type": "display_data"
    }
   ],
   "source": [
    "# Import libraries\n",
    "import matplotlib.pyplot as plt\n",
    "\n",
    "# Define platforms and their scores\n",
    "platforms = [\"TikTok\", \"Instagram\", \"LinkedIn\", \"YouTube\"]\n",
    "scores = [1, 5, 10, 40]\n",
    "\n",
    "# Define base temperature (0) and maximum temperature (100)\n",
    "base_temp = 0\n",
    "max_temp = 100\n",
    "\n",
    "# Create figure and axes\n",
    "fig, ax = plt.subplots(figsize=(8, 6))\n",
    "\n",
    "# Define bar width and spacing\n",
    "bar_width = 0.8\n",
    "bar_spacing = 0.2\n",
    "\n",
    "# Create temperature bars\n",
    "for i, (platform, score) in enumerate(zip(platforms, scores)):\n",
    "    x_pos = i * (bar_width + bar_spacing)\n",
    "    height = score / max_temp * (max_temp - base_temp)\n",
    "    ax.bar(x_pos, height, bar_width, color=['red', 'orange', 'gold', 'green'][i], ec='black', bottom=base_temp)\n",
    "\n",
    "# Add base line and maximum line\n",
    "ax.axhline(y=base_temp, color='gray', linestyle='--')\n",
    "ax.axhline(y=max_temp, color='gray', linestyle='--')\n",
    "\n",
    "# Set labels and title\n",
    "ax.set_xlabel(\"Platform\")\n",
    "ax.set_ylabel(\"Familiarity Score (0-100)\")\n",
    "ax.set_title(\"Comparing Platform Familiarity (100 = In-Person Meeting)\")\n",
    "\n",
    "# Set y-axis limits slightly above and below base/max temperatures\n",
    "ax.set_ylim(base_temp - 5, max_temp + 5)\n",
    "\n",
    "# Customize x-axis ticks\n",
    "plt.xticks(range(len(platforms)), platforms, rotation=45)\n",
    "\n",
    "# Show the chart\n",
    "plt.tight_layout()\n",
    "plt.show()\n"
   ]
  },
  {
   "cell_type": "code",
   "execution_count": null,
   "id": "5272a8df-2b75-470a-9f3d-439cc36eec6d",
   "metadata": {},
   "outputs": [],
   "source": []
  }
 ],
 "metadata": {
  "kernelspec": {
   "display_name": "Python 3 (ipykernel)",
   "language": "python",
   "name": "python3"
  },
  "language_info": {
   "codemirror_mode": {
    "name": "ipython",
    "version": 3
   },
   "file_extension": ".py",
   "mimetype": "text/x-python",
   "name": "python",
   "nbconvert_exporter": "python",
   "pygments_lexer": "ipython3",
   "version": "3.8.13"
  }
 },
 "nbformat": 4,
 "nbformat_minor": 5
}
