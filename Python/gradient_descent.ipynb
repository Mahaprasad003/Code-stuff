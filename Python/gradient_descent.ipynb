{
 "cells": [
  {
   "cell_type": "code",
   "execution_count": 3,
   "id": "3485f15e",
   "metadata": {},
   "outputs": [],
   "source": [
    "import numpy as np"
   ]
  },
  {
   "cell_type": "code",
   "execution_count": 4,
   "id": "ae905883",
   "metadata": {},
   "outputs": [],
   "source": [
    "x = np.array([14, 16, 18, 20, 24, 30, 32]) # sales\n",
    "y = np.array([52, 62, 65, 70, 76, 80, 78]) # advt"
   ]
  },
  {
   "cell_type": "code",
   "execution_count": 5,
   "id": "b24fdd80",
   "metadata": {},
   "outputs": [
    {
     "name": "stdout",
     "output_type": "stream",
     "text": [
      "GD alpha: 68.99999999999964\n",
      "GD beta: 8.552359741197536\n"
     ]
    }
   ],
   "source": [
    "def gradient_descent(x, y, alpha, beta, iterations, lr):\n",
    "    for i in range(iterations):\n",
    "        ypred = alpha + beta * x\n",
    "        error = ypred - y\n",
    "\n",
    "        d_alpha = 2 * np.mean(error)\n",
    "        d_beta = 2 * np.mean(x * error)\n",
    "\n",
    "        alpha -= lr * d_alpha\n",
    "        beta -= lr * d_beta\n",
    "    return (alpha, beta)\n",
    "\n",
    "x_mean = np.mean(x)\n",
    "x_std = np.std(x)\n",
    "x_scaled = (x - x_mean) / x_std\n",
    "\n",
    "\n",
    "alpha_gd, beta_gd = gradient_descent(\n",
    "    x_scaled, y,\n",
    "    alpha=0,\n",
    "    beta=0,\n",
    "    iterations=10000,\n",
    "    lr=0.01\n",
    ")\n",
    "\n",
    "print(\"GD alpha:\", alpha_gd)\n",
    "print(\"GD beta:\", beta_gd)"
   ]
  },
  {
   "cell_type": "code",
   "execution_count": 12,
   "id": "480abd30",
   "metadata": {},
   "outputs": [],
   "source": [
    "beta_original = beta_gd / x_std\n",
    "alpha_original = alpha_gd - beta_gd * (x_mean / x_std)"
   ]
  },
  {
   "cell_type": "code",
   "execution_count": 13,
   "id": "7afc564f",
   "metadata": {},
   "outputs": [
    {
     "name": "stdout",
     "output_type": "stream",
     "text": [
      "GD (original scale): alpha = 39.666666666666465 beta = 1.3333333333333264\n"
     ]
    }
   ],
   "source": [
    "print(\"GD (original scale): alpha =\", alpha_original, \"beta =\", beta_original)"
   ]
  },
  {
   "cell_type": "code",
   "execution_count": null,
   "id": "d42cc5cb",
   "metadata": {},
   "outputs": [],
   "source": []
  }
 ],
 "metadata": {
  "kernelspec": {
   "display_name": "Python 3",
   "language": "python",
   "name": "python3"
  },
  "language_info": {
   "codemirror_mode": {
    "name": "ipython",
    "version": 3
   },
   "file_extension": ".py",
   "mimetype": "text/x-python",
   "name": "python",
   "nbconvert_exporter": "python",
   "pygments_lexer": "ipython3",
   "version": "3.10.7"
  }
 },
 "nbformat": 4,
 "nbformat_minor": 5
}
