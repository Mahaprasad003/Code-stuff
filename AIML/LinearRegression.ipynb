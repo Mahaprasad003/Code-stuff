{
 "cells": [
  {
   "cell_type": "code",
   "execution_count": 1,
   "id": "abd756c9-a8a5-42ce-9e09-b8286daa5bbb",
   "metadata": {},
   "outputs": [],
   "source": [
    "import pandas as pd\n",
    "import numpy as np\n",
    "from sklearn import linear_model\n",
    "from sklearn.linear_model import LinearRegression\n",
    "from sklearn.metrics import mean_squared_error, r2_score"
   ]
  },
  {
   "cell_type": "markdown",
   "id": "a614cf84-0b4e-4a64-908f-31068c8b38dd",
   "metadata": {
    "tags": []
   },
   "source": [
    "# Diabetes"
   ]
  },
  {
   "cell_type": "code",
   "execution_count": 11,
   "id": "eba9ac10-4eb9-4fea-b33a-8a702da524ef",
   "metadata": {},
   "outputs": [
    {
     "data": {
      "text/plain": [
       "array([[  6.   , 148.   ,  72.   , ...,   0.627,  50.   ,   1.   ],\n",
       "       [  1.   ,  85.   ,  66.   , ...,   0.351,  31.   ,   0.   ],\n",
       "       [  8.   , 183.   ,  64.   , ...,   0.672,  32.   ,   1.   ],\n",
       "       ...,\n",
       "       [  5.   , 121.   ,  72.   , ...,   0.245,  30.   ,   0.   ],\n",
       "       [  1.   , 126.   ,  60.   , ...,   0.349,  47.   ,   1.   ],\n",
       "       [  1.   ,  93.   ,  70.   , ...,   0.315,  23.   ,   0.   ]])"
      ]
     },
     "execution_count": 11,
     "metadata": {},
     "output_type": "execute_result"
    }
   ],
   "source": [
    "X = pd.read_csv(\"diabetes.csv\",index_col=False)\n",
    "X = np.asarray(X)\n",
    "X"
   ]
  },
  {
   "cell_type": "code",
   "execution_count": 12,
   "id": "10a2daff-cd68-4228-a8c6-4856313519a5",
   "metadata": {},
   "outputs": [],
   "source": [
    "Y = pd.read_csv(\"diabetes.csv\",index_col=False)\n",
    "Y = np.asarray(Y)"
   ]
  },
  {
   "cell_type": "code",
   "execution_count": 13,
   "id": "fc97fdc1-ba5d-4356-859d-edf724a6ecd2",
   "metadata": {},
   "outputs": [],
   "source": [
    "diabetes_X = X[:, np.newaxis, 2]"
   ]
  },
  {
   "cell_type": "code",
   "execution_count": 27,
   "id": "177875bc-60cf-4584-be0a-91d2d8aaee35",
   "metadata": {},
   "outputs": [],
   "source": [
    "diabetes_Y = Y[:, np.newaxis, -1]"
   ]
  },
  {
   "cell_type": "code",
   "execution_count": 28,
   "id": "7339a33e-273d-4f21-94fc-51be2eec7463",
   "metadata": {},
   "outputs": [],
   "source": [
    "# splitting into train-test\n",
    "\n",
    "diabetes_X_train = diabetes_X[:-20]\n",
    "diabetes_X_test = diabetes_X[-20:]\n"
   ]
  },
  {
   "cell_type": "code",
   "execution_count": 29,
   "id": "d2b31ad9-24a7-45e7-9dbd-16f8ec980d76",
   "metadata": {},
   "outputs": [
    {
     "name": "stdout",
     "output_type": "stream",
     "text": [
      "20\n"
     ]
    }
   ],
   "source": [
    "count = np.count_nonzero(diabetes_X_test)\n",
    "print(count)"
   ]
  },
  {
   "cell_type": "code",
   "execution_count": 30,
   "id": "5d79a49d-c5e7-4757-967e-9b483c5c4044",
   "metadata": {},
   "outputs": [],
   "source": [
    "diabetes_Y_train = diabetes_Y[:-20]\n",
    "diabetes_Y_test = diabetes_Y[-20:]"
   ]
  },
  {
   "cell_type": "code",
   "execution_count": 35,
   "id": "f9bd6371-67a8-46f3-bc24-d47816728b6f",
   "metadata": {},
   "outputs": [],
   "source": [
    "regr = linear_model.LinearRegression()"
   ]
  },
  {
   "cell_type": "code",
   "execution_count": 36,
   "id": "d58a7e86-a91b-4c1b-983f-aa0fa294ea99",
   "metadata": {},
   "outputs": [],
   "source": [
    "diabetes_X_train = diabetes_X_train.reshape(-1,1)\n",
    "diabetes_Y_train = diabetes_Y_train.reshape(-1,1)"
   ]
  },
  {
   "cell_type": "code",
   "execution_count": 37,
   "id": "51767f29-c7ff-44a2-a4c4-fbe0e4a3c430",
   "metadata": {},
   "outputs": [
    {
     "data": {
      "text/html": [
       "<style>#sk-container-id-1 {color: black;background-color: white;}#sk-container-id-1 pre{padding: 0;}#sk-container-id-1 div.sk-toggleable {background-color: white;}#sk-container-id-1 label.sk-toggleable__label {cursor: pointer;display: block;width: 100%;margin-bottom: 0;padding: 0.3em;box-sizing: border-box;text-align: center;}#sk-container-id-1 label.sk-toggleable__label-arrow:before {content: \"▸\";float: left;margin-right: 0.25em;color: #696969;}#sk-container-id-1 label.sk-toggleable__label-arrow:hover:before {color: black;}#sk-container-id-1 div.sk-estimator:hover label.sk-toggleable__label-arrow:before {color: black;}#sk-container-id-1 div.sk-toggleable__content {max-height: 0;max-width: 0;overflow: hidden;text-align: left;background-color: #f0f8ff;}#sk-container-id-1 div.sk-toggleable__content pre {margin: 0.2em;color: black;border-radius: 0.25em;background-color: #f0f8ff;}#sk-container-id-1 input.sk-toggleable__control:checked~div.sk-toggleable__content {max-height: 200px;max-width: 100%;overflow: auto;}#sk-container-id-1 input.sk-toggleable__control:checked~label.sk-toggleable__label-arrow:before {content: \"▾\";}#sk-container-id-1 div.sk-estimator input.sk-toggleable__control:checked~label.sk-toggleable__label {background-color: #d4ebff;}#sk-container-id-1 div.sk-label input.sk-toggleable__control:checked~label.sk-toggleable__label {background-color: #d4ebff;}#sk-container-id-1 input.sk-hidden--visually {border: 0;clip: rect(1px 1px 1px 1px);clip: rect(1px, 1px, 1px, 1px);height: 1px;margin: -1px;overflow: hidden;padding: 0;position: absolute;width: 1px;}#sk-container-id-1 div.sk-estimator {font-family: monospace;background-color: #f0f8ff;border: 1px dotted black;border-radius: 0.25em;box-sizing: border-box;margin-bottom: 0.5em;}#sk-container-id-1 div.sk-estimator:hover {background-color: #d4ebff;}#sk-container-id-1 div.sk-parallel-item::after {content: \"\";width: 100%;border-bottom: 1px solid gray;flex-grow: 1;}#sk-container-id-1 div.sk-label:hover label.sk-toggleable__label {background-color: #d4ebff;}#sk-container-id-1 div.sk-serial::before {content: \"\";position: absolute;border-left: 1px solid gray;box-sizing: border-box;top: 0;bottom: 0;left: 50%;z-index: 0;}#sk-container-id-1 div.sk-serial {display: flex;flex-direction: column;align-items: center;background-color: white;padding-right: 0.2em;padding-left: 0.2em;position: relative;}#sk-container-id-1 div.sk-item {position: relative;z-index: 1;}#sk-container-id-1 div.sk-parallel {display: flex;align-items: stretch;justify-content: center;background-color: white;position: relative;}#sk-container-id-1 div.sk-item::before, #sk-container-id-1 div.sk-parallel-item::before {content: \"\";position: absolute;border-left: 1px solid gray;box-sizing: border-box;top: 0;bottom: 0;left: 50%;z-index: -1;}#sk-container-id-1 div.sk-parallel-item {display: flex;flex-direction: column;z-index: 1;position: relative;background-color: white;}#sk-container-id-1 div.sk-parallel-item:first-child::after {align-self: flex-end;width: 50%;}#sk-container-id-1 div.sk-parallel-item:last-child::after {align-self: flex-start;width: 50%;}#sk-container-id-1 div.sk-parallel-item:only-child::after {width: 0;}#sk-container-id-1 div.sk-dashed-wrapped {border: 1px dashed gray;margin: 0 0.4em 0.5em 0.4em;box-sizing: border-box;padding-bottom: 0.4em;background-color: white;}#sk-container-id-1 div.sk-label label {font-family: monospace;font-weight: bold;display: inline-block;line-height: 1.2em;}#sk-container-id-1 div.sk-label-container {text-align: center;}#sk-container-id-1 div.sk-container {/* jupyter's `normalize.less` sets `[hidden] { display: none; }` but bootstrap.min.css set `[hidden] { display: none !important; }` so we also need the `!important` here to be able to override the default hidden behavior on the sphinx rendered scikit-learn.org. See: https://github.com/scikit-learn/scikit-learn/issues/21755 */display: inline-block !important;position: relative;}#sk-container-id-1 div.sk-text-repr-fallback {display: none;}</style><div id=\"sk-container-id-1\" class=\"sk-top-container\"><div class=\"sk-text-repr-fallback\"><pre>LinearRegression()</pre><b>In a Jupyter environment, please rerun this cell to show the HTML representation or trust the notebook. <br />On GitHub, the HTML representation is unable to render, please try loading this page with nbviewer.org.</b></div><div class=\"sk-container\" hidden><div class=\"sk-item\"><div class=\"sk-estimator sk-toggleable\"><input class=\"sk-toggleable__control sk-hidden--visually\" id=\"sk-estimator-id-1\" type=\"checkbox\" checked><label for=\"sk-estimator-id-1\" class=\"sk-toggleable__label sk-toggleable__label-arrow\">LinearRegression</label><div class=\"sk-toggleable__content\"><pre>LinearRegression()</pre></div></div></div></div></div>"
      ],
      "text/plain": [
       "LinearRegression()"
      ]
     },
     "execution_count": 37,
     "metadata": {},
     "output_type": "execute_result"
    }
   ],
   "source": [
    "regr.fit(diabetes_X_train, diabetes_Y_train)"
   ]
  },
  {
   "cell_type": "code",
   "execution_count": 39,
   "id": "a2091b3e-f0f1-45e2-86a9-42e3143ba44d",
   "metadata": {},
   "outputs": [],
   "source": [
    "diabetes_X_test = diabetes_X_test.reshape(-1,1)\n",
    "# print(diabetes_X_test)"
   ]
  },
  {
   "cell_type": "code",
   "execution_count": 41,
   "id": "1a3ddcd0-9561-4ef4-a323-c8ed39d6a6fc",
   "metadata": {},
   "outputs": [],
   "source": [
    "diabetes_Y_pred = regr.predict(diabetes_X_test)\n",
    "# print(diabetes_Y_pred)"
   ]
  },
  {
   "cell_type": "markdown",
   "id": "d4cde76c-3817-420a-a187-1d13ea54ad76",
   "metadata": {
    "tags": []
   },
   "source": [
    "# PH analysis"
   ]
  },
  {
   "cell_type": "code",
   "execution_count": 33,
   "id": "b88d02a2-bd7c-47a7-83bf-b19369284f50",
   "metadata": {},
   "outputs": [],
   "source": [
    "df = pd.read_csv(\"water_potability.csv\")\n",
    "df = df.dropna()\n",
    "# df['ph'] = df['ph'].round(3)"
   ]
  },
  {
   "cell_type": "code",
   "execution_count": 34,
   "id": "aa2b1b41-6c19-4e5d-983f-f159d71a0743",
   "metadata": {},
   "outputs": [
    {
     "data": {
      "text/plain": [
       "array([[8.31676588e+00, 2.14373394e+02, 2.20184174e+04, ...,\n",
       "        1.00341674e+02, 4.62877054e+00, 0.00000000e+00],\n",
       "       [9.09222346e+00, 1.81101509e+02, 1.79789863e+04, ...,\n",
       "        3.19979927e+01, 4.07507543e+00, 0.00000000e+00],\n",
       "       [5.58408664e+00, 1.88313324e+02, 2.87486877e+04, ...,\n",
       "        5.49178618e+01, 2.55970823e+00, 0.00000000e+00],\n",
       "       ...,\n",
       "       [1.14910109e+01, 9.48125452e+01, 3.71888260e+04, ...,\n",
       "        4.15585007e+01, 4.36926431e+00, 1.00000000e+00],\n",
       "       [6.06961576e+00, 1.86659040e+02, 2.61387802e+04, ...,\n",
       "        6.04199211e+01, 3.66971170e+00, 1.00000000e+00],\n",
       "       [4.66810169e+00, 1.93681735e+02, 4.75809916e+04, ...,\n",
       "        6.66876948e+01, 4.43582091e+00, 1.00000000e+00]])"
      ]
     },
     "execution_count": 34,
     "metadata": {},
     "output_type": "execute_result"
    }
   ],
   "source": [
    "X = np.asarray(df)\n",
    "X"
   ]
  },
  {
   "cell_type": "code",
   "execution_count": 35,
   "id": "702a7775-32f0-477d-85f7-1e0646f75843",
   "metadata": {},
   "outputs": [
    {
     "data": {
      "text/plain": [
       "array([[ 8.31676588],\n",
       "       [ 9.09222346],\n",
       "       [ 5.58408664],\n",
       "       ...,\n",
       "       [11.49101091],\n",
       "       [ 6.06961576],\n",
       "       [ 4.66810169]])"
      ]
     },
     "execution_count": 35,
     "metadata": {},
     "output_type": "execute_result"
    }
   ],
   "source": [
    "ph_X = X[:, np.newaxis, 0]\n",
    "ph_X"
   ]
  },
  {
   "cell_type": "code",
   "execution_count": 36,
   "id": "bb9b7fa7-3761-4dfd-94b2-d9b9efef42dc",
   "metadata": {},
   "outputs": [],
   "source": [
    "Y = np.asarray(df)"
   ]
  },
  {
   "cell_type": "code",
   "execution_count": 37,
   "id": "8960d714-4f5f-4ed0-8011-ca45006b9b46",
   "metadata": {},
   "outputs": [
    {
     "data": {
      "text/plain": [
       "array([[0.],\n",
       "       [0.],\n",
       "       [0.],\n",
       "       ...,\n",
       "       [1.],\n",
       "       [1.],\n",
       "       [1.]])"
      ]
     },
     "execution_count": 37,
     "metadata": {},
     "output_type": "execute_result"
    }
   ],
   "source": [
    "potab_Y = Y[:, np.newaxis, -1]\n",
    "potab_Y"
   ]
  },
  {
   "cell_type": "code",
   "execution_count": 38,
   "id": "3876fde1-21f0-47d1-9938-b335cd6c8bc1",
   "metadata": {},
   "outputs": [],
   "source": [
    "#splitting into train and test\n",
    "\n",
    "potab_Y_train = potab_Y[:-20]\n",
    "potab_Y_test = potab_Y[-20:]\n",
    "\n",
    "ph_X_train = ph_X[:-20]\n",
    "ph_X_test = ph_X[-20:]"
   ]
  },
  {
   "cell_type": "code",
   "execution_count": 58,
   "id": "e10b9813-a5a8-426c-b6c8-fcbd1fec314f",
   "metadata": {},
   "outputs": [
    {
     "data": {
      "text/plain": [
       "array([[0.],\n",
       "       [0.],\n",
       "       [0.],\n",
       "       ...,\n",
       "       [1.],\n",
       "       [1.],\n",
       "       [1.]])"
      ]
     },
     "execution_count": 58,
     "metadata": {},
     "output_type": "execute_result"
    }
   ],
   "source": [
    "potab_Y_train"
   ]
  },
  {
   "cell_type": "code",
   "execution_count": 39,
   "id": "06fb66c3-6127-49db-965a-7c4c8881fc3f",
   "metadata": {},
   "outputs": [],
   "source": [
    "regr = linear_model.LinearRegression()\n"
   ]
  },
  {
   "cell_type": "code",
   "execution_count": 40,
   "id": "cbcd3be2-62c7-474d-9a60-5c021956ce1f",
   "metadata": {},
   "outputs": [],
   "source": [
    "ph_X_train = ph_X_train.reshape(-1,1)\n",
    "potab_Y_train = potab_Y_train.reshape(-1,1)"
   ]
  },
  {
   "cell_type": "code",
   "execution_count": 41,
   "id": "a654c8b6-2ef7-4c01-9fb9-5dad9c5b2605",
   "metadata": {},
   "outputs": [
    {
     "data": {
      "text/html": [
       "<style>#sk-container-id-2 {color: black;background-color: white;}#sk-container-id-2 pre{padding: 0;}#sk-container-id-2 div.sk-toggleable {background-color: white;}#sk-container-id-2 label.sk-toggleable__label {cursor: pointer;display: block;width: 100%;margin-bottom: 0;padding: 0.3em;box-sizing: border-box;text-align: center;}#sk-container-id-2 label.sk-toggleable__label-arrow:before {content: \"▸\";float: left;margin-right: 0.25em;color: #696969;}#sk-container-id-2 label.sk-toggleable__label-arrow:hover:before {color: black;}#sk-container-id-2 div.sk-estimator:hover label.sk-toggleable__label-arrow:before {color: black;}#sk-container-id-2 div.sk-toggleable__content {max-height: 0;max-width: 0;overflow: hidden;text-align: left;background-color: #f0f8ff;}#sk-container-id-2 div.sk-toggleable__content pre {margin: 0.2em;color: black;border-radius: 0.25em;background-color: #f0f8ff;}#sk-container-id-2 input.sk-toggleable__control:checked~div.sk-toggleable__content {max-height: 200px;max-width: 100%;overflow: auto;}#sk-container-id-2 input.sk-toggleable__control:checked~label.sk-toggleable__label-arrow:before {content: \"▾\";}#sk-container-id-2 div.sk-estimator input.sk-toggleable__control:checked~label.sk-toggleable__label {background-color: #d4ebff;}#sk-container-id-2 div.sk-label input.sk-toggleable__control:checked~label.sk-toggleable__label {background-color: #d4ebff;}#sk-container-id-2 input.sk-hidden--visually {border: 0;clip: rect(1px 1px 1px 1px);clip: rect(1px, 1px, 1px, 1px);height: 1px;margin: -1px;overflow: hidden;padding: 0;position: absolute;width: 1px;}#sk-container-id-2 div.sk-estimator {font-family: monospace;background-color: #f0f8ff;border: 1px dotted black;border-radius: 0.25em;box-sizing: border-box;margin-bottom: 0.5em;}#sk-container-id-2 div.sk-estimator:hover {background-color: #d4ebff;}#sk-container-id-2 div.sk-parallel-item::after {content: \"\";width: 100%;border-bottom: 1px solid gray;flex-grow: 1;}#sk-container-id-2 div.sk-label:hover label.sk-toggleable__label {background-color: #d4ebff;}#sk-container-id-2 div.sk-serial::before {content: \"\";position: absolute;border-left: 1px solid gray;box-sizing: border-box;top: 0;bottom: 0;left: 50%;z-index: 0;}#sk-container-id-2 div.sk-serial {display: flex;flex-direction: column;align-items: center;background-color: white;padding-right: 0.2em;padding-left: 0.2em;position: relative;}#sk-container-id-2 div.sk-item {position: relative;z-index: 1;}#sk-container-id-2 div.sk-parallel {display: flex;align-items: stretch;justify-content: center;background-color: white;position: relative;}#sk-container-id-2 div.sk-item::before, #sk-container-id-2 div.sk-parallel-item::before {content: \"\";position: absolute;border-left: 1px solid gray;box-sizing: border-box;top: 0;bottom: 0;left: 50%;z-index: -1;}#sk-container-id-2 div.sk-parallel-item {display: flex;flex-direction: column;z-index: 1;position: relative;background-color: white;}#sk-container-id-2 div.sk-parallel-item:first-child::after {align-self: flex-end;width: 50%;}#sk-container-id-2 div.sk-parallel-item:last-child::after {align-self: flex-start;width: 50%;}#sk-container-id-2 div.sk-parallel-item:only-child::after {width: 0;}#sk-container-id-2 div.sk-dashed-wrapped {border: 1px dashed gray;margin: 0 0.4em 0.5em 0.4em;box-sizing: border-box;padding-bottom: 0.4em;background-color: white;}#sk-container-id-2 div.sk-label label {font-family: monospace;font-weight: bold;display: inline-block;line-height: 1.2em;}#sk-container-id-2 div.sk-label-container {text-align: center;}#sk-container-id-2 div.sk-container {/* jupyter's `normalize.less` sets `[hidden] { display: none; }` but bootstrap.min.css set `[hidden] { display: none !important; }` so we also need the `!important` here to be able to override the default hidden behavior on the sphinx rendered scikit-learn.org. See: https://github.com/scikit-learn/scikit-learn/issues/21755 */display: inline-block !important;position: relative;}#sk-container-id-2 div.sk-text-repr-fallback {display: none;}</style><div id=\"sk-container-id-2\" class=\"sk-top-container\"><div class=\"sk-text-repr-fallback\"><pre>LinearRegression()</pre><b>In a Jupyter environment, please rerun this cell to show the HTML representation or trust the notebook. <br />On GitHub, the HTML representation is unable to render, please try loading this page with nbviewer.org.</b></div><div class=\"sk-container\" hidden><div class=\"sk-item\"><div class=\"sk-estimator sk-toggleable\"><input class=\"sk-toggleable__control sk-hidden--visually\" id=\"sk-estimator-id-2\" type=\"checkbox\" checked><label for=\"sk-estimator-id-2\" class=\"sk-toggleable__label sk-toggleable__label-arrow\">LinearRegression</label><div class=\"sk-toggleable__content\"><pre>LinearRegression()</pre></div></div></div></div></div>"
      ],
      "text/plain": [
       "LinearRegression()"
      ]
     },
     "execution_count": 41,
     "metadata": {},
     "output_type": "execute_result"
    }
   ],
   "source": [
    "regr.fit(ph_X_train, potab_Y_train)"
   ]
  },
  {
   "cell_type": "code",
   "execution_count": 42,
   "id": "dc46a6ba-6039-4afa-ab49-b53bf3f1aa8f",
   "metadata": {},
   "outputs": [],
   "source": [
    "ph_X_test = ph_X_test.reshape(-1,1)"
   ]
  },
  {
   "cell_type": "code",
   "execution_count": 43,
   "id": "2b4cb284-92de-4f89-b511-9d7ccdb6a165",
   "metadata": {},
   "outputs": [],
   "source": [
    "potab_Y_pred = regr.predict(ph_X_test)"
   ]
  },
  {
   "cell_type": "code",
   "execution_count": 49,
   "id": "23decb6e-48f5-46b4-912a-9aa70d32cfa1",
   "metadata": {},
   "outputs": [
    {
     "data": {
      "text/plain": [
       "array([[0.41128466],\n",
       "       [0.39407386],\n",
       "       [0.41183447],\n",
       "       [0.39841557],\n",
       "       [0.3884719 ],\n",
       "       [0.39850748],\n",
       "       [0.40423495],\n",
       "       [0.39309314],\n",
       "       [0.39933448],\n",
       "       [0.39572672],\n",
       "       [0.38380268],\n",
       "       [0.40234486],\n",
       "       [0.39666499],\n",
       "       [0.39264065],\n",
       "       [0.401639  ],\n",
       "       [0.40473398],\n",
       "       [0.39580161],\n",
       "       [0.41450109],\n",
       "       [0.39332995],\n",
       "       [0.38785689]])"
      ]
     },
     "execution_count": 49,
     "metadata": {},
     "output_type": "execute_result"
    }
   ],
   "source": [
    "potab_Y_pred"
   ]
  },
  {
   "cell_type": "markdown",
   "id": "5dcd1d4a-7ff2-4f9c-baaa-317764466c10",
   "metadata": {
    "jp-MarkdownHeadingCollapsed": true,
    "tags": []
   },
   "source": [
    "## Error calculations"
   ]
  },
  {
   "cell_type": "code",
   "execution_count": 13,
   "id": "732fdc1c-0d30-4b5e-81a5-5e561ac574a7",
   "metadata": {},
   "outputs": [],
   "source": [
    "mean_test_data = np.mean(potab_Y_test)"
   ]
  },
  {
   "cell_type": "code",
   "execution_count": 14,
   "id": "342bad0d-3fb5-4bd0-a988-2ab482621b3b",
   "metadata": {},
   "outputs": [
    {
     "data": {
      "text/plain": [
       "7.239355848383874"
      ]
     },
     "execution_count": 14,
     "metadata": {},
     "output_type": "execute_result"
    }
   ],
   "source": [
    "sse = np.sum((potab_Y_test - potab_Y_pred) ** 2)\n",
    "sse"
   ]
  },
  {
   "cell_type": "code",
   "execution_count": 15,
   "id": "0fd77de5-4cfd-44bf-9cda-7c95717ee5fa",
   "metadata": {},
   "outputs": [
    {
     "data": {
      "text/plain": [
       "7.239355848383874"
      ]
     },
     "execution_count": 15,
     "metadata": {},
     "output_type": "execute_result"
    }
   ],
   "source": [
    "ssr = np.sum((potab_Y_pred - mean_test_data) ** 2)\n",
    "ssr"
   ]
  },
  {
   "cell_type": "code",
   "execution_count": 16,
   "id": "2e053388-0d93-49b2-b808-2c534674f965",
   "metadata": {},
   "outputs": [
    {
     "data": {
      "text/plain": [
       "0.0"
      ]
     },
     "execution_count": 16,
     "metadata": {},
     "output_type": "execute_result"
    }
   ],
   "source": [
    "sst = np.sum((potab_Y_test - mean_test_data) ** 2)\n",
    "sst"
   ]
  },
  {
   "cell_type": "markdown",
   "id": "4ad7328e-ea7f-483e-a47b-81e1efa3ebc6",
   "metadata": {},
   "source": [
    "# Predict from user input"
   ]
  },
  {
   "cell_type": "code",
   "execution_count": 64,
   "id": "3e3adce0-83e2-4427-be99-9035562b0f4c",
   "metadata": {},
   "outputs": [
    {
     "name": "stdin",
     "output_type": "stream",
     "text": [
      "Enter ph value:  10\n"
     ]
    },
    {
     "name": "stdout",
     "output_type": "stream",
     "text": [
      "[[10.]]\n"
     ]
    }
   ],
   "source": [
    "user_input = float(input(\"Enter ph value: \"))\n",
    "user_input = np.array(user_input).reshape(1, -1)\n",
    "print(user_input)\n",
    "\n",
    "isDrinkable = regr.predict(user_input)\n",
    "print(isDrinkable)\n",
    "if(isDrinkable > 0.4):\n",
    "    print(\"Water is drinkable.\")\n",
    "else:\n",
    "    print(\"Water is not drinkable.\")"
   ]
  },
  {
   "cell_type": "code",
   "execution_count": null,
   "id": "aa92e9b4-7eca-4316-b446-b2a00da7d403",
   "metadata": {},
   "outputs": [],
   "source": []
  }
 ],
 "metadata": {
  "kernelspec": {
   "display_name": "Python 3 (ipykernel)",
   "language": "python",
   "name": "python3"
  },
  "language_info": {
   "codemirror_mode": {
    "name": "ipython",
    "version": 3
   },
   "file_extension": ".py",
   "mimetype": "text/x-python",
   "name": "python",
   "nbconvert_exporter": "python",
   "pygments_lexer": "ipython3",
   "version": "3.8.13"
  }
 },
 "nbformat": 4,
 "nbformat_minor": 5
}
