{
 "cells": [
  {
   "cell_type": "markdown",
   "id": "fe569161",
   "metadata": {},
   "source": [
    "# WAP that generates random numbers between 1-30. Store it in a list without repetition."
   ]
  },
  {
   "cell_type": "code",
   "execution_count": 1,
   "id": "9ea0f4c7",
   "metadata": {},
   "outputs": [],
   "source": [
    "import random"
   ]
  },
  {
   "cell_type": "code",
   "execution_count": 8,
   "id": "6e2d74a7",
   "metadata": {},
   "outputs": [
    {
     "name": "stdout",
     "output_type": "stream",
     "text": [
      "[2, 30, 9, 14, 26, 17, 18, 7, 21, 5, 15, 11, 12, 4, 27, 10, 6, 24, 19, 13, 28, 16, 23, 22, 25, 20, 8, 1, 3, 29]\n",
      "[1, 2, 3, 4, 5, 6, 7, 8, 9, 10, 11, 12, 13, 14, 15, 16, 17, 18, 19, 20, 21, 22, 23, 24, 25, 26, 27, 28, 29, 30]\n"
     ]
    }
   ],
   "source": [
    "new_list = []\n",
    "while(len(new_list) != 30):\n",
    "    num_generated = random.randint(1,30)\n",
    "    if num_generated not in new_list:\n",
    "        new_list.append(num_generated)\n",
    "    else:\n",
    "        continue\n",
    "\n",
    "print(new_list)\n",
    "sorted_newlist = new_list.sort()\n",
    "print(new_list)"
   ]
  },
  {
   "cell_type": "markdown",
   "id": "ed724378",
   "metadata": {},
   "source": [
    "# Print all palindromes from 100 to 999"
   ]
  },
  {
   "cell_type": "code",
   "execution_count": 12,
   "id": "b3b2162b",
   "metadata": {},
   "outputs": [],
   "source": [
    "for i in range(100,1000):\n",
    "    rev_num = 0\n",
    "    num = i\n",
    "    while(num != 0):\n",
    "        digit = num % 10\n",
    "        rev_num = rev_num *10 + digit\n",
    "        num //= 10\n",
    "    if(i == rev_num):\n",
    "        continue\n",
    "        #print(i)\n",
    "        "
   ]
  },
  {
   "cell_type": "code",
   "execution_count": 14,
   "id": "fd61f547",
   "metadata": {},
   "outputs": [
    {
     "ename": "TypeError",
     "evalue": "can only concatenate str (not \"int\") to str",
     "output_type": "error",
     "traceback": [
      "\u001b[1;31m---------------------------------------------------------------------------\u001b[0m",
      "\u001b[1;31mTypeError\u001b[0m                                 Traceback (most recent call last)",
      "Cell \u001b[1;32mIn [14], line 1\u001b[0m\n\u001b[1;32m----> 1\u001b[0m \u001b[38;5;28mprint\u001b[39m(\u001b[38;5;124;43m'\u001b[39;49m\u001b[38;5;124;43ma\u001b[39;49m\u001b[38;5;124;43m'\u001b[39;49m\u001b[38;5;241;43m+\u001b[39;49m\u001b[38;5;241;43m1\u001b[39;49m)\n",
      "\u001b[1;31mTypeError\u001b[0m: can only concatenate str (not \"int\") to str"
     ]
    }
   ],
   "source": [
    "print('a'+1)"
   ]
  },
  {
   "cell_type": "code",
   "execution_count": 49,
   "id": "dd705e26",
   "metadata": {},
   "outputs": [
    {
     "name": "stdout",
     "output_type": "stream",
     "text": [
      " 101 101 101\n"
     ]
    }
   ],
   "source": [
    "msg_str = str(123)\n",
    "\n",
    "# creating alphabet list\n",
    "alphabet_list = []\n",
    "for i in range(97, 123):\n",
    "    alphabet_list.append(i)\n",
    "\n",
    "#Encoding the message\n",
    "\n",
    "len_msg_str = len(msg_str)\n",
    "temp_len = len_msg_str\n",
    "encoded_msg = ''\n",
    "cnt = 0\n",
    "for i in range(len_msg_str):\n",
    "    temp = int(msg_str[cnt]) + alphabet_list[temp_len]\n",
    "    temp_str = str(temp)\n",
    "    \n",
    "    encoded_msg = encoded_msg + \" \" + temp_str\n",
    "    \n",
    "    cnt += 1\n",
    "    temp_len -= 1\n",
    "    \n",
    "    \n",
    "    \n",
    "print(encoded_msg)\n",
    "    "
   ]
  },
  {
   "cell_type": "code",
   "execution_count": 37,
   "id": "fc4b0166",
   "metadata": {},
   "outputs": [
    {
     "name": "stdout",
     "output_type": "stream",
     "text": [
      "122\n"
     ]
    }
   ],
   "source": []
  },
  {
   "cell_type": "code",
   "execution_count": null,
   "id": "0763338c",
   "metadata": {},
   "outputs": [],
   "source": []
  }
 ],
 "metadata": {
  "kernelspec": {
   "display_name": "Python 3 (ipykernel)",
   "language": "python",
   "name": "python3"
  },
  "language_info": {
   "codemirror_mode": {
    "name": "ipython",
    "version": 3
   },
   "file_extension": ".py",
   "mimetype": "text/x-python",
   "name": "python",
   "nbconvert_exporter": "python",
   "pygments_lexer": "ipython3",
   "version": "3.8.13"
  }
 },
 "nbformat": 4,
 "nbformat_minor": 5
}
