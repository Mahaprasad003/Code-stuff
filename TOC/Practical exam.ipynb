{
 "cells": [
  {
   "cell_type": "markdown",
   "id": "7e5b4700-4566-474b-9f95-5e632949dec4",
   "metadata": {},
   "source": [
    "# Assignment\n",
    "\n",
    "### WAP in python for the language which does not accept string containing substring 'aba'"
   ]
  },
  {
   "cell_type": "code",
   "execution_count": 2,
   "id": "7ee63b0d-63a8-40f0-b7b1-50cc92cf2ef8",
   "metadata": {},
   "outputs": [
    {
     "name": "stdin",
     "output_type": "stream",
     "text": [
      "Enter string to check:  abb\n"
     ]
    },
    {
     "name": "stdout",
     "output_type": "stream",
     "text": [
      "String is accepted.\n"
     ]
    },
    {
     "name": "stdin",
     "output_type": "stream",
     "text": [
      "Enter string to check:  ababba\n"
     ]
    },
    {
     "name": "stdout",
     "output_type": "stream",
     "text": [
      "String not accepted.\n"
     ]
    },
    {
     "name": "stdin",
     "output_type": "stream",
     "text": [
      "Enter string to check:  abbabba\n"
     ]
    },
    {
     "name": "stdout",
     "output_type": "stream",
     "text": [
      "String is accepted.\n"
     ]
    },
    {
     "name": "stdin",
     "output_type": "stream",
     "text": [
      "Enter string to check:  abbabbabba\n"
     ]
    },
    {
     "name": "stdout",
     "output_type": "stream",
     "text": [
      "String is accepted.\n"
     ]
    },
    {
     "name": "stdin",
     "output_type": "stream",
     "text": [
      "Enter string to check:  abbbba\n"
     ]
    },
    {
     "name": "stdout",
     "output_type": "stream",
     "text": [
      "String is accepted.\n"
     ]
    }
   ],
   "source": [
    "for i in range(5):\n",
    "    user_input = input(\"Enter string to check: \")\n",
    "\n",
    "    if 'aba' in user_input:\n",
    "        print(\"String not accepted.\")\n",
    "    else:\n",
    "        print(\"String is accepted.\")"
   ]
  },
  {
   "cell_type": "code",
   "execution_count": null,
   "id": "0b6a13bd-7fe7-4ebf-8b58-b6cf0dce00b2",
   "metadata": {},
   "outputs": [],
   "source": []
  }
 ],
 "metadata": {
  "kernelspec": {
   "display_name": "Python 3 (ipykernel)",
   "language": "python",
   "name": "python3"
  },
  "language_info": {
   "codemirror_mode": {
    "name": "ipython",
    "version": 3
   },
   "file_extension": ".py",
   "mimetype": "text/x-python",
   "name": "python",
   "nbconvert_exporter": "python",
   "pygments_lexer": "ipython3",
   "version": "3.8.13"
  }
 },
 "nbformat": 4,
 "nbformat_minor": 5
}
