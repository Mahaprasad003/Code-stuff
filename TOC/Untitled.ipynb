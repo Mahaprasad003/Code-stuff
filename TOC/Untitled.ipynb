{
 "cells": [
  {
   "cell_type": "code",
   "execution_count": 2,
   "id": "6efce3d9-636e-48d8-88a5-12e5400c03a5",
   "metadata": {},
   "outputs": [
    {
     "name": "stdin",
     "output_type": "stream",
     "text": [
      "Enter a string: abb\n"
     ]
    },
    {
     "name": "stdout",
     "output_type": "stream",
     "text": [
      "Rejected\n"
     ]
    }
   ],
   "source": [
    "s=input(\"Enter a string:\")\n",
    "a=b=0\n",
    "for i in s:\n",
    "    if i=='a':\n",
    "        a+=1\n",
    "    if i=='b':\n",
    "        b+=1\n",
    "if a%2==0 and b%2!=0:\n",
    "    print(\"Accepted\")\n",
    "else:\n",
    "    print(\"Rejected\") \n",
    "        \n",
    "            "
   ]
  },
  {
   "cell_type": "code",
   "execution_count": null,
   "id": "4d1b13d8-0b5c-40bd-9afd-e3b20a6dc53d",
   "metadata": {},
   "outputs": [],
   "source": []
  }
 ],
 "metadata": {
  "kernelspec": {
   "display_name": "Python 3 (ipykernel)",
   "language": "python",
   "name": "python3"
  },
  "language_info": {
   "codemirror_mode": {
    "name": "ipython",
    "version": 3
   },
   "file_extension": ".py",
   "mimetype": "text/x-python",
   "name": "python",
   "nbconvert_exporter": "python",
   "pygments_lexer": "ipython3",
   "version": "3.8.13"
  }
 },
 "nbformat": 4,
 "nbformat_minor": 5
}
