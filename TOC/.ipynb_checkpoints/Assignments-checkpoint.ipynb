{
 "cells": [
  {
   "cell_type": "markdown",
   "id": "4d6d67c2",
   "metadata": {},
   "source": [
    "# Assignment 1\n",
    "\n",
    "WAP to find the different locations of the substring in a given string"
   ]
  },
  {
   "cell_type": "code",
   "execution_count": 2,
   "id": "3fc20bc4",
   "metadata": {},
   "outputs": [
    {
     "name": "stdin",
     "output_type": "stream",
     "text": [
      "Enter initial string:  abababab\n",
      "Enter substring to check:  ba\n"
     ]
    },
    {
     "name": "stdout",
     "output_type": "stream",
     "text": [
      "Substring is at the following places: \n",
      "1\n",
      "3\n",
      "5\n"
     ]
    }
   ],
   "source": [
    "string = input(\"Enter initial string: \")\n",
    "substring = input(\"Enter substring to check: \")\n",
    "\n",
    "print(\"Substring is at the following places: \")\n",
    "\n",
    "for i in range(len(string)):\n",
    "    if(string[i:i + len(substring)] == substring):\n",
    "        print(i)"
   ]
  },
  {
   "cell_type": "markdown",
   "id": "aaa26752",
   "metadata": {},
   "source": [
    "# Assignment 2\n",
    "\n",
    "Suppose a language accepts only those strings in which two consecutive 0s is immediately followed by 1. WAP that will decide whether input string is accepted or not."
   ]
  },
  {
   "cell_type": "code",
   "execution_count": 3,
   "id": "644f2dc9",
   "metadata": {},
   "outputs": [
    {
     "name": "stdin",
     "output_type": "stream",
     "text": [
      "Enter binary string:  1010101\n"
     ]
    },
    {
     "name": "stdout",
     "output_type": "stream",
     "text": [
      "String is accepted.\n"
     ]
    }
   ],
   "source": [
    "binary_string = input(\"Enter binary string: \")\n",
    "\n",
    "flag = 0\n",
    "\n",
    "for i in range(len(binary_string) - 2):\n",
    "    if(binary_string[i] == '0' and binary_string[i+1] == '0'):\n",
    "        if(binary_string[i+2] != '1'):\n",
    "            print(\"String is not accepted.\")\n",
    "            flag = 1\n",
    "            break\n",
    "    else:\n",
    "        continue\n",
    "\n",
    "if(flag == 0):\n",
    "    print(\"String is accepted.\")"
   ]
  },
  {
   "cell_type": "markdown",
   "id": "c5af1690",
   "metadata": {},
   "source": [
    "# Assignment 3\n",
    "\n",
    "WAP that will decide a given string is accepted or not. If the string consists of equal number of a's and b's then the string is accepted. Otherwise not.\n"
   ]
  },
  {
   "cell_type": "code",
   "execution_count": 4,
   "id": "0b9199f2",
   "metadata": {},
   "outputs": [
    {
     "name": "stdin",
     "output_type": "stream",
     "text": [
      "Enter string:  abab\n"
     ]
    },
    {
     "name": "stdout",
     "output_type": "stream",
     "text": [
      "String is accepted.\n"
     ]
    }
   ],
   "source": [
    "original_string = input(\"Enter string: \")\n",
    "count_a = 0\n",
    "count_b = 0\n",
    "\n",
    "for i in range(len(original_string)):\n",
    "    if(original_string[i] == 'a'):\n",
    "        count_a += 1\n",
    "    elif(original_string[i] == 'b'):\n",
    "        count_b += 1\n",
    "if(count_a == count_b):\n",
    "    print(\"String is accepted.\")\n",
    "else:\n",
    "    print(\"String is not accepted.\")"
   ]
  },
  {
   "cell_type": "markdown",
   "id": "ec67c4ee-1bea-4d9d-9e32-6f4ab7290be9",
   "metadata": {},
   "source": [
    "# Assignment 4\n",
    "\n",
    "Suppose a language L, L = {a^n * b^m| n mod 2 != 0, m>=1}\n",
    "\n",
    "WAP that will accept an input string which will satisfy the condition of the above language"
   ]
  },
  {
   "cell_type": "code",
   "execution_count": 23,
   "id": "7f10b976-9949-4c72-bdc4-7a946dcce32e",
   "metadata": {},
   "outputs": [
    {
     "name": "stdin",
     "output_type": "stream",
     "text": [
      "Enter string:  aaaabbbb\n"
     ]
    },
    {
     "name": "stdout",
     "output_type": "stream",
     "text": [
      "String rejected.\n"
     ]
    }
   ],
   "source": [
    "original_string = input(\"Enter string: \")\n",
    "\n",
    "count_a = 0\n",
    "count_b = 0\n",
    "flag = 0\n",
    "\n",
    "for i in range(len(original_string)):\n",
    "    if(original_string[i] == 'a'):\n",
    "        count_a += 1\n",
    "    elif(original_string[i] == 'b'):\n",
    "        count_b += 1\n",
    "    else:\n",
    "        flag = 1\n",
    "        break\n",
    "        \n",
    "\n",
    "  \n",
    "if(count_a % 2 != 0 and count_b >= 1 and flag == 0):\n",
    "    print(\"String accepted.\")\n",
    "else:\n",
    "    print(\"String rejected.\")"
   ]
  },
  {
   "cell_type": "markdown",
   "id": "dddd185c-ed9b-4f56-bd1d-57e72d7d3b1c",
   "metadata": {},
   "source": [
    "## Assignment 4.2\n",
    "\n",
    "Minimisation\n"
   ]
  },
  {
   "cell_type": "markdown",
   "id": "894e3b31-cc54-4516-bba8-b4510a5ea7d0",
   "metadata": {},
   "source": [
    "# Assignment 5\n",
    "Suppose a language accepts only those strings that consists of even number of occurrences of substring 'aaab'.\n",
    "\n",
    "WAP that will decide whether string is accepted or not."
   ]
  },
  {
   "cell_type": "code",
   "execution_count": 1,
   "id": "c3523cb4-beb8-470a-b3a4-c07b16d9446f",
   "metadata": {},
   "outputs": [
    {
     "name": "stdin",
     "output_type": "stream",
     "text": [
      "Enter string:  aaabaaab\n"
     ]
    },
    {
     "name": "stdout",
     "output_type": "stream",
     "text": [
      "String accepted.\n"
     ]
    }
   ],
   "source": [
    "org_s = input(\"Enter string: \")\n",
    "count = 0\n",
    "\n",
    "for i in range(len(org_s)):\n",
    "    if(org_s[i:i + len('aaab')] == 'aaab'):\n",
    "        count += 1\n",
    "    \n",
    "if(count % 2 == 0):\n",
    "    print(\"String accepted.\")\n",
    "else:\n",
    "    print(\"String rejected.\")"
   ]
  },
  {
   "cell_type": "markdown",
   "id": "98a7e7c9-0f90-4de0-8130-fde83d850a22",
   "metadata": {},
   "source": [
    "# Assignment 6\n",
    "Consider a language \n",
    "\n",
    "L = {a^n * b^n mod 2 * c^n mod 3 | n >= 1}\n",
    "\n",
    "WAP that will accept those strings that follows the above conditions otherwise the string is not accepted."
   ]
  },
  {
   "cell_type": "code",
   "execution_count": 4,
   "id": "9c3310ae-6d59-4dea-9677-5a09bdb10b49",
   "metadata": {},
   "outputs": [
    {
     "name": "stdin",
     "output_type": "stream",
     "text": [
      "Enter string:  aaaaaaabcc\n"
     ]
    },
    {
     "name": "stdout",
     "output_type": "stream",
     "text": [
      "String is rejected.\n"
     ]
    }
   ],
   "source": [
    "org_s = input(\"Enter string: \")\n",
    "\n",
    "count_a = 0\n",
    "count_b = 0\n",
    "count_c = 0\n",
    "\n",
    "for i in range(len(org_s)):\n",
    "    if(org_s[i] == 'a'):\n",
    "        count_a += 1\n",
    "    elif(org_s[i] == 'b'):\n",
    "        count_b += 1\n",
    "    elif(org_s[i] == 'c'):\n",
    "        count_c += 1\n",
    "\n",
    "n = count_a\n",
    "\n",
    "if(n >= 1):\n",
    "    if(count_b == (n % 2) and count_c == (n % 3) and count_a == n):\n",
    "        print(\"String is accepted.\")\n",
    "    else:\n",
    "        print(\"String is rejected.\")\n",
    "else:\n",
    "    print(\"Entered invalid n.\")"
   ]
  },
  {
   "cell_type": "code",
   "execution_count": null,
   "id": "504211f0-28b5-4e66-9360-7ec9086eb0c8",
   "metadata": {},
   "outputs": [],
   "source": []
  }
 ],
 "metadata": {
  "kernelspec": {
   "display_name": "Python 3 (ipykernel)",
   "language": "python",
   "name": "python3"
  },
  "language_info": {
   "codemirror_mode": {
    "name": "ipython",
    "version": 3
   },
   "file_extension": ".py",
   "mimetype": "text/x-python",
   "name": "python",
   "nbconvert_exporter": "python",
   "pygments_lexer": "ipython3",
   "version": "3.8.13"
  }
 },
 "nbformat": 4,
 "nbformat_minor": 5
}
