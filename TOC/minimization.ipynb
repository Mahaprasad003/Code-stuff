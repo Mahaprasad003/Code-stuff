{
 "cells": [
  {
   "cell_type": "markdown",
   "id": "27b5a9dd-f021-4652-8162-cd12075b8808",
   "metadata": {},
   "source": [
    "# Minimization of DFA\n"
   ]
  },
  {
   "cell_type": "markdown",
   "id": "6bffe9b4-d48e-4134-9d54-a6a90672c95d",
   "metadata": {},
   "source": [
    "## Input format\n",
    "\n",
    "1. Space separated list of states (All states)(1,2,3)\n",
    "2. Space separated list of terminals.(All alphabets)(a,b,c)\n",
    "3. Start state.\n",
    "4. Space separated list of final states.\n",
    "5. N lines of 3 space separated symbols $A$, $b$ and $C$ representing transition $A \\xrightarrow[b]{} C$. ($\\delta$)"
   ]
  },
  {
   "cell_type": "code",
   "execution_count": 13,
   "id": "d97efc16-c4e2-4706-9018-c491eabfdcf8",
   "metadata": {},
   "outputs": [
    {
     "name": "stdin",
     "output_type": "stream",
     "text": [
      "Enter all states (space separated):  0 1 2 3 4\n"
     ]
    },
    {
     "name": "stdout",
     "output_type": "stream",
     "text": [
      "Entered states are:  [0, 1, 2, 3, 4]\n"
     ]
    }
   ],
   "source": [
    "list_all_states = list(map(int, input(\"Enter all states (space separated): \").split()))\n",
    "print(\"Entered states are: \", list_all_states)"
   ]
  },
  {
   "cell_type": "code",
   "execution_count": 14,
   "id": "1680fd12-fd03-4739-8484-e8bab46136d7",
   "metadata": {},
   "outputs": [
    {
     "name": "stdin",
     "output_type": "stream",
     "text": [
      "Enter all states (space separated):  a b\n"
     ]
    },
    {
     "name": "stdout",
     "output_type": "stream",
     "text": [
      "Entered alphabets are:  ['a', 'b']\n"
     ]
    }
   ],
   "source": [
    "list_alphabets = list(map(str, input(\"Enter all states (space separated): \").split()))\n",
    "print(\"Entered alphabets are: \", list_alphabets)"
   ]
  },
  {
   "cell_type": "code",
   "execution_count": 16,
   "id": "8000c5dd-b072-4b3d-b4c4-601c822b1ec5",
   "metadata": {},
   "outputs": [
    {
     "name": "stdin",
     "output_type": "stream",
     "text": [
      "Enter start state(only one):  1\n"
     ]
    },
    {
     "name": "stdout",
     "output_type": "stream",
     "text": [
      "Start state is:  1\n"
     ]
    }
   ],
   "source": [
    "start_state = int(input(\"Enter start state(only one): \"))\n",
    "print(\"Start state is: \", start_state)"
   ]
  },
  {
   "cell_type": "code",
   "execution_count": 17,
   "id": "753afe10-6d46-4ebb-ac20-709cdd5481e8",
   "metadata": {},
   "outputs": [
    {
     "name": "stdin",
     "output_type": "stream",
     "text": [
      "Enter final states (space separated):  3 4\n"
     ]
    },
    {
     "name": "stdout",
     "output_type": "stream",
     "text": [
      "Final states are:  [3, 4]\n"
     ]
    }
   ],
   "source": [
    "final_states_input = input(\"Enter final states (space separated): \")\n",
    "final_states = list(map(int, final_states_input.split()))\n",
    "\n",
    "print(\"Final states are: \", final_states)"
   ]
  },
  {
   "cell_type": "code",
   "execution_count": 20,
   "id": "d4204a34-3dd9-49c6-87fc-f89717ec13c4",
   "metadata": {},
   "outputs": [
    {
     "name": "stdin",
     "output_type": "stream",
     "text": [
      "Enter next state from 0 on input a:  1\n",
      "Enter next state from 0 on input b:  2\n",
      "Enter next state from 1 on input a:  3\n",
      "Enter next state from 1 on input b:  4\n",
      "Enter next state from 2 on input a:  4\n",
      "Enter next state from 2 on input b:  3\n",
      "Enter next state from 3 on input a:  3\n",
      "Enter next state from 3 on input b:  5\n",
      "Enter next state from 4 on input a:  4\n",
      "Enter next state from 4 on input b:  4\n"
     ]
    }
   ],
   "source": [
    "transition_function = {}\n",
    "for state in list_all_states:\n",
    "    transition_function[state] = {}\n",
    "    for symbol in list_alphabets:\n",
    "        next_state = int(input(f\"Enter next state from {state} on input {symbol}: \"))\n",
    "        transition_function[state][symbol] = next_state"
   ]
  },
  {
   "cell_type": "code",
   "execution_count": 21,
   "id": "7df2b157-6413-44b9-bbb3-bc43cf5ea0e2",
   "metadata": {},
   "outputs": [
    {
     "data": {
      "text/plain": [
       "{0: {'a': 1, 'b': 2},\n",
       " 1: {'a': 3, 'b': 4},\n",
       " 2: {'a': 4, 'b': 3},\n",
       " 3: {'a': 3, 'b': 5},\n",
       " 4: {'a': 4, 'b': 4}}"
      ]
     },
     "execution_count": 21,
     "metadata": {},
     "output_type": "execute_result"
    }
   ],
   "source": [
    "transition_function"
   ]
  },
  {
   "cell_type": "code",
   "execution_count": null,
   "id": "d496868c-80f3-43c7-a751-f8964c7498a1",
   "metadata": {},
   "outputs": [],
   "source": []
  }
 ],
 "metadata": {
  "kernelspec": {
   "display_name": "Python 3 (ipykernel)",
   "language": "python",
   "name": "python3"
  },
  "language_info": {
   "codemirror_mode": {
    "name": "ipython",
    "version": 3
   },
   "file_extension": ".py",
   "mimetype": "text/x-python",
   "name": "python",
   "nbconvert_exporter": "python",
   "pygments_lexer": "ipython3",
   "version": "3.8.13"
  }
 },
 "nbformat": 4,
 "nbformat_minor": 5
}
