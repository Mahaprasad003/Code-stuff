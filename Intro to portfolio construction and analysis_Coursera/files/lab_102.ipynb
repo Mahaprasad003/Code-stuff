{
 "cells": [
  {
   "cell_type": "markdown",
   "metadata": {},
   "source": [
    "# Volatility and Risk\n",
    "\n",
    "We've seen that the volatility is measured by the average squared deviation from the mean, which is the standard deviation.\n",
    "\n",
    "Let's read the sample returns that we've been working with."
   ]
  },
  {
   "cell_type": "code",
   "execution_count": 1,
   "metadata": {},
   "outputs": [
    {
     "data": {
      "text/html": [
       "<div>\n",
       "<style scoped>\n",
       "    .dataframe tbody tr th:only-of-type {\n",
       "        vertical-align: middle;\n",
       "    }\n",
       "\n",
       "    .dataframe tbody tr th {\n",
       "        vertical-align: top;\n",
       "    }\n",
       "\n",
       "    .dataframe thead th {\n",
       "        text-align: right;\n",
       "    }\n",
       "</style>\n",
       "<table border=\"1\" class=\"dataframe\">\n",
       "  <thead>\n",
       "    <tr style=\"text-align: right;\">\n",
       "      <th></th>\n",
       "      <th>BLUE</th>\n",
       "      <th>ORANGE</th>\n",
       "    </tr>\n",
       "  </thead>\n",
       "  <tbody>\n",
       "    <tr>\n",
       "      <th>0</th>\n",
       "      <td>NaN</td>\n",
       "      <td>NaN</td>\n",
       "    </tr>\n",
       "    <tr>\n",
       "      <th>1</th>\n",
       "      <td>0.023621</td>\n",
       "      <td>0.039662</td>\n",
       "    </tr>\n",
       "    <tr>\n",
       "      <th>2</th>\n",
       "      <td>-0.021807</td>\n",
       "      <td>-0.033638</td>\n",
       "    </tr>\n",
       "    <tr>\n",
       "      <th>3</th>\n",
       "      <td>-0.031763</td>\n",
       "      <td>0.082232</td>\n",
       "    </tr>\n",
       "    <tr>\n",
       "      <th>4</th>\n",
       "      <td>0.034477</td>\n",
       "      <td>0.044544</td>\n",
       "    </tr>\n",
       "    <tr>\n",
       "      <th>5</th>\n",
       "      <td>0.037786</td>\n",
       "      <td>-0.026381</td>\n",
       "    </tr>\n",
       "    <tr>\n",
       "      <th>6</th>\n",
       "      <td>-0.011452</td>\n",
       "      <td>-0.049187</td>\n",
       "    </tr>\n",
       "    <tr>\n",
       "      <th>7</th>\n",
       "      <td>0.032676</td>\n",
       "      <td>0.117008</td>\n",
       "    </tr>\n",
       "    <tr>\n",
       "      <th>8</th>\n",
       "      <td>-0.012581</td>\n",
       "      <td>0.067353</td>\n",
       "    </tr>\n",
       "    <tr>\n",
       "      <th>9</th>\n",
       "      <td>0.029581</td>\n",
       "      <td>0.078249</td>\n",
       "    </tr>\n",
       "    <tr>\n",
       "      <th>10</th>\n",
       "      <td>0.006151</td>\n",
       "      <td>-0.168261</td>\n",
       "    </tr>\n",
       "    <tr>\n",
       "      <th>11</th>\n",
       "      <td>0.012162</td>\n",
       "      <td>0.024041</td>\n",
       "    </tr>\n",
       "    <tr>\n",
       "      <th>12</th>\n",
       "      <td>0.021149</td>\n",
       "      <td>-0.055623</td>\n",
       "    </tr>\n",
       "  </tbody>\n",
       "</table>\n",
       "</div>"
      ],
      "text/plain": [
       "        BLUE    ORANGE\n",
       "0        NaN       NaN\n",
       "1   0.023621  0.039662\n",
       "2  -0.021807 -0.033638\n",
       "3  -0.031763  0.082232\n",
       "4   0.034477  0.044544\n",
       "5   0.037786 -0.026381\n",
       "6  -0.011452 -0.049187\n",
       "7   0.032676  0.117008\n",
       "8  -0.012581  0.067353\n",
       "9   0.029581  0.078249\n",
       "10  0.006151 -0.168261\n",
       "11  0.012162  0.024041\n",
       "12  0.021149 -0.055623"
      ]
     },
     "execution_count": 1,
     "metadata": {},
     "output_type": "execute_result"
    }
   ],
   "source": [
    "import pandas as pd\n",
    "prices = pd.read_csv(\"data/sample_prices.csv\")\n",
    "returns = prices.pct_change()\n",
    "returns"
   ]
  },
  {
   "cell_type": "markdown",
   "metadata": {},
   "source": [
    "Notice that the first set of returns are NaN, which is Pandas way of saying that it's an NA. We can drop that row using the `.dropna()` method."
   ]
  },
  {
   "cell_type": "code",
   "execution_count": 2,
   "metadata": {},
   "outputs": [
    {
     "data": {
      "text/html": [
       "<div>\n",
       "<style scoped>\n",
       "    .dataframe tbody tr th:only-of-type {\n",
       "        vertical-align: middle;\n",
       "    }\n",
       "\n",
       "    .dataframe tbody tr th {\n",
       "        vertical-align: top;\n",
       "    }\n",
       "\n",
       "    .dataframe thead th {\n",
       "        text-align: right;\n",
       "    }\n",
       "</style>\n",
       "<table border=\"1\" class=\"dataframe\">\n",
       "  <thead>\n",
       "    <tr style=\"text-align: right;\">\n",
       "      <th></th>\n",
       "      <th>BLUE</th>\n",
       "      <th>ORANGE</th>\n",
       "    </tr>\n",
       "  </thead>\n",
       "  <tbody>\n",
       "    <tr>\n",
       "      <th>1</th>\n",
       "      <td>0.023621</td>\n",
       "      <td>0.039662</td>\n",
       "    </tr>\n",
       "    <tr>\n",
       "      <th>2</th>\n",
       "      <td>-0.021807</td>\n",
       "      <td>-0.033638</td>\n",
       "    </tr>\n",
       "    <tr>\n",
       "      <th>3</th>\n",
       "      <td>-0.031763</td>\n",
       "      <td>0.082232</td>\n",
       "    </tr>\n",
       "    <tr>\n",
       "      <th>4</th>\n",
       "      <td>0.034477</td>\n",
       "      <td>0.044544</td>\n",
       "    </tr>\n",
       "    <tr>\n",
       "      <th>5</th>\n",
       "      <td>0.037786</td>\n",
       "      <td>-0.026381</td>\n",
       "    </tr>\n",
       "    <tr>\n",
       "      <th>6</th>\n",
       "      <td>-0.011452</td>\n",
       "      <td>-0.049187</td>\n",
       "    </tr>\n",
       "    <tr>\n",
       "      <th>7</th>\n",
       "      <td>0.032676</td>\n",
       "      <td>0.117008</td>\n",
       "    </tr>\n",
       "    <tr>\n",
       "      <th>8</th>\n",
       "      <td>-0.012581</td>\n",
       "      <td>0.067353</td>\n",
       "    </tr>\n",
       "    <tr>\n",
       "      <th>9</th>\n",
       "      <td>0.029581</td>\n",
       "      <td>0.078249</td>\n",
       "    </tr>\n",
       "    <tr>\n",
       "      <th>10</th>\n",
       "      <td>0.006151</td>\n",
       "      <td>-0.168261</td>\n",
       "    </tr>\n",
       "    <tr>\n",
       "      <th>11</th>\n",
       "      <td>0.012162</td>\n",
       "      <td>0.024041</td>\n",
       "    </tr>\n",
       "    <tr>\n",
       "      <th>12</th>\n",
       "      <td>0.021149</td>\n",
       "      <td>-0.055623</td>\n",
       "    </tr>\n",
       "  </tbody>\n",
       "</table>\n",
       "</div>"
      ],
      "text/plain": [
       "        BLUE    ORANGE\n",
       "1   0.023621  0.039662\n",
       "2  -0.021807 -0.033638\n",
       "3  -0.031763  0.082232\n",
       "4   0.034477  0.044544\n",
       "5   0.037786 -0.026381\n",
       "6  -0.011452 -0.049187\n",
       "7   0.032676  0.117008\n",
       "8  -0.012581  0.067353\n",
       "9   0.029581  0.078249\n",
       "10  0.006151 -0.168261\n",
       "11  0.012162  0.024041\n",
       "12  0.021149 -0.055623"
      ]
     },
     "execution_count": 2,
     "metadata": {},
     "output_type": "execute_result"
    }
   ],
   "source": [
    "returns = returns.dropna()\n",
    "returns"
   ]
  },
  {
   "cell_type": "markdown",
   "metadata": {},
   "source": [
    "Let's compute the standard deviation from first principals:"
   ]
  },
  {
   "cell_type": "code",
   "execution_count": 3,
   "metadata": {},
   "outputs": [
    {
     "data": {
      "text/plain": [
       "BLUE      0.022957\n",
       "ORANGE    0.076212\n",
       "dtype: float64"
      ]
     },
     "execution_count": 3,
     "metadata": {},
     "output_type": "execute_result"
    }
   ],
   "source": [
    "deviations = returns - returns.mean()\n",
    "squared_deviations = deviations**2\n",
    "mean_squared_deviations = squared_deviations.mean()\n",
    "\n",
    "import numpy as np\n",
    "\n",
    "volatility = np.sqrt(mean_squared_deviations)\n",
    "volatility"
   ]
  },
  {
   "cell_type": "markdown",
   "metadata": {},
   "source": [
    "Let's see if we get the same answer when we use the built-in `.std()` method."
   ]
  },
  {
   "cell_type": "code",
   "execution_count": 4,
   "metadata": {},
   "outputs": [
    {
     "data": {
      "text/plain": [
       "BLUE      0.023977\n",
       "ORANGE    0.079601\n",
       "dtype: float64"
      ]
     },
     "execution_count": 4,
     "metadata": {},
     "output_type": "execute_result"
    }
   ],
   "source": [
    "returns.std()"
   ]
  },
  {
   "cell_type": "markdown",
   "metadata": {},
   "source": [
    "Why don't they match? Because, by default, the `.std()` method computes the _sample standard deviation_ which means that it uses the denominator of $n-1$. On the other hand, we computed the _population_ standard deviation, which uses a numerator of $n$. Since the observed returns are thought of as observed samples from a distribution, it is probably more accurate to use the denominator of $n-1$, so let's redo our calculation to see if we get the same number.\n",
    "\n",
    "To get the number of observations, we can use the `.shape` attribute of a DataFrame that returns a tuple of the number of rows and columns."
   ]
  },
  {
   "cell_type": "code",
   "execution_count": 5,
   "metadata": {},
   "outputs": [
    {
     "data": {
      "text/plain": [
       "(12, 2)"
      ]
     },
     "execution_count": 5,
     "metadata": {},
     "output_type": "execute_result"
    }
   ],
   "source": [
    "returns.shape"
   ]
  },
  {
   "cell_type": "markdown",
   "metadata": {},
   "source": [
    "Just as we can with a list, we can access the elements of a tuple using an index, starting at 0. Therefore, to get the number of rows in the DataFrame, we extract the 0th element of the tuple."
   ]
  },
  {
   "cell_type": "code",
   "execution_count": 6,
   "metadata": {},
   "outputs": [
    {
     "data": {
      "text/plain": [
       "BLUE      0.023977\n",
       "ORANGE    0.079601\n",
       "dtype: float64"
      ]
     },
     "execution_count": 6,
     "metadata": {},
     "output_type": "execute_result"
    }
   ],
   "source": [
    "number_of_obs = returns.shape[0]\n",
    "mean_squared_deviations = squared_deviations.sum()/(number_of_obs-1)\n",
    "volatility = np.sqrt(mean_squared_deviations)\n",
    "volatility"
   ]
  },
  {
   "cell_type": "code",
   "execution_count": 7,
   "metadata": {},
   "outputs": [
    {
     "data": {
      "text/plain": [
       "BLUE      0.023977\n",
       "ORANGE    0.079601\n",
       "dtype: float64"
      ]
     },
     "execution_count": 7,
     "metadata": {},
     "output_type": "execute_result"
    }
   ],
   "source": [
    "returns.std()"
   ]
  },
  {
   "cell_type": "markdown",
   "metadata": {},
   "source": [
    "# Annualizing Volatility\n",
    "\n",
    "We annualize volatility by scaling (multiplying) it by the square root of the number of periods per observation\n",
    "\n",
    "Therefore, to annualize the volatility of a monthly series, we muiltiply it by the square root of 12. Instead of using the `np.sqrt()` we can raise it to the power of $0.5$"
   ]
  },
  {
   "cell_type": "code",
   "execution_count": 8,
   "metadata": {},
   "outputs": [
    {
     "data": {
      "text/plain": [
       "BLUE      0.083060\n",
       "ORANGE    0.275747\n",
       "dtype: float64"
      ]
     },
     "execution_count": 8,
     "metadata": {},
     "output_type": "execute_result"
    }
   ],
   "source": [
    "annualized_vol = returns.std()*(12**0.5)\n",
    "annualized_vol"
   ]
  },
  {
   "cell_type": "markdown",
   "metadata": {},
   "source": [
    "# Risk Adjusted Returns\n",
    "\n",
    "Let's get beyond the sample data series and start working with some real data. Read in the monthly returns of a set of 10 portfolios formed on market caps, or market equities of the companies. Of the 10 portfolios, we only want to look at the largest cap and the smallest cap companies:"
   ]
  },
  {
   "cell_type": "code",
   "execution_count": 9,
   "metadata": {},
   "outputs": [
    {
     "data": {
      "text/html": [
       "<div>\n",
       "<style scoped>\n",
       "    .dataframe tbody tr th:only-of-type {\n",
       "        vertical-align: middle;\n",
       "    }\n",
       "\n",
       "    .dataframe tbody tr th {\n",
       "        vertical-align: top;\n",
       "    }\n",
       "\n",
       "    .dataframe thead th {\n",
       "        text-align: right;\n",
       "    }\n",
       "</style>\n",
       "<table border=\"1\" class=\"dataframe\">\n",
       "  <thead>\n",
       "    <tr style=\"text-align: right;\">\n",
       "      <th></th>\n",
       "      <th>&lt;= 0</th>\n",
       "      <th>Lo 30</th>\n",
       "      <th>Med 40</th>\n",
       "      <th>Hi 30</th>\n",
       "      <th>Lo 20</th>\n",
       "      <th>Qnt 2</th>\n",
       "      <th>Qnt 3</th>\n",
       "      <th>Qnt 4</th>\n",
       "      <th>Hi 20</th>\n",
       "      <th>Lo 10</th>\n",
       "      <th>Dec 2</th>\n",
       "      <th>Dec 3</th>\n",
       "      <th>Dec 4</th>\n",
       "      <th>Dec 5</th>\n",
       "      <th>Dec 6</th>\n",
       "      <th>Dec 7</th>\n",
       "      <th>Dec 8</th>\n",
       "      <th>Dec 9</th>\n",
       "      <th>Hi 10</th>\n",
       "    </tr>\n",
       "  </thead>\n",
       "  <tbody>\n",
       "    <tr>\n",
       "      <th>192607</th>\n",
       "      <td>NaN</td>\n",
       "      <td>-0.43</td>\n",
       "      <td>1.52</td>\n",
       "      <td>2.68</td>\n",
       "      <td>-0.57</td>\n",
       "      <td>0.59</td>\n",
       "      <td>1.60</td>\n",
       "      <td>1.47</td>\n",
       "      <td>3.33</td>\n",
       "      <td>-1.45</td>\n",
       "      <td>0.29</td>\n",
       "      <td>-0.15</td>\n",
       "      <td>1.33</td>\n",
       "      <td>1.24</td>\n",
       "      <td>1.98</td>\n",
       "      <td>1.55</td>\n",
       "      <td>1.38</td>\n",
       "      <td>3.38</td>\n",
       "      <td>3.29</td>\n",
       "    </tr>\n",
       "    <tr>\n",
       "      <th>192608</th>\n",
       "      <td>NaN</td>\n",
       "      <td>3.90</td>\n",
       "      <td>3.04</td>\n",
       "      <td>2.09</td>\n",
       "      <td>3.84</td>\n",
       "      <td>3.59</td>\n",
       "      <td>3.71</td>\n",
       "      <td>1.61</td>\n",
       "      <td>2.33</td>\n",
       "      <td>5.12</td>\n",
       "      <td>2.59</td>\n",
       "      <td>4.03</td>\n",
       "      <td>3.15</td>\n",
       "      <td>2.72</td>\n",
       "      <td>4.72</td>\n",
       "      <td>1.60</td>\n",
       "      <td>1.63</td>\n",
       "      <td>0.98</td>\n",
       "      <td>3.70</td>\n",
       "    </tr>\n",
       "    <tr>\n",
       "      <th>192609</th>\n",
       "      <td>NaN</td>\n",
       "      <td>-1.08</td>\n",
       "      <td>-0.54</td>\n",
       "      <td>0.16</td>\n",
       "      <td>-0.48</td>\n",
       "      <td>-1.40</td>\n",
       "      <td>0.00</td>\n",
       "      <td>-0.50</td>\n",
       "      <td>-0.09</td>\n",
       "      <td>0.93</td>\n",
       "      <td>-1.87</td>\n",
       "      <td>-2.27</td>\n",
       "      <td>-0.53</td>\n",
       "      <td>0.07</td>\n",
       "      <td>-0.07</td>\n",
       "      <td>-1.64</td>\n",
       "      <td>0.64</td>\n",
       "      <td>-0.86</td>\n",
       "      <td>0.67</td>\n",
       "    </tr>\n",
       "    <tr>\n",
       "      <th>192610</th>\n",
       "      <td>NaN</td>\n",
       "      <td>-3.32</td>\n",
       "      <td>-3.52</td>\n",
       "      <td>-3.06</td>\n",
       "      <td>-3.29</td>\n",
       "      <td>-4.10</td>\n",
       "      <td>-2.89</td>\n",
       "      <td>-3.36</td>\n",
       "      <td>-2.95</td>\n",
       "      <td>-4.84</td>\n",
       "      <td>-1.77</td>\n",
       "      <td>-3.36</td>\n",
       "      <td>-4.83</td>\n",
       "      <td>-2.98</td>\n",
       "      <td>-2.80</td>\n",
       "      <td>-3.45</td>\n",
       "      <td>-3.27</td>\n",
       "      <td>-3.47</td>\n",
       "      <td>-2.43</td>\n",
       "    </tr>\n",
       "    <tr>\n",
       "      <th>192611</th>\n",
       "      <td>NaN</td>\n",
       "      <td>-0.46</td>\n",
       "      <td>3.82</td>\n",
       "      <td>3.09</td>\n",
       "      <td>-0.55</td>\n",
       "      <td>2.18</td>\n",
       "      <td>3.41</td>\n",
       "      <td>3.39</td>\n",
       "      <td>3.16</td>\n",
       "      <td>-0.78</td>\n",
       "      <td>-0.32</td>\n",
       "      <td>-0.29</td>\n",
       "      <td>4.65</td>\n",
       "      <td>3.24</td>\n",
       "      <td>3.57</td>\n",
       "      <td>3.82</td>\n",
       "      <td>2.95</td>\n",
       "      <td>3.61</td>\n",
       "      <td>2.70</td>\n",
       "    </tr>\n",
       "  </tbody>\n",
       "</table>\n",
       "</div>"
      ],
      "text/plain": [
       "        <= 0  Lo 30  Med 40  Hi 30  Lo 20  Qnt 2  Qnt 3  Qnt 4  Hi 20  Lo 10  \\\n",
       "192607   NaN  -0.43    1.52   2.68  -0.57   0.59   1.60   1.47   3.33  -1.45   \n",
       "192608   NaN   3.90    3.04   2.09   3.84   3.59   3.71   1.61   2.33   5.12   \n",
       "192609   NaN  -1.08   -0.54   0.16  -0.48  -1.40   0.00  -0.50  -0.09   0.93   \n",
       "192610   NaN  -3.32   -3.52  -3.06  -3.29  -4.10  -2.89  -3.36  -2.95  -4.84   \n",
       "192611   NaN  -0.46    3.82   3.09  -0.55   2.18   3.41   3.39   3.16  -0.78   \n",
       "\n",
       "        Dec 2  Dec 3  Dec 4  Dec 5  Dec 6  Dec 7  Dec 8  Dec 9  Hi 10  \n",
       "192607   0.29  -0.15   1.33   1.24   1.98   1.55   1.38   3.38   3.29  \n",
       "192608   2.59   4.03   3.15   2.72   4.72   1.60   1.63   0.98   3.70  \n",
       "192609  -1.87  -2.27  -0.53   0.07  -0.07  -1.64   0.64  -0.86   0.67  \n",
       "192610  -1.77  -3.36  -4.83  -2.98  -2.80  -3.45  -3.27  -3.47  -2.43  \n",
       "192611  -0.32  -0.29   4.65   3.24   3.57   3.82   2.95   3.61   2.70  "
      ]
     },
     "execution_count": 9,
     "metadata": {},
     "output_type": "execute_result"
    }
   ],
   "source": [
    "me_m = pd.read_csv(\"data/Portfolios_Formed_on_ME_monthly_EW.csv\",\n",
    "                   header=0, index_col=0, parse_dates=True, na_values=-99.99)\n",
    "me_m.head()"
   ]
  },
  {
   "cell_type": "code",
   "execution_count": 10,
   "metadata": {},
   "outputs": [
    {
     "data": {
      "text/html": [
       "<div>\n",
       "<style scoped>\n",
       "    .dataframe tbody tr th:only-of-type {\n",
       "        vertical-align: middle;\n",
       "    }\n",
       "\n",
       "    .dataframe tbody tr th {\n",
       "        vertical-align: top;\n",
       "    }\n",
       "\n",
       "    .dataframe thead th {\n",
       "        text-align: right;\n",
       "    }\n",
       "</style>\n",
       "<table border=\"1\" class=\"dataframe\">\n",
       "  <thead>\n",
       "    <tr style=\"text-align: right;\">\n",
       "      <th></th>\n",
       "      <th>Lo 10</th>\n",
       "      <th>Hi 10</th>\n",
       "    </tr>\n",
       "  </thead>\n",
       "  <tbody>\n",
       "    <tr>\n",
       "      <th>192607</th>\n",
       "      <td>-1.45</td>\n",
       "      <td>3.29</td>\n",
       "    </tr>\n",
       "    <tr>\n",
       "      <th>192608</th>\n",
       "      <td>5.12</td>\n",
       "      <td>3.70</td>\n",
       "    </tr>\n",
       "    <tr>\n",
       "      <th>192609</th>\n",
       "      <td>0.93</td>\n",
       "      <td>0.67</td>\n",
       "    </tr>\n",
       "    <tr>\n",
       "      <th>192610</th>\n",
       "      <td>-4.84</td>\n",
       "      <td>-2.43</td>\n",
       "    </tr>\n",
       "    <tr>\n",
       "      <th>192611</th>\n",
       "      <td>-0.78</td>\n",
       "      <td>2.70</td>\n",
       "    </tr>\n",
       "  </tbody>\n",
       "</table>\n",
       "</div>"
      ],
      "text/plain": [
       "        Lo 10  Hi 10\n",
       "192607  -1.45   3.29\n",
       "192608   5.12   3.70\n",
       "192609   0.93   0.67\n",
       "192610  -4.84  -2.43\n",
       "192611  -0.78   2.70"
      ]
     },
     "execution_count": 10,
     "metadata": {},
     "output_type": "execute_result"
    }
   ],
   "source": [
    "cols = ['Lo 10', 'Hi 10']\n",
    "returns = me_m[cols]\n",
    "returns.head()"
   ]
  },
  {
   "cell_type": "markdown",
   "metadata": {},
   "source": [
    "Note that the data is already given in percentages (i.e 4.5 instead of 0.045) and we typically want to use the actual numbers (i.e. 0.045 instead of 4.5) so we should divide the raw data from the file by 100."
   ]
  },
  {
   "cell_type": "code",
   "execution_count": 11,
   "metadata": {},
   "outputs": [],
   "source": [
    "returns = returns/100"
   ]
  },
  {
   "cell_type": "code",
   "execution_count": 12,
   "metadata": {},
   "outputs": [
    {
     "data": {
      "text/plain": [
       "<AxesSubplot:>"
      ]
     },
     "execution_count": 12,
     "metadata": {},
     "output_type": "execute_result"
    },
    {
     "data": {
      "image/png": "[encoded data removed]",
      "text/plain": [
       "<Figure size 640x480 with 1 Axes>"
      ]
     },
     "metadata": {},
     "output_type": "display_data"
    }
   ],
   "source": [
    "returns.plot()"
   ]
  },
  {
   "cell_type": "code",
   "execution_count": 13,
   "metadata": {},
   "outputs": [],
   "source": [
    "returns.columns = ['SmallCap', 'LargeCap']"
   ]
  },
  {
   "cell_type": "code",
   "execution_count": 14,
   "metadata": {},
   "outputs": [
    {
     "data": {
      "text/plain": [
       "<AxesSubplot:>"
      ]
     },
     "execution_count": 14,
     "metadata": {},
     "output_type": "execute_result"
    },
    {
     "data": {
      "image/png": "[encoded data removed]",
      "text/plain": [
       "<Figure size 640x480 with 1 Axes>"
      ]
     },
     "metadata": {},
     "output_type": "display_data"
    }
   ],
   "source": [
    "returns.plot()"
   ]
  },
  {
   "cell_type": "code",
   "execution_count": 15,
   "metadata": {},
   "outputs": [
    {
     "data": {
      "text/plain": [
       "SmallCap    0.368193\n",
       "LargeCap    0.186716\n",
       "dtype: float64"
      ]
     },
     "execution_count": 15,
     "metadata": {},
     "output_type": "execute_result"
    }
   ],
   "source": [
    "annualized_vol = returns.std()*np.sqrt(12)\n",
    "annualized_vol"
   ]
  },
  {
   "cell_type": "markdown",
   "metadata": {},
   "source": [
    "We can now compute the annualized returns as follows:"
   ]
  },
  {
   "cell_type": "code",
   "execution_count": 16,
   "metadata": {},
   "outputs": [
    {
     "data": {
      "text/plain": [
       "SmallCap    0.012986\n",
       "LargeCap    0.007423\n",
       "dtype: float64"
      ]
     },
     "execution_count": 16,
     "metadata": {},
     "output_type": "execute_result"
    }
   ],
   "source": [
    "n_months = returns.shape[0]\n",
    "return_per_month = (returns+1).prod()**(1/n_months) - 1\n",
    "return_per_month"
   ]
  },
  {
   "cell_type": "code",
   "execution_count": 17,
   "metadata": {},
   "outputs": [],
   "source": [
    "annualized_return = (return_per_month + 1)**12-1"
   ]
  },
  {
   "cell_type": "code",
   "execution_count": 18,
   "metadata": {},
   "outputs": [
    {
     "data": {
      "text/plain": [
       "SmallCap    0.167463\n",
       "LargeCap    0.092810\n",
       "dtype: float64"
      ]
     },
     "execution_count": 18,
     "metadata": {},
     "output_type": "execute_result"
    }
   ],
   "source": [
    "annualized_return = (returns+1).prod()**(12/n_months) - 1\n",
    "annualized_return"
   ]
  },
  {
   "cell_type": "code",
   "execution_count": 19,
   "metadata": {},
   "outputs": [
    {
     "data": {
      "text/plain": [
       "SmallCap    0.454825\n",
       "LargeCap    0.497063\n",
       "dtype: float64"
      ]
     },
     "execution_count": 19,
     "metadata": {},
     "output_type": "execute_result"
    }
   ],
   "source": [
    "annualized_return/annualized_vol"
   ]
  },
  {
   "cell_type": "code",
   "execution_count": 20,
   "metadata": {},
   "outputs": [
    {
     "data": {
      "text/plain": [
       "SmallCap    0.373346\n",
       "LargeCap    0.336392\n",
       "dtype: float64"
      ]
     },
     "execution_count": 20,
     "metadata": {},
     "output_type": "execute_result"
    }
   ],
   "source": [
    "riskfree_rate = 0.03\n",
    "excess_return = annualized_return - riskfree_rate\n",
    "sharpe_ratio = excess_return/annualized_vol\n",
    "sharpe_ratio"
   ]
  },
  {
   "cell_type": "code",
   "execution_count": null,
   "metadata": {},
   "outputs": [],
   "source": []
  }
 ],
 "metadata": {
  "kernelspec": {
   "display_name": "Python 3 (ipykernel)",
   "language": "python",
   "name": "python3"
  },
  "language_info": {
   "codemirror_mode": {
    "name": "ipython",
    "version": 3
   },
   "file_extension": ".py",
   "mimetype": "text/x-python",
   "name": "python",
   "nbconvert_exporter": "python",
   "pygments_lexer": "ipython3",
   "version": "3.8.13"
  }
 },
 "nbformat": 4,
 "nbformat_minor": 4
}
