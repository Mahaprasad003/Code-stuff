{
 "cells": [
  {
   "cell_type": "code",
   "execution_count": 1,
   "id": "1f41df8c",
   "metadata": {},
   "outputs": [],
   "source": [
    "import stanfordnlp\n",
    "import nltk\n",
    "from nltk import Tree"
   ]
  },
  {
   "cell_type": "code",
   "execution_count": 2,
   "id": "a7878b4b",
   "metadata": {},
   "outputs": [
    {
     "name": "stdout",
     "output_type": "stream",
     "text": [
      "Using the default treebank \"en_ewt\" for language \"en\".\n",
      "Would you like to download the models for: en_ewt now? (Y/n)\n",
      "Y\n",
      "\n",
      "Default download directory: C:\\Users\\Mahaprasad\\stanfordnlp_resources\n",
      "Hit enter to continue or type an alternate directory.\n",
      "\n",
      "\n",
      "Downloading models for: en_ewt\n",
      "Download location: C:\\Users\\Mahaprasad\\stanfordnlp_resources\\en_ewt_models.zip\n"
     ]
    },
    {
     "name": "stderr",
     "output_type": "stream",
     "text": [
      "100%|███████████████████████████████████████████████████████████████████████████████| 235M/235M [00:49<00:00, 4.70MB/s]\n"
     ]
    },
    {
     "name": "stdout",
     "output_type": "stream",
     "text": [
      "\n",
      "Download complete.  Models saved to: C:\\Users\\Mahaprasad\\stanfordnlp_resources\\en_ewt_models.zip\n",
      "Extracting models file for: en_ewt\n",
      "Cleaning up...Done.\n"
     ]
    }
   ],
   "source": [
    "stanfordnlp.download('en')"
   ]
  },
  {
   "cell_type": "code",
   "execution_count": 2,
   "id": "a737978a",
   "metadata": {},
   "outputs": [
    {
     "name": "stdout",
     "output_type": "stream",
     "text": [
      "Use device: cpu\n",
      "---\n",
      "Loading: tokenize\n",
      "With settings: \n",
      "{'model_path': 'C:\\\\Users\\\\Mahaprasad\\\\stanfordnlp_resources\\\\en_ewt_models\\\\en_ewt_tokenizer.pt', 'lang': 'en', 'shorthand': 'en_ewt', 'mode': 'predict'}\n",
      "---\n",
      "Loading: pos\n",
      "With settings: \n",
      "{'model_path': 'C:\\\\Users\\\\Mahaprasad\\\\stanfordnlp_resources\\\\en_ewt_models\\\\en_ewt_tagger.pt', 'pretrain_path': 'C:\\\\Users\\\\Mahaprasad\\\\stanfordnlp_resources\\\\en_ewt_models\\\\en_ewt.pretrain.pt', 'lang': 'en', 'shorthand': 'en_ewt', 'mode': 'predict'}\n",
      "Done loading processors!\n",
      "---\n"
     ]
    }
   ],
   "source": [
    "nlp = stanfordnlp.Pipeline(processors='tokenize,mwt,pos', lang='en')\n"
   ]
  },
  {
   "cell_type": "code",
   "execution_count": 3,
   "id": "092f3d3b",
   "metadata": {},
   "outputs": [],
   "source": [
    "sentence = 'The cat is on the mat and dying.'\n",
    "\n",
    "doc = nlp(sentence)\n",
    "# parse_tree_stanford = doc.sentences[0].parse_tree\n"
   ]
  },
  {
   "cell_type": "code",
   "execution_count": 4,
   "id": "0464661f",
   "metadata": {},
   "outputs": [
    {
     "name": "stdout",
     "output_type": "stream",
     "text": [
      "The None DT\n",
      "cat None NN\n",
      "is None VBZ\n",
      "on None IN\n",
      "the None DT\n",
      "mat None NN\n",
      "and None CC\n",
      "dying None VBG\n",
      ". None .\n"
     ]
    }
   ],
   "source": [
    "for sentence in doc.sentences:\n",
    "    for word in sentence.words:\n",
    "        print(word.text, word.lemma, word.pos)"
   ]
  },
  {
   "cell_type": "code",
   "execution_count": 5,
   "id": "4e88e180",
   "metadata": {},
   "outputs": [],
   "source": [
    "tagged =[]"
   ]
  },
  {
   "cell_type": "code",
   "execution_count": 6,
   "id": "769df931",
   "metadata": {},
   "outputs": [],
   "source": [
    "for sentence in doc.sentences:\n",
    "    for word in sentence.words:\n",
    "        tagged.append((word.text, word.pos))"
   ]
  },
  {
   "cell_type": "code",
   "execution_count": 7,
   "id": "a13080b7",
   "metadata": {},
   "outputs": [
    {
     "data": {
      "text/plain": [
       "[('The', 'DT'),\n",
       " ('cat', 'NN'),\n",
       " ('is', 'VBZ'),\n",
       " ('on', 'IN'),\n",
       " ('the', 'DT'),\n",
       " ('mat', 'NN'),\n",
       " ('and', 'CC'),\n",
       " ('dying', 'VBG'),\n",
       " ('.', '.')]"
      ]
     },
     "execution_count": 7,
     "metadata": {},
     "output_type": "execute_result"
    }
   ],
   "source": [
    "tagged"
   ]
  },
  {
   "cell_type": "code",
   "execution_count": 8,
   "id": "6e1b4356",
   "metadata": {},
   "outputs": [
    {
     "ename": "NameError",
     "evalue": "name 'RegexpParser' is not defined",
     "output_type": "error",
     "traceback": [
      "\u001b[1;31m---------------------------------------------------------------------------\u001b[0m",
      "\u001b[1;31mNameError\u001b[0m                                 Traceback (most recent call last)",
      "Cell \u001b[1;32mIn [8], line 1\u001b[0m\n\u001b[1;32m----> 1\u001b[0m chunker \u001b[38;5;241m=\u001b[39m \u001b[43mRegexpParser\u001b[49m(\u001b[38;5;124m\"\"\"\u001b[39m\u001b[38;5;124mNP: \u001b[39m\u001b[38;5;124m{\u001b[39m\u001b[38;5;124m<DT>?<JJ>*<NN>}\u001b[39m\n\u001b[0;32m      2\u001b[0m \u001b[38;5;124mP: \u001b[39m\u001b[38;5;124m{\u001b[39m\u001b[38;5;124m<IN>}\u001b[39m\n\u001b[0;32m      3\u001b[0m \u001b[38;5;124mV: \u001b[39m\u001b[38;5;124m{\u001b[39m\u001b[38;5;124m<V.*>}\u001b[39m\n\u001b[0;32m      4\u001b[0m \u001b[38;5;124mPP: \u001b[39m\u001b[38;5;124m{\u001b[39m\u001b[38;5;124m<p> <NP>}\u001b[39m\n\u001b[0;32m      5\u001b[0m \u001b[38;5;124mVP: \u001b[39m\u001b[38;5;124m{\u001b[39m\u001b[38;5;124m<V> <NP|PP>*}\u001b[39m\n\u001b[0;32m      6\u001b[0m \u001b[38;5;124m\"\"\"\u001b[39m)\n\u001b[0;32m      8\u001b[0m \u001b[38;5;66;03m# Print all parts of speech in above sentence\u001b[39;00m\n\u001b[0;32m      9\u001b[0m output \u001b[38;5;241m=\u001b[39m chunker\u001b[38;5;241m.\u001b[39mparse(tagged)\n",
      "\u001b[1;31mNameError\u001b[0m: name 'RegexpParser' is not defined"
     ]
    }
   ],
   "source": [
    "chunker = RegexpParser(\"\"\"NP: {<DT>?<JJ>*<NN>}\n",
    "P: {<IN>}\n",
    "V: {<V.*>}\n",
    "PP: {<p> <NP>}\n",
    "VP: {<V> <NP|PP>*}\n",
    "\"\"\")\n",
    "\n",
    "# Print all parts of speech in above sentence\n",
    "output = chunker.parse(tagged)\n",
    "print(\"After Extracting\\n\", output)"
   ]
  },
  {
   "cell_type": "code",
   "execution_count": 14,
   "id": "51a70d4c",
   "metadata": {
    "scrolled": true
   },
   "outputs": [
    {
     "name": "stderr",
     "output_type": "stream",
     "text": [
      "[nltk_data] Downloading package punkt to\n",
      "[nltk_data]     C:\\Users\\Mahaprasad\\AppData\\Roaming\\nltk_data...\n",
      "[nltk_data]   Package punkt is already up-to-date!\n",
      "[nltk_data] Downloading package averaged_perceptron_tagger to\n",
      "[nltk_data]     C:\\Users\\Mahaprasad\\AppData\\Roaming\\nltk_data...\n",
      "[nltk_data]   Package averaged_perceptron_tagger is already up-to-\n",
      "[nltk_data]       date!\n"
     ]
    },
    {
     "name": "stdout",
     "output_type": "stream",
     "text": [
      "After Extracting\n",
      " (S\n",
      "  (NP The/DT quick/JJ brown/NN)\n",
      "  (NP fox/NN)\n",
      "  (VP (V jumps/VBZ))\n",
      "  (P over/IN)\n",
      "  (NP the/DT lazy/JJ dog/NN))\n"
     ]
    }
   ],
   "source": [
    "# Import required libraries\n",
    "import nltk\n",
    "nltk.download('punkt')\n",
    "nltk.download('averaged_perceptron_tagger')\n",
    "from nltk import pos_tag, word_tokenize, RegexpParser\n",
    "\n",
    "# Example text\n",
    "sample_text = \"The quick brown fox jumps over the lazy dog\"\n",
    "\n",
    "# Find all parts of speech in above sentence\n",
    "tagged = pos_tag(word_tokenize(sample_text))\n",
    "\n",
    "#Extract all parts of speech from any text\n",
    "chunker = RegexpParser(\"\"\"NP: {<DT>?<JJ>*<NN>}\n",
    "P: {<IN>}\n",
    "V: {<V.*>}\n",
    "PP: {<p> <NP>}\n",
    "VP: {<V> <NP|PP>*}\n",
    "\"\"\")\n",
    "\n",
    "# Print all parts of speech in above sentence\n",
    "output = chunker.parse(tagged)\n",
    "print(\"After Extracting\\n\", output)\n"
   ]
  },
  {
   "cell_type": "code",
   "execution_count": 15,
   "id": "ce1bd511",
   "metadata": {},
   "outputs": [],
   "source": [
    "output.draw()"
   ]
  },
  {
   "cell_type": "code",
   "execution_count": 2,
   "id": "e336dfa4",
   "metadata": {},
   "outputs": [
    {
     "data": {
      "text/plain": [
       "[('The', 'DT'),\n",
       " ('quick', 'JJ'),\n",
       " ('brown', 'NN'),\n",
       " ('fox', 'NN'),\n",
       " ('jumps', 'VBZ'),\n",
       " ('over', 'IN'),\n",
       " ('the', 'DT'),\n",
       " ('lazy', 'JJ'),\n",
       " ('dog', 'NN')]"
      ]
     },
     "execution_count": 2,
     "metadata": {},
     "output_type": "execute_result"
    }
   ],
   "source": [
    "tagged"
   ]
  },
  {
   "cell_type": "code",
   "execution_count": null,
   "id": "4e4e196d",
   "metadata": {},
   "outputs": [],
   "source": []
  }
 ],
 "metadata": {
  "kernelspec": {
   "display_name": "Python 3 (ipykernel)",
   "language": "python",
   "name": "python3"
  },
  "language_info": {
   "codemirror_mode": {
    "name": "ipython",
    "version": 3
   },
   "file_extension": ".py",
   "mimetype": "text/x-python",
   "name": "python",
   "nbconvert_exporter": "python",
   "pygments_lexer": "ipython3",
   "version": "3.10.7"
  }
 },
 "nbformat": 4,
 "nbformat_minor": 5
}
