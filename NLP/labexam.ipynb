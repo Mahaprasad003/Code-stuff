{
 "cells": [
  {
   "cell_type": "markdown",
   "id": "7f713d2c",
   "metadata": {},
   "source": [
    "write a code in python that will read a text file and display all the unique words and its synonymous word\n"
   ]
  },
  {
   "cell_type": "code",
   "execution_count": 1,
   "id": "2b7da60f",
   "metadata": {},
   "outputs": [],
   "source": [
    "import nltk\n",
    "from nltk.corpus import stopwords\n",
    "import pandas as pd"
   ]
  },
  {
   "cell_type": "code",
   "execution_count": 2,
   "id": "c194b5f3",
   "metadata": {},
   "outputs": [],
   "source": [
    "with open('text.txt', 'r') as f:\n",
    "    lines = f.readlines()"
   ]
  },
  {
   "cell_type": "code",
   "execution_count": 3,
   "id": "cc954935",
   "metadata": {},
   "outputs": [],
   "source": [
    "sentence = lines[0]\n",
    "\n",
    "tokens = nltk.word_tokenize(sentence)"
   ]
  },
  {
   "cell_type": "code",
   "execution_count": 4,
   "id": "25f134b6",
   "metadata": {},
   "outputs": [
    {
     "data": {
      "text/plain": [
       "214"
      ]
     },
     "execution_count": 4,
     "metadata": {},
     "output_type": "execute_result"
    }
   ],
   "source": [
    "len(tokens)"
   ]
  },
  {
   "cell_type": "code",
   "execution_count": 5,
   "id": "67b6380d",
   "metadata": {},
   "outputs": [],
   "source": [
    "words = [word.lower() for word in tokens if word.isalpha()]\n"
   ]
  },
  {
   "cell_type": "code",
   "execution_count": 6,
   "id": "8ad11787",
   "metadata": {},
   "outputs": [
    {
     "name": "stdout",
     "output_type": "stream",
     "text": [
      "Total word in the document are: 197\n"
     ]
    }
   ],
   "source": [
    "total_word = len(words)\n",
    "print(\"Total word in the document are:\", total_word)"
   ]
  },
  {
   "cell_type": "code",
   "execution_count": 7,
   "id": "e62391d7",
   "metadata": {},
   "outputs": [
    {
     "name": "stdout",
     "output_type": "stream",
     "text": [
      "Unique words in the list are: 121\n"
     ]
    }
   ],
   "source": [
    "unique_words = set(words)\n",
    "unique_words = list(unique_words)\n",
    "print(\"Unique words in the list are:\",len(unique_words))"
   ]
  },
  {
   "cell_type": "code",
   "execution_count": 8,
   "id": "e22360ad",
   "metadata": {},
   "outputs": [],
   "source": [
    "stop_words = set(stopwords.words('english'))\n",
    "filtered_sentence = [x for x in unique_words if not x.lower() in stop_words]"
   ]
  },
  {
   "cell_type": "code",
   "execution_count": 9,
   "id": "f2a9b514",
   "metadata": {},
   "outputs": [
    {
     "name": "stdout",
     "output_type": "stream",
     "text": [
      "After removal of stop words: 77\n"
     ]
    }
   ],
   "source": [
    "print(\"After removal of stop words:\", len(filtered_sentence))"
   ]
  },
  {
   "cell_type": "code",
   "execution_count": 10,
   "id": "b09ae7a0",
   "metadata": {},
   "outputs": [],
   "source": [
    "from nltk.corpus import wordnet as wn"
   ]
  },
  {
   "cell_type": "code",
   "execution_count": 11,
   "id": "bb2334d5",
   "metadata": {},
   "outputs": [],
   "source": [
    "# synsets_freq = []\n",
    "# synsets = []\n",
    "# for word in filtered_sentence:\n",
    "#     temp_syn = wn.synsets(word) \n",
    "#     synsets.append(temp_syn)\n",
    "#     synsets_freq.append(len(temp_syn))"
   ]
  },
  {
   "cell_type": "code",
   "execution_count": 12,
   "id": "7da9f6d0",
   "metadata": {},
   "outputs": [],
   "source": [
    "# synset_dict = {\n",
    "#     'Word' : filtered_sentence,\n",
    "#     'Total Synsets' : synsets_freq,\n",
    "#     'Synsets' : synsets\n",
    "# }\n",
    "\n",
    "# df = pd.DataFrame(synset_dict)\n"
   ]
  },
  {
   "cell_type": "code",
   "execution_count": 13,
   "id": "43bf72d1",
   "metadata": {},
   "outputs": [],
   "source": [
    "# df.head()"
   ]
  },
  {
   "cell_type": "code",
   "execution_count": 14,
   "id": "5f73c6e0",
   "metadata": {},
   "outputs": [],
   "source": [
    "synonyms = []\n",
    "for word in unique_words:\n",
    "    temp = []\n",
    "    for synset in wn.synsets(word):\n",
    "        for lemma in synset.lemmas():\n",
    "            temp.append(lemma.name())\n",
    "    synonyms.append(temp)"
   ]
  },
  {
   "cell_type": "code",
   "execution_count": 15,
   "id": "7e2595bd",
   "metadata": {},
   "outputs": [
    {
     "name": "stdout",
     "output_type": "stream",
     "text": [
      "Word is:  chiseled\n",
      "Synonyms are: ['cheat', 'chisel', 'cheat', 'rip_off', 'chisel', 'chisel', 'chiseled', 'well-defined']\n",
      "Word is:  intention\n",
      "Synonyms are: ['purpose', 'intent', 'intention', 'aim', 'design', 'intention', 'intention']\n",
      "Word is:  slowly\n",
      "Synonyms are: ['slowly', 'slow', 'easy', 'tardily', 'lento', 'slowly']\n",
      "Word is:  get\n",
      "Synonyms are: ['get', 'get', 'acquire', 'become', 'go', 'get', 'get', 'let', 'have', 'receive', 'get', 'find', 'obtain', 'incur', 'arrive', 'get', 'come', 'bring', 'get', 'convey', 'fetch', 'experience', 'receive', 'have', 'get', 'pay_back', 'pay_off', 'get', 'fix', 'have', 'get', 'make', 'induce', 'stimulate', 'cause', 'have', 'get', 'make', 'get', 'catch', 'capture', 'grow', 'develop', 'produce', 'get', 'acquire', 'contract', 'take', 'get', 'get', 'make', 'get', 'drive', 'get', 'aim', 'catch', 'get', 'catch', 'arrest', 'get', 'get', 'catch', 'get', 'get', 'get', 'catch', 'get', 'catch', 'get', 'get', 'receive', 'scram', 'buzz_off', 'fuck_off', 'get', 'bugger_off', 'get', 'get', \"get_under_one's_skin\", 'get', 'catch', 'get', 'draw', 'get', 'get', 'perplex', 'vex', 'stick', 'get', 'puzzle', 'mystify', 'baffle', 'beat', 'pose', 'bewilder', 'flummox', 'stupefy', 'nonplus', 'gravel', 'amaze', 'dumbfound', 'get_down', 'begin', 'get', 'start_out', 'start', 'set_about', 'set_out', 'commence', 'suffer', 'sustain', 'have', 'get', 'beget', 'get', 'engender', 'father', 'mother', 'sire', 'generate', 'bring_forth']\n",
      "Word is:  from\n",
      "Synonyms are: []\n",
      "Word is:  chiseling\n",
      "Synonyms are: ['cheat', 'chisel', 'cheat', 'rip_off', 'chisel', 'chisel']\n",
      "Word is:  while\n",
      "Synonyms are: ['while', 'piece', 'spell', 'patch']\n",
      "Word is:  begin\n",
      "Synonyms are: ['Begin', 'Menachem_Begin', 'get_down', 'begin', 'get', 'start_out', 'start', 'set_about', 'set_out', 'commence', 'begin', 'start', 'begin', 'lead_off', 'start', 'commence', 'begin', 'begin', 'begin', 'begin', 'start', 'begin', 'start', 'begin', 'begin']\n",
      "Word is:  all\n",
      "Synonyms are: ['all', 'all', 'wholly', 'entirely', 'completely', 'totally', 'all', 'altogether', 'whole']\n",
      "Word is:  off\n",
      "Synonyms are: ['murder', 'slay', 'hit', 'dispatch', 'bump_off', 'off', 'polish_off', 'remove', 'off', 'off', 'off', 'cancelled', 'off', 'sour', 'turned', 'off', 'away', 'off', 'forth', 'off', 'away', 'off']\n",
      "Word is:  he\n",
      "Synonyms are: ['helium', 'He', 'atomic_number_2', 'he']\n",
      "Word is:  stuck\n",
      "Synonyms are: ['lodge', 'wedge', 'stick', 'deposit', 'stay', 'stick', 'stick_around', 'stay_put', 'adhere', 'hold_fast', 'bond', 'bind', 'stick', 'stick_to', 'stick', 'stick', 'adhere', 'stick', 'stand_by', 'stick_by', 'stick', 'adhere', 'stick', 'stick', 'stick', 'stick', 'stick', 'stick', 'cling', 'cleave', 'adhere', 'stick', 'cohere', 'stick', 'sting', 'perplex', 'vex', 'stick', 'get', 'puzzle', 'mystify', 'baffle', 'beat', 'pose', 'bewilder', 'flummox', 'stupefy', 'nonplus', 'gravel', 'amaze', 'dumbfound', 'stuck', 'stuck']\n",
      "Word is:  poured\n",
      "Synonyms are: ['pour', 'pour', 'swarm', 'stream', 'teem', 'pullulate', 'decant', 'pour', 'pour_out', 'pour', 'pour', 'pour', 'pelt', 'stream', 'rain_cats_and_dogs', 'rain_buckets']\n",
      "Word is:  was\n",
      "Synonyms are: ['Washington', 'Evergreen_State', 'WA', 'be', 'be', 'be', 'exist', 'be', 'be', 'equal', 'be', 'constitute', 'represent', 'make_up', 'comprise', 'be', 'be', 'follow', 'embody', 'be', 'personify', 'be', 'be', 'live', 'be', 'cost', 'be']\n",
      "Word is:  how\n",
      "Synonyms are: []\n",
      "Word is:  projects\n",
      "Synonyms are: ['undertaking', 'project', 'task', 'labor', 'project', 'projection', 'project', 'stick_out', 'protrude', 'jut_out', 'jut', 'project', 'project', 'project', 'project', 'project', 'plan', 'project', 'contrive', 'design', 'project', 'propose', 'visualize', 'visualise', 'envision', 'project', 'fancy', 'see', 'figure', 'picture', 'image', 'project', 'cast', 'contrive', 'throw', 'project', 'send_off', 'project', 'externalize', 'externalise']\n",
      "Word is:  impressive\n",
      "Synonyms are: ['impressive', 'impressive', 'telling']\n",
      "Word is:  when\n",
      "Synonyms are: []\n",
      "Word is:  being\n",
      "Synonyms are: ['being', 'beingness', 'existence', 'organism', 'being', 'be', 'be', 'be', 'exist', 'be', 'be', 'equal', 'be', 'constitute', 'represent', 'make_up', 'comprise', 'be', 'be', 'follow', 'embody', 'be', 'personify', 'be', 'be', 'live', 'be', 'cost', 'be']\n",
      "Word is:  current\n",
      "Synonyms are: ['current', 'electric_current', 'current', 'stream', 'stream', 'flow', 'current', 'current']\n",
      "Word is:  onto\n",
      "Synonyms are: []\n",
      "Word is:  first\n",
      "Synonyms are: ['first', 'number_one', 'first', 'number_one', 'number_1', 'beginning', 'commencement', 'first', 'outset', 'get-go', 'start', 'kickoff', 'starting_time', 'showtime', 'offset', 'first_base', 'first', 'first', 'first-class_honours_degree', 'first_gear', 'first', 'low_gear', 'low', 'first', 'first', '1st', 'inaugural', 'initiative', 'initiatory', 'first', 'maiden', 'beginning', 'first', 'first', 'foremost', 'world-class', 'first', 'first', 'firstly', 'foremost', 'first_of_all', 'first_off', 'first', 'for_the_first_time', 'first', 'foremost', 'first']\n",
      "Word is:  especially\n",
      "Synonyms are: ['particularly', 'peculiarly', 'especially', 'specially', 'specially', 'especially']\n",
      "Word is:  a\n",
      "Synonyms are: ['angstrom', 'angstrom_unit', 'A', 'vitamin_A', 'antiophthalmic_factor', 'axerophthol', 'A', 'deoxyadenosine_monophosphate', 'A', 'adenine', 'A', 'ampere', 'amp', 'A', 'A', 'a', 'A', 'type_A', 'group_A']\n",
      "Word is:  daily\n",
      "Synonyms are: ['daily', 'daily', 'day-to-day', 'day-by-day', 'day-after-day', 'casual', 'everyday', 'daily', 'daily', 'day_by_day', 'daily']\n",
      "Word is:  ice\n",
      "Synonyms are: ['ice', 'water_ice', 'ice', 'ice', 'sparkler', 'frosting', 'icing', 'ice', 'ice', 'frappe', 'methamphetamine', 'methamphetamine_hydrochloride', 'Methedrine', 'meth', 'deoxyephedrine', 'chalk', 'chicken_feed', 'crank', 'glass', 'ice', 'shabu', 'trash', 'internal-combustion_engine', 'ICE', 'ice_rink', 'ice-skating_rink', 'ice', 'frost', 'ice', 'ice', 'ice']\n",
      "Word is:  purpose\n",
      "Synonyms are: ['purpose', 'intent', 'intention', 'aim', 'design', 'function', 'purpose', 'role', 'use', 'determination', 'purpose', 'aim', 'purpose', 'purport', 'propose', 'purpose', 'resolve']\n",
      "Word is:  looked\n",
      "Synonyms are: ['look', 'look', 'appear', 'seem', 'look', 'search', 'look', 'front', 'look', 'face', 'attend', 'take_care', 'look', 'see', 'look', 'expect', 'look', 'await', 'wait', 'look', 'count', 'bet', 'depend', 'look', 'calculate', 'reckon']\n",
      "Word is:  way\n",
      "Synonyms are: ['manner', 'mode', 'style', 'way', 'fashion', 'means', 'agency', 'way', 'direction', 'way', 'way', 'way', 'path', 'way_of_life', 'way', 'way', 'room', 'way', 'elbow_room', 'way', 'way', 'way', 'way', 'way', 'right_smart']\n",
      "Word is:  original\n",
      "Synonyms are: ['master', 'master_copy', 'original', 'original', 'archetype', 'pilot', 'original', 'original', 'original', 'original']\n",
      "Word is:  fingers\n",
      "Synonyms are: ['finger', 'finger', 'fingerbreadth', \"finger's_breadth\", 'digit', 'finger', 'finger', 'thumb', 'feel', 'finger', 'finger', 'finger']\n",
      "Word is:  goes\n",
      "Synonyms are: ['go', 'spell', 'tour', 'turn', 'Adam', 'ecstasy', 'XTC', 'go', 'disco_biscuit', 'cristal', 'X', 'hug_drug', 'crack', 'fling', 'go', 'pass', 'whirl', 'offer', 'go', 'go_game', 'travel', 'go', 'move', 'locomote', 'go', 'proceed', 'move', 'go', 'go_away', 'depart', 'become', 'go', 'get', 'go', 'run', 'go', 'run', 'go', 'pass', 'lead', 'extend', 'proceed', 'go', 'go', 'go', 'sound', 'go', 'function', 'work', 'operate', 'go', 'run', 'run_low', 'run_short', 'go', 'move', 'go', 'run', 'survive', 'last', 'live', 'live_on', 'go', 'endure', 'hold_up', 'hold_out', 'go', 'die', 'decease', 'perish', 'go', 'exit', 'pass_away', 'expire', 'pass', 'kick_the_bucket', \"cash_in_one's_chips\", 'buy_the_farm', 'conk', 'give-up_the_ghost', 'drop_dead', 'pop_off', 'choke', 'croak', 'snuff_it', 'belong', 'go', 'go', 'start', 'go', 'get_going', 'move', 'go', 'go', 'go', 'blend', 'go', 'blend_in', 'go', 'lead', 'fit', 'go', 'rifle', 'go', 'go', 'plump', 'go', 'fail', 'go_bad', 'give_way', 'die', 'give_out', 'conk_out', 'go', 'break', 'break_down']\n",
      "Word is:  has\n",
      "Synonyms are: ['hour_angle', 'HA', 'have', 'have_got', 'hold', 'have', 'feature', 'experience', 'receive', 'have', 'get', 'own', 'have', 'possess', 'get', 'let', 'have', 'consume', 'ingest', 'take_in', 'take', 'have', 'have', 'hold', 'throw', 'have', 'make', 'give', 'have', 'have', 'have', 'experience', 'have', 'induce', 'stimulate', 'cause', 'have', 'get', 'make', 'accept', 'take', 'have', 'receive', 'have', 'suffer', 'sustain', 'have', 'get', 'have', 'get', 'make', 'give_birth', 'deliver', 'bear', 'birth', 'have', 'take', 'have']\n",
      "Word is:  more\n",
      "Synonyms are: ['More', 'Thomas_More', 'Sir_Thomas_More', 'more', 'more_than', 'more', 'more', 'to_a_greater_extent', 'more']\n",
      "Word is:  pouring\n",
      "Synonyms are: ['pour', 'pour', 'swarm', 'stream', 'teem', 'pullulate', 'decant', 'pour', 'pour_out', 'pour', 'pour', 'pour', 'pelt', 'stream', 'rain_cats_and_dogs', 'rain_buckets', 'gushing', 'pouring']\n",
      "Word is:  in\n",
      "Synonyms are: ['inch', 'in', 'indium', 'In', 'atomic_number_49', 'Indiana', 'Hoosier_State', 'IN', 'in', 'in', 'in', 'in', 'inwards', 'inward']\n",
      "Word is:  by\n",
      "Synonyms are: ['by', 'past', 'aside', 'by', 'away']\n",
      "Word is:  is\n",
      "Synonyms are: ['be', 'be', 'be', 'exist', 'be', 'be', 'equal', 'be', 'constitute', 'represent', 'make_up', 'comprise', 'be', 'be', 'follow', 'embody', 'be', 'personify', 'be', 'be', 'live', 'be', 'cost', 'be']\n",
      "Word is:  writers\n",
      "Synonyms are: ['writer', 'author', 'writer']\n",
      "Word is:  drink\n",
      "Synonyms are: ['drink', 'drink', 'drinking', 'boozing', 'drunkenness', 'crapulence', 'beverage', 'drink', 'drinkable', 'potable', 'drink', 'swallow', 'drink', 'deglutition', 'drink', 'imbibe', 'drink', 'booze', 'fuddle', 'toast', 'drink', 'pledge', 'salute', 'wassail', 'drink_in', 'drink', 'drink', 'tope']\n",
      "Word is:  meaning\n",
      "Synonyms are: ['meaning', 'significance', 'signification', 'import', 'meaning', 'substance', 'mean', 'intend', 'entail', 'imply', 'mean', 'mean', 'intend', 'signify', 'stand_for', 'intend', 'mean', 'think', 'mean', 'think_of', 'have_in_mind', 'mean', 'mean', 'meaning', 'pregnant', 'significant']\n",
      "Word is:  writer\n",
      "Synonyms are: ['writer', 'author', 'writer']\n",
      "Word is:  completely\n",
      "Synonyms are: ['wholly', 'entirely', 'completely', 'totally', 'all', 'altogether', 'whole', 'completely']\n",
      "Word is:  it\n",
      "Synonyms are: ['information_technology', 'IT']\n",
      "Word is:  actually\n",
      "Synonyms are: ['actually', 'really', 'actually', 'in_reality', 'actually', 'actually']\n",
      "Word is:  paragraph\n",
      "Synonyms are: ['paragraph', 'paragraph', 'paragraph', 'paragraph']\n",
      "Word is:  some\n",
      "Synonyms are: ['some', 'some', 'some', 'some', 'approximately', 'about', 'close_to', 'just_about', 'some', 'roughly', 'more_or_less', 'around', 'or_so']\n",
      "Word is:  cold\n",
      "Synonyms are: ['cold', 'common_cold', 'coldness', 'cold', 'low_temperature', 'frigidity', 'frigidness', 'cold', 'coldness', 'cold', 'cold', 'cold', 'cold', 'cold', 'cold', 'stale', 'dusty', 'moth-eaten', 'cold', 'cold', 'frigid', 'cold', 'cold-blooded', 'inhuman', 'insensate', 'cold', 'cold', 'cold', 'cold']\n",
      "Word is:  drinks\n",
      "Synonyms are: ['drink', 'drink', 'drinking', 'boozing', 'drunkenness', 'crapulence', 'beverage', 'drink', 'drinkable', 'potable', 'drink', 'swallow', 'drink', 'deglutition', 'drink', 'imbibe', 'drink', 'booze', 'fuddle', 'toast', 'drink', 'pledge', 'salute', 'wassail', 'drink_in', 'drink', 'drink', 'tope']\n",
      "Word is:  still\n",
      "Synonyms are: ['still', 'hush', 'stillness', 'still', 'still', 'distillery', 'still', 'calm', 'calm_down', 'quiet', 'tranquilize', 'tranquillize', 'tranquillise', 'quieten', 'lull', 'still', 'hush', 'quieten', 'silence', 'still', 'shut_up', 'hush_up', 'still', 'allay', 'relieve', 'ease', 'still', 'inactive', 'motionless', 'static', 'still', 'silent', 'soundless', 'still', 'placid', 'quiet', 'still', 'tranquil', 'smooth', 'unruffled', 'still', 'still', 'noneffervescent', 'still', 'still', 'however', 'nevertheless', 'withal', 'still', 'yet', 'all_the_same', 'even_so', 'nonetheless', 'notwithstanding', 'even', 'yet', 'still', 'still', 'stock-still']\n",
      "Word is:  did\n",
      "Synonyms are: ['make', 'do', 'perform', 'execute', 'do', 'do', 'perform', 'do', 'fare', 'make_out', 'come', 'get_along', 'cause', 'do', 'make', 'practice', 'practise', 'exercise', 'do', 'suffice', 'do', 'answer', 'serve', 'do', 'make', 'act', 'behave', 'do', 'serve', 'do', 'do', 'manage', 'dress', 'arrange', 'set', 'do', 'coif', 'coiffe', 'coiffure', 'do']\n",
      "Word is:  down\n",
      "Synonyms are: ['down', 'down_feather', 'down', 'Down', 'John_L._H._Down', 'down', 'down', 'pile', 'toss_off', 'pop', 'bolt_down', 'belt_down', 'pour_down', 'down', 'drink_down', 'kill', 'devour', 'down', 'consume', 'go_through', 'down', 'down', 'shoot_down', 'land', 'down', 'knock_down', 'cut_down', 'push_down', 'pull_down', 'polish', 'refine', 'fine-tune', 'down', 'down', 'down', 'downward', 'down', 'down', 'down', 'down_pat', 'mastered', 'depressed', 'down', 'down', 'down', 'gloomy', 'grim', 'blue', 'depressed', 'dispirited', 'down', 'downcast', 'downhearted', 'down_in_the_mouth', 'low', 'low-spirited', 'down', 'downwards', 'downward', 'downwardly', 'down', 'down', 'down', 'down', 'down']\n",
      "Word is:  for\n",
      "Synonyms are: []\n",
      "Word is:  routine\n",
      "Synonyms are: ['routine', 'modus_operandi', 'act', 'routine', 'number', 'turn', 'bit', 'routine', 'subroutine', 'subprogram', 'procedure', 'function', 'everyday', 'mundane', 'quotidian', 'routine', 'unremarkable', 'workaday']\n",
      "Word is:  then\n",
      "Synonyms are: ['then', 'then', 'then', 'so', 'and_so', 'and_then', 'then', 'then']\n",
      "Word is:  already\n",
      "Synonyms are: ['already']\n",
      "Word is:  managed\n",
      "Synonyms are: ['pull_off', 'negociate', 'bring_off', 'carry_off', 'manage', 'manage', 'deal', 'care', 'handle', 'cope', 'get_by', 'make_out', 'make_do', 'contend', 'grapple', 'deal', 'manage', 'oversee', 'supervise', 'superintend', 'manage', 'wangle', 'finagle', 'manage', 'do', 'manage', 'wield', 'handle', 'manage']\n",
      "Word is:  be\n",
      "Synonyms are: ['beryllium', 'Be', 'glucinium', 'atomic_number_4', 'be', 'be', 'be', 'exist', 'be', 'be', 'equal', 'be', 'constitute', 'represent', 'make_up', 'comprise', 'be', 'be', 'follow', 'embody', 'be', 'personify', 'be', 'be', 'live', 'be', 'cost', 'be']\n",
      "Word is:  take\n",
      "Synonyms are: ['return', 'issue', 'take', 'takings', 'proceeds', 'yield', 'payoff', 'take', 'take', 'take', 'occupy', 'use_up', 'lead', 'take', 'direct', 'conduct', 'guide', 'take', 'get_hold_of', 'assume', 'acquire', 'adopt', 'take_on', 'take', 'take', 'read', 'bring', 'convey', 'take', 'take', 'take', 'choose', 'take', 'select', 'pick_out', 'accept', 'take', 'have', 'fill', 'take', 'occupy', 'consider', 'take', 'deal', 'look_at', 'necessitate', 'ask', 'postulate', 'need', 'require', 'take', 'involve', 'call_for', 'demand', 'take', 'film', 'shoot', 'take', 'remove', 'take', 'take_away', 'withdraw', 'consume', 'ingest', 'take_in', 'take', 'have', 'take', 'submit', 'take', 'accept', 'take', 'assume', 'take', 'strike', 'take_up', 'accept', 'admit', 'take', 'take_on', 'take', 'learn', 'study', 'read', 'take', 'claim', 'take', 'exact', 'take', 'make', 'aim', 'take', 'train', 'take_aim', 'direct', 'take', 'carry', 'pack', 'take', 'lease', 'rent', 'hire', 'charter', 'engage', 'take', 'subscribe', 'subscribe_to', 'take', 'take', 'take', 'take', 'have', 'claim', 'take', 'accept', 'take', 'contain', 'take', 'hold', 'take', 'drive', 'take', 'take', 'contract', 'take', 'get']\n",
      "Word is:  tool\n",
      "Synonyms are: ['tool', 'instrument', 'tool', 'creature', 'tool', 'puppet', 'cock', 'prick', 'dick', 'shaft', 'pecker', 'peter', 'tool', 'putz', 'tool', 'joyride', 'tool', 'tool_around', 'tool', 'tool']\n",
      "Word is:  day\n",
      "Synonyms are: ['day', 'twenty-four_hours', 'twenty-four_hour_period', '24-hour_interval', 'solar_day', 'mean_solar_day', 'day', 'day', 'day', 'daytime', 'daylight', 'day', 'day', 'day', 'sidereal_day', 'day', 'day', 'Day', 'Clarence_Day', 'Clarence_Shepard_Day_Jr.']\n",
      "Word is:  happen\n",
      "Synonyms are: ['happen', 'hap', 'go_on', 'pass_off', 'occur', 'pass', 'fall_out', 'come_about', 'take_place', 'happen', 'befall', 'bechance', 'happen', 'happen', 'materialize', 'materialise', 'find', 'happen', 'chance', 'bump', 'encounter']\n",
      "Word is:  large\n",
      "Synonyms are: ['large', 'large', 'big', 'large', 'bombastic', 'declamatory', 'large', 'orotund', 'tumid', 'turgid', 'big', 'large', 'magnanimous', 'big', 'large', 'prominent', 'large', 'big', 'enceinte', 'expectant', 'gravid', 'great', 'large', 'heavy', 'with_child', 'large', 'large', 'boastfully', 'vauntingly', 'big', 'large']\n",
      "Word is:  use\n",
      "Synonyms are: ['use', 'usage', 'utilization', 'utilisation', 'employment', 'exercise', 'function', 'purpose', 'role', 'use', 'use', 'consumption', 'economic_consumption', 'usance', 'use', 'use_of_goods_and_services', 'habit', 'use', 'manipulation', 'use', 'use', 'enjoyment', 'use', 'utilize', 'utilise', 'apply', 'employ', 'use', 'habituate', 'use', 'expend', 'use', 'practice', 'apply', 'use', 'use']\n",
      "Word is:  of\n",
      "Synonyms are: []\n",
      "Word is:  drama\n",
      "Synonyms are: ['play', 'drama', 'dramatic_play', 'drama', 'dramatic_event', 'drama', 'drama']\n",
      "Word is:  over\n",
      "Synonyms are: ['over', 'complete', 'concluded', 'ended', 'over', 'all_over', 'terminated', 'over', 'over', 'over', \"o'er\", 'over', 'all_over', 'over']\n",
      "Word is:  started\n",
      "Synonyms are: ['get_down', 'begin', 'get', 'start_out', 'start', 'set_about', 'set_out', 'commence', 'begin', 'lead_off', 'start', 'commence', 'depart', 'part', 'start', 'start_out', 'set_forth', 'set_off', 'set_out', 'take_off', 'begin', 'start', 'originate', 'initiate', 'start', 'start', 'start_up', 'embark_on', 'commence', 'startle', 'jump', 'start', 'start', 'start_up', 'start', 'go', 'get_going', 'start', 'take_up', 'start', 'begin', 'start', 'begin', 'start', 'start', 'protrude', 'pop', 'pop_out', 'bulge', 'bulge_out', 'bug_out', 'come_out']\n",
      "Word is:  and\n",
      "Synonyms are: []\n",
      "Word is:  also\n",
      "Synonyms are: ['besides', 'too', 'also', 'likewise', 'as_well']\n",
      "Word is:  about\n",
      "Synonyms are: ['about', 'astir', 'approximately', 'about', 'close_to', 'just_about', 'some', 'roughly', 'more_or_less', 'around', 'or_so', 'about', 'around', 'about', 'around', 'about', 'around', 'about', 'around', 'about', 'about', 'almost', 'most', 'nearly', 'near', 'nigh', 'virtually', 'well-nigh']\n",
      "Word is:  which\n",
      "Synonyms are: []\n",
      "Word is:  words\n",
      "Synonyms are: ['words', 'lyric', 'words', 'language', 'words', 'quarrel', 'wrangle', 'row', 'words', 'run-in', 'dustup', \"actor's_line\", 'speech', 'words', 'word', 'word', 'news', 'intelligence', 'tidings', 'word', 'word', 'discussion', 'give-and-take', 'word', 'parole', 'word', 'word_of_honor', 'word', 'Son', 'Word', 'Logos', 'password', 'watchword', 'word', 'parole', 'countersign', 'Bible', 'Christian_Bible', 'Book', 'Good_Book', 'Holy_Scripture', 'Holy_Writ', 'Scripture', 'Word_of_God', 'Word', 'give_voice', 'formulate', 'word', 'phrase', 'articulate']\n",
      "Word is:  like\n",
      "Synonyms are: ['like', 'the_like', 'the_likes_of', 'like', 'ilk', 'wish', 'care', 'like', 'like', 'like', 'like', 'like', 'like', 'similar', 'like', 'same', 'alike', 'similar', 'like', 'comparable', 'corresponding', 'like']\n",
      "Word is:  chunk\n",
      "Synonyms are: ['ball', 'clod', 'glob', 'lump', 'clump', 'chunk', 'chunk', 'lump', 'chunk', 'collocate', 'lump', 'chunk']\n",
      "Word is:  their\n",
      "Synonyms are: []\n",
      "Word is:  try\n",
      "Synonyms are: ['attempt', 'effort', 'endeavor', 'endeavour', 'try', 'try', 'seek', 'attempt', 'essay', 'assay', 'test', 'prove', 'try', 'try_out', 'examine', 'essay', 'judge', 'adjudicate', 'try', 'sample', 'try', 'try_out', 'taste', 'hear', 'try', 'try', 'try', 'strain', 'stress', 'try', 'render', 'try_on', 'try']\n",
      "Word is:  often\n",
      "Synonyms are: ['frequently', 'often', 'oftentimes', 'oft', 'ofttimes', 'much', 'a_great_deal', 'often', 'often']\n",
      "Word is:  causing\n",
      "Synonyms are: ['causing', 'causation', 'cause', 'do', 'make', 'induce', 'stimulate', 'cause', 'have', 'get', 'make']\n",
      "Word is:  with\n",
      "Synonyms are: []\n",
      "Word is:  random\n",
      "Synonyms are: ['random']\n",
      "Word is:  to\n",
      "Synonyms are: []\n",
      "Word is:  writing\n",
      "Synonyms are: ['writing', 'authorship', 'composition', 'penning', 'writing', 'written_material', 'piece_of_writing', 'writing', 'writing', 'writing', 'committal_to_writing', 'write', 'compose', 'pen', 'indite', 'write', 'publish', 'write', 'write', 'drop_a_line', 'write', 'compose', 'write', 'write', 'write', 'save', 'spell', 'write', 'write']\n",
      "Word is:  have\n",
      "Synonyms are: ['rich_person', 'wealthy_person', 'have', 'have', 'have_got', 'hold', 'have', 'feature', 'experience', 'receive', 'have', 'get', 'own', 'have', 'possess', 'get', 'let', 'have', 'consume', 'ingest', 'take_in', 'take', 'have', 'have', 'hold', 'throw', 'have', 'make', 'give', 'have', 'have', 'have', 'experience', 'have', 'induce', 'stimulate', 'cause', 'have', 'get', 'make', 'accept', 'take', 'have', 'receive', 'have', 'suffer', 'sustain', 'have', 'get', 'have', 'get', 'make', 'give_birth', 'deliver', 'bear', 'birth', 'have', 'take', 'have']\n",
      "Word is:  image\n",
      "Synonyms are: ['image', 'mental_image', 'persona', 'image', 'picture', 'image', 'icon', 'ikon', 'prototype', 'paradigm', 'epitome', 'image', 'trope', 'figure_of_speech', 'figure', 'image', 'double', 'image', 'look-alike', 'image', 'range', 'range_of_a_function', 'image', 'effigy', 'image', 'simulacrum', 'image', 'visualize', 'visualise', 'envision', 'project', 'fancy', 'see', 'figure', 'picture', 'image']\n",
      "Word is:  one\n",
      "Synonyms are: ['one', '1', 'I', 'ace', 'single', 'unity', 'one', 'one', '1', 'i', 'ane', 'one', 'unitary', 'one', 'one', 'one', 'one', 'matchless', 'nonpareil', 'one', 'one_and_only', 'peerless', 'unmatched', 'unmatchable', 'unrivaled', 'unrivalled']\n",
      "Word is:  far\n",
      "Synonyms are: ['Army_for_the_Liberation_of_Rwanda', 'ALIR', 'Former_Armed_Forces', 'FAR', 'Interahamwe', 'far', 'far', 'far', 'far', 'far', 'far', 'far', 'far', 'far']\n",
      "Word is:  can\n",
      "Synonyms are: ['can', 'tin', 'tin_can', 'can', 'canful', 'can', 'can_buoy', 'buttocks', 'nates', 'arse', 'butt', 'backside', 'bum', 'buns', 'can', 'fundament', 'hindquarters', 'hind_end', 'keister', 'posterior', 'prat', 'rear', 'rear_end', 'rump', 'stern', 'seat', 'tail', 'tail_end', 'tooshie', 'tush', 'bottom', 'behind', 'derriere', 'fanny', 'ass', 'toilet', 'can', 'commode', 'crapper', 'pot', 'potty', 'stool', 'throne', 'toilet', 'lavatory', 'lav', 'can', 'john', 'privy', 'bathroom', 'can', 'tin', 'put_up', 'displace', 'fire', 'give_notice', 'can', 'dismiss', 'give_the_axe', 'send_away', 'sack', 'force_out', 'give_the_sack', 'terminate']\n",
      "Word is:  complete\n",
      "Synonyms are: ['complete', 'finish', 'complete', 'dispatch', 'discharge', 'complete', 'complete', 'nail', 'complete', 'fill_out', 'fill_in', 'make_out', 'complete', 'complete', 'consummate', 'accomplished', 'complete', 'arrant', 'complete', 'consummate', 'double-dyed', 'everlasting', 'gross', 'perfect', 'pure', 'sodding', 'stark', 'staring', 'thoroughgoing', 'utter', 'unadulterated', 'complete', 'concluded', 'ended', 'over', 'all_over', 'terminated']\n",
      "Word is:  been\n",
      "Synonyms are: ['be', 'be', 'be', 'exist', 'be', 'be', 'equal', 'be', 'constitute', 'represent', 'make_up', 'comprise', 'be', 'be', 'follow', 'embody', 'be', 'personify', 'be', 'be', 'live', 'be', 'cost', 'be']\n",
      "Word is:  here\n",
      "Synonyms are: ['here', 'Hera', 'Here', 'here', 'here', 'here', 'here', 'hither', 'here']\n",
      "Word is:  liked\n",
      "Synonyms are: ['wish', 'care', 'like', 'like', 'like', 'like', 'like', 'liked']\n",
      "Word is:  than\n",
      "Synonyms are: []\n",
      "Word is:  excellent\n",
      "Synonyms are: ['excellent', 'first-class', 'fantabulous', 'splendid']\n",
      "Word is:  his\n",
      "Synonyms are: []\n",
      "Word is:  inserting\n",
      "Synonyms are: ['insert', 'infix', 'enter', 'introduce', 'insert', 'enclose', 'inclose', 'stick_in', 'put_in', 'introduce', 'tuck', 'insert', 'slip_in', 'stick_in', 'sneak_in', 'insert']\n",
      "Word is:  tackle\n",
      "Synonyms are: ['tackle', 'rigging', 'tackle', 'fishing_gear', 'tackle', 'fishing_tackle', 'fishing_rig', 'rig', 'tackle', 'tackle', 'undertake', 'tackle', 'take_on', 'harness', 'tackle', 'tackle']\n",
      "Word is:  trying\n",
      "Synonyms are: ['try', 'seek', 'attempt', 'essay', 'assay', 'test', 'prove', 'try', 'try_out', 'examine', 'essay', 'judge', 'adjudicate', 'try', 'sample', 'try', 'try_out', 'taste', 'hear', 'try', 'try', 'try', 'strain', 'stress', 'try', 'render', 'try_on', 'try', 'trying', 'nerve-racking', 'nerve-wracking', 'stressful', 'trying']\n",
      "Word is:  flowing\n",
      "Synonyms are: ['flow', 'flowing', 'flow', 'flux', 'run', 'flow', 'feed', 'course', 'flow', 'flow', 'hang', 'fall', 'flow', 'flow', 'menstruate', 'flow', 'streamlined', 'aerodynamic', 'flowing', 'sleek']\n",
      "Word is:  keeping\n",
      "Synonyms are: ['keeping', 'guardianship', 'keeping', 'safekeeping', 'retention', 'keeping', 'holding', 'keep', 'maintain', 'hold', 'continue', 'go_on', 'proceed', 'go_along', 'keep', 'keep', 'hold_on', 'prevent', 'keep', 'observe', 'keep', 'observe', 'keep', 'maintain', 'keep', 'keep', 'maintain', 'keep', 'retain', 'continue', 'keep', 'keep_on', 'sustain', 'keep', 'maintain', 'keep', 'stay_fresh', 'observe', 'celebrate', 'keep', 'restrain', 'keep', 'keep_back', 'hold_back', 'keep', 'preserve', 'keep', 'keep_open', 'hold_open', 'keep', 'save', 'keep', 'keep', 'keep', 'maintain', 'keep', 'preserve', 'keep']\n",
      "Word is:  wanted\n",
      "Synonyms are: ['desire', 'want', 'want', 'need', 'require', 'want', 'want', 'want', 'wanted', 'cherished', 'precious', 'treasured', 'wanted']\n",
      "Word is:  rewrite\n",
      "Synonyms are: ['rewrite', 'revision', 'rescript', 'rewrite', 'rewrite']\n",
      "Word is:  larger\n",
      "Synonyms are: ['bigger', 'larger', 'large', 'big', 'large', 'bombastic', 'declamatory', 'large', 'orotund', 'tumid', 'turgid', 'big', 'large', 'magnanimous', 'big', 'large', 'prominent', 'large', 'big', 'enceinte', 'expectant', 'gravid', 'great', 'large', 'heavy', 'with_child']\n",
      "Word is:  an\n",
      "Synonyms are: ['Associate_in_Nursing', 'AN']\n",
      "Word is:  particularly\n",
      "Synonyms are: ['particularly', 'peculiarly', 'especially', 'specially', 'particularly', 'in_particular', 'peculiarly', 'particularly']\n",
      "Word is:  due\n",
      "Synonyms are: ['due', 'due', 'due', 'due', 'due', 'ascribable', 'due', 'imputable', 'referable', 'due']\n",
      "Word is:  are\n",
      "Synonyms are: ['are', 'ar', 'be', 'be', 'be', 'exist', 'be', 'be', 'equal', 'be', 'constitute', 'represent', 'make_up', 'comprise', 'be', 'be', 'follow', 'embody', 'be', 'personify', 'be', 'be', 'live', 'be', 'cost', 'be']\n",
      "Word is:  issues\n",
      "Synonyms are: ['issue', 'issue', 'number', 'topic', 'subject', 'issue', 'matter', 'issue', 'issuing', 'issuance', 'issue', 'military_issue', 'government_issue', 'return', 'issue', 'take', 'takings', 'proceeds', 'yield', 'payoff', 'consequence', 'effect', 'outcome', 'result', 'event', 'issue', 'upshot', 'offspring', 'progeny', 'issue', 'emergence', 'egress', 'issue', 'exit', 'issue', 'outlet', 'way_out', 'issue', 'publication', 'publish', 'bring_out', 'put_out', 'issue', 'release', 'issue', 'supply', 'issue', 'issue', 'emerge', 'come_out', 'come_forth', 'go_forth', 'egress', 'write_out', 'issue', 'make_out', 'cut']\n",
      "Word is:  so\n",
      "Synonyms are: ['sol', 'soh', 'so', 'so', 'so', 'so', 'so', 'so', 'thus', 'thusly', 'so', 'so', 'then', 'so', 'and_so', 'and_then', 'therefore', 'hence', 'thence', 'thus', 'so', 'indeed', 'so']\n",
      "Word is:  productive\n",
      "Synonyms are: ['productive', 'generative', 'productive', 'productive', 'fat', 'fertile', 'productive', 'rich']\n",
      "Word is:  the\n",
      "Synonyms are: []\n",
      "Word is:  this\n",
      "Synonyms are: []\n",
      "Word is:  that\n",
      "Synonyms are: []\n",
      "Word is:  just\n",
      "Synonyms are: ['just', 'equitable', 'just', 'fair', 'just', 'good', 'just', 'upright', 'merely', 'simply', 'just', 'only', 'but', 'precisely', 'exactly', 'just', 'just', 'just_now', 'just', 'simply', 'barely', 'hardly', 'just', 'scarcely', 'scarce', 'just']\n",
      "Word is:  perfect\n",
      "Synonyms are: ['perfective', 'perfective_tense', 'perfect', 'perfect_tense', 'perfect', 'hone', 'perfect', 'arrant', 'complete', 'consummate', 'double-dyed', 'everlasting', 'gross', 'perfect', 'pure', 'sodding', 'stark', 'staring', 'thoroughgoing', 'utter', 'unadulterated', 'perfect']\n",
      "Word is:  generate\n",
      "Synonyms are: ['generate', 'bring_forth', 'render', 'yield', 'return', 'give', 'generate', 'generate', 'beget', 'get', 'engender', 'father', 'mother', 'sire', 'generate', 'bring_forth']\n",
      "Word is:  may\n",
      "Synonyms are: ['May', 'whitethorn', 'English_hawthorn', 'may', 'Crataegus_laevigata', 'Crataegus_oxycantha']\n",
      "Word is:  block\n",
      "Synonyms are: ['block', 'block', 'city_block', 'block', 'cube', 'block', 'block', 'block', 'block', 'mental_block', 'pulley', 'pulley-block', 'pulley_block', 'block', 'engine_block', 'cylinder_block', 'block', 'blockage', 'block', 'closure', 'occlusion', 'stop', 'stoppage', 'auction_block', 'block', 'blocking', 'block', 'barricade', 'block', 'blockade', 'stop', 'block_off', 'block_up', 'bar', 'obstruct', 'blockade', 'block', 'hinder', 'stymie', 'stymy', 'embarrass', 'stop', 'halt', 'block', 'kibosh', 'jam', 'block', 'block', 'block', 'obstruct', 'block', 'block', 'stuff', 'lug', 'choke_up', 'block', 'obstruct', 'obturate', 'impede', 'occlude', 'jam', 'block', 'close_up', 'block', 'parry', 'block', 'deflect', 'forget', 'block', 'blank_out', 'draw_a_blank', 'block', 'block', 'freeze', 'block', 'immobilize', 'immobilise']\n",
      "Word is:  but\n",
      "Synonyms are: ['merely', 'simply', 'just', 'only', 'but']\n",
      "Word is:  knew\n",
      "Synonyms are: ['know', 'cognize', 'cognise', 'know', 'know', 'know', 'know', 'experience', 'live', 'acknowledge', 'recognize', 'recognise', 'know', 'know', 'sleep_together', 'roll_in_the_hay', 'love', 'make_out', 'make_love', 'sleep_with', 'get_laid', 'have_sex', 'know', 'do_it', 'be_intimate', 'have_intercourse', 'have_it_away', 'have_it_off', 'screw', 'fuck', 'jazz', 'eff', 'hump', 'lie_with', 'bed', 'have_a_go_at_it', 'bang', 'get_it_on', 'bonk', 'know', 'know', 'know']\n",
      "Word is:  project\n",
      "Synonyms are: ['undertaking', 'project', 'task', 'labor', 'project', 'projection', 'project', 'stick_out', 'protrude', 'jut_out', 'jut', 'project', 'project', 'project', 'project', 'project', 'plan', 'project', 'contrive', 'design', 'project', 'propose', 'visualize', 'visualise', 'envision', 'project', 'fancy', 'see', 'figure', 'picture', 'image', 'project', 'cast', 'contrive', 'throw', 'project', 'send_off', 'project', 'externalize', 'externalise']\n"
     ]
    }
   ],
   "source": [
    "for i in range(len(unique_words)):\n",
    "    print(\"Word is: \", unique_words[i])\n",
    "    print(\"Synonyms are:\", synonyms[i])"
   ]
  },
  {
   "cell_type": "code",
   "execution_count": null,
   "id": "cd6034a9",
   "metadata": {},
   "outputs": [],
   "source": []
  },
  {
   "cell_type": "code",
   "execution_count": null,
   "id": "9dba8a1f",
   "metadata": {},
   "outputs": [],
   "source": []
  },
  {
   "cell_type": "code",
   "execution_count": null,
   "id": "c0e35b3a",
   "metadata": {},
   "outputs": [],
   "source": []
  },
  {
   "cell_type": "code",
   "execution_count": null,
   "id": "a4ef8cce",
   "metadata": {},
   "outputs": [],
   "source": []
  },
  {
   "cell_type": "code",
   "execution_count": null,
   "id": "508cd7d8",
   "metadata": {},
   "outputs": [],
   "source": []
  },
  {
   "cell_type": "code",
   "execution_count": null,
   "id": "7f158dec",
   "metadata": {},
   "outputs": [],
   "source": []
  },
  {
   "cell_type": "code",
   "execution_count": null,
   "id": "209c2e80",
   "metadata": {},
   "outputs": [],
   "source": []
  },
  {
   "cell_type": "code",
   "execution_count": null,
   "id": "689388ae",
   "metadata": {},
   "outputs": [],
   "source": []
  }
 ],
 "metadata": {
  "kernelspec": {
   "display_name": "Python 3 (ipykernel)",
   "language": "python",
   "name": "python3"
  },
  "language_info": {
   "codemirror_mode": {
    "name": "ipython",
    "version": 3
   },
   "file_extension": ".py",
   "mimetype": "text/x-python",
   "name": "python",
   "nbconvert_exporter": "python",
   "pygments_lexer": "ipython3",
   "version": "3.10.7"
  }
 },
 "nbformat": 4,
 "nbformat_minor": 5
}
