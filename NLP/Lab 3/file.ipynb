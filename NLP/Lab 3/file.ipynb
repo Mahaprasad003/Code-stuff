{
 "cells": [
  {
   "cell_type": "code",
   "execution_count": 13,
   "id": "684071fc",
   "metadata": {},
   "outputs": [],
   "source": [
    "import nltk\n",
    "from nltk import bigrams,FreqDist\n",
    "from nltk.corpus import stopwords\n",
    "from nltk.stem import PorterStemmer, LancasterStemmer\n",
    "import pandas as pd"
   ]
  },
  {
   "cell_type": "markdown",
   "id": "74241f77-ab58-4b7b-b794-cda4f0b138fc",
   "metadata": {},
   "source": [
    "Ass 1: Read a paragraph. Remove all stopwords. Pass remaining words in a list. Pass it through a Porter and Lancaster stemmer. Display it in a tabular view."
   ]
  },
  {
   "cell_type": "markdown",
   "id": "9d826aea-4560-46a3-be03-ff082269d067",
   "metadata": {},
   "source": [
    "Ass 2: Make a table of each word and it's total number of synsets.\n"
   ]
  },
  {
   "cell_type": "markdown",
   "id": "5d83dc70-e8d8-4a11-92ad-c14227da6a24",
   "metadata": {},
   "source": [
    "# Assignment 1"
   ]
  },
  {
   "cell_type": "code",
   "execution_count": 3,
   "id": "6d3d0251-467e-49e0-931f-ab53e4fb799d",
   "metadata": {},
   "outputs": [],
   "source": [
    "with open('text.txt', 'r') as f:\n",
    "    lines = f.readlines()"
   ]
  },
  {
   "cell_type": "code",
   "execution_count": 4,
   "id": "8e87e562-db3d-4c58-87c5-a4e25d81012f",
   "metadata": {},
   "outputs": [
    {
     "name": "stdout",
     "output_type": "stream",
     "text": [
      "Total words in the paragraph are: 197\n"
     ]
    }
   ],
   "source": [
    "sentence = lines[0]\n",
    "\n",
    "tokens = nltk.word_tokenize(sentence)\n",
    "# tokens\n",
    "words = [word.lower() for word in tokens if word.isalpha()]\n",
    "print(f\"Total words in the paragraph are: {len(words)}\")"
   ]
  },
  {
   "cell_type": "code",
   "execution_count": 7,
   "id": "fcf98e21-c10f-4679-a2cf-026c8f9ad0ef",
   "metadata": {},
   "outputs": [],
   "source": [
    "stop_words = set(stopwords.words('english'))\n",
    "filtered_sentence = [x for x in words if not x.lower() in stop_words]"
   ]
  },
  {
   "cell_type": "code",
   "execution_count": 10,
   "id": "e1008126-c778-428c-9d74-30893b941845",
   "metadata": {},
   "outputs": [],
   "source": [
    "ps = PorterStemmer()\n",
    "ls = LancasterStemmer()\n",
    "\n",
    "porter_list = [ps.stem(i) for i in filtered_sentence]\n",
    "lancaster_list = [ls.stem(i) for i in filtered_sentence]\n"
   ]
  },
  {
   "cell_type": "code",
   "execution_count": 14,
   "id": "f8f22b19-9b74-4375-922e-64e490879e19",
   "metadata": {},
   "outputs": [],
   "source": [
    "table_dict = {\n",
    "    'Original word' : filtered_sentence,\n",
    "    'Porter Stemmer' : porter_list,\n",
    "    'Lancaster Stemmer' : lancaster_list\n",
    "}\n",
    "\n",
    "df = pd.DataFrame(table_dict)"
   ]
  },
  {
   "cell_type": "code",
   "execution_count": 17,
   "id": "14795861-b5ec-4bce-af78-ebc9b6e96536",
   "metadata": {},
   "outputs": [
    {
     "data": {
      "text/html": [
       "<div>\n",
       "<style scoped>\n",
       "    .dataframe tbody tr th:only-of-type {\n",
       "        vertical-align: middle;\n",
       "    }\n",
       "\n",
       "    .dataframe tbody tr th {\n",
       "        vertical-align: top;\n",
       "    }\n",
       "\n",
       "    .dataframe thead th {\n",
       "        text-align: right;\n",
       "    }\n",
       "</style>\n",
       "<table border=\"1\" class=\"dataframe\">\n",
       "  <thead>\n",
       "    <tr style=\"text-align: right;\">\n",
       "      <th></th>\n",
       "      <th>Original word</th>\n",
       "      <th>Porter Stemmer</th>\n",
       "      <th>Lancaster Stemmer</th>\n",
       "    </tr>\n",
       "  </thead>\n",
       "  <tbody>\n",
       "    <tr>\n",
       "      <th>0</th>\n",
       "      <td>slowly</td>\n",
       "      <td>slowli</td>\n",
       "      <td>slow</td>\n",
       "    </tr>\n",
       "    <tr>\n",
       "      <th>1</th>\n",
       "      <td>poured</td>\n",
       "      <td>pour</td>\n",
       "      <td>pour</td>\n",
       "    </tr>\n",
       "    <tr>\n",
       "      <th>2</th>\n",
       "      <td>drink</td>\n",
       "      <td>drink</td>\n",
       "      <td>drink</td>\n",
       "    </tr>\n",
       "    <tr>\n",
       "      <th>3</th>\n",
       "      <td>large</td>\n",
       "      <td>larg</td>\n",
       "      <td>larg</td>\n",
       "    </tr>\n",
       "    <tr>\n",
       "      <th>4</th>\n",
       "      <td>chunk</td>\n",
       "      <td>chunk</td>\n",
       "      <td>chunk</td>\n",
       "    </tr>\n",
       "  </tbody>\n",
       "</table>\n",
       "</div>"
      ],
      "text/plain": [
       "  Original word Porter Stemmer Lancaster Stemmer\n",
       "0        slowly         slowli              slow\n",
       "1        poured           pour              pour\n",
       "2         drink          drink             drink\n",
       "3         large           larg              larg\n",
       "4         chunk          chunk             chunk"
      ]
     },
     "execution_count": 17,
     "metadata": {},
     "output_type": "execute_result"
    }
   ],
   "source": [
    "df.head()"
   ]
  },
  {
   "cell_type": "markdown",
   "id": "d02c5ac1-9e5d-4b7f-8722-675e31b0b3aa",
   "metadata": {},
   "source": [
    "# Assignment 2"
   ]
  },
  {
   "cell_type": "code",
   "execution_count": 21,
   "id": "ba71e16c-3a3a-43e5-8676-38c522273299",
   "metadata": {},
   "outputs": [],
   "source": [
    "from nltk.corpus import wordnet as wn"
   ]
  },
  {
   "cell_type": "code",
   "execution_count": 39,
   "id": "826044dd-5165-42ec-81fe-3605145f1a36",
   "metadata": {},
   "outputs": [],
   "source": [
    "synsets_freq = []\n",
    "synsets = []\n",
    "for word in filtered_sentence:\n",
    "    temp_syn = wn.synsets(word) \n",
    "    synsets.append(temp_syn)\n",
    "    synsets_freq.append(len(temp_syn))"
   ]
  },
  {
   "cell_type": "code",
   "execution_count": 41,
   "id": "07e2476a-2c0e-46a0-84b9-ec81f9d5320b",
   "metadata": {},
   "outputs": [],
   "source": [
    "synset_dict = {\n",
    "    'Word' : filtered_sentence,\n",
    "    'Total Synsets' : synsets_freq,\n",
    "    'Synsets' : synsets\n",
    "}\n",
    "\n",
    "df = pd.DataFrame(synset_dict)\n"
   ]
  },
  {
   "cell_type": "code",
   "execution_count": 43,
   "id": "20ec8272-d958-4afb-9359-3defce402ab5",
   "metadata": {},
   "outputs": [
    {
     "data": {
      "text/html": [
       "<div>\n",
       "<style scoped>\n",
       "    .dataframe tbody tr th:only-of-type {\n",
       "        vertical-align: middle;\n",
       "    }\n",
       "\n",
       "    .dataframe tbody tr th {\n",
       "        vertical-align: top;\n",
       "    }\n",
       "\n",
       "    .dataframe thead th {\n",
       "        text-align: right;\n",
       "    }\n",
       "</style>\n",
       "<table border=\"1\" class=\"dataframe\">\n",
       "  <thead>\n",
       "    <tr style=\"text-align: right;\">\n",
       "      <th></th>\n",
       "      <th>Word</th>\n",
       "      <th>Total Synsets</th>\n",
       "      <th>Synsets</th>\n",
       "    </tr>\n",
       "  </thead>\n",
       "  <tbody>\n",
       "    <tr>\n",
       "      <th>0</th>\n",
       "      <td>slowly</td>\n",
       "      <td>2</td>\n",
       "      <td>[Synset('slowly.r.01'), Synset('lento.r.01')]</td>\n",
       "    </tr>\n",
       "    <tr>\n",
       "      <th>1</th>\n",
       "      <td>poured</td>\n",
       "      <td>6</td>\n",
       "      <td>[Synset('pour.v.01'), Synset('pour.v.02'), Syn...</td>\n",
       "    </tr>\n",
       "    <tr>\n",
       "      <th>2</th>\n",
       "      <td>drink</td>\n",
       "      <td>10</td>\n",
       "      <td>[Synset('drink.n.01'), Synset('drink.n.02'), S...</td>\n",
       "    </tr>\n",
       "    <tr>\n",
       "      <th>3</th>\n",
       "      <td>large</td>\n",
       "      <td>11</td>\n",
       "      <td>[Synset('large.n.01'), Synset('large.a.01'), S...</td>\n",
       "    </tr>\n",
       "    <tr>\n",
       "      <th>4</th>\n",
       "      <td>chunk</td>\n",
       "      <td>4</td>\n",
       "      <td>[Synset('ball.n.08'), Synset('chunk.n.02'), Sy...</td>\n",
       "    </tr>\n",
       "  </tbody>\n",
       "</table>\n",
       "</div>"
      ],
      "text/plain": [
       "     Word  Total Synsets                                            Synsets\n",
       "0  slowly              2      [Synset('slowly.r.01'), Synset('lento.r.01')]\n",
       "1  poured              6  [Synset('pour.v.01'), Synset('pour.v.02'), Syn...\n",
       "2   drink             10  [Synset('drink.n.01'), Synset('drink.n.02'), S...\n",
       "3   large             11  [Synset('large.n.01'), Synset('large.a.01'), S...\n",
       "4   chunk              4  [Synset('ball.n.08'), Synset('chunk.n.02'), Sy..."
      ]
     },
     "execution_count": 43,
     "metadata": {},
     "output_type": "execute_result"
    }
   ],
   "source": [
    "df.head(5)"
   ]
  },
  {
   "cell_type": "markdown",
   "id": "bd0e346d-5983-4f63-aaf4-2f8cf2886478",
   "metadata": {},
   "source": [
    "# Finding synonyms and antonyms"
   ]
  },
  {
   "cell_type": "code",
   "execution_count": 53,
   "id": "baafbb41-5839-44e6-bb85-88ea4c8c5da1",
   "metadata": {},
   "outputs": [
    {
     "name": "stdout",
     "output_type": "stream",
     "text": [
      "Synonyms are ['worse', 'worse', 'worse', 'worsened', 'bad', 'bad', 'big', 'bad', 'tough', 'bad', 'spoiled', 'spoilt', 'regretful', 'sorry', 'bad', 'bad', 'uncollectible', 'bad', 'bad', 'bad', 'risky', 'high-risk', 'speculative', 'bad', 'unfit', 'unsound', 'bad', 'bad', 'bad', 'forged', 'bad', 'defective', 'worse']\n",
      "Antonyms are ['better', 'better', 'good', 'unregretful']\n"
     ]
    }
   ],
   "source": [
    "syn = []\n",
    "ant = []\n",
    "\n",
    "for synset in wn.synsets('Worse'):\n",
    "    for lemma in synset.lemmas():\n",
    "        syn.append(lemma.name())\n",
    "        if lemma.antonyms():\n",
    "            ant.append(lemma.antonyms()[0].name())\n",
    "\n",
    "print(\"Synonyms are\", syn)\n",
    "print(\"Antonyms are\", ant)"
   ]
  },
  {
   "cell_type": "code",
   "execution_count": 52,
   "id": "6f48519b-5282-4de3-a6db-5f337cdb1031",
   "metadata": {},
   "outputs": [
    {
     "data": {
      "text/plain": [
       "[Synset('worse.n.01'),\n",
       " Synset('worse.a.01'),\n",
       " Synset('worse.a.02'),\n",
       " Synset('bad.a.01'),\n",
       " Synset('bad.s.02'),\n",
       " Synset('bad.s.03'),\n",
       " Synset('bad.s.04'),\n",
       " Synset('regretful.a.01'),\n",
       " Synset('bad.s.06'),\n",
       " Synset('bad.s.07'),\n",
       " Synset('bad.s.08'),\n",
       " Synset('bad.s.09'),\n",
       " Synset('bad.s.10'),\n",
       " Synset('bad.s.11'),\n",
       " Synset('bad.s.12'),\n",
       " Synset('bad.s.13'),\n",
       " Synset('bad.s.14'),\n",
       " Synset('worse.r.01')]"
      ]
     },
     "execution_count": 52,
     "metadata": {},
     "output_type": "execute_result"
    }
   ],
   "source": [
    "wn.synsets('worse')"
   ]
  },
  {
   "cell_type": "code",
   "execution_count": null,
   "id": "3ee51e7c-8282-4285-b669-533e659a2d50",
   "metadata": {},
   "outputs": [],
   "source": []
  }
 ],
 "metadata": {
  "kernelspec": {
   "display_name": "Python 3 (ipykernel)",
   "language": "python",
   "name": "python3"
  },
  "language_info": {
   "codemirror_mode": {
    "name": "ipython",
    "version": 3
   },
   "file_extension": ".py",
   "mimetype": "text/x-python",
   "name": "python",
   "nbconvert_exporter": "python",
   "pygments_lexer": "ipython3",
   "version": "3.10.7"
  }
 },
 "nbformat": 4,
 "nbformat_minor": 5
}
