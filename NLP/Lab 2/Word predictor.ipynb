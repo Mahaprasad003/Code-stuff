{
 "cells": [
  {
   "cell_type": "code",
   "execution_count": 2,
   "id": "671aa717",
   "metadata": {},
   "outputs": [],
   "source": [
    "import nltk\n",
    "import re\n",
    "from nltk import bigrams, FreqDist"
   ]
  },
  {
   "cell_type": "code",
   "execution_count": 3,
   "id": "60bee734",
   "metadata": {},
   "outputs": [],
   "source": [
    "with open('data.txt', 'r') as f:\n",
    "    lines = f.readlines()"
   ]
  },
  {
   "cell_type": "code",
   "execution_count": 4,
   "id": "5094f57e",
   "metadata": {},
   "outputs": [],
   "source": [
    "cleaned_strings = [re.sub('[^A-Za-z]+', ' ', text).lower() for text in lines]"
   ]
  },
  {
   "cell_type": "code",
   "execution_count": 5,
   "id": "4297efa7",
   "metadata": {},
   "outputs": [],
   "source": [
    "tokens = []\n",
    "for strings in range(len(cleaned_strings)):\n",
    "    temp = nltk.word_tokenize(cleaned_strings[strings])\n",
    "    tokens.append(temp)"
   ]
  },
  {
   "cell_type": "code",
   "execution_count": 6,
   "id": "6b1dc4f1",
   "metadata": {},
   "outputs": [],
   "source": [
    "all_tokens = []\n",
    "\n",
    "for i in range(len(tokens)):\n",
    "    for j in range(len(tokens[i])):\n",
    "        all_tokens.append(tokens[i][j])\n",
    "\n",
    "all_tokens = [x.lower() for x in all_tokens]"
   ]
  },
  {
   "cell_type": "code",
   "execution_count": 7,
   "id": "d46f241e",
   "metadata": {},
   "outputs": [],
   "source": [
    "bigram_model = list(bigrams(all_tokens))"
   ]
  },
  {
   "cell_type": "code",
   "execution_count": 8,
   "id": "1b2cf204",
   "metadata": {},
   "outputs": [],
   "source": [
    "freq_dist = FreqDist(bigram_model)"
   ]
  },
  {
   "cell_type": "code",
   "execution_count": 33,
   "id": "c8c2d89b",
   "metadata": {},
   "outputs": [],
   "source": [
    "def next_word_predictor(user_input):\n",
    "    user_input = user_input.lower()\n",
    "    last_word = user_input.split()[-1]\n",
    "    \n",
    "    # Filter bigrams that start with the last word of the user input\n",
    "    next_words = [bigram[1] for bigram in bigram_model if bigram[0] == last_word]\n",
    "    \n",
    "    # Create a frequency distribution for next words\n",
    "    next_word_freq = FreqDist(next_words)\n",
    "    \n",
    "    # Get a list of possible next words with their probabilities\n",
    "    predictions = [[word, next_word_freq.freq(word)] for word in next_words]\n",
    "    \n",
    "    # Sort predictions by probability in descending order\n",
    "    predictions.sort(key=lambda x: x[1], reverse=True)\n",
    "    \n",
    "    return predictions"
   ]
  },
  {
   "cell_type": "code",
   "execution_count": 39,
   "id": "0aa26068-e49d-49f3-8e42-6709eaa50872",
   "metadata": {},
   "outputs": [
    {
     "data": {
      "text/plain": [
       "'journey'"
      ]
     },
     "execution_count": 39,
     "metadata": {},
     "output_type": "execute_result"
    }
   ],
   "source": [
    "predictions[0][0]"
   ]
  },
  {
   "cell_type": "code",
   "execution_count": null,
   "id": "007022a5-c9dd-4eac-a676-a494832ff96f",
   "metadata": {},
   "outputs": [],
   "source": [
    "user_input = 'xyz'\n",
    "if user_input not in cleaned_strings:\n",
    "    print(\"Word does not exist.\")\n",
    "else:\n",
    "    predictions = next_word_predictor(user_input)\n",
    "\n",
    "# predictions = set(predictions)\n",
    "\n",
    "unique_words = []\n",
    "\n",
    "for word, probability in predictions:\n",
    "    if word not in unique_words:\n",
    "        unique_words.append(word)\n",
    "        print(f\"{word}: {probability}\")\n"
   ]
  },
  {
   "cell_type": "code",
   "execution_count": null,
   "id": "503f579b-25cb-40a0-be9e-9d2a21fb4391",
   "metadata": {},
   "outputs": [],
   "source": []
  }
 ],
 "metadata": {
  "kernelspec": {
   "display_name": "Python 3 (ipykernel)",
   "language": "python",
   "name": "python3"
  },
  "language_info": {
   "codemirror_mode": {
    "name": "ipython",
    "version": 3
   },
   "file_extension": ".py",
   "mimetype": "text/x-python",
   "name": "python",
   "nbconvert_exporter": "python",
   "pygments_lexer": "ipython3",
   "version": "3.8.13"
  }
 },
 "nbformat": 4,
 "nbformat_minor": 5
}
