{
 "cells": [
  {
   "cell_type": "markdown",
   "id": "d70bc2f4",
   "metadata": {},
   "source": [
    "Take a text document and read it using python. Get the individual sentences and count the number of sentences. Display all the individual words. Count the number of words. Count the number of stopwords. Make a visualisation of stop words and other words. Make a visualisation of top 10 frequent words except the stop words."
   ]
  },
  {
   "cell_type": "code",
   "execution_count": 1,
   "id": "af39ce29-502c-4aa6-a2fd-1870351114e4",
   "metadata": {},
   "outputs": [],
   "source": [
    "import nltk\n",
    "from nltk.corpus import stopwords\n",
    "import matplotlib.pyplot as plt"
   ]
  },
  {
   "cell_type": "markdown",
   "id": "2f7d8c0a-d5ee-4549-9eed-b3ef212dbde9",
   "metadata": {},
   "source": [
    "## Reading text document"
   ]
  },
  {
   "cell_type": "code",
   "execution_count": 2,
   "id": "c3fac3a9-23a8-48f3-8000-dd5ec8617cff",
   "metadata": {},
   "outputs": [],
   "source": [
    "with open('text.txt', 'r') as f:\n",
    "    lines = f.readlines()"
   ]
  },
  {
   "cell_type": "markdown",
   "id": "6a9fa51c-e16c-4559-8b9d-64126ac5769f",
   "metadata": {},
   "source": [
    "## Word analysis"
   ]
  },
  {
   "cell_type": "code",
   "execution_count": 3,
   "id": "3f6efebc-28ca-4ceb-aaac-b265248255be",
   "metadata": {},
   "outputs": [
    {
     "name": "stdout",
     "output_type": "stream",
     "text": [
      "Total words in the paragraph are: 197\n"
     ]
    }
   ],
   "source": [
    "sentence = lines[0]\n",
    "\n",
    "tokens = nltk.word_tokenize(sentence)\n",
    "# tokens\n",
    "words = [word.lower() for word in tokens if word.isalpha()]\n",
    "print(f\"Total words in the paragraph are: {len(words)}\")"
   ]
  },
  {
   "cell_type": "markdown",
   "id": "11eacd87-2c68-47cb-bd10-fafabaab1bfb",
   "metadata": {},
   "source": [
    "## Sentence analysis"
   ]
  },
  {
   "cell_type": "code",
   "execution_count": 4,
   "id": "2e07eb03-ae3d-45e5-9095-12a0382093b9",
   "metadata": {},
   "outputs": [],
   "source": [
    "sentences = nltk.sent_tokenize(sentence)"
   ]
  },
  {
   "cell_type": "code",
   "execution_count": 5,
   "id": "50adb8d6-8492-4c2c-a9b2-592586f3d0aa",
   "metadata": {},
   "outputs": [
    {
     "name": "stdout",
     "output_type": "stream",
     "text": [
      "Total number of sentences in paragraph: 8\n"
     ]
    }
   ],
   "source": [
    "print(f\"Total number of sentences in paragraph: {len(sentences)}\")"
   ]
  },
  {
   "cell_type": "markdown",
   "id": "abcb7df0-b7d8-45ef-bf61-a1fd7e0b4be8",
   "metadata": {},
   "source": [
    "## Stop word analysis"
   ]
  },
  {
   "cell_type": "code",
   "execution_count": 6,
   "id": "c9ebbedd-4fb9-483c-b7fa-5b14dfd1d520",
   "metadata": {},
   "outputs": [],
   "source": [
    "stop_words = set(stopwords.words('english'))\n",
    "filtered_sentence = [x for x in words if not x.lower() in stop_words]\n",
    "stopword_list = [x for x in words if x.lower() in stop_words]\n",
    "# filtered_sentence"
   ]
  },
  {
   "cell_type": "code",
   "execution_count": 25,
   "id": "f7655ae8-b4e0-499d-99cb-726b7fa98c4d",
   "metadata": {},
   "outputs": [
    {
     "name": "stdout",
     "output_type": "stream",
     "text": [
      "Total number of stopwords = 100\n",
      "Total number of stopwords = 100\n"
     ]
    }
   ],
   "source": [
    "print(f\"Total number of stopwords = {len(words) - len(filtered_sentence)}\")\n",
    "print(f\"Total number of stopwords = {len(stopword_list)}\")"
   ]
  },
  {
   "cell_type": "code",
   "execution_count": 8,
   "id": "f4f1398c-829e-4a5f-9166-fc1d34f7134f",
   "metadata": {},
   "outputs": [],
   "source": [
    "data = {'All words' : len(words),\n",
    "        'StopWords' : len(words) - len(filtered_sentence),\n",
    "        'Useful words' : len(filtered_sentence)\n",
    "}"
   ]
  },
  {
   "cell_type": "code",
   "execution_count": 9,
   "id": "3bacdcb2-a83f-4b3d-a7c2-b4351df9f6ef",
   "metadata": {},
   "outputs": [
    {
     "data": {
      "text/plain": [
       "<BarContainer object of 3 artists>"
      ]
     },
     "execution_count": 9,
     "metadata": {},
     "output_type": "execute_result"
    },
    {
     "data": {
      "image/png": "[encoded data removed]",
      "text/plain": [
       "<Figure size 640x480 with 1 Axes>"
      ]
     },
     "metadata": {},
     "output_type": "display_data"
    }
   ],
   "source": [
    "allwords = list(data.keys())\n",
    "frequency = list(data.values())\n",
    "\n",
    "plt.bar(allwords, frequency)"
   ]
  },
  {
   "cell_type": "markdown",
   "id": "50f60f2f-424b-4e15-ab8f-0571e2b926a7",
   "metadata": {
    "jp-MarkdownHeadingCollapsed": true,
    "tags": []
   },
   "source": [
    "# Misc\n"
   ]
  },
  {
   "cell_type": "code",
   "execution_count": 10,
   "id": "d25fa85e-2df2-4a4e-99ef-15c0bd9f58bb",
   "metadata": {},
   "outputs": [],
   "source": [
    "word_freq = {word: words.count(word) for word in words}"
   ]
  },
  {
   "cell_type": "code",
   "execution_count": 11,
   "id": "b665383f-1f4f-46ba-8ee1-91c68befee30",
   "metadata": {},
   "outputs": [],
   "source": [
    "sorted_word_freq = dict(sorted(word_freq.items(), key = lambda item: item[1], reverse = True))"
   ]
  },
  {
   "cell_type": "code",
   "execution_count": 12,
   "id": "3156f045-dc39-4137-bd16-09e3dfa680c8",
   "metadata": {},
   "outputs": [],
   "source": [
    "most_freq_words = sorted_word_freq.keys()\n",
    "most_freq_words = list(most_freq_words)\n",
    "most_freq_words = most_freq_words[:10]\n",
    "\n",
    "most_freq_words_frequency = list(sorted_word_freq.values())\n",
    "most_freq_words_frequency = most_freq_words_frequency[:10]"
   ]
  },
  {
   "cell_type": "code",
   "execution_count": 13,
   "id": "97183c61-ddde-43b8-bff2-9252a5fd6f00",
   "metadata": {},
   "outputs": [
    {
     "data": {
      "text/plain": [
       "<BarContainer object of 10 artists>"
      ]
     },
     "execution_count": 13,
     "metadata": {},
     "output_type": "execute_result"
    },
    {
     "data": {
      "image/png": "[encoded data removed]",
      "text/plain": [
       "<Figure size 640x480 with 1 Axes>"
      ]
     },
     "metadata": {},
     "output_type": "display_data"
    }
   ],
   "source": [
    "plt.bar(most_freq_words, most_freq_words_frequency)"
   ]
  },
  {
   "cell_type": "markdown",
   "id": "f04f5c74-9b16-4ab3-bd10-fb6cf9d6a74f",
   "metadata": {
    "jp-MarkdownHeadingCollapsed": true,
    "tags": []
   },
   "source": [
    "# Stopword chart"
   ]
  },
  {
   "cell_type": "code",
   "execution_count": 14,
   "id": "e54d817a-db4b-4bb2-a143-2d236e599175",
   "metadata": {},
   "outputs": [],
   "source": [
    "stopword_freq = {word: stopword_list.count(word) for word in stopword_list}"
   ]
  },
  {
   "cell_type": "code",
   "execution_count": 15,
   "id": "009c66dd-93df-4794-a9a0-7d6f1363ce5e",
   "metadata": {},
   "outputs": [],
   "source": [
    "stop_word_freq = dict(sorted(stopword_freq.items(), key = lambda item: item[1], reverse = True))"
   ]
  },
  {
   "cell_type": "code",
   "execution_count": 16,
   "id": "0cf60717-8aee-47b8-bdb7-69b0b083f64d",
   "metadata": {},
   "outputs": [
    {
     "data": {
      "image/png": "[encoded data removed]",
      "text/plain": [
       "<Figure size 640x480 with 1 Axes>"
      ]
     },
     "metadata": {},
     "output_type": "display_data"
    }
   ],
   "source": [
    "x = list(stop_word_freq.keys())[0:10]\n",
    "y = list(stop_word_freq.values())[0:10]\n",
    "plt.bar(x, y);"
   ]
  },
  {
   "cell_type": "markdown",
   "id": "33ce9c43-ec0f-4672-a520-ba9cdf18f41f",
   "metadata": {},
   "source": [
    "# Filtered chart"
   ]
  },
  {
   "cell_type": "code",
   "execution_count": 18,
   "id": "be1650d9-008d-4b2f-8bd3-4ef62a1bee04",
   "metadata": {},
   "outputs": [],
   "source": [
    "filtered_word_freq = {word: filtered_sentence.count(word) for word in filtered_sentence}"
   ]
  },
  {
   "cell_type": "code",
   "execution_count": 19,
   "id": "0587b3ae-87aa-464d-968c-82c333c5f8d0",
   "metadata": {},
   "outputs": [],
   "source": [
    "filtered_word_freq = dict(sorted(filtered_word_freq.items(), key = lambda item: item[1], reverse = True))"
   ]
  },
  {
   "cell_type": "code",
   "execution_count": 24,
   "id": "c81b5160-b189-423c-b16d-88ace119a390",
   "metadata": {},
   "outputs": [
    {
     "data": {
      "image/png": "[encoded data removed]",
      "text/plain": [
       "<Figure size 1000x500 with 1 Axes>"
      ]
     },
     "metadata": {},
     "output_type": "display_data"
    }
   ],
   "source": [
    "plt.figure(figsize= (10,5))\n",
    "x = list(filtered_word_freq.keys())[0:10]\n",
    "y = list(filtered_word_freq.values())[0:10]\n",
    "plt.bar(x, y);"
   ]
  },
  {
   "cell_type": "code",
   "execution_count": null,
   "id": "58d1a7fb-091a-471b-99d4-dc07df7e2bff",
   "metadata": {},
   "outputs": [],
   "source": []
  }
 ],
 "metadata": {
  "kernelspec": {
   "display_name": "Python 3 (ipykernel)",
   "language": "python",
   "name": "python3"
  },
  "language_info": {
   "codemirror_mode": {
    "name": "ipython",
    "version": 3
   },
   "file_extension": ".py",
   "mimetype": "text/x-python",
   "name": "python",
   "nbconvert_exporter": "python",
   "pygments_lexer": "ipython3",
   "version": "3.10.7"
  }
 },
 "nbformat": 4,
 "nbformat_minor": 5
}
