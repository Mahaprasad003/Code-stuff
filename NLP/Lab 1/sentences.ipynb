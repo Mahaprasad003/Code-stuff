{
 "cells": [
  {
   "cell_type": "markdown",
   "id": "d70bc2f4",
   "metadata": {},
   "source": [
    "Take a text document and read it using python. Get the individual sentences and count the number of sentences. Display all the individual words. Count the number of words. Count the number of stopwords. Make a visualisation of stop words and other words. Make a visualisation of top 10 frequent words except the stop words."
   ]
  },
  {
   "cell_type": "code",
   "execution_count": 40,
   "id": "af39ce29-502c-4aa6-a2fd-1870351114e4",
   "metadata": {},
   "outputs": [],
   "source": [
    "import nltk\n",
    "from nltk.corpus import stopwords\n",
    "import matplotlib.pyplot as plt"
   ]
  },
  {
   "cell_type": "markdown",
   "id": "2f7d8c0a-d5ee-4549-9eed-b3ef212dbde9",
   "metadata": {},
   "source": [
    "## Reading text document"
   ]
  },
  {
   "cell_type": "code",
   "execution_count": 67,
   "id": "c3fac3a9-23a8-48f3-8000-dd5ec8617cff",
   "metadata": {},
   "outputs": [],
   "source": [
    "with open('text.txt', 'r') as f:\n",
    "    lines = f.readlines()"
   ]
  },
  {
   "cell_type": "markdown",
   "id": "6a9fa51c-e16c-4559-8b9d-64126ac5769f",
   "metadata": {},
   "source": [
    "## Word analysis"
   ]
  },
  {
   "cell_type": "code",
   "execution_count": 68,
   "id": "3f6efebc-28ca-4ceb-aaac-b265248255be",
   "metadata": {},
   "outputs": [
    {
     "name": "stdout",
     "output_type": "stream",
     "text": [
      "Total words in the paragraph are: 197\n"
     ]
    }
   ],
   "source": [
    "sentence = lines[0]\n",
    "\n",
    "tokens = nltk.word_tokenize(sentence)\n",
    "# tokens\n",
    "words = [word.lower() for word in tokens if word.isalpha()]\n",
    "print(f\"Total words in the paragraph are: {len(words)}\")"
   ]
  },
  {
   "cell_type": "markdown",
   "id": "11eacd87-2c68-47cb-bd10-fafabaab1bfb",
   "metadata": {},
   "source": [
    "## Sentence analysis"
   ]
  },
  {
   "cell_type": "code",
   "execution_count": 69,
   "id": "2e07eb03-ae3d-45e5-9095-12a0382093b9",
   "metadata": {},
   "outputs": [],
   "source": [
    "sentences = nltk.sent_tokenize(sentence)"
   ]
  },
  {
   "cell_type": "code",
   "execution_count": 70,
   "id": "50adb8d6-8492-4c2c-a9b2-592586f3d0aa",
   "metadata": {},
   "outputs": [
    {
     "name": "stdout",
     "output_type": "stream",
     "text": [
      "Total number of sentences in paragraph: 8\n"
     ]
    }
   ],
   "source": [
    "print(f\"Total number of sentences in paragraph: {len(sentences)}\")"
   ]
  },
  {
   "cell_type": "markdown",
   "id": "abcb7df0-b7d8-45ef-bf61-a1fd7e0b4be8",
   "metadata": {},
   "source": [
    "## Stop word analysis"
   ]
  },
  {
   "cell_type": "code",
   "execution_count": 71,
   "id": "c9ebbedd-4fb9-483c-b7fa-5b14dfd1d520",
   "metadata": {},
   "outputs": [],
   "source": [
    "stop_words = set(stopwords.words('english'))\n",
    "filtered_sentence = [x for x in words if not x.lower() in stop_words]\n",
    "# filtered_sentence"
   ]
  },
  {
   "cell_type": "code",
   "execution_count": 72,
   "id": "f7655ae8-b4e0-499d-99cb-726b7fa98c4d",
   "metadata": {},
   "outputs": [
    {
     "name": "stdout",
     "output_type": "stream",
     "text": [
      "Total number of stopwords = 100\n"
     ]
    }
   ],
   "source": [
    "print(f\"Total number of stopwords = {len(words) - len(filtered_sentence)}\")"
   ]
  },
  {
   "cell_type": "code",
   "execution_count": 80,
   "id": "f4f1398c-829e-4a5f-9166-fc1d34f7134f",
   "metadata": {},
   "outputs": [],
   "source": [
    "data = {'All words' : len(words),\n",
    "        'StopWords' : len(words) - len(filtered_sentence),\n",
    "        'Useful words' : len(filtered_sentence)\n",
    "}"
   ]
  },
  {
   "cell_type": "code",
   "execution_count": 81,
   "id": "3bacdcb2-a83f-4b3d-a7c2-b4351df9f6ef",
   "metadata": {},
   "outputs": [
    {
     "data": {
      "text/plain": [
       "<BarContainer object of 3 artists>"
      ]
     },
     "execution_count": 81,
     "metadata": {},
     "output_type": "execute_result"
    },
    {
     "data": {
      "image/png": "[encoded data removed]",
      "text/plain": [
       "<Figure size 640x480 with 1 Axes>"
      ]
     },
     "metadata": {},
     "output_type": "display_data"
    }
   ],
   "source": [
    "allwords = list(data.keys())\n",
    "frequency = list(data.values())\n",
    "\n",
    "plt.bar(allwords, frequency)"
   ]
  },
  {
   "cell_type": "code",
   "execution_count": 75,
   "id": "d25fa85e-2df2-4a4e-99ef-15c0bd9f58bb",
   "metadata": {},
   "outputs": [],
   "source": [
    "word_freq = {word: words.count(word) for word in words}"
   ]
  },
  {
   "cell_type": "code",
   "execution_count": 76,
   "id": "b665383f-1f4f-46ba-8ee1-91c68befee30",
   "metadata": {},
   "outputs": [],
   "source": [
    "sorted_word_freq = dict(sorted(word_freq.items(), key = lambda item: item[1], reverse = True))"
   ]
  },
  {
   "cell_type": "code",
   "execution_count": 77,
   "id": "3156f045-dc39-4137-bd16-09e3dfa680c8",
   "metadata": {},
   "outputs": [],
   "source": [
    "most_freq_words = sorted_word_freq.keys()\n",
    "most_freq_words = list(most_freq_words)\n",
    "most_freq_words = most_freq_words[:10]\n",
    "\n",
    "most_freq_words_frequency = list(sorted_word_freq.values())\n",
    "most_freq_words_frequency = most_freq_words_frequency[:10]"
   ]
  },
  {
   "cell_type": "code",
   "execution_count": 78,
   "id": "97183c61-ddde-43b8-bff2-9252a5fd6f00",
   "metadata": {},
   "outputs": [
    {
     "data": {
      "text/plain": [
       "<BarContainer object of 10 artists>"
      ]
     },
     "execution_count": 78,
     "metadata": {},
     "output_type": "execute_result"
    },
    {
     "data": {
      "image/png": "[encoded data removed]",
      "text/plain": [
       "<Figure size 640x480 with 1 Axes>"
      ]
     },
     "metadata": {},
     "output_type": "display_data"
    }
   ],
   "source": [
    "plt.bar(most_freq_words, most_freq_words_frequency)"
   ]
  },
  {
   "cell_type": "code",
   "execution_count": null,
   "id": "e54d817a-db4b-4bb2-a143-2d236e599175",
   "metadata": {},
   "outputs": [],
   "source": []
  }
 ],
 "metadata": {
  "kernelspec": {
   "display_name": "Python 3 (ipykernel)",
   "language": "python",
   "name": "python3"
  },
  "language_info": {
   "codemirror_mode": {
    "name": "ipython",
    "version": 3
   },
   "file_extension": ".py",
   "mimetype": "text/x-python",
   "name": "python",
   "nbconvert_exporter": "python",
   "pygments_lexer": "ipython3",
   "version": "3.8.13"
  }
 },
 "nbformat": 4,
 "nbformat_minor": 5
}
