{
 "cells": [
  {
   "cell_type": "markdown",
   "id": "46ab9c64",
   "metadata": {},
   "source": [
    "Take a text document and read it using python. Get the individual sentences and count the number of sentences. Display all the individual words. Count the number of words. Count the number of stopwords. Make a visualisation of stopwords and other words. "
   ]
  }
 ],
 "metadata": {
  "kernelspec": {
   "display_name": "Python 3 (ipykernel)",
   "language": "python",
   "name": "python3"
  },
  "language_info": {
   "codemirror_mode": {
    "name": "ipython",
    "version": 3
   },
   "file_extension": ".py",
   "mimetype": "text/x-python",
   "name": "python",
   "nbconvert_exporter": "python",
   "pygments_lexer": "ipython3",
   "version": "3.10.7"
  }
 },
 "nbformat": 4,
 "nbformat_minor": 5
}
