{
 "cells": [
  {
   "cell_type": "markdown",
   "id": "ea8e5047-6fc6-4ce8-8154-fbe5cb2c0a24",
   "metadata": {},
   "source": [
    "# Design a rule based model to convert from plural word to root word. Design the architecture and make a rule-based model."
   ]
  },
  {
   "cell_type": "code",
   "execution_count": 2,
   "id": "b98c253b-8e08-4cef-98d7-51c8068e58ac",
   "metadata": {},
   "outputs": [
    {
     "name": "stdout",
     "output_type": "stream",
     "text": [
      "boxes : box\n",
      "corpora : corpus\n",
      "better : good\n"
     ]
    }
   ],
   "source": [
    "# import these modules\n",
    "from nltk.stem import WordNetLemmatizer\n",
    "\n",
    "lemmatizer = WordNetLemmatizer()\n",
    "\n",
    "print(\"boxes :\", lemmatizer.lemmatize(\"boxes\"))\n",
    "print(\"corpora :\", lemmatizer.lemmatize(\"corpora\"))\n",
    "\n",
    "# a denotes adjective in \"pos\"\n",
    "print(\"better :\", lemmatizer.lemmatize(\"better\", pos=\"a\"))\n"
   ]
  },
  {
   "cell_type": "code",
   "execution_count": 15,
   "id": "a086f2a8-374e-4611-9a13-3cbd57d21be6",
   "metadata": {},
   "outputs": [
    {
     "name": "stdin",
     "output_type": "stream",
     "text": [
      "Enter a plural word:  mangoes\n"
     ]
    },
    {
     "name": "stdout",
     "output_type": "stream",
     "text": [
      "Singular form: mangoe\n"
     ]
    }
   ],
   "source": [
    "def convert_to_singular(plural_word):\n",
    "    if plural_word.endswith('ies'):\n",
    "        # Rule: ies to y (babies to baby) if preceded by consonant\n",
    "        if plural_word[-4] not in 'aeiou':\n",
    "            singular_word = plural_word[:-3] + 'y'\n",
    "        else:\n",
    "            singular_word = plural_word\n",
    "    elif plural_word.endswith('es'):\n",
    "        base_word = plural_word[:-2]\n",
    "        # Rule: es to o (mangoes is mango)\n",
    "        if base_word.endswith('o') or base_word.endswith('s') or base_word.endswith('x') or base_word.endswith('z'):\n",
    "            singular_word = base_word\n",
    "        else:\n",
    "            singular_word = base_word + 'e'\n",
    "    elif plural_word[-2:] == 'ys':\n",
    "        # Rule: s to y (rays to ray) if preceded by vowel\n",
    "        if plural_word[-3] in 'aeiou':\n",
    "            singular_word = plural_word[:-1]\n",
    "        else:\n",
    "            singular_word = plural_word\n",
    "    elif plural_word.endswith('s'):\n",
    "        # Rule: s to remove s (boys is boy)\n",
    "        singular_word = plural_word[:-1]\n",
    "    else:\n",
    "        singular_word = plural_word\n",
    "\n",
    "    return singular_word\n",
    "\n",
    "# Example usage:\n",
    "plural_input = input(\"Enter a plural word: \")\n",
    "singular_output = convert_to_singular(plural_input)\n",
    "print(\"Singular form:\", singular_output)\n"
   ]
  },
  {
   "cell_type": "code",
   "execution_count": null,
   "id": "ca6b8021-16b9-4d07-9598-283fe9c4234a",
   "metadata": {},
   "outputs": [],
   "source": []
  },
  {
   "cell_type": "markdown",
   "id": "345afd35-3614-4c7c-84c4-1ab13fee20a8",
   "metadata": {},
   "source": []
  }
 ],
 "metadata": {
  "kernelspec": {
   "display_name": "Python 3 (ipykernel)",
   "language": "python",
   "name": "python3"
  },
  "language_info": {
   "codemirror_mode": {
    "name": "ipython",
    "version": 3
   },
   "file_extension": ".py",
   "mimetype": "text/x-python",
   "name": "python",
   "nbconvert_exporter": "python",
   "pygments_lexer": "ipython3",
   "version": "3.8.13"
  }
 },
 "nbformat": 4,
 "nbformat_minor": 5
}
