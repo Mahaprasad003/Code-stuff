{
 "cells": [
  {
   "cell_type": "markdown",
   "id": "ea8e5047-6fc6-4ce8-8154-fbe5cb2c0a24",
   "metadata": {},
   "source": [
    "# Design a rule based model to convert from plural word to root word. Design the architecture and make a rule-based model."
   ]
  },
  {
   "cell_type": "code",
   "execution_count": 40,
   "id": "b98c253b-8e08-4cef-98d7-51c8068e58ac",
   "metadata": {},
   "outputs": [
    {
     "name": "stdout",
     "output_type": "stream",
     "text": [
      "oxen : ox\n",
      "fish : fish\n",
      "better : good\n"
     ]
    }
   ],
   "source": [
    "# import these modules\n",
    "from nltk.stem import WordNetLemmatizer\n",
    "\n",
    "lemmatizer = WordNetLemmatizer()\n",
    "\n",
    "print(\"oxen :\", lemmatizer.lemmatize(\"oxen\"))\n",
    "print(\"fish :\", lemmatizer.lemmatize(\"fish\"))\n",
    "\n",
    "# a denotes adjective in \"pos\"\n",
    "# print(\"better :\", lemmatizer.lemmatize(\"better\", pos=\"a\"))\n"
   ]
  },
  {
   "cell_type": "markdown",
   "id": "2d9a29b2-a75e-45de-8f93-3ca33429b492",
   "metadata": {
    "jp-MarkdownHeadingCollapsed": true,
    "tags": []
   },
   "source": [
    "## dictionary of irregular nouns"
   ]
  },
  {
   "cell_type": "code",
   "execution_count": 23,
   "id": "4b0a41cd-9d64-4bbd-83bd-bac7e7a1b146",
   "metadata": {},
   "outputs": [],
   "source": [
    "irregular_nouns = {\n",
    "    'men': 'man',\n",
    "    'women': 'woman',\n",
    "    'children': 'child',\n",
    "    'teeth': 'tooth',\n",
    "    'feet': 'foot',\n",
    "    'mice': 'mouse',\n",
    "    'geese': 'goose',\n",
    "    'lice': 'louse',\n",
    "    'cacti': 'cactus',\n",
    "    'fungi': 'fungus',\n",
    "    'sheep': 'sheep',\n",
    "    'deer': 'deer',\n",
    "    'moose': 'moose',\n",
    "    'oxen': 'ox',\n",
    "    'criteria': 'criterion',\n",
    "    'phenomena': 'phenomenon',\n",
    "    'fish': 'fish',\n",
    "    'series': 'series',\n",
    "    'species': 'species',\n",
    "    'aircraft': 'aircraft',\n",
    "    'radius': 'radius',\n",
    "    'thesis': 'thesis',\n",
    "    'index': 'index',\n",
    "    'matrix': 'matrix',\n",
    "    'datum': 'datum',\n",
    "    'medium': 'medium',\n",
    "    'crisis': 'crisis',\n",
    "    'diagnosis': 'diagnosis',\n",
    "    'analysis': 'analysis',\n",
    "    'appendix': 'appendix',\n",
    "    'focus': 'focus',\n",
    "    'fungus': 'fungus',\n",
    "    'genus': 'genus',\n",
    "    'medium': 'medium',\n",
    "    'mouse': 'mouse',\n",
    "    'nucleus': 'nucleus',\n",
    "    'radius': 'radius',\n",
    "    'stimulus': 'stimulus',\n",
    "    'virus': 'virus',\n",
    "    'syllabus': 'syllabus',\n",
    "    'datum': 'datum',\n",
    "    'bacterium': 'bacterium',\n",
    "    'criterion': 'criterion',\n",
    "    'ellipsis': 'ellipsis',\n",
    "    'formula': 'formula',\n",
    "    'phenomenon': 'phenomenon',\n",
    "    'spectrum': 'spectrum',\n",
    "}"
   ]
  },
  {
   "cell_type": "markdown",
   "id": "cb3413ee-ea1a-40d6-bdc2-287690bb322a",
   "metadata": {},
   "source": [
    "## Execution"
   ]
  },
  {
   "cell_type": "code",
   "execution_count": 38,
   "id": "a086f2a8-374e-4611-9a13-3cbd57d21be6",
   "metadata": {},
   "outputs": [
    {
     "ename": "KeyboardInterrupt",
     "evalue": "Interrupted by user",
     "output_type": "error",
     "traceback": [
      "\u001b[1;31m---------------------------------------------------------------------------\u001b[0m",
      "\u001b[1;31mKeyboardInterrupt\u001b[0m                         Traceback (most recent call last)",
      "Input \u001b[1;32mIn [38]\u001b[0m, in \u001b[0;36m<cell line: 32>\u001b[1;34m()\u001b[0m\n\u001b[0;32m     29\u001b[0m     \u001b[38;5;28;01mreturn\u001b[39;00m singular_word\n\u001b[0;32m     31\u001b[0m \u001b[38;5;66;03m# Example usage:\u001b[39;00m\n\u001b[1;32m---> 32\u001b[0m plural_input \u001b[38;5;241m=\u001b[39m \u001b[38;5;28;43minput\u001b[39;49m\u001b[43m(\u001b[49m\u001b[38;5;124;43m\"\u001b[39;49m\u001b[38;5;124;43mEnter a plural word: \u001b[39;49m\u001b[38;5;124;43m\"\u001b[39;49m\u001b[43m)\u001b[49m\n\u001b[0;32m     33\u001b[0m singular_output \u001b[38;5;241m=\u001b[39m convert_to_singular(plural_input)\n\u001b[0;32m     34\u001b[0m \u001b[38;5;28mprint\u001b[39m(\u001b[38;5;124m\"\u001b[39m\u001b[38;5;124mSingular form:\u001b[39m\u001b[38;5;124m\"\u001b[39m, singular_output)\n",
      "File \u001b[1;32m~\\AppData\\Roaming\\jupyterlab-desktop\\jlab_server\\lib\\site-packages\\ipykernel\\kernelbase.py:1177\u001b[0m, in \u001b[0;36mKernel.raw_input\u001b[1;34m(self, prompt)\u001b[0m\n\u001b[0;32m   1173\u001b[0m \u001b[38;5;28;01mif\u001b[39;00m \u001b[38;5;129;01mnot\u001b[39;00m \u001b[38;5;28mself\u001b[39m\u001b[38;5;241m.\u001b[39m_allow_stdin:\n\u001b[0;32m   1174\u001b[0m     \u001b[38;5;28;01mraise\u001b[39;00m StdinNotImplementedError(\n\u001b[0;32m   1175\u001b[0m         \u001b[38;5;124m\"\u001b[39m\u001b[38;5;124mraw_input was called, but this frontend does not support input requests.\u001b[39m\u001b[38;5;124m\"\u001b[39m\n\u001b[0;32m   1176\u001b[0m     )\n\u001b[1;32m-> 1177\u001b[0m \u001b[38;5;28;01mreturn\u001b[39;00m \u001b[38;5;28;43mself\u001b[39;49m\u001b[38;5;241;43m.\u001b[39;49m\u001b[43m_input_request\u001b[49m\u001b[43m(\u001b[49m\n\u001b[0;32m   1178\u001b[0m \u001b[43m    \u001b[49m\u001b[38;5;28;43mstr\u001b[39;49m\u001b[43m(\u001b[49m\u001b[43mprompt\u001b[49m\u001b[43m)\u001b[49m\u001b[43m,\u001b[49m\n\u001b[0;32m   1179\u001b[0m \u001b[43m    \u001b[49m\u001b[38;5;28;43mself\u001b[39;49m\u001b[38;5;241;43m.\u001b[39;49m\u001b[43m_parent_ident\u001b[49m\u001b[43m[\u001b[49m\u001b[38;5;124;43m\"\u001b[39;49m\u001b[38;5;124;43mshell\u001b[39;49m\u001b[38;5;124;43m\"\u001b[39;49m\u001b[43m]\u001b[49m\u001b[43m,\u001b[49m\n\u001b[0;32m   1180\u001b[0m \u001b[43m    \u001b[49m\u001b[38;5;28;43mself\u001b[39;49m\u001b[38;5;241;43m.\u001b[39;49m\u001b[43mget_parent\u001b[49m\u001b[43m(\u001b[49m\u001b[38;5;124;43m\"\u001b[39;49m\u001b[38;5;124;43mshell\u001b[39;49m\u001b[38;5;124;43m\"\u001b[39;49m\u001b[43m)\u001b[49m\u001b[43m,\u001b[49m\n\u001b[0;32m   1181\u001b[0m \u001b[43m    \u001b[49m\u001b[43mpassword\u001b[49m\u001b[38;5;241;43m=\u001b[39;49m\u001b[38;5;28;43;01mFalse\u001b[39;49;00m\u001b[43m,\u001b[49m\n\u001b[0;32m   1182\u001b[0m \u001b[43m\u001b[49m\u001b[43m)\u001b[49m\n",
      "File \u001b[1;32m~\\AppData\\Roaming\\jupyterlab-desktop\\jlab_server\\lib\\site-packages\\ipykernel\\kernelbase.py:1219\u001b[0m, in \u001b[0;36mKernel._input_request\u001b[1;34m(self, prompt, ident, parent, password)\u001b[0m\n\u001b[0;32m   1216\u001b[0m             \u001b[38;5;28;01mbreak\u001b[39;00m\n\u001b[0;32m   1217\u001b[0m \u001b[38;5;28;01mexcept\u001b[39;00m \u001b[38;5;167;01mKeyboardInterrupt\u001b[39;00m:\n\u001b[0;32m   1218\u001b[0m     \u001b[38;5;66;03m# re-raise KeyboardInterrupt, to truncate traceback\u001b[39;00m\n\u001b[1;32m-> 1219\u001b[0m     \u001b[38;5;28;01mraise\u001b[39;00m \u001b[38;5;167;01mKeyboardInterrupt\u001b[39;00m(\u001b[38;5;124m\"\u001b[39m\u001b[38;5;124mInterrupted by user\u001b[39m\u001b[38;5;124m\"\u001b[39m) \u001b[38;5;28;01mfrom\u001b[39;00m \u001b[38;5;28mNone\u001b[39m\n\u001b[0;32m   1220\u001b[0m \u001b[38;5;28;01mexcept\u001b[39;00m \u001b[38;5;167;01mException\u001b[39;00m:\n\u001b[0;32m   1221\u001b[0m     \u001b[38;5;28mself\u001b[39m\u001b[38;5;241m.\u001b[39mlog\u001b[38;5;241m.\u001b[39mwarning(\u001b[38;5;124m\"\u001b[39m\u001b[38;5;124mInvalid Message:\u001b[39m\u001b[38;5;124m\"\u001b[39m, exc_info\u001b[38;5;241m=\u001b[39m\u001b[38;5;28;01mTrue\u001b[39;00m)\n",
      "\u001b[1;31mKeyboardInterrupt\u001b[0m: Interrupted by user"
     ]
    }
   ],
   "source": [
    "def convert_to_singular(plural_word):\n",
    "    if plural_word.endswith('ies'):\n",
    "        # Rule: ies to y (babies to baby) if preceded by consonant\n",
    "        if plural_word[-4] not in 'aeiou':\n",
    "            singular_word = plural_word[:-3] + 'y'\n",
    "        else:\n",
    "            singular_word = plural_word\n",
    "    elif plural_word.endswith('es'):\n",
    "        base_word = plural_word[:-2]\n",
    "        # Rule: es to o (mangoes is mango)\n",
    "        if base_word.endswith('o') or base_word.endswith('s') or base_word.endswith('x') or base_word.endswith('z'):\n",
    "            singular_word = base_word\n",
    "        else:\n",
    "            singular_word = base_word + 'e'\n",
    "    elif plural_word[-2:] == 'ys':\n",
    "        # Rule: s to y (rays to ray) if preceded by vowel\n",
    "        if plural_word[-3] in 'aeiou':\n",
    "            singular_word = plural_word[:-1]\n",
    "        else:\n",
    "            singular_word = plural_word\n",
    "    elif plural_word.endswith('s'):\n",
    "        # Rule: s to remove s (boys is boy)\n",
    "        singular_word = plural_word[:-1]\n",
    "    elif plural_word in irregular_nouns.keys():\n",
    "        singular_word = irregular_nouns[plural_word]\n",
    "    else:\n",
    "        singular_word = plural_word\n",
    "\n",
    "    return singular_word\n",
    "\n",
    "# Example usage:\n",
    "plural_input = input(\"Enter a plural word: \")\n",
    "singular_output = convert_to_singular(plural_input)\n",
    "print(\"Singular form:\", singular_output)\n"
   ]
  },
  {
   "cell_type": "markdown",
   "id": "345afd35-3614-4c7c-84c4-1ab13fee20a8",
   "metadata": {},
   "source": []
  }
 ],
 "metadata": {
  "kernelspec": {
   "display_name": "Python 3 (ipykernel)",
   "language": "python",
   "name": "python3"
  },
  "language_info": {
   "codemirror_mode": {
    "name": "ipython",
    "version": 3
   },
   "file_extension": ".py",
   "mimetype": "text/x-python",
   "name": "python",
   "nbconvert_exporter": "python",
   "pygments_lexer": "ipython3",
   "version": "3.8.13"
  }
 },
 "nbformat": 4,
 "nbformat_minor": 5
}
